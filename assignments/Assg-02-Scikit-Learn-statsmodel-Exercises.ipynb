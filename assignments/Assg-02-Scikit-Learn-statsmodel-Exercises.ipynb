{
 "cells": [
  {
   "cell_type": "markdown",
   "metadata": {},
   "source": [
    "# Assignment 02: Scikit Learn Basic Regression and Classification\n",
    "\n",
    "**Due Date:** Friday 9/18/2020 (by 5 pm)\n",
    "\n",
    "\n",
    "## Introduction \n",
    "\n",
    "In this exercise we will be performing a regression and classification task using the Scikit learn framework, and the Python statsmodel library.  You should work through the tutorial on using scikit-learn and statsmodel before doing this assignment, as well as work on the materials from our units on regression and classification tasks.\n",
    "\n",
    "For the first part of this assignment, I recommend looking through the following tutorials on using\n",
    "Scikit Learn and the statsmodel library for linear regression:\n",
    "\n",
    "[A Beginners guide to Linear Regression in Python with Scikit-Learn](https://towardsdatascience.com/a-beginners-guide-to-linear-regression-in-python-with-scikit-learn-83a8f7ae2b4f)\n",
    "\n",
    "[Use statsmodels to Perform Linear Regression in Python](https://datatofish.com/statsmodels-linear-regression/)\n",
    "\n",
    "I am using this material as a reference for the first part of this assignment."
   ]
  },
  {
   "cell_type": "markdown",
   "metadata": {},
   "source": [
    "**Please fill these in before submitting, just in case I accidentally mix up file names while grading**:\n",
    "\n",
    "Name: Minji Kim\n",
    "\n",
    "CWID-5: 50251681"
   ]
  },
  {
   "cell_type": "code",
   "execution_count": 1,
   "metadata": {
    "ExecuteTime": {
     "end_time": "2019-09-30T18:55:15.339855Z",
     "start_time": "2019-09-30T18:55:14.517211Z"
    }
   },
   "outputs": [],
   "source": [
    "import numpy as np\n",
    "import matplotlib.pyplot as plt\n",
    "import pandas as pd\n",
    "import seaborn as sns\n",
    "\n",
    "# By convention, we often just import the specific classes/functions\n",
    "# from scikit-learn we will need to train a model and perform prediction.\n",
    "# Here we include all of the classes and functions you should need for this\n",
    "# assignment from the sklearn library, but there could be other methods you might\n",
    "# want to try or would be useful to the way you approach the problem, so feel free\n",
    "# to import others you might need or want to try\n",
    "from sklearn.linear_model import LinearRegression\n",
    "from sklearn.linear_model import LogisticRegression\n",
    "from sklearn.model_selection import train_test_split\n",
    "from sklearn.metrics import confusion_matrix\n",
    "from sklearn.metrics import precision_recall_curve\n",
    "\n",
    "# statsmodels has an api, it is often imported as sm by convention\n",
    "import statsmodels.api as sm\n",
    "\n",
    "%matplotlib inline"
   ]
  },
  {
   "cell_type": "code",
   "execution_count": 2,
   "metadata": {
    "ExecuteTime": {
     "end_time": "2019-09-30T18:55:15.345630Z",
     "start_time": "2019-09-30T18:55:15.341203Z"
    }
   },
   "outputs": [],
   "source": [
    "plt.rcParams['figure.figsize'] = (10, 8) # set default figure size, 8in by 6in"
   ]
  },
  {
   "cell_type": "markdown",
   "metadata": {},
   "source": [
    "## Linear Regression with One Variable\n",
    "--------\n"
   ]
  },
  {
   "cell_type": "markdown",
   "metadata": {},
   "source": [
    "### Scikit-Learn LinearRegression model\n",
    "\n",
    "Load and plot the profit data of 1 feature from the file named \"data/assg-02-profit-data.csv\" using Pandas to load in the\n",
    "csv file.  Plot using a basic matplotlib figure the points in the dataset. This data set has profit (y or dependent\n",
    "variable) for a food truck business, specified in 10's of $1000. \n",
    "The profit is the variable we want to predict (the regression variable).\n",
    "Profit is a function of the population size (x or independent variable),\n",
    "which here is expressed in 10000s people (e.g. pupulation 10 = 100,000 people)."
   ]
  },
  {
   "cell_type": "code",
   "execution_count": 3,
   "metadata": {
    "ExecuteTime": {
     "end_time": "2019-09-30T18:55:15.492612Z",
     "start_time": "2019-09-30T18:55:15.347133Z"
    }
   },
   "outputs": [
    {
     "name": "stdout",
     "output_type": "stream",
     "text": [
      "(97, 2)\n",
      "<class 'pandas.core.frame.DataFrame'>\n",
      "RangeIndex: 97 entries, 0 to 96\n",
      "Data columns (total 2 columns):\n",
      " #   Column      Non-Null Count  Dtype  \n",
      "---  ------      --------------  -----  \n",
      " 0   population  97 non-null     float64\n",
      " 1   profit      97 non-null     float64\n",
      "dtypes: float64(2)\n",
      "memory usage: 1.6 KB\n"
     ]
    },
    {
     "data": {
      "text/html": [
       "<div>\n",
       "<style scoped>\n",
       "    .dataframe tbody tr th:only-of-type {\n",
       "        vertical-align: middle;\n",
       "    }\n",
       "\n",
       "    .dataframe tbody tr th {\n",
       "        vertical-align: top;\n",
       "    }\n",
       "\n",
       "    .dataframe thead th {\n",
       "        text-align: right;\n",
       "    }\n",
       "</style>\n",
       "<table border=\"1\" class=\"dataframe\">\n",
       "  <thead>\n",
       "    <tr style=\"text-align: right;\">\n",
       "      <th></th>\n",
       "      <th>population</th>\n",
       "      <th>profit</th>\n",
       "    </tr>\n",
       "  </thead>\n",
       "  <tbody>\n",
       "    <tr>\n",
       "      <th>count</th>\n",
       "      <td>97.000000</td>\n",
       "      <td>97.000000</td>\n",
       "    </tr>\n",
       "    <tr>\n",
       "      <th>mean</th>\n",
       "      <td>8.159800</td>\n",
       "      <td>5.839135</td>\n",
       "    </tr>\n",
       "    <tr>\n",
       "      <th>std</th>\n",
       "      <td>3.869884</td>\n",
       "      <td>5.510262</td>\n",
       "    </tr>\n",
       "    <tr>\n",
       "      <th>min</th>\n",
       "      <td>5.026900</td>\n",
       "      <td>-2.680700</td>\n",
       "    </tr>\n",
       "    <tr>\n",
       "      <th>25%</th>\n",
       "      <td>5.707700</td>\n",
       "      <td>1.986900</td>\n",
       "    </tr>\n",
       "    <tr>\n",
       "      <th>50%</th>\n",
       "      <td>6.589400</td>\n",
       "      <td>4.562300</td>\n",
       "    </tr>\n",
       "    <tr>\n",
       "      <th>75%</th>\n",
       "      <td>8.578100</td>\n",
       "      <td>7.046700</td>\n",
       "    </tr>\n",
       "    <tr>\n",
       "      <th>max</th>\n",
       "      <td>22.203000</td>\n",
       "      <td>24.147000</td>\n",
       "    </tr>\n",
       "  </tbody>\n",
       "</table>\n",
       "</div>"
      ],
      "text/plain": [
       "       population     profit\n",
       "count   97.000000  97.000000\n",
       "mean     8.159800   5.839135\n",
       "std      3.869884   5.510262\n",
       "min      5.026900  -2.680700\n",
       "25%      5.707700   1.986900\n",
       "50%      6.589400   4.562300\n",
       "75%      8.578100   7.046700\n",
       "max     22.203000  24.147000"
      ]
     },
     "execution_count": 3,
     "metadata": {},
     "output_type": "execute_result"
    }
   ],
   "source": [
    "# load the assignment 02 profit linear regression data here\n",
    "business = pd.read_csv('../data/assg-02-profit-data.csv')\n",
    "print(business.shape)\n",
    "business.info()\n",
    "business.describe()"
   ]
  },
  {
   "cell_type": "code",
   "execution_count": 4,
   "metadata": {
    "ExecuteTime": {
     "end_time": "2019-09-30T18:55:16.041849Z",
     "start_time": "2019-09-30T18:55:15.494074Z"
    }
   },
   "outputs": [
    {
     "data": {
      "image/png": "[encoded data removed]",
      "text/plain": [
       "<Figure size 720x576 with 1 Axes>"
      ]
     },
     "metadata": {
      "needs_background": "light"
     },
     "output_type": "display_data"
    }
   ],
   "source": [
    "# plot the data here, matplotlib example\n",
    "business.plot(kind = 'scatter', x = 'population', y = 'profit')\n",
    "plt.title('Food Truck Business Profit by Population', fontsize = 20)\n",
    "plt.xlabel('Population (Unit: 10,000)', fontsize = 14)\n",
    "plt.ylabel('Profit (Unit: $ 1,000)', fontsize = 14)\n",
    "plt.show()"
   ]
  },
  {
   "cell_type": "markdown",
   "metadata": {},
   "source": [
    "The tutorial shows an example of actually building a regression model where data is held back from the training\n",
    "so that we can evaluate the accuracy of our predictive model.  We will try that next.  First of all,\n",
    "fit a linear regression model to all of the data using the scikit-learn `LinearRegression` object.\n",
    "\n",
    "Once you fit the model, show what the slope and intercept (e.g. the fitted parameters\n",
    "of the model) were that were determined to be the\n",
    "best fit model parameters (intercept and coefficients of the model).  Also use the score function\n",
    "to display the $R^2$ score of the fitted model."
   ]
  },
  {
   "cell_type": "code",
   "execution_count": 5,
   "metadata": {
    "ExecuteTime": {
     "end_time": "2019-09-30T18:55:16.063525Z",
     "start_time": "2019-09-30T18:55:16.045697Z"
    }
   },
   "outputs": [],
   "source": [
    "X = business['population'].values.reshape(-1, 1)\n",
    "y = business['profit'].values"
   ]
  },
  {
   "cell_type": "code",
   "execution_count": 6,
   "metadata": {},
   "outputs": [
    {
     "data": {
      "text/plain": [
       "LinearRegression()"
      ]
     },
     "execution_count": 6,
     "metadata": {},
     "output_type": "execute_result"
    }
   ],
   "source": [
    "# fit the linear regression model to all of the data\n",
    "regressor = LinearRegression()  \n",
    "regressor.fit(X, y)"
   ]
  },
  {
   "cell_type": "code",
   "execution_count": 7,
   "metadata": {
    "ExecuteTime": {
     "end_time": "2019-09-30T18:55:16.161813Z",
     "start_time": "2019-09-30T18:55:16.076475Z"
    }
   },
   "outputs": [
    {
     "name": "stdout",
     "output_type": "stream",
     "text": [
      "intercept: -3.895780878311852\n",
      "slope: [1.19303364]\n"
     ]
    }
   ],
   "source": [
    "# retrieve the intercept and slope\n",
    "# for retrieving the intercept:\n",
    "print(\"intercept:\", regressor.intercept_)\n",
    "# for retrieving the slope:\n",
    "print(\"slope:\", regressor.coef_)"
   ]
  },
  {
   "cell_type": "code",
   "execution_count": 8,
   "metadata": {},
   "outputs": [
    {
     "name": "stdout",
     "output_type": "stream",
     "text": [
      "training accuracy: 0.7020315537841397\n"
     ]
    }
   ],
   "source": [
    "# use the score() function to display the models R^2 fit\n",
    "score = regressor.score(X, y)\n",
    "print(\"training accuracy:\", score)"
   ]
  },
  {
   "cell_type": "markdown",
   "metadata": {},
   "source": [
    "You should compare your intercept and slope you determine here using Scikit Learn with the following.\n",
    "\n",
    "The slope and intercept fitted parameters you should find are:\n",
    "\n",
    "intercept: -3.89578088\n",
    "\n",
    "slope: 1.19303364"
   ]
  },
  {
   "cell_type": "markdown",
   "metadata": {},
   "source": [
    "As shown in the our lecture notebooks, use the predict() method of your Scikit Learn regression model to predict\n",
    "each value of our x data features"
   ]
  },
  {
   "cell_type": "code",
   "execution_count": 9,
   "metadata": {
    "ExecuteTime": {
     "end_time": "2019-09-30T18:55:16.234533Z",
     "start_time": "2019-09-30T18:55:16.162839Z"
    }
   },
   "outputs": [],
   "source": [
    "# using predict() from scikit-learn find the predicted or hypothesized profit for each of the model populations\n",
    "predictions = regressor.predict(X)"
   ]
  },
  {
   "cell_type": "markdown",
   "metadata": {},
   "source": [
    "Now we can plot the determined linear fit line given by Scikit Learn to our data"
   ]
  },
  {
   "cell_type": "code",
   "execution_count": 10,
   "metadata": {
    "ExecuteTime": {
     "end_time": "2019-09-30T18:55:16.454971Z",
     "start_time": "2019-09-30T18:55:16.236141Z"
    }
   },
   "outputs": [
    {
     "data": {
      "image/png": "[encoded data removed]",
      "text/plain": [
       "<Figure size 720x576 with 1 Axes>"
      ]
     },
     "metadata": {
      "needs_background": "light"
     },
     "output_type": "display_data"
    }
   ],
   "source": [
    "# plot the fitted line using the predict() method from the LinearRegression object\n",
    "plt.scatter(X, y, color = 'gray', label = 'profit data')\n",
    "plt.plot(X, predictions, color = 'red', linewidth = 1, label = 'linear fit')\n",
    "plt.title('Food Truck Business Profit by Population', fontsize = 20)\n",
    "plt.xlabel('Population (Unit: 10,000)', fontsize = 14)\n",
    "plt.ylabel('Profit (Unit: $ 1,000)', fontsize = 14)\n",
    "plt.legend()\n",
    "plt.show()"
   ]
  },
  {
   "cell_type": "markdown",
   "metadata": {},
   "source": [
    "### statsmodels Linear Regression\n",
    "\n",
    "In contrast to the scikit-learn library, the python statsmodel library is primarily geared towards doing statistical\n",
    "analysis of data, similar to a stats package like using SPSS or R.  You can perform a linear regression on a data\n",
    "set using the statsmodel package, and get much more information about the goodness of the fit from the\n",
    "constructed model.\n",
    "\n",
    "In the next cell, create a model using statsmodels OLS (ordinary least squared fit) function, fit the model, and use the summary() function\n",
    "to get information about the fit."
   ]
  },
  {
   "cell_type": "code",
   "execution_count": 11,
   "metadata": {
    "ExecuteTime": {
     "end_time": "2019-09-30T18:59:24.669593Z",
     "start_time": "2019-09-30T18:59:24.667528Z"
    }
   },
   "outputs": [],
   "source": [
    "# load the data from our assignment 02 linear regression problem again if needed\n",
    "business_st = pd.read_csv('../data/assg-02-profit-data.csv')\n",
    "X = business_st['population'].values.reshape(-1, 1)\n",
    "y = business_st['profit'].values.reshape(-1, 1)"
   ]
  },
  {
   "cell_type": "markdown",
   "metadata": {},
   "source": [
    "When building a model of data, like a linear regression model, there are terms or parameters that the model\n",
    "fits to the data.   One of these terms is known as the **bias** term.  We will learn more about what this \n",
    "term is in the coming weeks.  \n",
    "\n",
    "The Scikit-learn library assumes you have not represented the bias term in the `X` data that is being fit.\n",
    "But the statsmodel library does not make this assumption.  So there is actually an additional step you\n",
    "need to perform before fitting, which is to add in the constant bias term to the `X` data being fit."
   ]
  },
  {
   "cell_type": "code",
   "execution_count": 12,
   "metadata": {
    "ExecuteTime": {
     "end_time": "2019-09-30T18:55:17.007580Z",
     "start_time": "2019-09-30T18:55:16.921269Z"
    }
   },
   "outputs": [],
   "source": [
    "# unlike for sklearn library, we actually have to add the dummy feature by hand to \n",
    "# represent the intercept feature, it is not assumed automatically by OLS\n",
    "# use the add_constant() method to add a column to represent our intercept coefficient in the model.\n",
    "X = sm.add_constant(X)"
   ]
  },
  {
   "cell_type": "code",
   "execution_count": 13,
   "metadata": {},
   "outputs": [
    {
     "data": {
      "text/plain": [
       "array([-3.89578088,  1.19303364])"
      ]
     },
     "execution_count": 13,
     "metadata": {},
     "output_type": "execute_result"
    }
   ],
   "source": [
    "# use the statsmodels summary method to get a summary of the statistical fit of your linear regression.\n",
    "# Check the fitted parameters to the results from scikit-learn before.\n",
    "ols = sm.OLS(y, X)\n",
    "model = ols.fit()\n",
    "model.params"
   ]
  },
  {
   "cell_type": "code",
   "execution_count": 14,
   "metadata": {},
   "outputs": [
    {
     "data": {
      "text/html": [
       "<table class=\"simpletable\">\n",
       "<caption>OLS Regression Results</caption>\n",
       "<tr>\n",
       "  <th>Dep. Variable:</th>            <td>y</td>        <th>  R-squared:         </th> <td>   0.702</td>\n",
       "</tr>\n",
       "<tr>\n",
       "  <th>Model:</th>                   <td>OLS</td>       <th>  Adj. R-squared:    </th> <td>   0.699</td>\n",
       "</tr>\n",
       "<tr>\n",
       "  <th>Method:</th>             <td>Least Squares</td>  <th>  F-statistic:       </th> <td>   223.8</td>\n",
       "</tr>\n",
       "<tr>\n",
       "  <th>Date:</th>             <td>Fri, 18 Sep 2020</td> <th>  Prob (F-statistic):</th> <td>1.02e-26</td>\n",
       "</tr>\n",
       "<tr>\n",
       "  <th>Time:</th>                 <td>15:51:31</td>     <th>  Log-Likelihood:    </th> <td> -243.95</td>\n",
       "</tr>\n",
       "<tr>\n",
       "  <th>No. Observations:</th>      <td>    97</td>      <th>  AIC:               </th> <td>   491.9</td>\n",
       "</tr>\n",
       "<tr>\n",
       "  <th>Df Residuals:</th>          <td>    95</td>      <th>  BIC:               </th> <td>   497.1</td>\n",
       "</tr>\n",
       "<tr>\n",
       "  <th>Df Model:</th>              <td>     1</td>      <th>                     </th>     <td> </td>   \n",
       "</tr>\n",
       "<tr>\n",
       "  <th>Covariance Type:</th>      <td>nonrobust</td>    <th>                     </th>     <td> </td>   \n",
       "</tr>\n",
       "</table>\n",
       "<table class=\"simpletable\">\n",
       "<tr>\n",
       "    <td></td>       <th>coef</th>     <th>std err</th>      <th>t</th>      <th>P>|t|</th>  <th>[0.025</th>    <th>0.975]</th>  \n",
       "</tr>\n",
       "<tr>\n",
       "  <th>const</th> <td>   -3.8958</td> <td>    0.719</td> <td>   -5.415</td> <td> 0.000</td> <td>   -5.324</td> <td>   -2.467</td>\n",
       "</tr>\n",
       "<tr>\n",
       "  <th>x1</th>    <td>    1.1930</td> <td>    0.080</td> <td>   14.961</td> <td> 0.000</td> <td>    1.035</td> <td>    1.351</td>\n",
       "</tr>\n",
       "</table>\n",
       "<table class=\"simpletable\">\n",
       "<tr>\n",
       "  <th>Omnibus:</th>       <td>39.986</td> <th>  Durbin-Watson:     </th> <td>   0.994</td>\n",
       "</tr>\n",
       "<tr>\n",
       "  <th>Prob(Omnibus):</th> <td> 0.000</td> <th>  Jarque-Bera (JB):  </th> <td> 108.142</td>\n",
       "</tr>\n",
       "<tr>\n",
       "  <th>Skew:</th>          <td> 1.455</td> <th>  Prob(JB):          </th> <td>3.29e-24</td>\n",
       "</tr>\n",
       "<tr>\n",
       "  <th>Kurtosis:</th>      <td> 7.276</td> <th>  Cond. No.          </th> <td>    21.4</td>\n",
       "</tr>\n",
       "</table><br/><br/>Warnings:<br/>[1] Standard Errors assume that the covariance matrix of the errors is correctly specified."
      ],
      "text/plain": [
       "<class 'statsmodels.iolib.summary.Summary'>\n",
       "\"\"\"\n",
       "                            OLS Regression Results                            \n",
       "==============================================================================\n",
       "Dep. Variable:                      y   R-squared:                       0.702\n",
       "Model:                            OLS   Adj. R-squared:                  0.699\n",
       "Method:                 Least Squares   F-statistic:                     223.8\n",
       "Date:                Fri, 18 Sep 2020   Prob (F-statistic):           1.02e-26\n",
       "Time:                        15:51:31   Log-Likelihood:                -243.95\n",
       "No. Observations:                  97   AIC:                             491.9\n",
       "Df Residuals:                      95   BIC:                             497.1\n",
       "Df Model:                           1                                         \n",
       "Covariance Type:            nonrobust                                         \n",
       "==============================================================================\n",
       "                 coef    std err          t      P>|t|      [0.025      0.975]\n",
       "------------------------------------------------------------------------------\n",
       "const         -3.8958      0.719     -5.415      0.000      -5.324      -2.467\n",
       "x1             1.1930      0.080     14.961      0.000       1.035       1.351\n",
       "==============================================================================\n",
       "Omnibus:                       39.986   Durbin-Watson:                   0.994\n",
       "Prob(Omnibus):                  0.000   Jarque-Bera (JB):              108.142\n",
       "Skew:                           1.455   Prob(JB):                     3.29e-24\n",
       "Kurtosis:                       7.276   Cond. No.                         21.4\n",
       "==============================================================================\n",
       "\n",
       "Warnings:\n",
       "[1] Standard Errors assume that the covariance matrix of the errors is correctly specified.\n",
       "\"\"\""
      ]
     },
     "execution_count": 14,
     "metadata": {},
     "output_type": "execute_result"
    }
   ],
   "source": [
    "model.summary()"
   ]
  },
  {
   "cell_type": "markdown",
   "metadata": {},
   "source": [
    "In the summary you should note that you get the same coefficients (const and x1) as we have determined using \n",
    "scikit-learn previously.  The $R^2$ measure of the fit is also the same\n",
    "as what we got for fitting all of the data for the sklearn model.  \n",
    "\n",
    "The rest of the summary information are some statistical information about how well the model fits\n",
    "the data.  The data in the table under the [0.025 0.975] columns give a 95% confidence interval for\n",
    "the coefficients.  For example from the measure of the noise and fit we are 95% confident that the true\n",
    "coefficient for the x1 parameter (the slope of the line) is somewhere between 1.035 and 1.351.  The P>|t| measure is also\n",
    "important here.  This is a P-value that measure how surprised we would be to see this fit if there was\n",
    "actually no linear relationship between the independent variable and the dependent variable.  Both of these\n",
    "measures are basically 0, which means we would be very surprised to see this fit if there was no linear\n",
    "relationship between the features and the dependent variable.  When the P value here is large (usually\n",
    "a cutoff of 0.05 is used), then that means we are not so surprised to see the result if there was no\n",
    "linear relationship.\n"
   ]
  },
  {
   "cell_type": "markdown",
   "metadata": {},
   "source": [
    "## Logistic Regression for a Binary Classifier\n",
    "------"
   ]
  },
  {
   "cell_type": "markdown",
   "metadata": {},
   "source": [
    "### scikit-learn LogisticRegression model\n",
    "\n",
    "Load and plot the exam score data with binary class labels of accepted/not accepted.\n",
    "This data is found in a file named \"data/assg-02-exam-data.csv\". Plot the data using\n",
    "a standard Matplotlib scatter plot to visualize it.  This data set has 2 exam scores (exam1 and exam2),\n",
    "for a number of students, and a binary category for each student of whether they were admitted\n",
    "or not to a university degree program.\n",
    "\n",
    "[Logistic Regression using Python (scikit-learn)](https://towardsdatascience.com/logistic-regression-using-python-sklearn-numpy-mnist-handwriting-recognition-matplotlib-a6b31e2b166a)\n",
    "\n",
    "[Logistic Regression in Python Using statsmodels](http://blog.yhat.com/posts/logistic-regression-python-rodeo.html)"
   ]
  },
  {
   "cell_type": "code",
   "execution_count": 15,
   "metadata": {
    "ExecuteTime": {
     "end_time": "2019-09-30T18:55:17.084219Z",
     "start_time": "2019-09-30T18:55:17.014377Z"
    }
   },
   "outputs": [
    {
     "name": "stdout",
     "output_type": "stream",
     "text": [
      "(100, 3)\n",
      "<class 'pandas.core.frame.DataFrame'>\n",
      "RangeIndex: 100 entries, 0 to 99\n",
      "Data columns (total 3 columns):\n",
      " #   Column     Non-Null Count  Dtype  \n",
      "---  ------     --------------  -----  \n",
      " 0   exam1      100 non-null    float64\n",
      " 1   exam2      100 non-null    float64\n",
      " 2   admission  100 non-null    int64  \n",
      "dtypes: float64(2), int64(1)\n",
      "memory usage: 2.5 KB\n"
     ]
    },
    {
     "data": {
      "text/html": [
       "<div>\n",
       "<style scoped>\n",
       "    .dataframe tbody tr th:only-of-type {\n",
       "        vertical-align: middle;\n",
       "    }\n",
       "\n",
       "    .dataframe tbody tr th {\n",
       "        vertical-align: top;\n",
       "    }\n",
       "\n",
       "    .dataframe thead th {\n",
       "        text-align: right;\n",
       "    }\n",
       "</style>\n",
       "<table border=\"1\" class=\"dataframe\">\n",
       "  <thead>\n",
       "    <tr style=\"text-align: right;\">\n",
       "      <th></th>\n",
       "      <th>exam1</th>\n",
       "      <th>exam2</th>\n",
       "      <th>admission</th>\n",
       "    </tr>\n",
       "  </thead>\n",
       "  <tbody>\n",
       "    <tr>\n",
       "      <th>count</th>\n",
       "      <td>100.000000</td>\n",
       "      <td>100.000000</td>\n",
       "      <td>100.000000</td>\n",
       "    </tr>\n",
       "    <tr>\n",
       "      <th>mean</th>\n",
       "      <td>65.644274</td>\n",
       "      <td>66.221998</td>\n",
       "      <td>0.600000</td>\n",
       "    </tr>\n",
       "    <tr>\n",
       "      <th>std</th>\n",
       "      <td>19.458222</td>\n",
       "      <td>18.582783</td>\n",
       "      <td>0.492366</td>\n",
       "    </tr>\n",
       "    <tr>\n",
       "      <th>min</th>\n",
       "      <td>30.058822</td>\n",
       "      <td>30.603263</td>\n",
       "      <td>0.000000</td>\n",
       "    </tr>\n",
       "    <tr>\n",
       "      <th>25%</th>\n",
       "      <td>50.919511</td>\n",
       "      <td>48.179205</td>\n",
       "      <td>0.000000</td>\n",
       "    </tr>\n",
       "    <tr>\n",
       "      <th>50%</th>\n",
       "      <td>67.032988</td>\n",
       "      <td>67.682381</td>\n",
       "      <td>1.000000</td>\n",
       "    </tr>\n",
       "    <tr>\n",
       "      <th>75%</th>\n",
       "      <td>80.212529</td>\n",
       "      <td>79.360605</td>\n",
       "      <td>1.000000</td>\n",
       "    </tr>\n",
       "    <tr>\n",
       "      <th>max</th>\n",
       "      <td>99.827858</td>\n",
       "      <td>98.869436</td>\n",
       "      <td>1.000000</td>\n",
       "    </tr>\n",
       "  </tbody>\n",
       "</table>\n",
       "</div>"
      ],
      "text/plain": [
       "            exam1       exam2   admission\n",
       "count  100.000000  100.000000  100.000000\n",
       "mean    65.644274   66.221998    0.600000\n",
       "std     19.458222   18.582783    0.492366\n",
       "min     30.058822   30.603263    0.000000\n",
       "25%     50.919511   48.179205    0.000000\n",
       "50%     67.032988   67.682381    1.000000\n",
       "75%     80.212529   79.360605    1.000000\n",
       "max     99.827858   98.869436    1.000000"
      ]
     },
     "execution_count": 15,
     "metadata": {},
     "output_type": "execute_result"
    }
   ],
   "source": [
    "# load the data for the logistic classification problem here\n",
    "score = pd.read_csv('../data/assg-02-exam-data.csv', names=[\"exam1\", \"exam2\", \"admission\"])\n",
    "print(score.shape)\n",
    "score.info()\n",
    "score.describe()"
   ]
  },
  {
   "cell_type": "code",
   "execution_count": 16,
   "metadata": {},
   "outputs": [
    {
     "data": {
      "image/png": "[encoded data removed]",
      "text/plain": [
       "<Figure size 720x576 with 1 Axes>"
      ]
     },
     "metadata": {
      "needs_background": "light"
     },
     "output_type": "display_data"
    }
   ],
   "source": [
    "score.plot(kind = 'scatter', x = 'exam1', y = 'exam2')\n",
    "plt.title('Exam Scores', fontsize = 20)\n",
    "plt.xlabel('Exam 1', fontsize = 14)\n",
    "plt.ylabel('Exam 2', fontsize = 14)\n",
    "plt.show()"
   ]
  },
  {
   "cell_type": "code",
   "execution_count": 17,
   "metadata": {},
   "outputs": [
    {
     "data": {
      "image/png": "[encoded data removed]",
      "text/plain": [
       "<Figure size 720x576 with 1 Axes>"
      ]
     },
     "metadata": {
      "needs_background": "light"
     },
     "output_type": "display_data"
    }
   ],
   "source": [
    "# replot the exam1/exam2 data indicating the binary categories using marker type again here for reference \n",
    "fig = plt.figure()\n",
    "ax = fig.add_subplot()\n",
    "\n",
    "# plot not admitted students first\n",
    "ax.scatter(score.exam1[score.admission == 0], score.exam2[score.admission == 0], c='y', marker ='o', label = 'not admitted 0')\n",
    "\n",
    "# plot the admitted students\n",
    "ax.scatter(score.exam1[score.admission == 1], score.exam2[score.admission == 1], c='b', marker ='+', label = 'admitted 1')\n",
    "\n",
    "plt.title('Exam Scores', fontsize = 20)\n",
    "plt.xlabel('Exam 1', fontsize = 14)\n",
    "plt.ylabel('Exam 2', fontsize = 14)\n",
    "plt.legend()\n",
    "plt.show()"
   ]
  },
  {
   "cell_type": "code",
   "execution_count": 18,
   "metadata": {
    "ExecuteTime": {
     "end_time": "2019-09-30T18:55:17.420043Z",
     "start_time": "2019-09-30T18:55:17.085204Z"
    }
   },
   "outputs": [
    {
     "data": {
      "image/png": "[encoded data removed]",
      "text/plain": [
       "<Figure size 720x576 with 1 Axes>"
      ]
     },
     "metadata": {
      "needs_background": "light"
     },
     "output_type": "display_data"
    }
   ],
   "source": [
    "# replot the exam1/exam2 data indicating the binary categories using marker type again here for reference\n",
    "# another way to plot using seaborn\n",
    "sns.scatterplot(x = 'exam1', y = 'exam2', hue = 'admission', style = 'admission', data = score)\n",
    "plt.title('Exam Scores', fontsize = 20)\n",
    "plt.xlabel('Exam 1', fontsize = 14)\n",
    "plt.ylabel('Exam 2', fontsize = 14)\n",
    "plt.show()"
   ]
  },
  {
   "cell_type": "markdown",
   "metadata": {},
   "source": [
    "Now we will use Scikit Learn to fit a model again, but of course we will fit a binary logistic regression classifier\n",
    "to our data to find the best decision boundary between the two classes.\n",
    "\n",
    "In the next cell, create the Scikit Learn logistic regression model and fit it to our data."
   ]
  },
  {
   "cell_type": "code",
   "execution_count": 19,
   "metadata": {
    "ExecuteTime": {
     "end_time": "2019-09-30T18:55:17.431356Z",
     "start_time": "2019-09-30T18:55:17.421301Z"
    }
   },
   "outputs": [
    {
     "data": {
      "text/plain": [
       "LogisticRegression()"
      ]
     },
     "execution_count": 19,
     "metadata": {},
     "output_type": "execute_result"
    }
   ],
   "source": [
    "X = score[['exam1', 'exam2']]\n",
    "y = score['admission']\n",
    "\n",
    "# train_features, test_features, train_labels, test_labels = train_test_split(features, labels, test_size = 0.2, random_state = 0)\n",
    "\n",
    "# Create the scikit-learn LogisticRegression instance here\n",
    "model = LogisticRegression()\n",
    "# and fit your model to the college acceptance using exam scores data here\n",
    "model.fit(X, y)"
   ]
  },
  {
   "cell_type": "markdown",
   "metadata": {},
   "source": [
    "For a binary classifier with 2 features like this, there are 3 parameters in the model,\n",
    "the intercept, and the parameters for exam1 and exam2 that were fit to define the decision boundary.\n",
    "\n",
    "You should get close to the following parameters, where the first\n",
    "parameter is the intercept, and the second and third are the theta parameters fit for the exam1 and exam2\n",
    "feature respectively:\n",
    "\n",
    "[-25.05219314   0.20535491   0.2005838 ]\n",
    "\n",
    "In the model returned by Scikit Learn, the intercept_ should correspond and match the intercept value,\n",
    "and the coef_ should match the exam1 and exam2 coefficient parameters."
   ]
  },
  {
   "cell_type": "code",
   "execution_count": 20,
   "metadata": {
    "ExecuteTime": {
     "end_time": "2019-09-30T18:55:17.496138Z",
     "start_time": "2019-09-30T18:55:17.434016Z"
    }
   },
   "outputs": [
    {
     "name": "stdout",
     "output_type": "stream",
     "text": [
      "coefficients for the exam1 and exam2: [[0.20535491 0.2005838 ]]\n",
      "intercept: [-25.05219314]\n"
     ]
    }
   ],
   "source": [
    "# display the intercept and the model coefficients for the exam1 and exam2 feature here\n",
    "W, b = model.coef_, model.intercept_\n",
    "\n",
    "print(\"coefficients for the exam1 and exam2:\", W)\n",
    "print(\"intercept:\", b)"
   ]
  },
  {
   "cell_type": "markdown",
   "metadata": {},
   "source": [
    "The parameters in this case might not exactly match because of the differences in the optimization meta-parameters, but\n",
    "they will be close and essentially form almost the same decision boundary.\n",
    "\n",
    "As we did in the example lectures this week, for a 2 parameter set of data we can use the intercept and coefficients to\n",
    "visualize the decision boundary specified by the fitted logistic regression model."
   ]
  },
  {
   "cell_type": "code",
   "execution_count": 21,
   "metadata": {
    "ExecuteTime": {
     "end_time": "2019-09-30T18:55:17.797599Z",
     "start_time": "2019-09-30T18:55:17.497343Z"
    }
   },
   "outputs": [
    {
     "data": {
      "image/png": "[encoded data removed]",
      "text/plain": [
       "<Figure size 720x576 with 1 Axes>"
      ]
     },
     "metadata": {
      "needs_background": "light"
     },
     "output_type": "display_data"
    }
   ],
   "source": [
    "# plot the decision boundary line found by the scikit-learn logistic classification\n",
    "fig = plt.figure()\n",
    "ax1 = fig.add_subplot()\n",
    "ax1.scatter(score.exam1[score.admission == 0], score.exam2[score.admission == 0], c='y', marker ='o', label = 'not admitted 0')\n",
    "ax1.scatter(score.exam1[score.admission == 1], score.exam2[score.admission == 1], c='b', marker ='x', label = 'admitted 1')\n",
    "plt.title('Exam Scores', fontsize = 20)\n",
    "plt.xlabel('Exam 1', fontsize = 14)\n",
    "plt.ylabel('Exam 2', fontsize = 14)\n",
    "ax2 = plt.gca()\n",
    "xvals = np.array(ax2.get_xlim())\n",
    "yvals = -(xvals * W[0][0] + b)/W[0][1]\n",
    "plt.plot(xvals, yvals, color ='r', label = 'decision boundary line')\n",
    "plt.legend()\n",
    "plt.show()"
   ]
  },
  {
   "cell_type": "markdown",
   "metadata": {},
   "source": [
    "Then finally, as we showed in our lecture materials from chapter 3, calculate the confusion matrix results of your trained classifier\n",
    "on the training data.  Also plot the precision and recall scores, using either two separate lines, one for each, or plot the precision vs. recall against\n",
    "one another.  We showed both in our lecture and textbook readings for this week."
   ]
  },
  {
   "cell_type": "code",
   "execution_count": 22,
   "metadata": {},
   "outputs": [
    {
     "name": "stdout",
     "output_type": "stream",
     "text": [
      "accuracy: 0.89\n",
      "confusion matrix:\n",
      "[[34  6]\n",
      " [ 5 55]]\n"
     ]
    },
    {
     "data": {
      "image/png": "[encoded data removed]",
      "text/plain": [
       "<Figure size 576x576 with 2 Axes>"
      ]
     },
     "metadata": {
      "needs_background": "light"
     },
     "output_type": "display_data"
    }
   ],
   "source": [
    "from sklearn.metrics import confusion_matrix\n",
    "\n",
    "# calculate predictions and score for the x inputs\n",
    "predict = model.predict(X)\n",
    "lg_score = model.score(X, y)\n",
    "print('accuracy:', lg_score)\n",
    "\n",
    "# display the confusion matrix\n",
    "cm = confusion_matrix(y, predict)\n",
    "print(\"confusion matrix:\")\n",
    "print(cm)\n",
    "\n",
    "# plot the confusion matrix\n",
    "plt.figure(figsize=(8,8))\n",
    "sns.heatmap(cm, annot=True, fmt=\".0f\", square=True)\n",
    "plt.ylabel('Actual label');\n",
    "plt.xlabel('Predicted label');\n",
    "title = 'Accuracy Score: %0.2f' % lg_score\n",
    "plt.title(title, size=15);"
   ]
  },
  {
   "cell_type": "code",
   "execution_count": 23,
   "metadata": {},
   "outputs": [],
   "source": [
    "from sklearn.metrics import precision_recall_curve\n",
    "\n",
    "# get the decision scores\n",
    "y_score = model.decision_function(X)\n",
    "\n",
    "# calculate precision and recall \n",
    "precisions, recalls, thresholds = precision_recall_curve(y, y_score)"
   ]
  },
  {
   "cell_type": "code",
   "execution_count": null,
   "metadata": {},
   "outputs": [],
   "source": []
  },
  {
   "cell_type": "code",
   "execution_count": 24,
   "metadata": {},
   "outputs": [
    {
     "data": {
      "image/png": "[encoded data removed]",
      "text/plain": [
       "<Figure size 720x576 with 1 Axes>"
      ]
     },
     "metadata": {
      "needs_background": "light"
     },
     "output_type": "display_data"
    }
   ],
   "source": [
    "# plot precision and recall curves\n",
    "# reference: https://scikit-learn.org/stable/auto_examples/model_selection/plot_precision_recall.html\n",
    "from sklearn.metrics import plot_precision_recall_curve\n",
    "from sklearn.metrics import average_precision_score\n",
    "\n",
    "average_precision = average_precision_score(y, y_score)\n",
    "p_c = plot_precision_recall_curve(model, X, y)\n",
    "p_c.ax_.set_title('Precision-Recall curve: AP={0:0.2f}'.format(average_precision), size = 16)\n",
    "plt.grid(True)"
   ]
  },
  {
   "cell_type": "code",
   "execution_count": 25,
   "metadata": {},
   "outputs": [
    {
     "data": {
      "image/png": "[encoded data removed]",
      "text/plain": [
       "<Figure size 720x576 with 1 Axes>"
      ]
     },
     "metadata": {
      "needs_background": "light"
     },
     "output_type": "display_data"
    }
   ],
   "source": [
    "# plot precision and recall curves using lecture notebook\n",
    "def plot_precision_vs_recall(precisions, recalls):\n",
    "    plt.plot(recalls, precisions, \"b-\", linewidth=2)\n",
    "    plt.xlabel(\"Recall\", fontsize=16)\n",
    "    plt.ylabel(\"Precision\", fontsize=16)\n",
    "    plt.grid(True)\n",
    "\n",
    "plot_precision_vs_recall(precisions, recalls)"
   ]
  },
  {
   "cell_type": "code",
   "execution_count": 26,
   "metadata": {},
   "outputs": [
    {
     "name": "stdout",
     "output_type": "stream",
     "text": [
      "-0.43730641479942634\n"
     ]
    }
   ],
   "source": [
    "# get threshold_90_precision\n",
    "threshold_90_precision = thresholds[np.argmax(precisions >= 0.90)]\n",
    "print(threshold_90_precision)"
   ]
  },
  {
   "cell_type": "code",
   "execution_count": 27,
   "metadata": {},
   "outputs": [
    {
     "name": "stdout",
     "output_type": "stream",
     "text": [
      "Precision:  0.90625\n",
      "Recall   :  0.9666666666666667\n"
     ]
    }
   ],
   "source": [
    "# check precision and recall for this threshold\n",
    "from sklearn.metrics import precision_score, recall_score\n",
    "\n",
    "y_pred_90 = (y_score >= threshold_90_precision)\n",
    "\n",
    "print(\"Precision: \", precision_score(y, y_pred_90))\n",
    "print(\"Recall   : \", recall_score(y, y_pred_90))"
   ]
  },
  {
   "cell_type": "code",
   "execution_count": 28,
   "metadata": {},
   "outputs": [
    {
     "data": {
      "image/png": "[encoded data removed]",
      "text/plain": [
       "<Figure size 864x432 with 1 Axes>"
      ]
     },
     "metadata": {
      "needs_background": "light"
     },
     "output_type": "display_data"
    }
   ],
   "source": [
    "# plot the precision and recall scores, using either two separate lines\n",
    "def plot_precision_recall_vs_threshold(precisions, recalls, thresholds):\n",
    "    plt.plot(thresholds, precisions[:-1], \"b--\", label = \"Precision\", linewidth=2)\n",
    "    plt.plot(thresholds, recalls[:-1], \"g-\", label = \"Recall\", linewidth=2)\n",
    "    plt.legend(loc=\"center right\", fontsize = 16)\n",
    "    plt.xlabel(\"Threshold\", fontsize = 16)       \n",
    "    plt.grid(True)                             \n",
    "    plt.axis([-2, 10, 0, 1])             \n",
    "\n",
    "recall_90_precision = recalls[np.argmax(precisions >= 0.90)]\n",
    "threshold_90_precision = thresholds[np.argmax(precisions >= 0.90)]\n",
    "\n",
    "plt.figure(figsize=(12, 6))                                                                 \n",
    "plot_precision_recall_vs_threshold(precisions, recalls, thresholds)\n",
    "plt.plot([threshold_90_precision, threshold_90_precision], [0., 0.9], \"r:\")                \n",
    "plt.plot([-100, threshold_90_precision], [0.9, 0.9], \"r:\")                                \n",
    "plt.plot([-100, threshold_90_precision], [recall_90_precision, recall_90_precision], \"r:\")\n",
    "plt.plot([threshold_90_precision], [0.9], \"ro\")                                            \n",
    "plt.plot([threshold_90_precision], [recall_90_precision], \"ro\");                          "
   ]
  },
  {
   "cell_type": "code",
   "execution_count": 29,
   "metadata": {
    "ExecuteTime": {
     "end_time": "2019-09-30T18:55:18.471417Z",
     "start_time": "2019-09-30T18:55:18.462004Z"
    }
   },
   "outputs": [],
   "source": [
    "# get fresh reload of the data if needed here to ensure you have correct starting values of the assignment 03\n",
    "# classification data\n",
    "score_st = pd.read_csv('../data/assg-02-exam-data.csv', names=[\"exam1\", \"exam2\", \"admission\"])\n",
    "features_st = score_st[['exam1', 'exam2']]\n",
    "y = score_st['admission']"
   ]
  },
  {
   "cell_type": "code",
   "execution_count": 30,
   "metadata": {
    "ExecuteTime": {
     "end_time": "2019-09-30T18:55:18.558596Z",
     "start_time": "2019-09-30T18:55:18.472761Z"
    }
   },
   "outputs": [],
   "source": [
    "# unlike for sklearn library, we actually have to add the dummy feature by hand to \n",
    "# represent the intercept feature, it is not assumed automatically by OLS\n",
    "# make sure you add the intercept feature column here before fitting the model.\n",
    "\n",
    "X = sm.add_constant(features_st)"
   ]
  },
  {
   "cell_type": "code",
   "execution_count": 31,
   "metadata": {},
   "outputs": [
    {
     "name": "stdout",
     "output_type": "stream",
     "text": [
      "Optimization terminated successfully.\n",
      "         Current function value: 0.203498\n",
      "         Iterations 9\n"
     ]
    },
    {
     "data": {
      "text/plain": [
       "const   -25.161334\n",
       "exam1     0.206232\n",
       "exam2     0.201472\n",
       "dtype: float64"
      ]
     },
     "execution_count": 31,
     "metadata": {},
     "output_type": "execute_result"
    }
   ],
   "source": [
    "# create an instance of the statsmodel Logit model (you don't need MNLogit here since this is\n",
    "# a binary classification task).\n",
    "# fit your model to get a statsmodel model fit wrapper\n",
    "logit = sm.Logit(y, X)\n",
    "model = logit.fit(method='newton')\n",
    "model.params"
   ]
  },
  {
   "cell_type": "code",
   "execution_count": 32,
   "metadata": {},
   "outputs": [
    {
     "data": {
      "text/html": [
       "<table class=\"simpletable\">\n",
       "<caption>Logit Regression Results</caption>\n",
       "<tr>\n",
       "  <th>Dep. Variable:</th>       <td>admission</td>    <th>  No. Observations:  </th>  <td>   100</td>  \n",
       "</tr>\n",
       "<tr>\n",
       "  <th>Model:</th>                 <td>Logit</td>      <th>  Df Residuals:      </th>  <td>    97</td>  \n",
       "</tr>\n",
       "<tr>\n",
       "  <th>Method:</th>                 <td>MLE</td>       <th>  Df Model:          </th>  <td>     2</td>  \n",
       "</tr>\n",
       "<tr>\n",
       "  <th>Date:</th>            <td>Fri, 18 Sep 2020</td> <th>  Pseudo R-squ.:     </th>  <td>0.6976</td>  \n",
       "</tr>\n",
       "<tr>\n",
       "  <th>Time:</th>                <td>15:51:39</td>     <th>  Log-Likelihood:    </th> <td> -20.350</td> \n",
       "</tr>\n",
       "<tr>\n",
       "  <th>converged:</th>             <td>True</td>       <th>  LL-Null:           </th> <td> -67.301</td> \n",
       "</tr>\n",
       "<tr>\n",
       "  <th>Covariance Type:</th>     <td>nonrobust</td>    <th>  LLR p-value:       </th> <td>4.067e-21</td>\n",
       "</tr>\n",
       "</table>\n",
       "<table class=\"simpletable\">\n",
       "<tr>\n",
       "    <td></td>       <th>coef</th>     <th>std err</th>      <th>z</th>      <th>P>|z|</th>  <th>[0.025</th>    <th>0.975]</th>  \n",
       "</tr>\n",
       "<tr>\n",
       "  <th>const</th> <td>  -25.1613</td> <td>    5.799</td> <td>   -4.339</td> <td> 0.000</td> <td>  -36.526</td> <td>  -13.796</td>\n",
       "</tr>\n",
       "<tr>\n",
       "  <th>exam1</th> <td>    0.2062</td> <td>    0.048</td> <td>    4.296</td> <td> 0.000</td> <td>    0.112</td> <td>    0.300</td>\n",
       "</tr>\n",
       "<tr>\n",
       "  <th>exam2</th> <td>    0.2015</td> <td>    0.049</td> <td>    4.143</td> <td> 0.000</td> <td>    0.106</td> <td>    0.297</td>\n",
       "</tr>\n",
       "</table>"
      ],
      "text/plain": [
       "<class 'statsmodels.iolib.summary.Summary'>\n",
       "\"\"\"\n",
       "                           Logit Regression Results                           \n",
       "==============================================================================\n",
       "Dep. Variable:              admission   No. Observations:                  100\n",
       "Model:                          Logit   Df Residuals:                       97\n",
       "Method:                           MLE   Df Model:                            2\n",
       "Date:                Fri, 18 Sep 2020   Pseudo R-squ.:                  0.6976\n",
       "Time:                        15:51:39   Log-Likelihood:                -20.350\n",
       "converged:                       True   LL-Null:                       -67.301\n",
       "Covariance Type:            nonrobust   LLR p-value:                 4.067e-21\n",
       "==============================================================================\n",
       "                 coef    std err          z      P>|z|      [0.025      0.975]\n",
       "------------------------------------------------------------------------------\n",
       "const        -25.1613      5.799     -4.339      0.000     -36.526     -13.796\n",
       "exam1          0.2062      0.048      4.296      0.000       0.112       0.300\n",
       "exam2          0.2015      0.049      4.143      0.000       0.106       0.297\n",
       "==============================================================================\n",
       "\"\"\""
      ]
     },
     "execution_count": 32,
     "metadata": {},
     "output_type": "execute_result"
    }
   ],
   "source": [
    "# display a summary of the fit of your classifier.  You might want to compare your intercept and\n",
    "# fitted coefficients again, though this time they probably won't match.\n",
    "# HINT: if you want them to match, try turning off the penality for scikit-learn.  It adds \n",
    "# a regularization penality by default, which we will learn about later in the course.\n",
    "model.summary()"
   ]
  },
  {
   "cell_type": "markdown",
   "metadata": {},
   "source": [
    "As mentioned, by default the statsmodel logistic regression will add no regularization penality.  We will \n",
    "discuss regularizing ML models in the coming weeks.  Adding regularization to get a more general model is not\n",
    "a normal sort of activity one does when performing statistical analysis, so it is not an easily\n",
    "specified parameter of statsmodel objects.  But when building ML models to classify new unseen data, it \n",
    "is important to try and make the model as general and robust as possible."
   ]
  }
 ],
 "metadata": {
  "kernelspec": {
   "display_name": "python3-datasci",
   "language": "python",
   "name": "python3-datasci"
  },
  "language_info": {
   "codemirror_mode": {
    "name": "ipython",
    "version": 3
   },
   "file_extension": ".py",
   "mimetype": "text/x-python",
   "name": "python",
   "nbconvert_exporter": "python",
   "pygments_lexer": "ipython3",
   "version": "3.7.7"
  },
  "latex_envs": {
   "LaTeX_envs_menu_present": true,
   "autoclose": true,
   "autocomplete": true,
   "bibliofile": "biblio.bib",
   "cite_by": "apalike",
   "current_citInitial": 1,
   "eqLabelWithNumbers": true,
   "eqNumInitial": 1,
   "hotkeys": {
    "equation": "Ctrl-E",
    "itemize": "Ctrl-I"
   },
   "labels_anchors": false,
   "latex_user_defs": false,
   "report_style_numbering": false,
   "user_envs_cfg": false
  },
  "toc": {
   "base_numbering": 1,
   "nav_menu": {},
   "number_sections": true,
   "sideBar": true,
   "skip_h1_title": false,
   "title_cell": "Table of Contents",
   "title_sidebar": "Contents",
   "toc_cell": false,
   "toc_position": {},
   "toc_section_display": true,
   "toc_window_display": true
  },
  "varInspector": {
   "cols": {
    "lenName": 16,
    "lenType": 16,
    "lenVar": 40
   },
   "kernels_config": {
    "python": {
     "delete_cmd_postfix": "",
     "delete_cmd_prefix": "del ",
     "library": "var_list.py",
     "varRefreshCmd": "print(var_dic_list())"
    },
    "r": {
     "delete_cmd_postfix": ") ",
     "delete_cmd_prefix": "rm(",
     "library": "var_list.r",
     "varRefreshCmd": "cat(var_dic_list()) "
    }
   },
   "types_to_exclude": [
    "module",
    "function",
    "builtin_function_or_method",
    "instance",
    "_Feature"
   ],
   "window_display": false
  }
 },
 "nbformat": 4,
 "nbformat_minor": 4
}

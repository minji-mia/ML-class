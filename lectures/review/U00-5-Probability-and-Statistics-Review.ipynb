{
 "cells": [
  {
   "cell_type": "code",
   "execution_count": 1,
   "metadata": {
    "ExecuteTime": {
     "end_time": "2019-11-18T14:31:12.401474Z",
     "start_time": "2019-11-18T14:31:11.818592Z"
    }
   },
   "outputs": [],
   "source": [
    "import numpy as np\n",
    "import matplotlib.pyplot as plt\n",
    "import pylab\n",
    "import itertools\n",
    "import scipy.special\n",
    "import seaborn as sns"
   ]
  },
  {
   "cell_type": "code",
   "execution_count": 2,
   "metadata": {
    "ExecuteTime": {
     "end_time": "2019-11-18T14:31:12.410463Z",
     "start_time": "2019-11-18T14:31:12.403053Z"
    }
   },
   "outputs": [],
   "source": [
    "%matplotlib inline\n",
    "pylab.rcParams['figure.figsize'] = (10.0, 8.0)"
   ]
  },
  {
   "cell_type": "markdown",
   "metadata": {},
   "source": [
    "# Probability\n",
    "\n",
    "At its most basic, determing the probability of things comes down to correctly\n",
    "defining the sample space and possible events in the space, then correctly\n",
    "counting the ways that events of interest can occur.\n",
    "\n",
    "## Sample Space\n",
    "\n",
    "The set of all possible outcomes of a statistical experiment is called the\n",
    "**sample space** and is represented by the symbol $S$.\n",
    "\n",
    "Each outcome in a sample space is called an **element** or simply a **sample point**.\n",
    "For example, the sample space $S$ of possible outcomes for a coin flip\n",
    "experiment may be written as:\n",
    "\n",
    "\\begin{equation}\n",
    "S = \\{H, T\\}\n",
    "\\end{equation}\n",
    "\n",
    "The sample space $S$ of possible outcomes for throwing a 6 sided dice is:\n",
    "\n",
    "\\begin{equation}\n",
    "S = \\{1, 2, 3, 4, 5, 6 \\}\n",
    "\\end{equation}\n",
    "\n",
    "\n",
    "## Events\n",
    "\n",
    "An event is a subset of the possible outcomes of a sample space.  So for\n",
    "a coin flip, one event is that a head $H$ occurs.  For a 6 sided dice,\n",
    "an example of an event is that we roll a $1$.  Or as a slightly more\n",
    "complex example of a subset, we could talk about the event of rolling\n",
    "an even number $E = \\{2, 4, 6 \\}$\n",
    "\n",
    "A few more quick concepts.  It is useful to think of events in a\n",
    "sample space in terms of sets.  The **complement** of an event\n",
    "$A$ is with respect to some larger set $S$.  So\n",
    "for example, the complement of the event $E = \\{2, 4, 6 \\}$\n",
    "of rolling an even number for a dice with sample space\n",
    "$S = \\{1, 2, 3, 4, 5, 6 \\}$ is $E' = \\{1, 3, 5\\}$\n",
    "We use the notation $E'$ to represent the complement of $E$.\n",
    "\n",
    "We can also talk about the intersection and union of events.  If\n",
    "two events are **mutually exclusive** or **disjoint** then their\n",
    "intersection is the empty set $A \\cap B = \\emptyset$ e.g.\n",
    "the intersection of rolling an even number and rolling an\n",
    "odd number is the empty set $E \\cap E' = \\emptyset$\n",
    "\n",
    "The **union** of two events is like the logical or.  For example\n",
    "the union of the events of rolling an even or an odd number\n",
    "on a dice is $E \\cup O = S$ and in this case it is equal to the\n",
    "full sample space.  The union of two complementary events will always\n",
    "equal the full sample space.  And the intersection of two complementary\n",
    "events will always be the emtpy set.\n",
    "\n",
    "## Counting Sample Points\n",
    "\n",
    "The beginnings of basic probability comes down to counting sample points\n",
    "(or events) in relation to the full sample space.  \n",
    "\n",
    "The **multiplication** rules says that if an operation can be performed \n",
    "in $n_1$ ways, and if for each of these ways a second operation can be\n",
    "performed in $n_2$ ways, then the two operations can be performed\n",
    "together in $n_1 \\cdot n_2$ ways.\n",
    "\n",
    "For example, how many possible ways or outcomes are possible if we roll a 6\n",
    "sided dice and flip a 2 headed coin?  The multiplication rules states\n",
    "there are $6 \\cdot 2 = 12$ possible outcomes.  We can use some\n",
    "python code to enumerate the possibilites and thus determine\n",
    "the sample space for this experiment:"
   ]
  },
  {
   "cell_type": "code",
   "execution_count": 3,
   "metadata": {
    "ExecuteTime": {
     "end_time": "2019-11-18T14:31:12.522840Z",
     "start_time": "2019-11-18T14:31:12.412093Z"
    }
   },
   "outputs": [
    {
     "name": "stdout",
     "output_type": "stream",
     "text": [
      "Number of outcomes of combined dice and coin toss experiment: 12\n",
      "outcome 01: H 1\n",
      "outcome 02: H 2\n",
      "outcome 03: H 3\n",
      "outcome 04: H 4\n",
      "outcome 05: H 5\n",
      "outcome 06: H 6\n",
      "outcome 07: T 1\n",
      "outcome 08: T 2\n",
      "outcome 09: T 3\n",
      "outcome 10: T 4\n",
      "outcome 11: T 5\n",
      "outcome 12: T 6\n"
     ]
    }
   ],
   "source": [
    "coin_elements = ['H', 'T']\n",
    "dice_elements = [1, 2, 3, 4, 5, 6]\n",
    "\n",
    "num_outcomes = len(coin_elements) * len(dice_elements)\n",
    "print(\"Number of outcomes of combined dice and coin toss experiment:\", num_outcomes)\n",
    "\n",
    "# itertools library has functions for enumerating combinations of things, as well as\n",
    "# for calculating combinations and permutations of sets of things\n",
    "outcomes = list(itertools.product(coin_elements, dice_elements))\n",
    "i = 1\n",
    "for (coin, dice) in outcomes:\n",
    "    print(\"outcome %02d: %s %d\" % (i, coin, dice))\n",
    "    i += 1"
   ]
  },
  {
   "cell_type": "markdown",
   "metadata": {},
   "source": [
    "**Exercise**:  What are the number of outcomes if you flip 2 coins?  What is the\n",
    "resulting sample space for a 2 coin flip experiment?  What are the number of outcomes\n",
    "and sample space if you roll 2 dice?\n",
    "\n",
    "A correlary to the multiplication rule is that if we have an operation that can\n",
    "have $n$ outcomes, and if we perform that same operation $m$ times, then there are\n",
    "$n^m$ combinations of possible ways.  For example, if we flip 4 coins, there must\n",
    "be $2^4$ combinations of possible outcomes.  Here are the outcomes in the sample space\n",
    "of the 4 coins experiment:"
   ]
  },
  {
   "cell_type": "code",
   "execution_count": 4,
   "metadata": {
    "ExecuteTime": {
     "end_time": "2019-11-18T14:31:12.591302Z",
     "start_time": "2019-11-18T14:31:12.525096Z"
    }
   },
   "outputs": [
    {
     "name": "stdout",
     "output_type": "stream",
     "text": [
      "outcome 01: H H H H\n",
      "outcome 02: H H H T\n",
      "outcome 03: H H T H\n",
      "outcome 04: H H T T\n",
      "outcome 05: H T H H\n",
      "outcome 06: H T H T\n",
      "outcome 07: H T T H\n",
      "outcome 08: H T T T\n",
      "outcome 09: T H H H\n",
      "outcome 10: T H H T\n",
      "outcome 11: T H T H\n",
      "outcome 12: T H T T\n",
      "outcome 13: T T H H\n",
      "outcome 14: T T H T\n",
      "outcome 15: T T T H\n",
      "outcome 16: T T T T\n"
     ]
    }
   ],
   "source": [
    "outcomes = list(itertools.product(coin_elements, repeat=4))\n",
    "i = 1\n",
    "for (coin1, coin2, coin3, coin4) in outcomes:\n",
    "    print(\"outcome %02d: %s %s %s %s\" % (i, coin1, coin2, coin3, coin4))\n",
    "    i += 1"
   ]
  },
  {
   "cell_type": "markdown",
   "metadata": {},
   "source": [
    "By the way, the multiplication rule example here is also how we know many things, such as\n",
    "for example, how many values are there for a 4 bit binary number $2^4 = 16$.  Likewise, this\n",
    "tells us that for a 10 digit binary number there are $2^{10} = 1024$ values, and the values\n",
    "will range from 0 to 1023."
   ]
  },
  {
   "cell_type": "code",
   "execution_count": 5,
   "metadata": {
    "ExecuteTime": {
     "end_time": "2019-11-18T14:31:12.667869Z",
     "start_time": "2019-11-18T14:31:12.592470Z"
    }
   },
   "outputs": [
    {
     "name": "stdout",
     "output_type": "stream",
     "text": [
      "(0, 0, 0, 0) 0\n",
      "(0, 0, 0, 1) 1\n",
      "(0, 0, 1, 0) 2\n",
      "(0, 0, 1, 1) 3\n",
      "(0, 1, 0, 0) 4\n",
      "(0, 1, 0, 1) 5\n",
      "(0, 1, 1, 0) 6\n",
      "(0, 1, 1, 1) 7\n",
      "(1, 0, 0, 0) 8\n",
      "(1, 0, 0, 1) 9\n",
      "(1, 0, 1, 0) 10\n",
      "(1, 0, 1, 1) 11\n",
      "(1, 1, 0, 0) 12\n",
      "(1, 1, 0, 1) 13\n",
      "(1, 1, 1, 0) 14\n",
      "(1, 1, 1, 1) 15\n"
     ]
    }
   ],
   "source": [
    "# try this with repeat=10 to see 2^10 using multiplication rule for 10 combinations of\n",
    "# a binary variable\n",
    "outcomes = list(itertools.product([0, 1], repeat=4))\n",
    "for bits in outcomes:\n",
    "    # consider index 0 as most significant bit and covert to decimal\n",
    "    decimal = 0\n",
    "    for i in range(len(bits)):\n",
    "        power = len(bits) - i - 1;\n",
    "        decimal += bits[i] * 2**power\n",
    "    print(bits, decimal)"
   ]
  },
  {
   "cell_type": "markdown",
   "metadata": {},
   "source": [
    "We have calculated the number of combinations of a set of outcomes in the past few cells.\n",
    "Combinations are without regard to order.  For example, in our original calculation\n",
    "of a sample space, we asked to determine the number of combinations for the experiment\n",
    "where we rolled a 6 sided dice and flipped a 2 sided coin.  Here we don't consider\n",
    "it to matter whether we roll the dice or flip the coin first.  Thus a result of\n",
    "'3H' is considered the same as 'H3' and is only counted 1 time.  \n",
    "\n",
    "\n",
    "Sometimes order does matter.  A **permutation** is an arrangement of all or part\n",
    "of a set of objects.  In permutations order matters.  In a permutation, we are\n",
    "selecting from the set without replacement, once you select an item, it\n",
    "cannot appear in the arrangement again.\n",
    "\n",
    "In general, $n$ distinct objects can be arranged (permuted) in $n!$ ways\n",
    "(where $n!$ is the notation for the factorial of $n$, and it represents\n",
    "the value $n \\cdot n-1 \\cdot n-2 \\cdots 1$).\n",
    "\n",
    "For example, if we have 4 people, how many ways are there of putting the 4 people in a line?"
   ]
  },
  {
   "cell_type": "code",
   "execution_count": 6,
   "metadata": {
    "ExecuteTime": {
     "end_time": "2019-11-18T14:31:12.742432Z",
     "start_time": "2019-11-18T14:31:12.670486Z"
    }
   },
   "outputs": [
    {
     "name": "stdout",
     "output_type": "stream",
     "text": [
      "Total number of permutations of the line that could be formed is: 24\n",
      "line 01: ('alice', 'bob', 'carol', 'derek')\n",
      "line 02: ('alice', 'bob', 'derek', 'carol')\n",
      "line 03: ('alice', 'carol', 'bob', 'derek')\n",
      "line 04: ('alice', 'carol', 'derek', 'bob')\n",
      "line 05: ('alice', 'derek', 'bob', 'carol')\n",
      "line 06: ('alice', 'derek', 'carol', 'bob')\n",
      "line 07: ('bob', 'alice', 'carol', 'derek')\n",
      "line 08: ('bob', 'alice', 'derek', 'carol')\n",
      "line 09: ('bob', 'carol', 'alice', 'derek')\n",
      "line 10: ('bob', 'carol', 'derek', 'alice')\n",
      "line 11: ('bob', 'derek', 'alice', 'carol')\n",
      "line 12: ('bob', 'derek', 'carol', 'alice')\n",
      "line 13: ('carol', 'alice', 'bob', 'derek')\n",
      "line 14: ('carol', 'alice', 'derek', 'bob')\n",
      "line 15: ('carol', 'bob', 'alice', 'derek')\n",
      "line 16: ('carol', 'bob', 'derek', 'alice')\n",
      "line 17: ('carol', 'derek', 'alice', 'bob')\n",
      "line 18: ('carol', 'derek', 'bob', 'alice')\n",
      "line 19: ('derek', 'alice', 'bob', 'carol')\n",
      "line 20: ('derek', 'alice', 'carol', 'bob')\n",
      "line 21: ('derek', 'bob', 'alice', 'carol')\n",
      "line 22: ('derek', 'bob', 'carol', 'alice')\n",
      "line 23: ('derek', 'carol', 'alice', 'bob')\n",
      "line 24: ('derek', 'carol', 'bob', 'alice')\n"
     ]
    }
   ],
   "source": [
    "customers = ['alice', 'bob', 'carol', 'derek']\n",
    "\n",
    "# by the theory just discussed, there should be 4! = 4 * 3 * 2 * 1 = 24 ways that\n",
    "# these customers could form a line\n",
    "num_permutations = np.math.factorial(len(customers))\n",
    "print('Total number of permutations of the line that could be formed is:', num_permutations)\n",
    "\n",
    "# permute the customers to see all possible ways these 4 people could line up.\n",
    "permutations = list(itertools.permutations(customers, 4))\n",
    "i = 1\n",
    "for line in permutations:\n",
    "    print('line %02d: %s' % (i, line))\n",
    "    i += 1"
   ]
  },
  {
   "cell_type": "markdown",
   "metadata": {},
   "source": [
    "You should be able to intuitively see here why the count of the number of permutations\n",
    "is $n!$.  Once we select from among the 4 people who is first in line, we then have 3 left\n",
    "to select to be the second in line, then 2 possibilities for the third in line.  By the\n",
    "multiplication rule this means we will have $4 \\cdot 3 \\cdot 2 \\cdot 1 = 24$ different\n",
    "permutations of the line.\n",
    "\n",
    "A more general permutation question is how many permutations exist from a set of\n",
    "$n$ items where we only choose $r$ of the items.  In the first example we\n",
    "had a set of $n = 4$ people and were permuted by selecting all $r = 4$ people\n",
    "to be in the line.  But what if these 4 people are in a club and we are holding\n",
    "elections.  How many possible outcomes are there where we select one of the 4 to\n",
    "be president, and one to be the treasurer (and the same person can not serve\n",
    "in both positions at the same time).  By the previous logic, you should \n",
    "see that there will be $4 \\cdot 3 = 12$ ways of selecting a president and treasurer:"
   ]
  },
  {
   "cell_type": "code",
   "execution_count": 7,
   "metadata": {
    "ExecuteTime": {
     "end_time": "2019-11-18T14:31:12.807863Z",
     "start_time": "2019-11-18T14:31:12.743572Z"
    }
   },
   "outputs": [
    {
     "name": "stdout",
     "output_type": "stream",
     "text": [
      "pres/treas 01: ('alice', 'bob')\n",
      "pres/treas 02: ('alice', 'carol')\n",
      "pres/treas 03: ('alice', 'derek')\n",
      "pres/treas 04: ('bob', 'alice')\n",
      "pres/treas 05: ('bob', 'carol')\n",
      "pres/treas 06: ('bob', 'derek')\n",
      "pres/treas 07: ('carol', 'alice')\n",
      "pres/treas 08: ('carol', 'bob')\n",
      "pres/treas 09: ('carol', 'derek')\n",
      "pres/treas 10: ('derek', 'alice')\n",
      "pres/treas 11: ('derek', 'bob')\n",
      "pres/treas 12: ('derek', 'carol')\n"
     ]
    }
   ],
   "source": [
    "# permute the same people as club members.  Here we only select 2 from the 4\n",
    "# club members.  Assume the first person shown/selected was selected to be president,\n",
    "# and the second is the treasurer\n",
    "permutations = list(itertools.permutations(customers, 2))\n",
    "i = 1\n",
    "for line in permutations:\n",
    "    print('pres/treas %02d: %s' % (i, line))\n",
    "    i += 1"
   ]
  },
  {
   "cell_type": "markdown",
   "metadata": {},
   "source": [
    "The number of permutations of $n$ distinct objects taken $r$ at a time is\n",
    "\n",
    "\\begin{equation}\n",
    "_{n}P_r = \\frac{n!}{(n - r)!}\n",
    "\\end{equation}\n",
    "\n",
    "If you think about this a bit you ought to be able to derive this expression for yourself.\n",
    "For example, for the case where we have 4 people and we are choosing 2, we need to do\n",
    "the original $n!$ but only for $n \\cdot n-1$.  The denominator\n",
    "of the previous expression will cancel out all of the terms past the first $r$, and thus\n",
    "it gives the count of the number of distinct permutations.\n",
    "\n",
    "For doing permutations, but where the final order of selecting the items\n",
    "from the set doesn't matter.  For example, when we were choosing among the 4 people, we sampled\n",
    "from all 4 to decide who was president.  But once we selected the president, we can't select\n",
    "that person again to be the treasurer.  So ordered mattered here.  The selection where\n",
    "alice is the president and bob the treasurer is considered different from the\n",
    "outcome where bob is the president and alice is the treasurer.\n",
    "\n",
    "Sometimes though we want to find the number of outcomes where the order should not\n",
    "matter. This is known as finding the number of **combinations** of $n$\n",
    "distinct objects taken $r$ at a time.  You can think of this as finding combinations without regard to the order of the objects.  The expression to find out the number of combinations\n",
    "of $n$ distinct objects taken $r$ at a time (without regard to order) is:\n",
    "\n",
    "\\begin{equation}\n",
    "\\binom{n}{r} = \\frac{n!}{r! (n-r)!}\n",
    "\\end{equation}\n",
    "\n",
    "Again an example should help to make this concept clearer.  Previously we used\n",
    "permutations to select a president and treasurer because in this case order\n",
    "matters.  But if we simply need to select 2 members to volunteer to be on a commitee,\n",
    "the commitee is the same if it is alice and bob, or bob and alice, the order\n",
    "doesn't matter.\n",
    "\n",
    "The above expression tells us that the number of 2 person commitees that can be\n",
    "made from the club is \n",
    "\n",
    "\\begin{equation}\n",
    "\\binom{n}{r} = \\frac{4!}{2! (4-2)!} = \\frac{24}{4} = 6\n",
    "\\end{equation}\n"
   ]
  },
  {
   "cell_type": "code",
   "execution_count": 8,
   "metadata": {
    "ExecuteTime": {
     "end_time": "2019-11-18T14:31:12.906083Z",
     "start_time": "2019-11-18T14:31:12.809812Z"
    }
   },
   "outputs": [
    {
     "name": "stdout",
     "output_type": "stream",
     "text": [
      "line 01: ('alice', 'bob')\n",
      "line 02: ('alice', 'carol')\n",
      "line 03: ('alice', 'derek')\n",
      "line 04: ('bob', 'carol')\n",
      "line 05: ('bob', 'derek')\n",
      "line 06: ('carol', 'derek')\n"
     ]
    }
   ],
   "source": [
    "# calculate the number of combinations of 4 members where we select 2 to be\n",
    "# on a committee.  Need to use combinations for this type of task.\n",
    "combinations = list(itertools.combinations(customers, 2))\n",
    "i = 1\n",
    "for line in combinations:\n",
    "    print('line %02d: %s' % (i, line))\n",
    "    i += 1"
   ]
  },
  {
   "cell_type": "markdown",
   "metadata": {},
   "source": [
    "Make sure you understand the difference and uses of permutations vs. combinations. As a\n",
    "quick example, if you want to calculate the number of possible 2 card hands that could be\n",
    "dealt from a 52 card deck, you need to use combinations.  Because the order you are dealt\n",
    "the cards doesn't matter, and thus getting an Ace of Spades and a Jack of Clubs is the\n",
    "same as getting the Jack of Clubs followed by the Ace of Spaces.  The number\n",
    "of 2 card hands you can be dealt from a standard deck of 52 cards, where the\n",
    "order the cards are dealt to you doesn't matter, is\n",
    "\n",
    "\\begin{equation}\n",
    "\\binom{n}{r} = \\frac{52!}{2! (52-2)!} = \\frac{52 \\cdot 51}{2} = 1326\n",
    "\\end{equation}\n",
    "\n",
    "\n",
    "Both permutations and combinations are assuming we are selecting without replacement,\n",
    "it is just that you use one when the order they are selected doesn't matter\n",
    "(combinations, like a hand of cards where order you arrange the cards doesn't matter)\n",
    "but use the other when the order makes a difference (permutations, like arranging\n",
    "people in a line).\n",
    "\n",
    "Sometimes we sample from a set or a sample space with replacement.  In this case\n",
    "it is as if you are repeating a set of $n$ outcomes $m$ times.  When we thought\n",
    "about flipping a coin 4 times you can also think of this as flipping a single\n",
    "coin, then replacing it and flipping it again, this is an example of\n",
    "performing trials with replacement.  As another example, imagine a bag with\n",
    "a red, green and blue ball in it.  How many outcomes are possible if we select\n",
    "4 balls at random, and put the ball we select back in before selecting the next one.\n",
    "The count is $3^4 = 81$\n"
   ]
  },
  {
   "cell_type": "code",
   "execution_count": 9,
   "metadata": {
    "ExecuteTime": {
     "end_time": "2019-11-18T14:31:12.988880Z",
     "start_time": "2019-11-18T14:31:12.907551Z"
    }
   },
   "outputs": [
    {
     "name": "stdout",
     "output_type": "stream",
     "text": [
      "outcome 01:    red    red    red    red\n",
      "outcome 02:    red    red    red  green\n",
      "outcome 03:    red    red    red   blue\n",
      "outcome 04:    red    red  green    red\n",
      "outcome 05:    red    red  green  green\n",
      "outcome 06:    red    red  green   blue\n",
      "outcome 07:    red    red   blue    red\n",
      "outcome 08:    red    red   blue  green\n",
      "outcome 09:    red    red   blue   blue\n",
      "outcome 10:    red  green    red    red\n",
      "outcome 11:    red  green    red  green\n",
      "outcome 12:    red  green    red   blue\n",
      "outcome 13:    red  green  green    red\n",
      "outcome 14:    red  green  green  green\n",
      "outcome 15:    red  green  green   blue\n",
      "outcome 16:    red  green   blue    red\n",
      "outcome 17:    red  green   blue  green\n",
      "outcome 18:    red  green   blue   blue\n",
      "outcome 19:    red   blue    red    red\n",
      "outcome 20:    red   blue    red  green\n",
      "outcome 21:    red   blue    red   blue\n",
      "outcome 22:    red   blue  green    red\n",
      "outcome 23:    red   blue  green  green\n",
      "outcome 24:    red   blue  green   blue\n",
      "outcome 25:    red   blue   blue    red\n",
      "outcome 26:    red   blue   blue  green\n",
      "outcome 27:    red   blue   blue   blue\n",
      "outcome 28:  green    red    red    red\n",
      "outcome 29:  green    red    red  green\n",
      "outcome 30:  green    red    red   blue\n",
      "outcome 31:  green    red  green    red\n",
      "outcome 32:  green    red  green  green\n",
      "outcome 33:  green    red  green   blue\n",
      "outcome 34:  green    red   blue    red\n",
      "outcome 35:  green    red   blue  green\n",
      "outcome 36:  green    red   blue   blue\n",
      "outcome 37:  green  green    red    red\n",
      "outcome 38:  green  green    red  green\n",
      "outcome 39:  green  green    red   blue\n",
      "outcome 40:  green  green  green    red\n",
      "outcome 41:  green  green  green  green\n",
      "outcome 42:  green  green  green   blue\n",
      "outcome 43:  green  green   blue    red\n",
      "outcome 44:  green  green   blue  green\n",
      "outcome 45:  green  green   blue   blue\n",
      "outcome 46:  green   blue    red    red\n",
      "outcome 47:  green   blue    red  green\n",
      "outcome 48:  green   blue    red   blue\n",
      "outcome 49:  green   blue  green    red\n",
      "outcome 50:  green   blue  green  green\n",
      "outcome 51:  green   blue  green   blue\n",
      "outcome 52:  green   blue   blue    red\n",
      "outcome 53:  green   blue   blue  green\n",
      "outcome 54:  green   blue   blue   blue\n",
      "outcome 55:   blue    red    red    red\n",
      "outcome 56:   blue    red    red  green\n",
      "outcome 57:   blue    red    red   blue\n",
      "outcome 58:   blue    red  green    red\n",
      "outcome 59:   blue    red  green  green\n",
      "outcome 60:   blue    red  green   blue\n",
      "outcome 61:   blue    red   blue    red\n",
      "outcome 62:   blue    red   blue  green\n",
      "outcome 63:   blue    red   blue   blue\n",
      "outcome 64:   blue  green    red    red\n",
      "outcome 65:   blue  green    red  green\n",
      "outcome 66:   blue  green    red   blue\n",
      "outcome 67:   blue  green  green    red\n",
      "outcome 68:   blue  green  green  green\n",
      "outcome 69:   blue  green  green   blue\n",
      "outcome 70:   blue  green   blue    red\n",
      "outcome 71:   blue  green   blue  green\n",
      "outcome 72:   blue  green   blue   blue\n",
      "outcome 73:   blue   blue    red    red\n",
      "outcome 74:   blue   blue    red  green\n",
      "outcome 75:   blue   blue    red   blue\n",
      "outcome 76:   blue   blue  green    red\n",
      "outcome 77:   blue   blue  green  green\n",
      "outcome 78:   blue   blue  green   blue\n",
      "outcome 79:   blue   blue   blue    red\n",
      "outcome 80:   blue   blue   blue  green\n",
      "outcome 81:   blue   blue   blue   blue\n"
     ]
    }
   ],
   "source": [
    "balls = ['red', 'green', 'blue']\n",
    "\n",
    "outcomes = list(itertools.product(balls, repeat=4))\n",
    "i = 1\n",
    "for (ball1, ball2, ball3, ball4) in outcomes:\n",
    "    print(\"outcome %02d: %6s %6s %6s %6s\" % (i, ball1, ball2, ball3, ball4))\n",
    "    i += 1"
   ]
  },
  {
   "cell_type": "markdown",
   "metadata": {},
   "source": [
    "Since we are sampling with replacement, it is perfectly fine to have a sample space like this\n",
    "even though there are only 3 balls.  Also even though there is only 1 red ball, since we\n",
    "replace items after selecting them, it can be the case that we happen to draw it 4 times\n",
    "in a row at random from the sack."
   ]
  },
  {
   "cell_type": "markdown",
   "metadata": {},
   "source": [
    "## Probability of an Event\n",
    "\n",
    "The likelihood of the occurrence of an event resulting from an experiment is evaluated\n",
    "by a real number called a **probability**.  Probabilities range from 0 to 1.\n",
    "\n",
    "The sum of the probabilities of all of the events in a sample space must sum up to 1, becase one of the\n",
    "events has to happen for a given sample space when we sample from it or perform\n",
    "an experiment from it.\n",
    "\n",
    "The probability of an event $A$ is the sum of the probabilities of all of the\n",
    "sample points in $A$.\n",
    "\n",
    "For example, lets think of a sample space where we are tossing 3 fair\n",
    "coins (or equivalently toss 1 fair coin 3 times, thus sampling with replacement).\n",
    "\n",
    "By the multiplication rule you should see that there are $2^3 = 8$ possible\n",
    "outcomes in this space:"
   ]
  },
  {
   "cell_type": "code",
   "execution_count": 10,
   "metadata": {
    "ExecuteTime": {
     "end_time": "2019-11-18T14:31:13.068420Z",
     "start_time": "2019-11-18T14:31:12.990019Z"
    }
   },
   "outputs": [
    {
     "name": "stdout",
     "output_type": "stream",
     "text": [
      "outcome 01:  H  H  H\n",
      "outcome 02:  H  H  T\n",
      "outcome 03:  H  T  H\n",
      "outcome 04:  H  T  T\n",
      "outcome 05:  T  H  H\n",
      "outcome 06:  T  H  T\n",
      "outcome 07:  T  T  H\n",
      "outcome 08:  T  T  T\n"
     ]
    }
   ],
   "source": [
    "coin = ['H', 'T']\n",
    "\n",
    "outcomes = list(itertools.product(coin, repeat=3))\n",
    "i = 1\n",
    "for (coin1, coin2, coin3) in outcomes:\n",
    "    print(\"outcome %02d: %2s %2s %2s\" % (i, coin1, coin2, coin3))\n",
    "    i += 1"
   ]
  },
  {
   "cell_type": "markdown",
   "metadata": {},
   "source": [
    "If the coin is a fair coin, then each of thes 8 possible outcomes are all equally\n",
    "likely.  By the definition of probability, since they are equally likely, and since\n",
    "the sum of their probabilities must add up to 1, that means that each of the\n",
    "8 listed outcomes has a probability of $1/8 = 0.125$ chance of occurring.\n",
    "\n",
    "Also, similar to the multiplication rule, the product rule of probabilities\n",
    "tels us that the probability of a sequence of events is equal to the product\n",
    "of the individual properties.  Since for a fair coin the probability of getting\n",
    "a H is $1/2 = 0.5$, then the probability of getting the sequence HHH is \n",
    "$\\frac{1}{2} \\cdot \\frac{1}{2} \\cdot \\frac{1}{2} = \\frac{1}{8}$.  The same\n",
    "goes for all sequences of coin flips. And the product rule also confirms\n",
    "what we previously said, that each of the outcomes has a probability of $1/8$ = 0.125.\n",
    "\n",
    "If you had 3 fair coins and you flipped the 3 coins 100 or 1000 times, you would be able\n",
    "to empirically prove to yourself that this probability is true.  If you flip the\n",
    "3 coins 1000 times, you wouldn't expect to exactly get 3 heads $1000 / 8 = 125$\n",
    "times, but it should be close to that expected result (with some variation).\n",
    "\n",
    "For example, if the random number generator is working correctly, we can simulate\n",
    "that experiment and see what we get.  If you run this for larger N, you are more likely\n",
    "to get closer to the expected ratio/probability of $\\frac{1}{8}$ for flipping a sequence\n",
    "of 3 heads in a row."
   ]
  },
  {
   "cell_type": "code",
   "execution_count": 11,
   "metadata": {
    "ExecuteTime": {
     "end_time": "2019-11-18T14:31:13.142348Z",
     "start_time": "2019-11-18T14:31:13.069856Z"
    }
   },
   "outputs": [
    {
     "name": "stdout",
     "output_type": "stream",
     "text": [
      "We had 139 successes out of 1000 total trials, probability = 0.139000\n"
     ]
    }
   ],
   "source": [
    "# an example of a random simulation.\n",
    "# run an experiment where we flip 3 coins.  We flip the 3 coins repeatedly (N times) and\n",
    "# count the number of \"successes\" where a success is getting all 3 heads for a trial.\n",
    "N = 1000\n",
    "successes = 0\n",
    "\n",
    "for trial in range(N):\n",
    "    coin1 = np.random.choice(coin)\n",
    "    coin2 = np.random.choice(coin)\n",
    "    coin3 = np.random.choice(coin)\n",
    "\n",
    "    # count the number of \"successes\" when we flipped 3 heads\n",
    "    if coin1 == coin2 == coin3 == 'H':\n",
    "        successes += 1\n",
    "        \n",
    "print('We had %d successes out of %d total trials, probability = %f' % (successes, N, successes/N))"
   ]
  },
  {
   "cell_type": "markdown",
   "metadata": {},
   "source": [
    "In the previous example the sample space has 8 outcomes/events, and each\n",
    "event in the sample space is equally likely.\n",
    "However, we can make things a bit more complicated.  For example, we can ask\n",
    "what is the probability of getting 3 heads?  You can see there there is only 1\n",
    "event in the sample space where we get all 3 heads, thus the probability of getting\n",
    "3 heads is $1/8 = 0.125$.  What is the probability of getting 2 or more heads?\n",
    "To determine this we need to add up the probabilities of all of the events that\n",
    "match this condition.  If you look through the outcomes in the sample space, you\n",
    "see that the following are outcomes when 2 or 3 heads occur: $A = HHH, HHT, HTH, THH$,\n",
    "thus there is a probability of \n",
    "$\\frac{1}{8} + \\frac{1}{8} + \\frac{1}{8} + \\frac{1}{8} = 0.5$ that we will get\n",
    "2 or more heads when we flip 3 fair sided coins.\n",
    "\n",
    "In general, when we have sample spaces where there are $N$ different equally likely\n",
    "outcomes, and if exactly $n$ of these outcomes correspond to some event $A$ which\n",
    "is a subset of the sample space $S$, then the probability of event $A$ is:\n",
    "\n",
    "\\begin{equation}\n",
    "P(A) = \\frac{n}{N}\n",
    "\\end{equation}\n",
    "\n",
    "The previous coin flip example used this fact to calculate the probabilities.  As another example, poker is a card game that deals 5 cards to each player using a standard\n",
    "deck of 52 cards.  What is the probability of getting a poker hand with 2 aces\n",
    "in your hand?  First of all you have to know that there are 4 of each type of\n",
    "of card in a standard 52 deck of cards.  So there are 4 aces: the ace of hearts,\n",
    "ace of clubs, ace of diamonds and ace of spades.\n",
    "\n",
    "So first of all letst ask what is $N$ the total number of outcomes of 5 card\n",
    "poker hands we can get.  Again each hand is equally likely, so we simply need\n",
    "to count up the number of ways of randomly drawing 5 cards from a deck of 52.  Here\n",
    "the order we draw the cards doesn't matter, no matter how we order the 5 cards we draw\n",
    "it is considered the same hand.  Thus we need to use $\\binom{52}{5}$ to calculate\n",
    "the number of combinations of choosing 5 items from a set of 52:"
   ]
  },
  {
   "cell_type": "code",
   "execution_count": 12,
   "metadata": {
    "ExecuteTime": {
     "end_time": "2019-11-18T14:31:13.226598Z",
     "start_time": "2019-11-18T14:31:13.143501Z"
    }
   },
   "outputs": [
    {
     "data": {
      "text/plain": [
       "2598960.0"
      ]
     },
     "execution_count": 12,
     "metadata": {},
     "output_type": "execute_result"
    }
   ],
   "source": [
    "from scipy.special import comb\n",
    "\n",
    "# comb here from scipy.special is simply an implemetation that returns the\n",
    "# count of the number of n items taken r at a time (combinations are without regard to order)\n",
    "comb(52, 5)"
   ]
  },
  {
   "cell_type": "markdown",
   "metadata": {},
   "source": [
    "So this tells us there are almost 2.6 million possible poker hands, each one equally likely.\n",
    "So to calculate the probability for the original question, we have to determine $n$ the\n",
    "number of ways we could have 2 aces in our hand.  To do this we have to be a bit careful\n",
    "in our thinking.  First of all, if you you simply think of the 4 aces, it should be\n",
    "clear that there are $\\binom{4}{2} = 6$ ways of getting 2 aces from the set of 4.  But\n",
    "there are lots of ways of making up the other 3 cards for the hand.  We don't want\n",
    "to include hands that have 3 or 4 aces, so there are 48 cards we could choose from\n",
    "to get the other 3 cards, or else $\\binom{48}{3} = 17296$.  By the multiplication rule\n",
    "we have to multiply these together to get $n = \\binom{4}{2} \\cdot \\binom{48}{3} = 6 \\cdot 17296 = 103776$.  This represents all of the possible 5 card hands that contain\n",
    "exactly 2 aces.  Thus we can figure out the final probability we started out trying\n",
    "to determine\n",
    "\n",
    "\\begin{equation}\n",
    "\\frac{\\binom{4}{2} \\cdot \\binom{48}{3}}{\\binom{52}{5}} = \\frac{103776}{2598960} \\approx  0.03993\n",
    "\\end{equation}"
   ]
  },
  {
   "cell_type": "code",
   "execution_count": 13,
   "metadata": {
    "ExecuteTime": {
     "end_time": "2019-11-18T14:31:13.316002Z",
     "start_time": "2019-11-18T14:31:13.227764Z"
    }
   },
   "outputs": [
    {
     "name": "stdout",
     "output_type": "stream",
     "text": [
      "outcome 01:   ace spades    ace clubs\n",
      "outcome 02:   ace spades   ace hearts\n",
      "outcome 03:   ace spades ace diamonds\n",
      "outcome 04:    ace clubs   ace hearts\n",
      "outcome 05:    ace clubs ace diamonds\n",
      "outcome 06:   ace hearts ace diamonds\n"
     ]
    }
   ],
   "source": [
    "# the number of ways we could have 2 aces in our hand\n",
    "aces = ['ace spades', 'ace clubs', 'ace hearts', 'ace diamonds']\n",
    "\n",
    "outcomes = list(itertools.combinations(aces, 2))\n",
    "i = 1\n",
    "for (ace1, ace2) in outcomes:\n",
    "    print(\"outcome %02d: %12s %12s\" % (i, ace1, ace2))\n",
    "    i += 1"
   ]
  },
  {
   "cell_type": "code",
   "execution_count": 14,
   "metadata": {
    "ExecuteTime": {
     "end_time": "2019-11-18T14:31:13.418568Z",
     "start_time": "2019-11-18T14:31:13.317256Z"
    }
   },
   "outputs": [
    {
     "data": {
      "text/plain": [
       "0.03992981808107859"
      ]
     },
     "execution_count": 14,
     "metadata": {},
     "output_type": "execute_result"
    }
   ],
   "source": [
    "# probability of 2 aces\n",
    "from scipy.special import comb\n",
    "\n",
    "(comb(4,2) * comb(48,3)) / comb(52,5)"
   ]
  },
  {
   "cell_type": "markdown",
   "metadata": {},
   "source": [
    "This probability is low.  However, it is useful if you want to play poker, to know the\n",
    "probability of getting a pair of any type of card.  Ignoring for the moment the\n",
    "probability of having 2 pairs, you should be able to see that since there are 13 different\n",
    "types of cards (ace, king, queen, jack, 2 through 10), that the probability of\n",
    "getting any pair will be approximately 13 times the probability of getting a pair of the particular type of card, an ace (ignoring getting 2 pairs)."
   ]
  },
  {
   "cell_type": "code",
   "execution_count": 15,
   "metadata": {
    "ExecuteTime": {
     "end_time": "2019-11-18T14:31:13.500705Z",
     "start_time": "2019-11-18T14:31:13.421935Z"
    }
   },
   "outputs": [
    {
     "data": {
      "text/plain": [
       "0.5190876350540216"
      ]
     },
     "execution_count": 15,
     "metadata": {},
     "output_type": "execute_result"
    }
   ],
   "source": [
    "# the probablity of drawing a pair in a hand of poker\n",
    "13.0 * (comb(4,2) * comb(48,3)) / comb(52,5)"
   ]
  },
  {
   "cell_type": "markdown",
   "metadata": {},
   "source": [
    "This is a bit of an overestimate of the probability since it includes all of the ways\n",
    "of getting 2 pairs as well.  If we want the correct probability, we need to remove\n",
    "counting hands that have 2 pairs.  We can use the multiplication rule and think\n",
    "of it is this way.  There are $\\binom{13}{1}$ ways of selecting one of the card\n",
    "values to be our pair, then there are $\\binom{4}{2}$ ways of selection 2 of the 4\n",
    "cards that will make the pair for our hand.  For the remaining 3 cards, we need\n",
    "to select 3 different values so that we don't form another pair, or in other\n",
    "words we need $\\binom{12}{3}$ different cards values.  Each of these has 4 different\n",
    "cards we can choose from or $\\binom{4}{1}$.  The full expression for the number of\n",
    "hands with only a pair is thus\n",
    "\n",
    "\\begin{equation}\n",
    "\\binom{13}{1} \\binom{4}{2} \\binom{12}{3} \\binom{4}{1}^3 = 1098240\n",
    "\\end{equation}"
   ]
  },
  {
   "cell_type": "code",
   "execution_count": 16,
   "metadata": {
    "ExecuteTime": {
     "end_time": "2019-11-18T14:31:13.626723Z",
     "start_time": "2019-11-18T14:31:13.501974Z"
    }
   },
   "outputs": [
    {
     "data": {
      "text/plain": [
       "1098240.0"
      ]
     },
     "execution_count": 16,
     "metadata": {},
     "output_type": "execute_result"
    }
   ],
   "source": [
    "comb(13, 1) * comb(4, 2) * comb(12, 3) * comb(4, 1)**3.0"
   ]
  },
  {
   "cell_type": "markdown",
   "metadata": {},
   "source": [
    "This expression represents $n$, the number of actuall possible hands of poker that\n",
    "contain only a single pair in the hand.  So the probability of getting a pair\n",
    "in a hand of poker is thus:\n",
    "\n",
    "\\begin{equation}\n",
    "\\frac{\\binom{13}{1} \\binom{4}{2} \\binom{12}{3} \\binom{4}{1}^3}{\\binom{52}{5}} = \\frac{1098240}{2598960} \\approx 0.42257\n",
    "\\end{equation}"
   ]
  },
  {
   "cell_type": "code",
   "execution_count": 17,
   "metadata": {
    "ExecuteTime": {
     "end_time": "2019-11-18T14:31:13.749212Z",
     "start_time": "2019-11-18T14:31:13.627924Z"
    }
   },
   "outputs": [
    {
     "name": "stdout",
     "output_type": "stream",
     "text": [
      "1098240.0\n",
      "0.4225690276110444\n"
     ]
    }
   ],
   "source": [
    "n = comb(13,1) * comb(4,2) * comb(12,3) * comb(4,1)**3.0\n",
    "print(n)\n",
    "N = comb(52,5)\n",
    "print(n/N)"
   ]
  },
  {
   "cell_type": "markdown",
   "metadata": {},
   "source": [
    "You can compare this discussion of calculating the probability of getting a pair in a\n",
    "hand of poker with the \n",
    "[Wikipedia Poker Probabilities](https://en.wikipedia.org/wiki/Poker_probability) page.\n",
    "I leave it as an exercise\n",
    "to try and calculate the probability of some of the other hands of poker if you are\n",
    "intersted."
   ]
  },
  {
   "cell_type": "markdown",
   "metadata": {},
   "source": [
    "# Random Variables and Probability Distributions\n",
    "\n",
    "## Random Variables\n",
    "\n",
    "A **statistical experiment** is a process by which several chance observations are generated. \n",
    "We use probability (and probability distributions) to theoretically characterize such\n",
    "chance processes.  Our discussion of sample spaces, and calculating the probability\n",
    "of chance events in the previous section are an example of such a statistical experiment.\n",
    "\n",
    "A **random variable** is a function that associates a real number with each element\n",
    "in the sample space of a statistical experiment.  Random variables are useful\n",
    "for determining properties of statistical experiments.  \n",
    "\n",
    "Assigning a real number to an outcome makes it possible to manipulate statistical\n",
    "tests computationally, and to do computational simulations.\n",
    "\n",
    "In theory you can turn any random sample space into a random variable, by counting\n",
    "something.  For example, in our example of flipping 3 coins, we could\n",
    "create a random variable by assigning an outcome of 1 for heads and an outcome of\n",
    "0 for tails.  Thus we create a random variable $h$:\n",
    "\n",
    "|Sample Space | h |\n",
    "|-------------|---|\n",
    "| H           | 1 |\n",
    "| T           | 0 |\n",
    "\n",
    "Thus for 3 coins, we can define the random variable $h$ as the sum of the number of heads\n",
    "that were tossed:\n",
    "\n",
    "| coin1 | coin2 | coin3 | h |\n",
    "|-------|-------|-------|---|\n",
    "| H     | H     | H     | 3 |\n",
    "| H     | H     | T     | 2 |\n",
    "| H     | T     | H     | 2 |\n",
    "| H     | T     | T     | 1 |\n",
    "| T     | H     | H     | 2 |\n",
    "| T     | H     | T     | 1 |\n",
    "| T     | T     | H     | 1 |\n",
    "| T     | T     | T     | 0 |\n",
    "\n",
    "## Definitions\n",
    "\n",
    "- If a sample space contains a finite number of possibilities or an unending\n",
    "  sequence with as many elements as there are whole numbers, it is called a\n",
    "  **discrete sample space**.  Intuitively, discrete sample spaces are categorical, or\n",
    "  are counted using whole integer numbers.\n",
    "- If a sample space contains an infinite number of possibilites equal to the number\n",
    "  of points on a line segment, it is called a **continuous sample space**.  These\n",
    "  are statistical experiments where the outcome is neither finite (not a\n",
    "  categorical variable) nor countable (not whole integers).  Intuitively\n",
    "  these are outcomes measured using a fraction or a floating point type variable.\n",
    "- A random variable is called a **discrete random variable** if its set of \n",
    "  possible outcomes is countable.  The random variable defined for the 3 coin\n",
    "  flips is an example of a discrete random variable.\n",
    "- A **continuous random variable** is a random variable that takes on values on\n",
    "  a continuous range.\n",
    "  \n",
    "In most practical problems, continuous random variables represent *measured*\n",
    "data, such as all possible heights, weights, temperatures, distances.\n",
    "Discrete random variables represent *count* data, such as the number of\n",
    "defectives in a sample of $k$ items or the number of highway\n",
    "fatalities per year."
   ]
  },
  {
   "cell_type": "markdown",
   "metadata": {},
   "source": [
    "## Discrete Probability Distributions\n",
    "\n",
    "The set of ordered pairs $(x, f(x))$ is a **probability function**,\n",
    "**probability mass function**, or a **probability distribution** of\n",
    "a discrete random variable $X$ if, for each possible outcome $x$,\n",
    "\n",
    "1. $f(x) >= 0$\n",
    "2. $\\sum_x f(x) = 1$\n",
    "3. $P(X = x) = f(x)$\n",
    "\n",
    "In english, $f(x)$ is the probability of outcome $x$ happening in the discrete\n",
    "random variable space defined by $X$.  So for our 3 coin flip example, \n",
    "$f(3) = 1/8$, which is the probability $P(X = 3)$ or in other words the\n",
    "probability that we flip 3 heads.  It should be obvious as 1. states that all\n",
    "probabilities of the random variable $x$ must be $>=$ to 0 (and they\n",
    "actually all have to be $<=1$ as well).  Also 2. states that the sum of\n",
    "the probabilities of all possible outcomes of the discrete random variable\n",
    "must add up to 1, which follows from the definition of how probabilities on\n",
    "a discrete probability distribution are assigned.\n",
    "\n",
    "In theory for a discrete probability distribution, we can specify the\n",
    "probability distribugion (or PMF the probability mass function)\n",
    "completely as a table for a discrete probability distribution.\n",
    "So for our 3 coin toss discrete probability distribution\n",
    "\n",
    "| Sample Space | x | f(x)  |\n",
    "|--------------|---|-------|\n",
    "| HHH          | 3 | 0.125 |\n",
    "| HHT HTH THH  | 2 | 0.375 |\n",
    "| TTH THT HTT  | 1 | 0.375 |\n",
    "| TTT          | 0 | 0.125 |\n",
    "\n",
    "You should verify all 3 properties are true for this example discrete probability\n",
    "distribution.\n",
    "\n",
    "We may need the tools we discussed previously in order to accurately count the number of\n",
    "combinations of things to determine the probabilities of a discrete random varible.\n",
    "For example, lets say we have an urn that contains 4 red and 3 black balls.  We\n",
    "will create a random variable $X$ which is the result of drawing 2 balls at random \n",
    "from the urn (without replacement).  $x$ will be the count of the number of red balls.\n",
    "We would like to calculate the discrete probability distribution that results\n",
    "from this experiment.\n",
    "\n",
    "First of all if $x$ is the count of the number of red balls, and we are drawing\n",
    "2 balls from the urn, the possible values of $x$ are 2, 1 or 0 red balls drawn\n",
    "at random from the urn.  First of all, lets enumerate all of the possible\n",
    "outcomes we can expect.  It should be clear from our previous discussion that\n",
    "there are $\\binom{7}{2} = 21$ ways of choosing 2 balls from the 7 without replacement:"
   ]
  },
  {
   "cell_type": "code",
   "execution_count": 18,
   "metadata": {
    "ExecuteTime": {
     "end_time": "2019-11-18T14:31:13.825353Z",
     "start_time": "2019-11-18T14:31:13.750599Z"
    }
   },
   "outputs": [
    {
     "name": "stdout",
     "output_type": "stream",
     "text": [
      "outcome 01:    red1    red2\n",
      "outcome 02:    red1    red3\n",
      "outcome 03:    red1    red4\n",
      "outcome 04:    red1  black1\n",
      "outcome 05:    red1  black2\n",
      "outcome 06:    red1  black3\n",
      "outcome 07:    red2    red3\n",
      "outcome 08:    red2    red4\n",
      "outcome 09:    red2  black1\n",
      "outcome 10:    red2  black2\n",
      "outcome 11:    red2  black3\n",
      "outcome 12:    red3    red4\n",
      "outcome 13:    red3  black1\n",
      "outcome 14:    red3  black2\n",
      "outcome 15:    red3  black3\n",
      "outcome 16:    red4  black1\n",
      "outcome 17:    red4  black2\n",
      "outcome 18:    red4  black3\n",
      "outcome 19:  black1  black2\n",
      "outcome 20:  black1  black3\n",
      "outcome 21:  black2  black3\n"
     ]
    }
   ],
   "source": [
    "balls = ['red1', 'red2', 'red3', 'red4', 'black1', 'black2', 'black3']\n",
    "\n",
    "outcomes = list(itertools.combinations(balls, 2))\n",
    "i = 1\n",
    "for (ball1, ball2) in outcomes:\n",
    "    print(\"outcome %02d: %7s %7s\" % (i, ball1, ball2))\n",
    "    i += 1"
   ]
  },
  {
   "cell_type": "markdown",
   "metadata": {},
   "source": [
    "It should be clear here that the order or identity of the balls here is not really\n",
    "important.  The random variable $X$ is simply the count of the number of red balls\n",
    "we see.  We have determined that the sample space of the random variable $N = 21$\n",
    "outcomes.  Also all outcomes are equally likely if there is no difference or bias\n",
    "in the way balls are selected from the urn.\n",
    "\n",
    "So, lets create the random variable $x$, and the probability $f(x)$ from\n",
    "the table of outcomes:"
   ]
  },
  {
   "cell_type": "code",
   "execution_count": 19,
   "metadata": {
    "ExecuteTime": {
     "end_time": "2019-11-18T14:31:13.901778Z",
     "start_time": "2019-11-18T14:31:13.826639Z"
    }
   },
   "outputs": [
    {
     "name": "stdout",
     "output_type": "stream",
     "text": [
      "outcome 01:     red     red   2 0.047619\n",
      "outcome 02:     red     red   2 0.047619\n",
      "outcome 03:     red     red   2 0.047619\n",
      "outcome 04:     red   black   1 0.047619\n",
      "outcome 05:     red   black   1 0.047619\n",
      "outcome 06:     red   black   1 0.047619\n",
      "outcome 07:     red     red   2 0.047619\n",
      "outcome 08:     red     red   2 0.047619\n",
      "outcome 09:     red   black   1 0.047619\n",
      "outcome 10:     red   black   1 0.047619\n",
      "outcome 11:     red   black   1 0.047619\n",
      "outcome 12:     red     red   2 0.047619\n",
      "outcome 13:     red   black   1 0.047619\n",
      "outcome 14:     red   black   1 0.047619\n",
      "outcome 15:     red   black   1 0.047619\n",
      "outcome 16:     red   black   1 0.047619\n",
      "outcome 17:     red   black   1 0.047619\n",
      "outcome 18:     red   black   1 0.047619\n",
      "outcome 19:   black   black   0 0.047619\n",
      "outcome 20:   black   black   0 0.047619\n",
      "outcome 21:   black   black   0 0.047619\n",
      "\n",
      " x     f(x)\n",
      " 0  0.14286\n",
      " 1  0.57143\n",
      " 2  0.28571\n"
     ]
    }
   ],
   "source": [
    "N = comb(7,2)\n",
    "balls = ['red', 'red', 'red', 'red', 'black', 'black', 'black']\n",
    "\n",
    "outcomes = list(itertools.combinations(balls, 2))\n",
    "i = 1\n",
    "X = np.zeros(3)  # hold cumulative sum of probabilities of random variable X\n",
    "\n",
    "# display the sample space\n",
    "for (ball1, ball2) in outcomes:\n",
    "    redcount = np.sum([ball1 == 'red', ball2 == 'red']) # sum of number of red balls drawn\n",
    "    X[redcount] += 1.0 / N\n",
    "    print(\"outcome %02d: %7s %7s   %d %f\" % (i, ball1, ball2, redcount, 1.0/N))\n",
    "    i += 1\n",
    "    \n",
    "\n",
    "# display the random variable X and f(x)\n",
    "print(\"\")\n",
    "print(\"%2s %8s\" % ('x', 'f(x)'))\n",
    "for x in range(3):\n",
    "    print('%2d  %0.5f' % (x, X[x]))"
   ]
  },
  {
   "cell_type": "markdown",
   "metadata": {},
   "source": [
    "We should be able to calculate all of these symbolically using combinations. We know\n",
    "$N = \\binom{7}{2} = 21$ for all cases.  The number of ways we can choose 2 red\n",
    "balls and 0 black balls from the urn with 4 red and 3 black balls is\n",
    "\n",
    "\\begin{equation}\n",
    "\\binom{4}{2} \\cdot \\binom{3}{0} = 6 \\cdot 1 = 6\n",
    "\\end{equation}\n",
    "\n",
    "So the probability of $P(X = 2)$ or $f(2)$ is \n",
    "\n",
    "\\begin{equation}\n",
    "f(2) = \\frac{\\binom{4}{2} \\cdot \\binom{3}{0}}{\\binom{7}{2}} = \\frac{6 \\cdot 1}{21} = \\frac{6}{21} \\approx 0.28571\n",
    "\\end{equation}\n"
   ]
  },
  {
   "cell_type": "code",
   "execution_count": 20,
   "metadata": {
    "ExecuteTime": {
     "end_time": "2019-11-18T14:31:13.975909Z",
     "start_time": "2019-11-18T14:31:13.904361Z"
    }
   },
   "outputs": [
    {
     "data": {
      "text/plain": [
       "0.2857142857142857"
      ]
     },
     "execution_count": 20,
     "metadata": {},
     "output_type": "execute_result"
    }
   ],
   "source": [
    "# calculate proability of drawing 2 red balls from urn with 4 red and 2 black\n",
    "# for a total of 7 balls\n",
    "(comb(4,2) * comb(3,0)) / comb(7,2)"
   ]
  },
  {
   "cell_type": "markdown",
   "metadata": {},
   "source": [
    "Then to complete the discrete probability distribution for this random variable we have\n",
    "\n",
    "The probability of $P(X = 1)$ or $f(1)$ is \n",
    "\n",
    "\\begin{equation}\n",
    "f(1) = \\frac{\\binom{4}{1} \\cdot \\binom{3}{1}}{\\binom{7}{2}} = \\frac{4 \\cdot 3}{21} = \\frac{12}{21} \\approx 0.57143\n",
    "\\end{equation}\n",
    "\n",
    "The probability of $P(X = 0)$ or $f(0)$ is \n",
    "\n",
    "\\begin{equation}\n",
    "f(0) = \\frac{\\binom{4}{0} \\cdot \\binom{3}{2}}{\\binom{7}{2}} = \\frac{1 \\cdot 3}{21} = \\frac{3}{21} \\approx 0.14286\n",
    "\\end{equation}\n"
   ]
  },
  {
   "cell_type": "code",
   "execution_count": 21,
   "metadata": {
    "ExecuteTime": {
     "end_time": "2019-11-18T14:31:14.049382Z",
     "start_time": "2019-11-18T14:31:13.977457Z"
    }
   },
   "outputs": [
    {
     "name": "stdout",
     "output_type": "stream",
     "text": [
      "0.5714285714285714\n",
      "0.14285714285714285\n"
     ]
    }
   ],
   "source": [
    "# calculate proability of drawing 1 red balls from urn with 4 red and 2 black\n",
    "# for a total of 7 balls\n",
    "f1 = (comb(4,1) * comb(3,1)) / comb(7,2)\n",
    "print(f1)\n",
    "\n",
    "# calculate proability of drawing 0 red balls from urn with 4 red and 2 black\n",
    "# for a total of 7 balls\n",
    "f0 = (comb(4,0) * comb(3,2)) / comb(7,2)\n",
    "print(f0)\n"
   ]
  },
  {
   "cell_type": "markdown",
   "metadata": {},
   "source": [
    "Another way to visualize a discrete probability mass function (PMF) is as a histogram.  When\n",
    "we have a discrete table of values, we can plot the histogram of each of the\n",
    "random outcomes for the random variable $X$.  For example, the PMF of your\n",
    "urn with 7 balls looks like this:"
   ]
  },
  {
   "cell_type": "code",
   "execution_count": 22,
   "metadata": {
    "ExecuteTime": {
     "end_time": "2019-11-18T14:31:14.491092Z",
     "start_time": "2019-11-18T14:31:14.050486Z"
    }
   },
   "outputs": [
    {
     "data": {
      "image/png": "[encoded data removed]",
      "text/plain": [
       "<Figure size 720x576 with 1 Axes>"
      ]
     },
     "metadata": {
      "needs_background": "light"
     },
     "output_type": "display_data"
    }
   ],
   "source": [
    "x = np.arange(3)\n",
    "plt.bar(x, X, color='lightblue', width=1.0, edgecolor='black', tick_label=x);\n",
    "plt.xlabel('Random variable $x$ (number of red balls drawn)', fontsize=16);\n",
    "plt.ylabel('$f(x)$ PMF probability', fontsize=16);\n",
    "plt.title('Probability Mass Function (PMF) of 7 ball urn', fontsize=20);"
   ]
  },
  {
   "cell_type": "markdown",
   "metadata": {},
   "source": [
    "You should keep this histogram in mind, it summarizes the discrete probability distribution\n",
    "we have described here.  The total area of the bars must add up to 1.0, and each bar\n",
    "represents the probability of the random variable $P(X = x)$ occurring.\n",
    "\n",
    "Another useful concept to think about at this point is the cumulative probability\n",
    "of the mass function.  This is simply the cumulative sum for each value\n",
    "of the discrete random variable.  We use $F(x)$ to represent the cumulative\n",
    "probability mass function.  Notice of course that the sum of the probabilities\n",
    "should always add up to 1. The probability for 1 here represents the cumulative\n",
    "probability that the random variable is $x <= 1$ or in other words the sum of\n",
    "$F(X=1) = f(x=0) + f(x=1)$"
   ]
  },
  {
   "cell_type": "code",
   "execution_count": 23,
   "metadata": {
    "ExecuteTime": {
     "end_time": "2019-11-18T14:31:14.643622Z",
     "start_time": "2019-11-18T14:31:14.495884Z"
    }
   },
   "outputs": [
    {
     "data": {
      "image/png": "[encoded data removed]",
      "text/plain": [
       "<Figure size 720x576 with 1 Axes>"
      ]
     },
     "metadata": {
      "needs_background": "light"
     },
     "output_type": "display_data"
    }
   ],
   "source": [
    "x = np.arange(3)\n",
    "plt.bar(x, np.cumsum(X), color='lightblue', width=1.0, edgecolor='black', tick_label=x);\n",
    "plt.xlabel('Random variable $x$ (number of red balls drawn)', fontsize=16);\n",
    "plt.ylabel('$F(x)$ cumulative PMF probability', fontsize=16);\n",
    "plt.title('Cumulative Probability Mass Function of 7 ball urn', fontsize=20);"
   ]
  },
  {
   "cell_type": "markdown",
   "metadata": {},
   "source": [
    "## Continuous Probability Distributions\n",
    "\n",
    "A continuus probability distribution is a distribution of a continuous random variable\n",
    "that we defined before.  A continuous random variable cannot be presented in\n",
    "tabular form as we did for a discrete distribution.  It must be expressed as a formula.\n",
    "\n",
    "A continuous random variable has a probability of 0 of assuming *exactly* any\n",
    "given value, since there are infinitely many exact values that a random value\n",
    "can assume.  This is startling until you think about it a bit.  Thus we\n",
    "must describe continuous probabilities in terms of *intervals* on the distribution,\n",
    "and we have to use and definite integral of the probability function to calculate\n",
    "the probability.\n",
    "\n",
    "In dealing with continuous random variables, $f(x)$ is usually called the\n",
    "**probability density function** or simply the **density function** of\n",
    "the continuous random variable $X$.\n",
    "\n",
    "So a continuous probability distribution has similar properties as the discrete\n",
    "distribution.  The function $f(x)$ is a **probability density function** (or PDF)\n",
    "for the continuous random variable $X$, defined over the set of real numbers, if\n",
    "\n",
    "1. $f(x) \\ge 0, \\text{for all} \\; x \\in \\mathbb{R}$\n",
    "2. $\\int_{-\\infty}^{\\infty} f(x) \\; dx = 1$\n",
    "3. $P(a < X < b) = \\int_{a}^{b} f(x) \\; dx$ \n",
    "\n",
    "So in english this means that a proper continuous density function must be a\n",
    "function that 1. is $\\ge 0$ for all values of the random variable.  The 2. sum\n",
    "of the continuous probability density function must sum up to 1, where the sum\n",
    "will be calculated using the integral of the probability density function.  And 3.\n",
    "says that if we want to calculate the probability for some\n",
    "part of the continuous probability function, we sum up the function (agin\n",
    "using the integral) over the interval of interest.\n",
    "\n",
    "We will look at some more realistice examples of a continuous PDF in a bit, but\n",
    "lets look at a made up example.  Given the following function that you are\n",
    "told is a continuous PDF:\n",
    "\n",
    "\\begin{equation}\n",
    "f(x) = \n",
    "\\begin{cases}\n",
    "\\frac{x^2}{3}, & -1 < x < 2 \\\\\n",
    "0,             & \\text{elsewhere} \n",
    "\\end{cases}\n",
    "\\end{equation}\n",
    "\n",
    "This is a fairly simple function to integrate analytically.  But we can use\n",
    "Python's `scipy` library to integrate it numerically and `NumPy` to\n",
    "perform the calculations in a vectorized manner.  Lets\n",
    "first define a vectorized function in python for our pdf:"
   ]
  },
  {
   "cell_type": "code",
   "execution_count": 24,
   "metadata": {
    "ExecuteTime": {
     "end_time": "2019-11-18T14:31:14.652088Z",
     "start_time": "2019-11-18T14:31:14.647098Z"
    }
   },
   "outputs": [],
   "source": [
    "# define f(x) to implement the given PDF for the continuous random variable\n",
    "def f(x):\n",
    "    return np.where(\n",
    "        # if -1 < x < 2\n",
    "        (-1 < x) & (x < 2),\n",
    "             \n",
    "        # then function is defined as x^2/3\n",
    "        (x**2)/3,\n",
    "             \n",
    "        # everywhere else function will be 0\n",
    "        0\n",
    "    )"
   ]
  },
  {
   "cell_type": "code",
   "execution_count": 25,
   "metadata": {
    "ExecuteTime": {
     "end_time": "2019-11-18T14:31:14.887913Z",
     "start_time": "2019-11-18T14:31:14.655017Z"
    }
   },
   "outputs": [
    {
     "data": {
      "image/png": "[encoded data removed]",
      "text/plain": [
       "<Figure size 720x576 with 1 Axes>"
      ]
     },
     "metadata": {
      "needs_background": "light"
     },
     "output_type": "display_data"
    }
   ],
   "source": [
    "# lets get an idea of what the function looks like\n",
    "x = np.linspace(-2.0, 3.0, 1000)\n",
    "plt.plot(x, f(x));\n",
    "plt.xlabel('$x$', fontsize=16);\n",
    "plt.ylabel('$f(x)$', fontsize=16);"
   ]
  },
  {
   "cell_type": "markdown",
   "metadata": {},
   "source": [
    "Because this is a piecewise function it is only defined in the range from -1 to 2, and\n",
    "it is 0 everywhere else.  It should be obvious that condition 1 is satisfied, the\n",
    "function is $f(x) \\ge 0$ for all values of the random variable $x$.  One thing that\n",
    "confuses some begining statistis stucents is you may notice it is possible for\n",
    "a condinuous PDF to exceed 1.0 at places of the function.  But this is not incorrect here.\n",
    "The only constraint is that the sum of the function over all possible values must\n",
    "not exceed 1.  So we really need to calculate the area under the curve (not the\n",
    "height of the curve).  As long as the total area adds up to 1, then the\n",
    "PDF can be a valid continuous distribution.\n",
    "\n",
    "Lets check condition 2.  This is only a proper continuous PDF if the sum of the\n",
    "probabilities adds up to 1.  We can integrate the function and check this is true:"
   ]
  },
  {
   "cell_type": "code",
   "execution_count": 26,
   "metadata": {
    "ExecuteTime": {
     "end_time": "2019-11-18T14:31:14.897121Z",
     "start_time": "2019-11-18T14:31:14.889254Z"
    }
   },
   "outputs": [
    {
     "data": {
      "text/plain": [
       "(0.9999999999999843, 5.148329429438547e-09)"
      ]
     },
     "execution_count": 26,
     "metadata": {},
     "output_type": "execute_result"
    }
   ],
   "source": [
    "from scipy.integrate import quad as integrate\n",
    "\n",
    "integrate(f, -np.inf, np.inf)"
   ]
  },
  {
   "cell_type": "markdown",
   "metadata": {},
   "source": [
    "The result may not be exactly 1 since this is a numerical approximation, but it should\n",
    "essentially be 1 to many digits of precision.  \n",
    "\n",
    "Finally we can demonstrate property 3 of a continuous function.  Lets say we want\n",
    "to know the probability that $P(0 \\le X \\le 1)$.  We can determine this probability\n",
    "by calculating the corresponding definite integral for the range of the random variable."
   ]
  },
  {
   "cell_type": "code",
   "execution_count": 27,
   "metadata": {
    "ExecuteTime": {
     "end_time": "2019-11-18T14:31:14.986546Z",
     "start_time": "2019-11-18T14:31:14.898256Z"
    }
   },
   "outputs": [
    {
     "data": {
      "text/plain": [
       "(0.11111111111111112, 1.2335811384723963e-15)"
      ]
     },
     "execution_count": 27,
     "metadata": {},
     "output_type": "execute_result"
    }
   ],
   "source": [
    "integrate(f, 0, 1)"
   ]
  },
  {
   "cell_type": "markdown",
   "metadata": {},
   "source": [
    "If we solved this integral analytically we find that the probability should be\n",
    "$\\frac{x^3}{9} |_0^1 = \\frac{1}{9} - 0 = \\frac{1}{9}$ which confirms our\n",
    "numerical approximation.\n",
    "\n",
    "Finally we can also define the **cumulative distribution function** (CDF) $F(x)$ of\n",
    "a continuous random varaible $X$ with density function $f(x)$\n",
    "\n",
    "\\begin{equation}\n",
    "F(x) = P(X \\le x) \\int_{-\\infty}^{x} f(t) \\; dt \n",
    "\\end{equation}\n",
    "\n",
    "One reason the cumulative distribution function is useful and important is that\n",
    "if you have an expression for it, you can use it to compute the probability\n",
    "of a continuous PDF over some interval like this:\n",
    "\n",
    "\\begin{equation}\n",
    "P(a < X < b) = F(b) - F(a)\n",
    "\\end{equation}\n",
    "\n",
    "In practice, when using numerical methods, even if it is difficult to\n",
    "derive the expression for the cumulative distribution function exactly, we can always\n",
    "easily approximate it by simply defining the CDF function as the integral from\n",
    "$-\\infty$ to $x$ like this:"
   ]
  },
  {
   "cell_type": "code",
   "execution_count": 28,
   "metadata": {
    "ExecuteTime": {
     "end_time": "2019-11-18T14:31:15.073519Z",
     "start_time": "2019-11-18T14:31:14.987738Z"
    }
   },
   "outputs": [],
   "source": [
    "# this function is an example of one that is not naturally vectorized.  It will not work\n",
    "# if we pass it a numpy array array\n",
    "def F_unvectorized(x):\n",
    "    # the scipy numerical integration returns tuple (result, accuracy), we\n",
    "    # only want the result of the cumulative integral from -inf to x to be returned\n",
    "    return integrate(f, -np.inf, x, limit=1000)[0]\n",
    "\n",
    "# we will use the vectorize convenience function to make a vectorized version\n",
    "# NOTE: this function is very inefficient.  It is simply applying the\n",
    "# unvectorized version to every value of the array, as if in a loop.  This is\n",
    "# especially inefficient in this case because it means we are doing lots of\n",
    "# duplicate work calculating the numerical integrals up to x over and over again.\n",
    "F = np.vectorize(F_unvectorized)\n"
   ]
  },
  {
   "cell_type": "markdown",
   "metadata": {},
   "source": [
    "Lets plot the original PDF along with the CDF to visualize the relation of these\n",
    "two function.  Again remember that the cumulative density function will always start at 0\n",
    "and will end up with a sum of 1 as the random variable $x$ increases."
   ]
  },
  {
   "cell_type": "code",
   "execution_count": 29,
   "metadata": {
    "ExecuteTime": {
     "end_time": "2019-11-18T14:31:16.676386Z",
     "start_time": "2019-11-18T14:31:15.076313Z"
    }
   },
   "outputs": [
    {
     "data": {
      "image/png": "[encoded data removed]",
      "text/plain": [
       "<Figure size 720x576 with 1 Axes>"
      ]
     },
     "metadata": {
      "needs_background": "light"
     },
     "output_type": "display_data"
    }
   ],
   "source": [
    "# lets get an idea of what the function looks like\n",
    "x = np.linspace(-2.0, 3.0, 1000)\n",
    "plt.plot(x, f(x), label='probability density function (PDF)');\n",
    "plt.plot(x, F(x), label='cumulative density function (CDF)');\n",
    "plt.xlabel('$x$', fontsize=16);\n",
    "plt.ylabel('$f(x)$', fontsize=16);\n",
    "plt.legend();"
   ]
  },
  {
   "cell_type": "markdown",
   "metadata": {},
   "source": [
    "So the previous result can be calculated using the CDF like this:"
   ]
  },
  {
   "cell_type": "code",
   "execution_count": 30,
   "metadata": {
    "ExecuteTime": {
     "end_time": "2019-11-18T14:31:16.683104Z",
     "start_time": "2019-11-18T14:31:16.677633Z"
    }
   },
   "outputs": [
    {
     "name": "stdout",
     "output_type": "stream",
     "text": [
      "0.11111111111109984\n",
      "1.0\n"
     ]
    }
   ],
   "source": [
    "# the probability of the random variable from 0 to 1 \n",
    "print(F(1) - F(0))\n",
    "\n",
    "# the total density function, just using the range of the piecewise function here\n",
    "# as an example\n",
    "print(F(2) - F(-1))"
   ]
  },
  {
   "cell_type": "markdown",
   "metadata": {},
   "source": [
    "# Some Discrete Probability Distributions\n",
    "\n",
    "## Binomial Distribution\n",
    "\n",
    "We have seen an example of a binomial distribution already.  If an experiment or process consists of repeated\n",
    "trials (that are independent), with two possible outcomes, they are referred to as a **Bernoulli Process**\n",
    "and each trial/outcome is a **Bernoulli trial**.  We can label the two possible outcomes as **success** or\n",
    "**failure**.  Our examples where we flip a coin repeatedly, and count the number of heads that occur is\n",
    "a Bernoulli process where each flip is a Bernoulli trial where we designate a heads as a success.\n",
    "\n",
    "For something to be a Bernoulli process, the following conditions must all be true:\n",
    "\n",
    "1. The experiment consists of repeated trials.\n",
    "2. Each trial results in an outcome that may be classified as a success or a failure.\n",
    "3. The probability of success, denoted by $p$, remains constant from trial to trial.\n",
    "4. The repated trials are independent.  We either sample with replacement, or we use separate items in the\n",
    "   trials that always have the same probability of success.\n",
    "   \n",
    "The number $X$ of successes in $n$ Bernoulli trials is called a **binomial random variable**.  This is\n",
    "a discrete random variable.  The probability distribution of this discrete random variable is called\n",
    "a **binomial distribution**.\n",
    "\n",
    "Before we look at the expression that calculates the probabilities of a binomial distribution, lets see if\n",
    "we can derive it ourself from thinking again about the experiment where we flip a coin 3 times.  As before\n",
    "we will designate a \"head\" as a success, and we will be counting the number of heads (successes) as our\n",
    "random variable.  If we are using a fair coin, then the probability of success sould be $p = 0.5$, or in\n",
    "other words there is a 50/50 chance of a head for each of the Bernoulli trials we perform.  If we are\n",
    "performing 3 coin flips, then $n = 3$ is the number of trials we are conducting in the Bernoulli process.\n",
    "\n",
    "We have already calculated the probabiliti distribution of this described Bernoulli process.  The possible\n",
    "outcomes of the random variable $X$ for $n = 3$ trials are we can have $0, 1, 2$ or $3$ \"successes\" where\n",
    "this means we saw $0, 1, 2$ or $3$ heads when flipping the coin 3 times.\n",
    "\n",
    "As a reminder, the binomial distribution for this experiment where $p = 0.5$ and $n = 3$ is:"
   ]
  },
  {
   "cell_type": "code",
   "execution_count": 31,
   "metadata": {
    "ExecuteTime": {
     "end_time": "2019-11-18T14:31:16.759800Z",
     "start_time": "2019-11-18T14:31:16.684214Z"
    }
   },
   "outputs": [
    {
     "name": "stdout",
     "output_type": "stream",
     "text": [
      "outcome 01:  H  H  H  3 0.12500\n",
      "outcome 02:  H  H  T  2 0.12500\n",
      "outcome 03:  H  T  H  2 0.12500\n",
      "outcome 04:  H  T  T  1 0.12500\n",
      "outcome 05:  T  H  H  2 0.12500\n",
      "outcome 06:  T  H  T  1 0.12500\n",
      "outcome 07:  T  T  H  1 0.12500\n",
      "outcome 08:  T  T  T  0 0.12500\n",
      "\n",
      " x     f(x)\n",
      " 0  0.12500\n",
      " 1  0.37500\n",
      " 2  0.37500\n",
      " 3  0.12500\n"
     ]
    }
   ],
   "source": [
    "coin = ['H', 'T']\n",
    "\n",
    "# number of outcomes possible for bernouli n=3 bernouli trials where each trial has 2 outcomes (success or failure)\n",
    "n = 3\n",
    "N = 2**n \n",
    "\n",
    "outcomes = list(itertools.product(coin, repeat=n))\n",
    "X = np.zeros(4) # calculate the final discrete probability distribution by summing up probability of events\n",
    "\n",
    "# display the sample space\n",
    "i = 1\n",
    "for (coin1, coin2, coin3) in outcomes:\n",
    "    successes = np.sum([coin1 == 'H', coin2 == 'H', coin3 == 'H'])\n",
    "    \n",
    "    print(\"outcome %02d: %2s %2s %2s %2d %0.5f\" % (i, coin1, coin2, coin3, successes, 1.0/N))\n",
    "    X[successes] += 1.0 / N\n",
    "    i += 1\n",
    "    \n",
    "# display the random variable X and f(x)\n",
    "print(\"\")\n",
    "print(\"%2s %8s\" % ('x', 'f(x)'))\n",
    "for x in range(4):\n",
    "    print('%2d  %0.5f' % (x, X[x]))"
   ]
  },
  {
   "cell_type": "markdown",
   "metadata": {},
   "source": [
    "The final table represents our discrete binomial random variable probabilities.  There is only 1 way of the\n",
    "8 of getting all successes (or all failures).  Since $p = 0.5$ each of the 8 possible outcomes are equally likely,\n",
    "so since only 1 of the 8 results in $x = 3$ successes (and $x = 0$ successes as well), the probability\n",
    "of those occurring is $0.125$.  Likewsie there are 3 ways to get $x = 1$ head and $x = 2$ heads, so the\n",
    "probability of those random variable outcomes is $0.375$\n",
    "\n",
    "We can use the formula for counting the number of combinations to figure out how many ways out of the 8 outcomes\n",
    "it is possible to come up with each random variable.  For example, for $x = 1$ there are 3 ways of our\n",
    "Bernoulli process ending up with one success: HTT, THT, TTH.  This is the same as asking, given a set of 3\n",
    "trials, how many ways are there of ending up with 1 success in the 3 trials?  The ansewr is $\\binom{3}{1} = 3$.\n",
    "Likewise, for $x = 2$ successes, the possibilities are: HHT, HTH, THH, and $\\binom{3}{2} = 3$ can be used\n",
    "to determine the number of outcomes with 2 successes in 3 trials.  For $x = 0$ and $x = 3$ successes\n",
    "we have TTT and HHH respectively, and the expression $\\binom{3}{0} = 1$ and $\\binom{3}{3} = 1$ will determine\n",
    "the count for these possibilities.\n",
    "\n",
    "In general, given $n$ trials that result in a success or failure, we can count the number of ways of getting $x$\n",
    "successes (our binomial random variables) using the combinitions of $\\binom{n}{x}$ or how to end up with\n",
    "$x$ successes in $n$ trials.  Now we know that the number of possible outcomes will be $2^n$ so for $n = 3$\n",
    "trials, there will be $2^n = 8$ outcomes.  If $p = 0.5$ each of the outcomes is equally likely.  Thus the\n",
    "probability of any one of the outcomes is $\\frac{1}{8}$.  This gives us our fist way of calculating in\n",
    "general the $f(x)$ probabilities for a discrete binomial distribution of $n$ trials where $p = 0.5$\n",
    "so that all outcomes are equally likely:\n",
    "\n",
    "\\begin{equation}\n",
    "f(x) = \\binom{n}{x} \\frac{1}{2^n}\n",
    "\\end{equation}\n",
    "\n",
    "If we use this expression, we can calculate $f(x)$ our binomial distribution for $n = 3$ trials (and actually for\n",
    "any number of $n$ Bernoulli trials):"
   ]
  },
  {
   "cell_type": "code",
   "execution_count": 32,
   "metadata": {
    "ExecuteTime": {
     "end_time": "2019-11-18T14:31:16.824036Z",
     "start_time": "2019-11-18T14:31:16.761113Z"
    }
   },
   "outputs": [
    {
     "name": "stdout",
     "output_type": "stream",
     "text": [
      " x   f(x)\n",
      " 0 0.12500\n",
      " 1 0.37500\n",
      " 2 0.37500\n",
      " 3 0.12500\n"
     ]
    }
   ],
   "source": [
    "n = 3\n",
    "\n",
    "print('%2s %6s' % ('x', 'f(x)'))\n",
    "for x in range(4):\n",
    "    fx = comb(n, x) * (1.0 / 2.0**n )\n",
    "    print('%2d %0.5f' % (x, fx))"
   ]
  },
  {
   "cell_type": "markdown",
   "metadata": {},
   "source": [
    "A few refinements can be made to this expression.  First of all the expression $\\frac{1}{2^n}$ calculates\n",
    "the probability of each of the $N$ outcomes when each is equally likely.  If $n = 1$ there are only 2\n",
    "outcomes, and each has a probability of $\\frac{1}{2^1} = 0.5$.  If $n = 2$ there are 4 outcomes, all\n",
    "equally likely, with a probability of $\\frac{1}{2^2} = 0.25$.  The expression can be rewritten\n",
    "as $\\big( \\frac{1}{2} \\big)^n$.  This is expression works when $p = \\frac{1}{2}$ or the probability of\n",
    "success is equally likely to the probability of failure.  But what if the probability of success and failure\n",
    "are not equal?  Lets say we are throwing an weighted coin, and the probability of getting a\n",
    "head is $p = \\frac{1}{3}$. How does that effect our calculation of the binomial random variable?\n",
    "\n",
    "Lets go back to the case where we perform a single coin flip so $n = 1$.  In that case there are only\n",
    "2 outcomes, either we get a head or a tail.  But there is a $p = \\frac{1}{3}$ chance of getting a head,\n",
    "and a $q = 1 - p = \\frac{2}{3}$ chance of getting a tail.  The discrete binomial distribution for\n",
    "this where $n = 1$ and $p = \\frac{1}{3} is:\n",
    "\n",
    "| x |      f(x)     |\n",
    "|---|---------------|\n",
    "| 1 | $\\frac{1}{3}$ |\n",
    "| 0 | $\\frac{2}{3}$ |\n",
    "\n",
    "How about for the case where $n = 2$.  In this case the number of successes can be either $0, 1$ or $2$.\n",
    "What is the probability of getting 2 successes, or flipping 2 heads?  We can use the same concept of\n",
    "the multplicaiton rule we saw before to determine the number of outcomes.  In this case 1 in 3 times\n",
    "we would get a head on our first flip, but then in only 1 in 3 times where we got a head the first time\n",
    "would we then get a head on our second flip as well.  The probability of these occurring in sequence\n",
    "is going to be $\\frac{1}{3} \\cdot \\frac{1}{3} = \\frac{1}{9}$.  By the same argument the probability\n",
    "of getting 2 tails for this weighted coin is going to be $\\frac{2}{3} \\cdot \\frac{2}{3} = \\frac{4}{9}$\n",
    "\n",
    "Now how about the case when $p = \\frac{1}{3}$ of getting 1 success.  For $n = 2$ trials this happens\n",
    "for 2 of the outcomes: HT, TH. The probability of these happenning by the multiplicaiton property of\n",
    "probabilities is going to be $p \\cdot q = \\frac{1}{3} \\cdot \\frac{2}{3} = \\frac{2}{9}$.  But notice\n",
    "having 1 success can happen in 2 different ways, thus we need to multiply $2 \\cdot \\frac{2}{9} = \\frac{4}{9}$\n",
    "to get the final probability of getting $x = 1$ success.\n",
    "\n",
    "So to summarize so far, for $n = 2$ trials of an unfair coin with a probability of success of $p = \\frac{1}{3}$\n",
    "and a probability of failure of $q = 1 - p = \\frac{2}{3}$, we will get the following outcomes:\n",
    "\n",
    "| outcome | coin1 | coin2 | $x$ |  probability of outcome |\n",
    "|---------|-------|-------|-----|------------------------------------------------|\n",
    "|   1     |   H   |   H   |  2  | $\\frac{1}{3} \\cdot \\frac{1}{3} = \\frac{1}{9} $ |\n",
    "|   2     |   H   |   T   |  1  | $\\frac{1}{3} \\cdot \\frac{2}{3} = \\frac{2}{9} $ |\n",
    "|   3     |   T   |   H   |  1  | $\\frac{2}{3} \\cdot \\frac{1}{3} = \\frac{2}{9} $ |\n",
    "|   4     |   T   |   T   |  0  | $\\frac{2}{3} \\cdot \\frac{2}{3} = \\frac{4}{9} $ |\n",
    "\n",
    "The discrete binomial distribution table then for $n = 2$ with a probability of success of $p = \\frac{1}{3}$\n",
    "will be:\n",
    "\n",
    "|   $x$   |   $f(x)$  |\n",
    "|---------|-----------|\n",
    "|    2    | $\\frac{1}{9}$ |\n",
    "|    1    | $\\frac{4}{9}$ |\n",
    "|    0    | $\\frac{4}{9}$ |\n",
    "\n",
    "In general, to calculate the probability of an outcome, we need the following expression:\n",
    "\n",
    "\\begin{equation}\n",
    "p^x q^{n-x}\n",
    "\\end{equation}\n",
    "\n",
    "Here $p$ is the probability of success, and $q = 1 - p$ is its inverse, or the probability of failure.  For\n",
    "$x$ successes, the probability will be $p^x$ of them occurring, and since $n-x$ is an expression for the number\n",
    "of failures $q^{n-x}$ is the probability of seeing that many failures.\n",
    "\n",
    "This leads to the final general expression for the discrete binomial distribution:\n",
    "\n",
    "\\begin{equation}\n",
    "b(x; n, p) = \\binom{n}{x} p^x q^{n-x}, x = 0, 1, 2, \\cdots, n\n",
    "\\end{equation}\n",
    "\n",
    "Here we have renamed our distribution function $b()$.  The parameter $x$ is the count of the number of successes\n",
    "we want to calculate the probability of.  $n$ and $p$ are meta-parameters of the Bernoulli process, where $n$\n",
    "is the number of Bernoulli trials to conduct and $p$ is the probability of getting a success in a given trial.\n",
    "$q$ is not given as a meta parameter, but implicitly $q$ is the probability of failure, and it is the\n",
    "complement of $p$, $q = 1 - p$.\n",
    "\n",
    "Using this expression, any repeated experiment of Bernoulli trials, where the trials are independent of one another,\n",
    "and there are only 2 outcomes that we label as success or failure for each trial, can be modeled and its\n",
    "discrete probability distribution determined from the binomial distribution equation."
   ]
  },
  {
   "cell_type": "markdown",
   "metadata": {},
   "source": [
    "**Example: Binomial distribution in practice**\n",
    "\n",
    "Lets perform a quick example with a somewhat more realistic/useful premise.\n",
    "\n",
    "The probability of surviving a shock test is $\\frac{3}{4}$.  If 4 components are selected randomly\n",
    "for testing using the shock test, and if we assume the results of testing one component are completely\n",
    "independent of testing any of the others, then each shock test is a Bernoulli trial, and the\n",
    "binomial distribution equation governs the probabilities of this testing.\n",
    "\n",
    "First of all, lets calculate the probabilities by hand by enumerating the outcomes and using the\n",
    "multiplication rule of probabilities to determine the binomial distribution.  For this example,\n",
    "we have $n = 5$ trials, and $p = \\frac{3}{4}$ is the probability of success, where success is surviving\n",
    "the shock test, and $q = \\frac{1}{4}$ is the probability of failing the shock test.  The\n",
    "full set of possible outcomes, with the corresponding random variable $x$ the count of the number of\n",
    "successes, and the probability of each outcome looks like this:\n",
    "\n"
   ]
  },
  {
   "cell_type": "code",
   "execution_count": 33,
   "metadata": {
    "ExecuteTime": {
     "end_time": "2019-11-18T14:31:16.909704Z",
     "start_time": "2019-11-18T14:31:16.825306Z"
    }
   },
   "outputs": [
    {
     "name": "stdout",
     "output_type": "stream",
     "text": [
      "outcome 01: Survived Survived Survived Survived  4 0.31641\n",
      "outcome 02: Survived Survived Survived   Failed  3 0.10547\n",
      "outcome 03: Survived Survived   Failed Survived  3 0.10547\n",
      "outcome 04: Survived Survived   Failed   Failed  2 0.03516\n",
      "outcome 05: Survived   Failed Survived Survived  3 0.10547\n",
      "outcome 06: Survived   Failed Survived   Failed  2 0.03516\n",
      "outcome 07: Survived   Failed   Failed Survived  2 0.03516\n",
      "outcome 08: Survived   Failed   Failed   Failed  1 0.01172\n",
      "outcome 09:   Failed Survived Survived Survived  3 0.10547\n",
      "outcome 10:   Failed Survived Survived   Failed  2 0.03516\n",
      "outcome 11:   Failed Survived   Failed Survived  2 0.03516\n",
      "outcome 12:   Failed Survived   Failed   Failed  1 0.01172\n",
      "outcome 13:   Failed   Failed Survived Survived  2 0.03516\n",
      "outcome 14:   Failed   Failed Survived   Failed  1 0.01172\n",
      "outcome 15:   Failed   Failed   Failed Survived  1 0.01172\n",
      "outcome 16:   Failed   Failed   Failed   Failed  0 0.00391\n",
      "\n",
      " x     f(x)\n",
      " 0  0.00391\n",
      " 1  0.04688\n",
      " 2  0.21094\n",
      " 3  0.42188\n",
      " 4  0.31641\n",
      "Sum:  1.0\n"
     ]
    }
   ],
   "source": [
    "test = ['Survived', 'Failed'] # where Survived is a successful test\n",
    "\n",
    "# number of outcomes possible for bernouli n=4 bernouli trials where each trial has 2 outcomes (success or failure)\n",
    "n = 4\n",
    "N = 2**n \n",
    "p = 3.0/4.0 # probability of success, surviving the shock test\n",
    "q = 1.0 - p # probability of failure\n",
    "\n",
    "outcomes = list(itertools.product(test, repeat=n))\n",
    "X = np.zeros(n+1) # calculate the final discrete probability distribution by summing up probability of events\n",
    "\n",
    "# display the sample space\n",
    "i = 1\n",
    "for (test1, test2, test3, test4) in outcomes:\n",
    "    successes = np.sum([test1 == 'Survived', test2 == 'Survived', test3 == 'Survived', test4 == 'Survived'])\n",
    "    probability = p**successes * q**(n - successes)\n",
    "    print(\"outcome %02d: %8s %8s %8s %8s %2d %0.5f\" % (i, test1, test2, test3, test4, successes, probability))\n",
    "    X[successes] += probability\n",
    "    i += 1\n",
    "    \n",
    "# display the random variable X and f(x)\n",
    "print(\"\")\n",
    "sum = 0.0 # probabilities should sum up to 1.0\n",
    "print(\"%2s %8s\" % ('x', 'f(x)'))\n",
    "for x in range(n+1):\n",
    "    print('%2d  %0.5f' % (x, X[x]))\n",
    "    sum += X[x]\n",
    "print('Sum: ', sum)"
   ]
  },
  {
   "cell_type": "markdown",
   "metadata": {},
   "source": [
    "This is what we get if we enumerate the outcomes by hand and sum up the probabilities.  Assuming we plugged in\n",
    "our numbers correctly when generating the probabilities and all outcomes by hand here, we should get the\n",
    "same result for the final discrete binomial distribution.  We could make our own function:\n"
   ]
  },
  {
   "cell_type": "code",
   "execution_count": 34,
   "metadata": {
    "ExecuteTime": {
     "end_time": "2019-11-18T14:31:17.013586Z",
     "start_time": "2019-11-18T14:31:16.910926Z"
    }
   },
   "outputs": [],
   "source": [
    "def binomial_distribution(x, n, p):\n",
    "    \"\"\"Calculate the binomial distribution for the random variable x.  This function is vectorized,\n",
    "    so x can be an array of values, but x must contain discrete integers in the range [0, n].\n",
    "    \n",
    "    Parameters\n",
    "    ----------\n",
    "    x - random bernouli variable, count of number of successes we should determine probability of getting\n",
    "    n - a meta parameter, this should be a scalar value which is the number of bernouli trials in the experiemt\n",
    "    p - a meta parameter, this should be a scalar value with is the probability of success.  The probability\n",
    "        of failure is the complement of this value q = 1 - p\n",
    "    \"\"\"\n",
    "    # determine probability of failure\n",
    "    q = 1.0 - p\n",
    "    \n",
    "    # calculate probability of random variable(s) x using binomial distribution formula\n",
    "    # we assume that the function for calculations of combination of items n choose x has been\n",
    "    # imported and named comb() here\n",
    "    return comb(n, x) * p**x * q**(n-x)"
   ]
  },
  {
   "cell_type": "code",
   "execution_count": 35,
   "metadata": {
    "ExecuteTime": {
     "end_time": "2019-11-18T14:31:17.124659Z",
     "start_time": "2019-11-18T14:31:17.014682Z"
    }
   },
   "outputs": [
    {
     "name": "stdout",
     "output_type": "stream",
     "text": [
      "[0 1 2 3 4] [0.00390625 0.046875   0.2109375  0.421875   0.31640625]\n"
     ]
    }
   ],
   "source": [
    "n = 4 # number of trials\n",
    "p = 3.0/4.0 # probability of success\n",
    "x = np.arange(0, n+1)\n",
    "print(x, binomial_distribution(x, n, p))"
   ]
  },
  {
   "cell_type": "markdown",
   "metadata": {},
   "source": [
    "Of course we should probably use profesionally developed libraries and functions for working wit standard\n",
    "distributions.  `scipy.stats` has functions for computing the probability mass functions (PMF) and cumulative\n",
    "mass functions (CMF) of the binomial and other distributions we will use in this review.  To use the binomial\n",
    "functions, do the following:"
   ]
  },
  {
   "cell_type": "code",
   "execution_count": 36,
   "metadata": {
    "ExecuteTime": {
     "end_time": "2019-11-18T14:31:17.206282Z",
     "start_time": "2019-11-18T14:31:17.126054Z"
    }
   },
   "outputs": [
    {
     "name": "stdout",
     "output_type": "stream",
     "text": [
      " x:     h(x)\n",
      " 0: 0.00390625\n",
      " 1: 0.04687500\n",
      " 2: 0.21093750\n",
      " 3: 0.42187500\n",
      " 4: 0.31640625\n",
      "sum: 1.00000000\n"
     ]
    }
   ],
   "source": [
    "from scipy.stats import binom\n",
    "\n",
    "n = 4 # number of trials\n",
    "p = 3.0/4.0 # probability of success\n",
    "x = np.arange(0, n+1)\n",
    "\n",
    "# the pmf or probability mass function\n",
    "b = binom(n, p)\n",
    "\n",
    "sum = 0.0\n",
    "print('%2s: %8s' % ('x', 'h(x)'))\n",
    "for x in np.arange(n+1):\n",
    "    print('%2d: %0.8f' % (x, b.pmf(x)))\n",
    "    sum += b.pmf(x)\n",
    "print('sum: %0.8f' % sum)"
   ]
  },
  {
   "cell_type": "code",
   "execution_count": 37,
   "metadata": {
    "ExecuteTime": {
     "end_time": "2019-11-18T14:31:17.442473Z",
     "start_time": "2019-11-18T14:31:17.207526Z"
    }
   },
   "outputs": [
    {
     "data": {
      "image/png": "[encoded data removed]",
      "text/plain": [
       "<Figure size 720x576 with 1 Axes>"
      ]
     },
     "metadata": {
      "needs_background": "light"
     },
     "output_type": "display_data"
    }
   ],
   "source": [
    "# plot the discrete binomial distribution as a histogram\n",
    "x = np.arange(n+1)\n",
    "plt.bar(x, b.pmf(x), color='lightblue', width=1.0, edgecolor='black', tick_label=x);\n",
    "plt.xlabel('Binomial random variable $x$ (number of successes)', fontsize=16);\n",
    "plt.ylabel('$f(x)$ PMF probability', fontsize=16);\n",
    "plt.title('Probability Mass Function of Binomial Distribution\\nwith n=%d trials and p=%f of success' % (n, p), fontsize=20);"
   ]
  },
  {
   "cell_type": "code",
   "execution_count": 38,
   "metadata": {
    "ExecuteTime": {
     "end_time": "2019-11-18T14:31:17.449728Z",
     "start_time": "2019-11-18T14:31:17.444802Z"
    }
   },
   "outputs": [
    {
     "name": "stdout",
     "output_type": "stream",
     "text": [
      "[0 1 2 3 4] [0.00390625 0.05078125 0.26171875 0.68359375 1.        ]\n"
     ]
    }
   ],
   "source": [
    "# the cmf or cumulative distribution (mass) function\n",
    "print(x, binom.cdf(x, n, p))"
   ]
  },
  {
   "cell_type": "code",
   "execution_count": 39,
   "metadata": {
    "ExecuteTime": {
     "end_time": "2019-11-18T14:31:17.676390Z",
     "start_time": "2019-11-18T14:31:17.451203Z"
    }
   },
   "outputs": [
    {
     "data": {
      "image/png": "[encoded data removed]",
      "text/plain": [
       "<Figure size 720x576 with 1 Axes>"
      ]
     },
     "metadata": {
      "needs_background": "light"
     },
     "output_type": "display_data"
    }
   ],
   "source": [
    "# plot the discrete binomial cumulative distribution as a histogram\n",
    "plt.bar(x, b.cdf(x), color='lightblue', width=1.0, edgecolor='black', tick_label=x);\n",
    "plt.xlabel('Binomial random variable $x$ (number of successes)', fontsize=16);\n",
    "plt.ylabel('$f(x)$ PMF probability', fontsize=16);\n",
    "plt.title('Cumulative Distribution (Mass) Function of Binomial Distribution\\nwith n=%d trials and p=%f of success' % (n, p), fontsize=20);"
   ]
  },
  {
   "cell_type": "markdown",
   "metadata": {},
   "source": [
    "## Hypergeometric Distribution\n",
    "\n",
    "All trials of a binomial distribution must be indepenent, such as sampling with replacement from a deck of cards,\n",
    "or flipping the same coin multiple times.  However, there are many types of processes or experiments where\n",
    "successive trials are not independent, and we often want to model the probability distributions of such\n",
    "dependent processes.\n",
    "\n",
    "In a **hypergeometric expereiment** we are interested in the probability of selecting $x$ successes from\n",
    "$k$ items labeled successes.  We will perform $n$ trials.  We will be selecting from a sample with a total\n",
    "number $N$ of items, thus if there are $k$ items in the collection that are labeled as successes, there\n",
    "are $N-k$ items in there that are failures.  Repeated trials are not independent in this case, because\n",
    "when we take an item out we do not replace it, so removing items effect the subsequent probability of\n",
    "drawing successful or failure items from the collection.\n",
    "\n",
    "The hypergeometric experiment possesses the following two properties:\n",
    "1. A random sample of size $n$ is selected without replacement from the $N$ items.\n",
    "2. Of the $N$ items, $k$ may be classified as successes and $N - k$ are classified as failures.\n",
    "\n",
    "The number $X$ of successes of a hypergeometric experiment is called a **hypergeometric random variable**.\n",
    "This probability distribution is again discrete and is called the **hypergeometric distribution**).\n",
    "\n",
    "Instead of deriving the expressing for the hypergeometic distribution, lets just jump right to it this time.\n",
    "A hypergeometric random variable $X$ where $x$ is the number of successes in a random sample of size $n$\n",
    "from $N$ items of which $k$ are labeled **success** and $N - k$ are labeled **failure** is:\n",
    "\n",
    "\\begin{equation}\n",
    "h(x; N, n, k) = \\frac{\\binom{k}{x} \\binom{N - k}{n - x} }{ \\binom{N}{n} }\n",
    "\\end{equation}\n",
    "\n",
    "A few points about this expression.  The bottom of the fraction should make sense to you.  Given\n",
    "we have a collection of $N$ items and we are sampling $n$ of them, $\\binom{N}{n}$ tells us how\n",
    "many possible outcomes there are of choosing $n$ items from the collection of $N$ items (without\n",
    "regard to the order of the items chosen).  At the top, the expression $\\binom{k}{x}$ is the number\n",
    "of ways of choosing $x$ successes from the $k$ successful items in the collection.  In the other part\n",
    "of the numerator, if we are calculating the probability of getting $x$ successes, this means we will\n",
    "also get $n - x$ failures.  And as we already mentioned there are $N - k$ items in collection that are\n",
    "failure items.  So the expression $\\binom{N - k}{n - x}$ is counting the number of ways of getting some\n",
    "number of failures out of the collection with a total of $N - k$ failure items.  By the multiplicaiton\n",
    "rule, the product of these 2 expressions will be the total number of ways of sampling $x$ successes\n",
    "and $n - x$ failures from the collection.\n",
    "\n",
    "**Example: hypergeometric distribution**\n",
    "\n",
    "Lets make the discussion a bit more concrete by looking at an example application.  Lets say\n",
    "we have a bag with 20 white balls, which will be labeled as the successes, and 80 black balls\n",
    "which are our failures.  So the collection size is $N = 100$.  Lets say we are drawing samples\n",
    "of size $n = 5$ without replacement.  What is the probability of getting 3 white ball successes\n",
    "in a sample of size 5 without replacement?  We can just directly plug in the values to the\n",
    "hypergeometric distribution equation to get our answer:\n",
    "\n",
    "\\begin{equation}\n",
    "h(x=3; N=100, n=5, k=20) = \\frac{ \\binom{20}{3} \\binom{80}{2} }{ \\binom{100}{5} } \\approx 0.047848\n",
    "\\end{equation}"
   ]
  },
  {
   "cell_type": "code",
   "execution_count": 40,
   "metadata": {
    "ExecuteTime": {
     "end_time": "2019-11-18T14:31:17.682532Z",
     "start_time": "2019-11-18T14:31:17.677731Z"
    }
   },
   "outputs": [
    {
     "data": {
      "text/plain": [
       "0.04784856773074741"
      ]
     },
     "execution_count": 40,
     "metadata": {},
     "output_type": "execute_result"
    }
   ],
   "source": [
    "(comb(20,3) * comb(80,2)) / comb(100,5)"
   ]
  },
  {
   "cell_type": "markdown",
   "metadata": {},
   "source": [
    "This tells us that the probability of drawing 3 white balls is pretty small, less than 5% in this case.\n",
    "This should make intuitive sense since the probability is only 0.2 of drawing a white ball, and we have\n",
    "to draw more of them than black balls to get 3 successes here.\n",
    "\n",
    "We could again create our own function to compute the hypergeometric distribution.  Though it is best to use\n",
    "the functions from `scipy.stats` again here if you need to work with models of hypergeometric distributions:"
   ]
  },
  {
   "cell_type": "code",
   "execution_count": 41,
   "metadata": {
    "ExecuteTime": {
     "end_time": "2019-11-18T14:31:17.763979Z",
     "start_time": "2019-11-18T14:31:17.683642Z"
    }
   },
   "outputs": [
    {
     "name": "stdout",
     "output_type": "stream",
     "text": [
      " x:     h(x)\n",
      " 0: 0.31930944\n",
      " 1: 0.42014400\n",
      " 2: 0.20734379\n",
      " 3: 0.04784857\n",
      " 4: 0.00514826\n",
      " 5: 0.00020593\n",
      "sum: 1.00000000\n"
     ]
    }
   ],
   "source": [
    "from scipy.stats import hypergeom\n",
    "\n",
    "n = 5 # number of trials\n",
    "N = 100 # number of items in collection we are sampling from\n",
    "n = 5 # number of samples we will take without replacement from the N items\n",
    "k = 20 # number of \"success\" items in collection.  There are thus N - k \"failure\" items in the collection\n",
    "\n",
    "\n",
    "# the pmf or probability mass function\n",
    "h = hypergeom(N, k, n)\n",
    "sum = 0.0\n",
    "print('%2s: %8s' % ('x', 'h(x)'))\n",
    "for x in np.arange(n+1):\n",
    "    print('%2d: %0.8f' % (x, h.pmf(x)))\n",
    "    sum += h.pmf(x)\n",
    "print('sum: %0.8f' % sum)"
   ]
  },
  {
   "cell_type": "code",
   "execution_count": 42,
   "metadata": {
    "ExecuteTime": {
     "end_time": "2019-11-18T14:31:18.053983Z",
     "start_time": "2019-11-18T14:31:17.765101Z"
    }
   },
   "outputs": [
    {
     "data": {
      "image/png": "[encoded data removed]",
      "text/plain": [
       "<Figure size 720x576 with 1 Axes>"
      ]
     },
     "metadata": {
      "needs_background": "light"
     },
     "output_type": "display_data"
    }
   ],
   "source": [
    "# plot the discrete hypergeometic distribution as a histogram\n",
    "x = np.arange(n+1)\n",
    "plt.bar(x, h.pmf(x), color='lightblue', width=1.0, edgecolor='black', tick_label=x);\n",
    "plt.xlabel('Hypergeometric random variable $x$ (number of successes)', fontsize=16);\n",
    "plt.ylabel('$f(x)$ PMF probability', fontsize=16);\n",
    "plt.title('Probability Mass Function of Hypergeometric Distribution\\nwith n=%d trials, k=%d successes in collection N=%d' % (n, k, N), fontsize=20);"
   ]
  },
  {
   "cell_type": "code",
   "execution_count": 43,
   "metadata": {
    "ExecuteTime": {
     "end_time": "2019-11-18T14:31:18.222539Z",
     "start_time": "2019-11-18T14:31:18.055335Z"
    }
   },
   "outputs": [
    {
     "data": {
      "image/png": "[encoded data removed]",
      "text/plain": [
       "<Figure size 720x576 with 1 Axes>"
      ]
     },
     "metadata": {
      "needs_background": "light"
     },
     "output_type": "display_data"
    }
   ],
   "source": [
    "# plot the discrete hypergeometric cumulative distribution as a histogram\n",
    "plt.bar(x, h.cdf(x), color='lightblue', width=1.0, edgecolor='black', tick_label=x);\n",
    "plt.xlabel('Hypergeometric random variable $x$ (number of successes)', fontsize=16);\n",
    "plt.ylabel('$f(x)$ CMF probability', fontsize=16);\n",
    "plt.title('Cumulative Distribution (Mass) Function of Hypergeometric Distribution\\nwith n=%d trials, k=%d successes in collection N=%d' % (n, k, N), fontsize=20);"
   ]
  },
  {
   "cell_type": "markdown",
   "metadata": {},
   "source": [
    "This problem is complicated enough that we might want to check empirically if we do in fact end up\n",
    "with the same results if we actually run this experiment.  Again we could get a bag and 100 balls, and\n",
    "draw lots of samples, recording the observed distribution of the number of white ball \"successes\" we\n",
    "observe.  But if we trust our random number generator sufficiently, we can also simulate this experiment\n",
    "so that we don't have to run it in real life.\n",
    "\n",
    "We will create a representation that has 20 white and 80 black balls, and randomly sample 5 balls without\n",
    "replacement from the simulated bag.  We will run this experiment many times and count up the number of\n",
    "successes to empirically estimate our random hypergeometric variable $X$."
   ]
  },
  {
   "cell_type": "code",
   "execution_count": 44,
   "metadata": {
    "ExecuteTime": {
     "end_time": "2019-11-18T14:31:18.958445Z",
     "start_time": "2019-11-18T14:31:18.224132Z"
    }
   },
   "outputs": [
    {
     "name": "stdout",
     "output_type": "stream",
     "text": [
      " x:     h(x)\n",
      " 0: 0.32260000\n",
      " 1: 0.41910000\n",
      " 2: 0.20470000\n",
      " 3: 0.04790000\n",
      " 4: 0.00520000\n",
      " 5: 0.00050000\n"
     ]
    }
   ],
   "source": [
    "# hypogemetric experiment parameters\n",
    "N = 100 # number of items in the bag\n",
    "k = 20 # number of white balls, or \"successes\" in the bag\n",
    "b = N - k # bumber of black balls, or \"failures\" in the bag\n",
    "n = 5 # number of samples to take for each trial without replacement\n",
    "\n",
    "# lots of ways to create a representation of our bag.  Here is a fairly readable/symbolic way\n",
    "bag = np.array(['white'] * k + ['black'] * b)\n",
    "#print(bag)\n",
    "#print(len(bag))\n",
    "#print(bag.shape)\n",
    "\n",
    "# perform a large number of trials or experiments where we draw the needed sample\n",
    "NUM_TRIALS = 10000\n",
    "X = np.zeros(n+1) # will hold the counts of the number of successes we see\n",
    "for trial in range(NUM_TRIALS):\n",
    "    # we can use np.random.choice() to sample randomly from a list without replacement\n",
    "    sample = np.random.choice(bag, size=n, replace=False)\n",
    "    successes = np.sum(sample == 'white')\n",
    "    #print(trial, sample, successes)\n",
    "    X[successes] += 1\n",
    "    \n",
    "# display the results as a table\n",
    "print('%2s: %8s' % ('x', 'h(x)'))\n",
    "for x in range(n+1):\n",
    "    probability = X[x] / float(NUM_TRIALS) \n",
    "    print('%2d: %0.8f' % (x, probability))"
   ]
  },
  {
   "cell_type": "markdown",
   "metadata": {},
   "source": [
    "You can compare our imperical results with the theoretical distribution we get from the\n",
    "hypergeometric pmf above.  If you want more accuracy in the estimate of the probabilities, increate\n",
    "the NUM_TRIALS so we sample more times."
   ]
  },
  {
   "cell_type": "markdown",
   "metadata": {},
   "source": [
    "## Poisson Distribution\n",
    "\n",
    "The final discrete distribution we will look at briefly is the Poisson distribution.  The Poisson distribution\n",
    "is important in computer science as a lot of things can be modeled using Queueing theory, and the arrival of\n",
    "items into systems are often goverened by Poisson distributions.\n",
    "\n",
    "The discrete Poisson experiment is anohter example of a process goverened by independeM, n, Nnt processes (like the\n",
    "binomial experiment).  Experiments yielding (discrete) numerical values of a random variable $X$ counting\n",
    "the number of outcomes occurring during a given time interval or in a specified region, are\n",
    "called **Poisson experiments**.\n",
    "\n",
    "For a something to be governed by a Poisson process, all of the following properties must be true:\n",
    "\n",
    "1. The number of outcomes occurring in one time interval or specified region of space is independent of the\n",
    "   number that occur in any other disjoing time interval or region.  Or in other words, what happens\n",
    "   duing a past time period has no effect or no predictive power on what will happen next (they are\n",
    "   disjoint, or independent).\n",
    "2. The probability that a single outcome will occur during a very short time interval or in a small region\n",
    "   is proportional to the length of the time interval or the size of the region, and does not depend\n",
    "   on the number of outcomes occurring outside this time interval or region.\n",
    "3. The probability that more than one outcome will occur in such a short time interval or fall in such\n",
    "   a small region is negligible.\n",
    "   \n",
    "The number $X$ of outcomes occurring during a Poisson experiment is called a **Poisson random variable**,\n",
    "and its probability distribution is called the discrete **Poisson distribution**.\n",
    "\n",
    "The mean number of outcomes in a Poisson process is computed from $\\mu = \\lambda t$, where $t$ is the\n",
    "specific \"time\", \"area\" or \"volume\" of interest.  For a unit time or area of $t = 1$ then, the average\n",
    "arrivals or average count is goverend simply by the variable $\\lambda$\n",
    "\n",
    "The probability distribution of the Poisson random variable $X$, representing the number of outcomes occurring\n",
    "in a given time interval or specified region denoted by $t$ is:\n",
    "\n",
    "\\begin{equation}\n",
    "p(x; \\lambda t) = \\frac{e^{-\\lambda t} (\\lambda t)^x }{x!}, x = 0, 1, 2, \\cdots\n",
    "\\end{equation}\n",
    "\n",
    "where $\\lambda$ is the average number of outcomes per unit time (distance, area, ...).\n",
    "\n",
    "It is not necessary to understand the derivation of the Poisson distribution expression here.  Lets look\n",
    "at an example of using a Poisson distribution to model a Poisson process.\n",
    "\n",
    "**Example: Poisson distribution**\n",
    "\n",
    "Given that 10 customers arrive per hour at the bank, and that customer arrival is governed\n",
    "by a poisson process, calculate and show the expected distribution of arrivals per hour.\n",
    "\n",
    "Here $t = 1$ hour and is specified in unit time so $\\lambda = 10$ is the only parameter governing the\n",
    "Poisson discrete distribution.  As before, we can use `scipy.stats` functions to find the\n",
    "pmf and cdf for a Poisson probability distribution.\n",
    "\n",
    "One difference from our previous distributions, for both the binomial and the hypergeometric\n",
    "distribution, the number of successes was bounded by the number of trials performed.  So if\n",
    "we were performing $n$ trials or drawing $n$ samples, the possible range of the count of successes\n",
    "is from $0$ to $n$.  However in theory a Poisson distribution has no upper bound.  Though\n",
    "10 people arrive on average per hour, in theory we can have a huge rush on the bank because\n",
    "of a collapse of the stock market, and see 100 or 1000 or more arrivals.  The Poisson process\n",
    "is a type of exponential process.  It is still discrete, but these unusual large events can be\n",
    "modeled and can occur occassionally."
   ]
  },
  {
   "cell_type": "code",
   "execution_count": 45,
   "metadata": {
    "ExecuteTime": {
     "end_time": "2019-11-18T14:31:19.061569Z",
     "start_time": "2019-11-18T14:31:18.959560Z"
    }
   },
   "outputs": [
    {
     "name": "stdout",
     "output_type": "stream",
     "text": [
      " x:     h(x)\n",
      " 0: 0.00004540\n",
      " 1: 0.00045400\n",
      " 2: 0.00227000\n",
      " 3: 0.00756665\n",
      " 4: 0.01891664\n",
      " 5: 0.03783327\n",
      " 6: 0.06305546\n",
      " 7: 0.09007923\n",
      " 8: 0.11259903\n",
      " 9: 0.12511004\n",
      "10: 0.12511004\n",
      "11: 0.11373640\n",
      "12: 0.09478033\n",
      "13: 0.07290795\n",
      "14: 0.05207710\n",
      "15: 0.03471807\n",
      "16: 0.02169879\n",
      "17: 0.01276400\n",
      "18: 0.00709111\n",
      "19: 0.00373216\n",
      "20: 0.00186608\n",
      "21: 0.00088861\n",
      "22: 0.00040391\n",
      "23: 0.00017561\n",
      "24: 0.00007317\n",
      "25: 0.00002927\n",
      "sum: 0.99998232\n"
     ]
    }
   ],
   "source": [
    "from scipy.stats import poisson\n",
    "\n",
    "# the average arrivals per hour\n",
    "lmbda = 10 \n",
    "# there is no upper bound on the random variable of a poisson process\n",
    "# but probability will be essentially 0 once we get far above 10\n",
    "n = 25\n",
    "\n",
    "# the pmf or probability mass function\n",
    "p = poisson(lmbda)\n",
    "sum = 0.0\n",
    "print('%2s: %8s' % ('x', 'h(x)'))\n",
    "for x in np.arange(n+1):\n",
    "    print('%2d: %0.8f' % (x, p.pmf(x)))\n",
    "    sum += p.pmf(x)\n",
    "print('sum: %0.8f' % sum)"
   ]
  },
  {
   "cell_type": "code",
   "execution_count": 46,
   "metadata": {
    "ExecuteTime": {
     "end_time": "2019-11-18T14:31:19.390309Z",
     "start_time": "2019-11-18T14:31:19.062841Z"
    }
   },
   "outputs": [
    {
     "data": {
      "image/png": "[encoded data removed]",
      "text/plain": [
       "<Figure size 720x576 with 1 Axes>"
      ]
     },
     "metadata": {
      "needs_background": "light"
     },
     "output_type": "display_data"
    }
   ],
   "source": [
    "# plot the discrete Poisson distribution as a histogram\n",
    "x = np.arange(n+1)\n",
    "plt.bar(x, p.pmf(x), color='lightblue', width=1.0, edgecolor='black', tick_label=x);\n",
    "plt.xlabel('Poisson random variable $x$ (number of arrivals)', fontsize=16);\n",
    "plt.ylabel('$f(x)$ PMF probability', fontsize=16);\n",
    "plt.title('Probability Mass Function of Poisson Distribution\\nwith lambda=%d average arrivals' % (lmbda), fontsize=20);"
   ]
  },
  {
   "cell_type": "markdown",
   "metadata": {},
   "source": [
    "# Some Continuous Probability Distributions\n",
    "\n",
    "As we discussed above, a continuous probability distribution is one defined on a continuous random variable\n",
    "$X$.  Since there are infinitely many real numberd values on a number line, say from 0 to 1, that means\n",
    "that the probability will be 0 of a continuous random variable being a particular value.  But continuous\n",
    "probability distributions do make sense.  The sum of the area under the function governing the\n",
    "continuous random distribution must add up to 1 to be a proper probability distribution.  Then we can\n",
    "calculate probabilities of the random variable, for example the probability that the random variable\n",
    "is between $\\frac{1}{3}$ and $\\frac{2}{3}$ is a well posed question when working with continuous\n",
    "probability distributions.\n",
    "\n",
    "## Uniform Distribution\n",
    "\n",
    "We will first look at the simple but still useful uniform continuous probability distribution.  In a sense we\n",
    "have seen some examples of a discrete uniform distribution.  For example, when rolling a fair dice, there is\n",
    "a uniform probability of any of the 6 numbers coming face up.  Thus the probability of each of these equally\n",
    "likely outcomes, as we have seen, is $\\frac{1}{6}$ in the case of a fair dice.  We could simulate\n",
    "a fair dice using the `np.random.choice()` function again, as it samples with a uniform (equal) probability\n",
    "among the items:"
   ]
  },
  {
   "cell_type": "code",
   "execution_count": 47,
   "metadata": {
    "ExecuteTime": {
     "end_time": "2019-11-18T14:31:19.399993Z",
     "start_time": "2019-11-18T14:31:19.391642Z"
    }
   },
   "outputs": [
    {
     "name": "stdout",
     "output_type": "stream",
     "text": [
      "0 1\n",
      "1 6\n",
      "2 2\n",
      "3 2\n",
      "4 5\n",
      "5 6\n",
      "6 1\n",
      "7 5\n",
      "8 5\n",
      "9 4\n",
      "0 6\n",
      "1 3\n",
      "2 2\n",
      "3 5\n",
      "4 3\n",
      "5 6\n",
      "6 5\n",
      "7 3\n",
      "8 2\n",
      "9 3\n"
     ]
    }
   ],
   "source": [
    "# create a dice with faces 1 through 6\n",
    "dice = np.arange(6) + 1 \n",
    "#print(dice)\n",
    "\n",
    "# roll a dice 10 times\n",
    "for roll in range(10):\n",
    "    print(roll, np.random.choice(dice))\n",
    "    \n",
    "    \n",
    "# you can also use np.random.randint() to generate a discrete integer with uniform\n",
    "# probability in a range of values.  This function returns integers in\n",
    "# the half-open interval [low, high), which means it will include low as a random\n",
    "# value, but not high, so to get values 1-6, we need to specify low=1 and high=7\n",
    "# roll a dice 10 times\n",
    "for roll in range(10):\n",
    "    print(roll, np.random.randint(1, 7))"
   ]
  },
  {
   "cell_type": "markdown",
   "metadata": {},
   "source": [
    "The continuous uniform distribution has an equal probability of generating any value in the\n",
    "range $[A, B]$, where $A$ and $B$ are parameters of the continuous uniform distribution.\n",
    "\n",
    "The probability density function (PDF) of the continuous uniform random variable $X$ on the\n",
    "interval $[A, B]$ is:\n",
    "\n",
    "\\begin{equation}\n",
    "f(x; A, B) = \n",
    "\\begin{cases}\n",
    "\\frac{1}{B-A}, & A \\le x \\le B \\\\\n",
    "0, & \\text{elsewhere} \n",
    "\\end{cases}\n",
    "\\end{equation}\n",
    "\n",
    "Lets look first at the easist case of a continuous uniform distribution on the interval $[0, 1]$.\n",
    "By the definitions of a continuous probability density function $f(x)$ the first 2 properties it must have are:\n",
    "\n",
    "1. $f(x) \\ge 0, \\text{for all} x \\in \\mathbb{R}$\n",
    "2. $\\int_{-\\infty}^{\\infty} f(x) \\; dx = 1$ \n",
    "\n",
    "For the piecewise function you can see that property 1 is satisfied.  As long is $A$ is less than $B$\n",
    "their difference will be positive, and thus the function will always be either 0 or a positive fraction.\n",
    "For the interval $[0, 1]$ the density function $f(x) = 1$ when x is between 0 and 1, and it is 0\n",
    "elsewhere.  Lets just create and plot this function:"
   ]
  },
  {
   "cell_type": "code",
   "execution_count": 48,
   "metadata": {
    "ExecuteTime": {
     "end_time": "2019-11-18T14:31:19.504041Z",
     "start_time": "2019-11-18T14:31:19.401279Z"
    }
   },
   "outputs": [],
   "source": [
    "def f(x):\n",
    "    return np.where(\n",
    "        # if 0 < x < 1\n",
    "        (0 <= x) & (x <= 1),\n",
    "             \n",
    "        # then function is defined as 1.0 / (B - A)\n",
    "        1.0,\n",
    "             \n",
    "        # everywhere else function will be 0\n",
    "        0.0\n",
    "    )    "
   ]
  },
  {
   "cell_type": "code",
   "execution_count": 49,
   "metadata": {
    "ExecuteTime": {
     "end_time": "2019-11-18T14:31:19.754070Z",
     "start_time": "2019-11-18T14:31:19.505307Z"
    }
   },
   "outputs": [
    {
     "data": {
      "image/png": "[encoded data removed]",
      "text/plain": [
       "<Figure size 720x576 with 1 Axes>"
      ]
     },
     "metadata": {
      "needs_background": "light"
     },
     "output_type": "display_data"
    }
   ],
   "source": [
    "x = np.linspace(-0.25, 1.25, 1000)\n",
    "plt.plot(x, f(x));\n",
    "plt.xlabel('uniform random variable $x$', fontsize=16);\n",
    "plt.ylabel('$f(x)$ probability density function PDF', fontsize=16);\n",
    "plt.title('continuous Uniform Distribution', fontsize=20);"
   ]
  },
  {
   "cell_type": "markdown",
   "metadata": {},
   "source": [
    "It should be obvious that property 2 is also satisfied from looking at the probability density function.\n",
    "The function forms a box with width of 1 and height of 1 thus the area (and thus total probability\n",
    "density) of the function $f(x) = 1$.\n",
    "\n",
    "We can ask questions like: what is the probability $P(0.4 \\le x \\le 0.6)$  Since the height of the\n",
    "function is always 1, you should se that $P(0.4 \\le x \\le 0.6) = 0.2$.  By property 3 of continuous\n",
    "probability distributions, the integral of the function describing the probability density over this\n",
    "interval should give us the probability:"
   ]
  },
  {
   "cell_type": "code",
   "execution_count": 50,
   "metadata": {
    "ExecuteTime": {
     "end_time": "2019-11-18T14:31:19.763306Z",
     "start_time": "2019-11-18T14:31:19.755296Z"
    }
   },
   "outputs": [
    {
     "data": {
      "text/plain": [
       "(0.19999999999999996, 2.2204460492503127e-15)"
      ]
     },
     "execution_count": 50,
     "metadata": {},
     "output_type": "execute_result"
    }
   ],
   "source": [
    "integrate(f, 0.4, 0.6)"
   ]
  },
  {
   "cell_type": "markdown",
   "metadata": {},
   "source": [
    "We can define uniform distributions for different intervals other than the unit iterval.  For example, for\n",
    "the interval $[-2, 2]$ the function looks like this:"
   ]
  },
  {
   "cell_type": "code",
   "execution_count": 51,
   "metadata": {
    "ExecuteTime": {
     "end_time": "2019-11-18T14:31:19.856605Z",
     "start_time": "2019-11-18T14:31:19.764455Z"
    }
   },
   "outputs": [],
   "source": [
    "def f(x):\n",
    "    return np.where(\n",
    "        # if -2 < x < 2\n",
    "        (-2 <= x) & (x <= 2),\n",
    "             \n",
    "        # then function is defined as 1.0 / (B - A)\n",
    "        1.0 / 4.0,\n",
    "             \n",
    "        # everywhere else function will be 0\n",
    "        0.0\n",
    "    )    "
   ]
  },
  {
   "cell_type": "code",
   "execution_count": 52,
   "metadata": {
    "ExecuteTime": {
     "end_time": "2019-11-18T14:31:20.123599Z",
     "start_time": "2019-11-18T14:31:19.857850Z"
    }
   },
   "outputs": [
    {
     "data": {
      "image/png": "[encoded data removed]",
      "text/plain": [
       "<Figure size 720x576 with 1 Axes>"
      ]
     },
     "metadata": {
      "needs_background": "light"
     },
     "output_type": "display_data"
    }
   ],
   "source": [
    "x = np.linspace(-2.25, 2.25, 1000)\n",
    "plt.plot(x, f(x));\n",
    "plt.xlabel('uniform random variable $x$', fontsize=16);\n",
    "plt.ylabel('$f(x)$ probability density function PDF', fontsize=16);\n",
    "plt.title('continuous Uniform Distribution', fontsize=20);"
   ]
  },
  {
   "cell_type": "markdown",
   "metadata": {},
   "source": [
    "Since the width of the interval is 4, the height of the function is $\\frac{1}{4}$ so that the total area\n",
    "is stil 1.0.  If we want to know the probability of seeing a random number from this distribution in\n",
    "the range from -1 to 1, the probability must be 0.5 (base of 2 and height of 0.25).\n",
    "\n",
    "`scipy.stats` does have a `uniform` object for handling continuous uniform random variables, though\n",
    "it is a bit of an overkill.  Most of the time if you want a random uniform variable, you can use\n",
    "`np.random` functions:"
   ]
  },
  {
   "cell_type": "code",
   "execution_count": 53,
   "metadata": {
    "ExecuteTime": {
     "end_time": "2019-11-18T14:31:20.131267Z",
     "start_time": "2019-11-18T14:31:20.124856Z"
    }
   },
   "outputs": [
    {
     "name": "stdout",
     "output_type": "stream",
     "text": [
      "0 0.010477128995987517\n",
      "1 1.19190535236164\n",
      "2 -0.7254748895585266\n",
      "3 0.04383368509065644\n",
      "4 -1.908598834601007\n",
      "5 0.4608343199251155\n",
      "6 0.04027785360168057\n",
      "7 -1.9069424792279568\n",
      "8 -1.7983712692667728\n",
      "9 -0.8414630214686944\n"
     ]
    }
   ],
   "source": [
    "# draw 10 random numbers from a continuous random uniform distribution using numpy random library\n",
    "for trial in range(10):\n",
    "    print(trial, np.random.uniform(-2, 2))"
   ]
  },
  {
   "cell_type": "code",
   "execution_count": 54,
   "metadata": {
    "ExecuteTime": {
     "end_time": "2019-11-18T14:31:20.383552Z",
     "start_time": "2019-11-18T14:31:20.132366Z"
    }
   },
   "outputs": [
    {
     "data": {
      "image/png": "[encoded data removed]",
      "text/plain": [
       "<Figure size 720x576 with 1 Axes>"
      ]
     },
     "metadata": {
      "needs_background": "light"
     },
     "output_type": "display_data"
    }
   ],
   "source": [
    "# use scipy.stats uniform object to sample from a continuous uniform distribution\n",
    "from scipy.stats import uniform\n",
    "\n",
    "# uniform expects loc and scale, it defaults to loc=0 and scale=1 given uniform distribution on interval [0,1]\n",
    "# to get from [-2, 2] need start loc=2 with a scale of 4\n",
    "f = uniform(-2, 4)\n",
    "\n",
    "# display the pdf using scipy.stats uniform pdf function\n",
    "x = np.linspace(-2.25, 2.25, 1000)\n",
    "plt.plot(x, f.pdf(x));\n",
    "plt.xlabel('uniform random variable $x$', fontsize=16);\n",
    "plt.ylabel('$f(x)$ probability density function PDF', fontsize=16);\n",
    "plt.title('continuous Uniform Distribution', fontsize=20);"
   ]
  },
  {
   "cell_type": "code",
   "execution_count": 55,
   "metadata": {
    "ExecuteTime": {
     "end_time": "2019-11-18T14:31:20.388919Z",
     "start_time": "2019-11-18T14:31:20.384773Z"
    }
   },
   "outputs": [
    {
     "name": "stdout",
     "output_type": "stream",
     "text": [
      "[ 1.30287543  1.27246181  1.42765867 -1.50866549 -1.70234399 -1.5075165\n",
      "  0.55043575  0.78784448  1.526064    0.06085647]\n"
     ]
    }
   ],
   "source": [
    "# we didn't show this before, but scipy.stats distributions can be used to sample randomly from\n",
    "# a distribution.  In this case we want to use the .rvs() function to draw samples.  \n",
    "# rvs() takes a size parameter, so if we want we can draw 10 random samples all at once\n",
    "# from the uniform distribution\n",
    "print(f.rvs(10))"
   ]
  },
  {
   "cell_type": "markdown",
   "metadata": {},
   "source": [
    "It should be clear what we mean by sampling from the uniform distribution here.  It is equally likely to sample\n",
    "any value inside of the interval of the uniform distribution.  So if we sample 1000 points, we would expect them\n",
    "to be \"uniformly\" distributed all along the interval:"
   ]
  },
  {
   "cell_type": "code",
   "execution_count": 56,
   "metadata": {
    "ExecuteTime": {
     "end_time": "2019-11-18T14:31:20.640781Z",
     "start_time": "2019-11-18T14:31:20.390257Z"
    }
   },
   "outputs": [
    {
     "data": {
      "image/png": "[encoded data removed]",
      "text/plain": [
       "<Figure size 720x576 with 1 Axes>"
      ]
     },
     "metadata": {
      "needs_background": "light"
     },
     "output_type": "display_data"
    }
   ],
   "source": [
    "NUM_SAMPLES = 200\n",
    "samples = f.rvs(NUM_SAMPLES)\n",
    "\n",
    "plt.plot(samples, np.ones(NUM_SAMPLES)*0.2, 'bo', alpha=0.1)\n",
    "\n",
    "x = np.linspace(-2.25, 2.25, 1000)\n",
    "plt.plot(x, f.pdf(x));\n",
    "plt.xlabel('uniform random variable $x$', fontsize=16);\n",
    "plt.ylabel('$f(x)$ probability density function PDF', fontsize=16);\n",
    "plt.title('continuous Uniform Distribution', fontsize=20);\n"
   ]
  },
  {
   "cell_type": "markdown",
   "metadata": {},
   "source": [
    "## Normal Distribution\n",
    "\n",
    "The normal distribution (also known as the Gaussian distribution and also as a bell curve) is arguably the most\n",
    "important probability distribution to be familiar with among both discrete and continuous distributions.\n",
    "The probability density function of a continuous normal random variable $X$ with a mean $\\mu$ and a variance $\\sigma^2$\n",
    "is given by:\n",
    "\n",
    "\\begin{equation}\n",
    "n(x; \\mu, \\sigma) = \\frac{1}{ \\sqrt{2 \\pi \\sigma} } e^{- \\frac{1}{2 \\sigma^2} (x - \\mu)^2 }\n",
    "\\end{equation}\n",
    "\n",
    "The normal distribution has the following properties:\n",
    "\n",
    "1. The mode, which is the point on the horizontal axis where the curve is a maximum, occurs at\n",
    "   $x = \\mu$\n",
    "2. The curve is symmetric about a vertical axis through the mean $\\mu$\n",
    "3. The curve has its points of inflection at $x = \\mu \\pm \\sigma$; it is concave downward if\n",
    "   $\\mu - \\sigma < X < \\mu + \\sigma$, and is concave upward otherwise.\n",
    "4. The normal curve approaches the horizontal axis asymptotically as we proceed in either\n",
    "   direction away from the mean.\n",
    "5. The total area under the curve and above the horizontal axis is equal to 1.0\n",
    "\n",
    "The last property is the most important here.  The normal distribution is a proper continuous\n",
    "probability distribution because the equation defining the density function sums up to 1.0\n",
    "under the curve.  By 1 we see that the density function will be at the maximum value \n",
    "at the location $\\mu$, which is the mean of the normal distribution.  The normal distribution\n",
    "never actually reaches a density of 0.0.  As you go towards $-\\infty$ and $+\\infty$ it approaches\n",
    "0, but never actually reaches it, though the total sum of the area under the curve is one when\n",
    "you integrate over the whole interval from $[-\\infty, \\infty]$\n",
    "\n",
    "Lets look at some examples of normal distributions.  First we will jump right to using `scipy.stats`\n",
    "distribution object for the uniform distribution.  Lets plot a standard normal distribution, and\n",
    "ensure that the sum of the area under the distribution is indeed 1.  A standard normal\n",
    "distribution is a normal distribution that has a mean $\\mu = 0$ and a standard deviation $\\sigma = 1$."
   ]
  },
  {
   "cell_type": "code",
   "execution_count": 57,
   "metadata": {
    "ExecuteTime": {
     "end_time": "2019-11-18T14:31:20.646710Z",
     "start_time": "2019-11-18T14:31:20.641963Z"
    }
   },
   "outputs": [],
   "source": [
    "# mean and standard deviation of normal distribution are metaparameters defining the shape\n",
    "mu = 0.0\n",
    "sigma = 1.0\n",
    "\n",
    "# the default when creating a normal distribution from scipy.stats is to create a standard\n",
    "# normal distribution with mu=0 and sigma=1, so we don't really have to pass in the\n",
    "# metaparameters here if we want a standard normal distribution, we are given one by default\n",
    "from scipy.stats import norm\n",
    "\n",
    "n = norm(mu, sigma)"
   ]
  },
  {
   "cell_type": "code",
   "execution_count": 58,
   "metadata": {
    "ExecuteTime": {
     "end_time": "2019-11-18T14:31:20.929652Z",
     "start_time": "2019-11-18T14:31:20.648007Z"
    }
   },
   "outputs": [
    {
     "data": {
      "image/png": "[encoded data removed]",
      "text/plain": [
       "<Figure size 720x576 with 1 Axes>"
      ]
     },
     "metadata": {
      "needs_background": "light"
     },
     "output_type": "display_data"
    }
   ],
   "source": [
    "# display the normal distribution\n",
    "x = np.linspace(-5.0, 5.0, 1000)\n",
    "plt.plot(x, n.pdf(x), 'b-', label='standard normal distribution $\\mu=0, \\sigma=1$')\n",
    "plt.grid();\n",
    "plt.xlabel('normal random variable x', fontsize=16);\n",
    "plt.ylabel('$f(x)$ probability density function PDF', fontsize=16);\n",
    "plt.title('continuous Normal distribution');"
   ]
  },
  {
   "cell_type": "markdown",
   "metadata": {},
   "source": [
    "Notice that the pdf is at its maximum at the mean where here the mean is $\\mu = 0$.  The density\n",
    "function is symetric around the x axis at 0.  And as mentioned, there are inflection points\n",
    "at -1 and 1, where $\\sigma = 1$.  This means this is the location where the slope of the function\n",
    "changes from getting bigger to starting to get smaller (or vise-versa). \n",
    "\n",
    "It is not immediately obvious that the area of the density function adds up to 1.  The box\n",
    "that contains most of the area of the function from -2 to 2 has a height of 0.4, given an area\n",
    "of 1.6, but the function probably occupies around only 1/2 of that area.\n",
    "\n",
    "If we integrate the normal density function, we need to do it from $-\\infty$ to $\\infty$ since\n",
    "as we noted the function never actually completely reaches 0, even when we are many\n",
    "standard deviations away from the mean."
   ]
  },
  {
   "cell_type": "code",
   "execution_count": 59,
   "metadata": {
    "ExecuteTime": {
     "end_time": "2019-11-18T14:31:20.955676Z",
     "start_time": "2019-11-18T14:31:20.931140Z"
    }
   },
   "outputs": [
    {
     "data": {
      "text/plain": [
       "(0.9999999999999998, 1.0178191320905743e-08)"
      ]
     },
     "execution_count": 59,
     "metadata": {},
     "output_type": "execute_result"
    }
   ],
   "source": [
    "integrate(n.pdf, -np.infty, np.infty)"
   ]
  },
  {
   "cell_type": "markdown",
   "metadata": {},
   "source": [
    "The sum does appear to be 1.0 for the density function, as we would expect.\n",
    "\n",
    "You can have other types of normal distributions other than the standard normal one.  Lets look at one with\n",
    "a mean $\\mu = 5$ and a standard deviation $\\sigma = 0.4$"
   ]
  },
  {
   "cell_type": "code",
   "execution_count": 60,
   "metadata": {
    "ExecuteTime": {
     "end_time": "2019-11-18T14:31:21.034998Z",
     "start_time": "2019-11-18T14:31:20.957345Z"
    }
   },
   "outputs": [],
   "source": [
    "# mean and standard deviation of normal distribution are metaparameters defining the shape\n",
    "mu = 5.0\n",
    "sigma = 0.4\n",
    "\n",
    "# normal distribution with a mean of 5 and sigma of 0.4\n",
    "n5 = norm(mu, sigma)"
   ]
  },
  {
   "cell_type": "code",
   "execution_count": 61,
   "metadata": {
    "ExecuteTime": {
     "end_time": "2019-11-18T14:31:21.413345Z",
     "start_time": "2019-11-18T14:31:21.036100Z"
    }
   },
   "outputs": [
    {
     "data": {
      "image/png": "[encoded data removed]",
      "text/plain": [
       "<Figure size 720x576 with 1 Axes>"
      ]
     },
     "metadata": {
      "needs_background": "light"
     },
     "output_type": "display_data"
    }
   ],
   "source": [
    "# display and compare the normal distribution\n",
    "x = np.linspace(-5.0, 8.0, 1000)\n",
    "plt.plot(x, n.pdf(x), 'b-', label='standard normal distribution $\\mu=0, \\sigma=1$')\n",
    "plt.plot(x, n5.pdf(x), 'g-', label='normal distribution $\\mu=5, \\sigma=0.4$')\n",
    "plt.grid();\n",
    "plt.xlabel('normal random variable x', fontsize=16);\n",
    "plt.ylabel('$f(x)$ probability density function PDF', fontsize=16);\n",
    "plt.legend();\n",
    "plt.title('continuous Normal distribution');"
   ]
  },
  {
   "cell_type": "markdown",
   "metadata": {},
   "source": [
    "Notice what happens as we change the mean and standard deviation of the normal distribution.  As you\n",
    "see the new distribution is centered at $x = 5$, the location of the mean of the density\n",
    "function.  Also since we selected a standard deviation that is smaller than 1, the density\n",
    "function is more concentrated, and you see the maximum of the density function raises higher\n",
    "then the standard normal distribution.  The inflection points for this distribution\n",
    "will be at $\\mu \\pm \\sigma = 5.0 \\pm 0.4 = 4.6,5.4$\n",
    "\n",
    "Lets add one more, to show what happens if the standard deviation is more than 1.  Can you predict\n",
    "what should happen if the standard deviation is larger than 1?"
   ]
  },
  {
   "cell_type": "code",
   "execution_count": 62,
   "metadata": {
    "ExecuteTime": {
     "end_time": "2019-11-18T14:31:21.419967Z",
     "start_time": "2019-11-18T14:31:21.414566Z"
    }
   },
   "outputs": [],
   "source": [
    "# mean and standard deviation of normal distribution are metaparameters defining the shape\n",
    "mu = -2.0\n",
    "sigma = 2.2\n",
    "\n",
    "# normal distribution with a mean of -2 and sigma of 2.2\n",
    "nneg2 = norm(mu, sigma)"
   ]
  },
  {
   "cell_type": "code",
   "execution_count": 63,
   "metadata": {
    "ExecuteTime": {
     "end_time": "2019-11-18T14:31:21.752225Z",
     "start_time": "2019-11-18T14:31:21.421181Z"
    }
   },
   "outputs": [
    {
     "data": {
      "image/png": "[encoded data removed]",
      "text/plain": [
       "<Figure size 720x576 with 1 Axes>"
      ]
     },
     "metadata": {
      "needs_background": "light"
     },
     "output_type": "display_data"
    }
   ],
   "source": [
    "# display and compare the normal distribution\n",
    "x = np.linspace(-8.0, 8.0, 1000)\n",
    "plt.plot(x, n.pdf(x), 'b-', label='standard normal distribution $\\mu=0, \\sigma=1$')\n",
    "plt.plot(x, n5.pdf(x), 'g-', label='normal distribution $\\mu=5, \\sigma=0.4$')\n",
    "plt.plot(x, nneg2.pdf(x), 'r-', label='normal distribution $\\mu=-2, \\sigma=2.2$')\n",
    "plt.grid();\n",
    "plt.xlabel('normal random variable x', fontsize=16);\n",
    "plt.ylabel('$f(x)$ probability density function PDF', fontsize=16);\n",
    "plt.legend();\n",
    "plt.title('continuous Normal distribution');"
   ]
  },
  {
   "cell_type": "code",
   "execution_count": 64,
   "metadata": {
    "ExecuteTime": {
     "end_time": "2019-11-18T14:31:21.841477Z",
     "start_time": "2019-11-18T14:31:21.753488Z"
    }
   },
   "outputs": [
    {
     "name": "stdout",
     "output_type": "stream",
     "text": [
      "(1.0000000000000002, 5.8908001353052005e-09)\n",
      "(1.0, 1.1669420262022477e-08)\n"
     ]
    }
   ],
   "source": [
    "# confirm however that both of the new distributions have a density function that sums up to 1.0\n",
    "print(integrate(n5.pdf, -np.infty, np.infty))\n",
    "print(integrate(nneg2.pdf, -np.infty, np.infty))\n"
   ]
  },
  {
   "cell_type": "markdown",
   "metadata": {},
   "source": [
    "Before we move on to using normal distributions to do calculations, lets recall the concept of the cumulative\n",
    "distribution function (CDF).  We can show the CDF for the standard normal distribution easily enough.  The\n",
    "`scipy.stats` probability distribution objects have `.cdf()` function foc computing cumulative densities:"
   ]
  },
  {
   "cell_type": "code",
   "execution_count": 65,
   "metadata": {
    "ExecuteTime": {
     "end_time": "2019-11-18T14:31:22.131702Z",
     "start_time": "2019-11-18T14:31:21.842714Z"
    }
   },
   "outputs": [
    {
     "data": {
      "image/png": "[encoded data removed]",
      "text/plain": [
       "<Figure size 720x576 with 1 Axes>"
      ]
     },
     "metadata": {
      "needs_background": "light"
     },
     "output_type": "display_data"
    }
   ],
   "source": [
    "# display and compare the pdf with the cumulative cdf for a standard normal\n",
    "x = np.linspace(-4.0, 4.0, 1000)\n",
    "plt.plot(x, n.pdf(x), 'b-', label='standard normal distribution $\\mu=0, \\sigma=1$')\n",
    "plt.plot(x, n.cdf(x), 'g-', label='cumulative density function CDF $\\mu=0, \\sigma=1$')\n",
    "plt.grid();\n",
    "plt.xlabel('normal random variable x', fontsize=16);\n",
    "plt.ylabel('$f(x)$ probability density function PDF', fontsize=16);\n",
    "plt.legend();\n",
    "plt.title('continuous Normal distribution');"
   ]
  },
  {
   "cell_type": "markdown",
   "metadata": {},
   "source": [
    "One use of the CDF is to determine the probabilities for continuous probability distributions.  For example, if\n",
    "we wanted to know what the probability is that a random value is between $\\pm \\sigma$ (plus or minus 1 standard\n",
    "devation from the mean), we could integrate the normal pdf function from -1 to 1 to find this probability:"
   ]
  },
  {
   "cell_type": "code",
   "execution_count": 66,
   "metadata": {
    "ExecuteTime": {
     "end_time": "2019-11-18T14:31:22.138892Z",
     "start_time": "2019-11-18T14:31:22.133034Z"
    }
   },
   "outputs": [
    {
     "data": {
      "text/plain": [
       "(0.682689492137086, 7.579375928402476e-15)"
      ]
     },
     "execution_count": 66,
     "metadata": {},
     "output_type": "execute_result"
    }
   ],
   "source": [
    "integrate(n.pdf, -1.0, 1.0)"
   ]
  },
  {
   "cell_type": "markdown",
   "metadata": {},
   "source": [
    "So this tells us that a bit more than 68% of the density is between -1 and 1 standard deviation from the mean, or in\n",
    "other words for a standard normal distribution, there is a 68% chance the random variable x sampled from the\n",
    "distribution will have a value in the range from -1.0 to 1.0.\n",
    "\n",
    "We can use the cumulative density function CDF to calculate this as well.  The difference of the\n",
    "cumulative density at the end of the interval from the beginning, $F(1.0) - F(-1.0)$ gives\n",
    "the same calculation we just did:"
   ]
  },
  {
   "cell_type": "code",
   "execution_count": 67,
   "metadata": {
    "ExecuteTime": {
     "end_time": "2019-11-18T14:31:22.217456Z",
     "start_time": "2019-11-18T14:31:22.141500Z"
    }
   },
   "outputs": [
    {
     "data": {
      "text/plain": [
       "0.6826894921370859"
      ]
     },
     "execution_count": 67,
     "metadata": {},
     "output_type": "execute_result"
    }
   ],
   "source": [
    "n.cdf(1.0) - n.cdf(-1.0)"
   ]
  },
  {
   "cell_type": "markdown",
   "metadata": {},
   "source": [
    "### Calculating probabilities using normal distributions\n",
    "\n",
    "**Example 1: using normal distributions**\n",
    "\n",
    "Lets calculate some properties of the heights of men and women.  The heights of\n",
    "people are known to be distributed according to a normal distribution.  According to some gathered data, the average\n",
    "height of men is 70 inches with a standard deviation of 4 inches.  Women are on average shorter with an\n",
    "average height of 66 inches and a standard deviation of 3 inches.  Lets visualize these\n",
    "two population's distributions:"
   ]
  },
  {
   "cell_type": "code",
   "execution_count": 68,
   "metadata": {
    "ExecuteTime": {
     "end_time": "2019-11-18T14:31:22.293819Z",
     "start_time": "2019-11-18T14:31:22.224157Z"
    }
   },
   "outputs": [],
   "source": [
    "# define normal distribution random variables for the men and women populations\n",
    "men_mu = 70\n",
    "men_sigma = 4\n",
    "men = norm(men_mu, men_sigma)\n",
    "\n",
    "women_mu = 66\n",
    "women_sigma = 3\n",
    "women = norm(women_mu, women_sigma)"
   ]
  },
  {
   "cell_type": "code",
   "execution_count": 69,
   "metadata": {
    "ExecuteTime": {
     "end_time": "2019-11-18T14:31:22.582456Z",
     "start_time": "2019-11-18T14:31:22.295385Z"
    }
   },
   "outputs": [
    {
     "data": {
      "image/png": "[encoded data removed]",
      "text/plain": [
       "<Figure size 720x576 with 1 Axes>"
      ]
     },
     "metadata": {
      "needs_background": "light"
     },
     "output_type": "display_data"
    }
   ],
   "source": [
    "# display and compare the pdf for the 2 populations\n",
    "x = np.linspace(56, 80, 1000)\n",
    "plt.plot(x, men.pdf(x), 'b-', label='men $\\mu=%0.1f, \\sigma=%0.1f$' % (men_mu, men_sigma))\n",
    "plt.plot(x, women.pdf(x), 'r-', label='women $\\mu=%0.1f, \\sigma=%0.1f$' % (women_mu, women_sigma))\n",
    "plt.grid();\n",
    "plt.xlabel('height random variable x', fontsize=16);\n",
    "plt.ylabel('$f(x)$ probability density function PDF', fontsize=16);\n",
    "plt.legend();\n",
    "plt.title('Distributions of Men and Womens height', fontsize=20);"
   ]
  },
  {
   "cell_type": "markdown",
   "metadata": {},
   "source": [
    "Lets start with some simple questions.\n",
    "\n",
    "1. What is the probability that a man is smaller than 1 standard deviation from the average height?\n",
    "2. What is the probability that a womain is larger than 70 inches?\n",
    "3. What is the probability that a man is between 68 and 72 inches?\n",
    "4. What is the probability that a randomly selected man will be taller than a randomly selected woman?\n",
    "\n",
    "The next question requires us to be able to take the inverse of our probability density function.\n",
    "\n",
    "5. What height are 90% of men shorter than.\n",
    "\n",
    "This requires us to find the value of the random variable x whose cumulative density\n",
    "is 0.9, or in other words the value of $x$ where 0.9 of the density is below it and 0.1\n",
    "of the density is above it.  In `scipy.stats` probability distributions, the `.ppf()`\n",
    "functions perform the reverse of the `.cdf()` function, or in other words we can use it\n",
    "to answer quantile questions like this."
   ]
  },
  {
   "cell_type": "code",
   "execution_count": 70,
   "metadata": {
    "ExecuteTime": {
     "end_time": "2019-11-18T14:31:22.602055Z",
     "start_time": "2019-11-18T14:31:22.583623Z"
    }
   },
   "outputs": [
    {
     "name": "stdout",
     "output_type": "stream",
     "text": [
      "(0.15865525393145707, 1.3648900518402269e-11)\n",
      "0.15865525393145707\n"
     ]
    }
   ],
   "source": [
    "# 1) question is P(-infty <= x_man <= 66)\n",
    "height = 66\n",
    "\n",
    "# we could integrate the density function\n",
    "print(integrate(men.pdf, -np.infty, height))\n",
    "\n",
    "# we could use cumulative density functions, for a less than question, we simply\n",
    "# need the cumulative density up to, by definition of the cumulative density\n",
    "print(men.cdf(height))"
   ]
  },
  {
   "cell_type": "code",
   "execution_count": 71,
   "metadata": {
    "ExecuteTime": {
     "end_time": "2019-11-18T14:31:22.693388Z",
     "start_time": "2019-11-18T14:31:22.603308Z"
    }
   },
   "outputs": [
    {
     "name": "stdout",
     "output_type": "stream",
     "text": [
      "(0.09121121972586789, 4.335684271539875e-11)\n",
      "0.09121121972586788\n"
     ]
    }
   ],
   "source": [
    "# 2) question P(70 <= x_woman <= infty)\n",
    "height = 70\n",
    "\n",
    "# we could integrate the density function to find answer\n",
    "print(integrate(women.pdf, height, np.infty))\n",
    "\n",
    "# but best to use the cumulative density function.  The cdf give probability < height, but\n",
    "# the complement of this can be used to find answer to > height\n",
    "print(1.0 - women.cdf(height))"
   ]
  },
  {
   "cell_type": "code",
   "execution_count": 72,
   "metadata": {
    "ExecuteTime": {
     "end_time": "2019-11-18T14:31:22.760182Z",
     "start_time": "2019-11-18T14:31:22.694638Z"
    }
   },
   "outputs": [
    {
     "name": "stdout",
     "output_type": "stream",
     "text": [
      "(0.3829249225480263, 4.251320657156236e-15)\n",
      "0.38292492254802624\n"
     ]
    }
   ],
   "source": [
    "# 3) question is P(68 <= x_man <= 72)\n",
    "\n",
    "print(integrate(men.pdf, 68, 72))\n",
    "\n",
    "print(men.cdf(72) - men.cdf(68))"
   ]
  },
  {
   "cell_type": "code",
   "execution_count": 73,
   "metadata": {
    "ExecuteTime": {
     "end_time": "2019-11-18T14:31:22.837921Z",
     "start_time": "2019-11-18T14:31:22.761338Z"
    }
   },
   "outputs": [
    {
     "name": "stdout",
     "output_type": "stream",
     "text": [
      "0.8413447460685429\n"
     ]
    }
   ],
   "source": [
    "# 4) question takes some interpretation.  Randomly selected woman will on average have average women height\n",
    "#   thus one interpretation is simply the probability a man is larger than the average height of women\n",
    "print(1.0 - men.cdf(women_mu))"
   ]
  },
  {
   "cell_type": "code",
   "execution_count": 74,
   "metadata": {
    "ExecuteTime": {
     "end_time": "2019-11-18T14:31:22.948354Z",
     "start_time": "2019-11-18T14:31:22.839404Z"
    }
   },
   "outputs": [
    {
     "name": "stdout",
     "output_type": "stream",
     "text": [
      "75.1262062621784\n",
      "0.8999999999999999\n"
     ]
    }
   ],
   "source": [
    "# 5) We can use the ppf function from scipy.stats to calculate quantils, or cutoff questions\n",
    "x = men.ppf(0.90)\n",
    "print(x)\n",
    "\n",
    "# verify this, the cdf at this heigh should be 0.9\n",
    "print(men.cdf(x))"
   ]
  },
  {
   "cell_type": "markdown",
   "metadata": {},
   "source": [
    "**Example 2: using normal distributions**\n",
    "\n",
    "Lets look at a few examples of using normal distributions to answer questions about the probability of some\n",
    "even occurring governed by that distribution.  \n",
    "\n",
    "Given that we have a manufacturing process that creates ball bearings.  The manufacturing process is governed\n",
    "by a normal distribution.  The ball bearings produced have a mean diameter of $\\mu = 3.0$ cm and a standard\n",
    "deviation of $\\sigma = 0.005$.  \n",
    "\n",
    "A quality control process is used to make sure the ball bearings are not too far out of spec of the\n",
    "manufacturing process.  A ball is rejected from quality control if it is $\\pm 0.01$ away from the mean.\n",
    "Given this information, on average how many balls need to be scrapped because of the quality control\n",
    "process described?\n",
    "\n",
    "First of all, lets visualize what we want.  Basically we are given the shape of the normal distribution\n",
    "governing this manufacturing practice.  The answer is equivalant to find the probabilities\n",
    "$P(X < 2.99) + P(X > 3.01)$.  So we have the following:"
   ]
  },
  {
   "cell_type": "code",
   "execution_count": 75,
   "metadata": {
    "ExecuteTime": {
     "end_time": "2019-11-18T14:31:23.015302Z",
     "start_time": "2019-11-18T14:31:22.949641Z"
    }
   },
   "outputs": [],
   "source": [
    "# define normal distribution random variables for the manufacturing process\n",
    "mu = 3.0\n",
    "sigma = 0.005\n",
    "balls = norm(mu, sigma)"
   ]
  },
  {
   "cell_type": "code",
   "execution_count": 76,
   "metadata": {
    "ExecuteTime": {
     "end_time": "2019-11-18T14:31:23.302736Z",
     "start_time": "2019-11-18T14:31:23.016468Z"
    }
   },
   "outputs": [
    {
     "data": {
      "image/png": "[encoded data removed]",
      "text/plain": [
       "<Figure size 720x576 with 1 Axes>"
      ]
     },
     "metadata": {
      "needs_background": "light"
     },
     "output_type": "display_data"
    }
   ],
   "source": [
    "# display distribution and visualize the question/area being asked\n",
    "x = np.linspace(2.98, 3.02, 1000)\n",
    "plt.plot(x, balls.pdf(x), 'b-', label='ball bearing process $\\mu=%0.1f, \\sigma=%0.3f$' % (mu, sigma))\n",
    "\n",
    "# visualize area/density of balls that fail quality control\n",
    "x = np.linspace(2.98, 2.99, 100)\n",
    "y1 = np.zeros(100)\n",
    "y2 = balls.pdf(x)\n",
    "plt.fill_between(x, y1, y2, color='lightblue')\n",
    "\n",
    "x = np.linspace(3.01, 3.02, 100)\n",
    "y2 = balls.pdf(x)\n",
    "plt.fill_between(x, y1, y2, color='lightblue')\n",
    "\n",
    "# add figure information\n",
    "plt.grid();\n",
    "plt.xlabel('ball bearing random variable x', fontsize=16);\n",
    "plt.ylabel('$f(x)$ probability density function PDF', fontsize=16);\n",
    "plt.legend();\n",
    "plt.title('Distributions of ball bearing diameters', fontsize=20);"
   ]
  },
  {
   "cell_type": "markdown",
   "metadata": {},
   "source": [
    "Basically the area under the density function that is less than 2.99 plus that that is greater than 3.01 will represent\n",
    "the probability density of the balls that need to be rejected by quality control for being out of spec.\n",
    "\n",
    "Since the normal distribution is symmetric, these two areas are equal, thus we can find the area of one of them\n",
    "and multiply by 2:"
   ]
  },
  {
   "cell_type": "code",
   "execution_count": 77,
   "metadata": {
    "ExecuteTime": {
     "end_time": "2019-11-18T14:31:23.306842Z",
     "start_time": "2019-11-18T14:31:23.304066Z"
    }
   },
   "outputs": [
    {
     "name": "stdout",
     "output_type": "stream",
     "text": [
      "0.04550026389636301\n"
     ]
    }
   ],
   "source": [
    "# probability x < 2.99 can be found by the cdf directly\n",
    "p = balls.cdf(2.99)\n",
    "\n",
    "# the actual probability is 2 times this\n",
    "print(2 * p)"
   ]
  },
  {
   "cell_type": "markdown",
   "metadata": {},
   "source": [
    "So there is a 4.5% chance a ball is in the shown area, or in other words we will have to throw a bit more than 4.5% of\n",
    "the manufactured ball bearings for being out of spec.\n",
    "\n",
    "If the manufacturer consdiers this too much waste, to what degree of precision would we need to get the manufacturing\n",
    "process in order to lower the rejection rate to 1% or below?  This is a bit hard to answer, but we can search for\n",
    "an answer.  For example, we could ask, if we were able to increase the manufacturing process quality so that the\n",
    "standard deviation of the ball bearings was reduced to 0.004 would we then meet the required rejection\n",
    "rate?"
   ]
  },
  {
   "cell_type": "code",
   "execution_count": 78,
   "metadata": {
    "ExecuteTime": {
     "end_time": "2019-11-18T14:31:23.377281Z",
     "start_time": "2019-11-18T14:31:23.307889Z"
    }
   },
   "outputs": [
    {
     "name": "stdout",
     "output_type": "stream",
     "text": [
      "0.012419330651554126\n"
     ]
    }
   ],
   "source": [
    "# The new manufacturing process is twice as precise, does this meet the the quality control goals?\n",
    "mu = 3.0\n",
    "sigma = 0.004\n",
    "balls = norm(mu, sigma)\n",
    "\n",
    "p = balls.cdf(2.99)\n",
    "print(2 * p)"
   ]
  },
  {
   "cell_type": "markdown",
   "metadata": {},
   "source": [
    "So the answer is this isn't quite sufficient, but we are getting close.  If we could decrease the deviation by another 0.0005 we might just hit the target quality."
   ]
  },
  {
   "cell_type": "markdown",
   "metadata": {},
   "source": [
    "### Sampling from a normal random distribution\n",
    "\n",
    "Lets confirm our results from the ball bearing question by performing a random simulation.\n",
    "\n",
    "First of all, lets see if in fact we manufacture ball bearings using the original mean and standard deviation,\n",
    "if we are seeing around a 4.5% rejection rate for quality.  Again, the `.rvs()` function can be used to\n",
    "draw samples from the defined random distribution."
   ]
  },
  {
   "cell_type": "code",
   "execution_count": 79,
   "metadata": {
    "ExecuteTime": {
     "end_time": "2019-11-18T14:31:23.741031Z",
     "start_time": "2019-11-18T14:31:23.378510Z"
    }
   },
   "outputs": [
    {
     "name": "stdout",
     "output_type": "stream",
     "text": [
      "438 balls rejected out of 10000 manufactured, ratio: 0.04380000\n"
     ]
    }
   ],
   "source": [
    "# define normal distribution random variables for the manufacturing process\n",
    "mu = 3.0\n",
    "sigma = 0.005\n",
    "balls = norm(mu, sigma)\n",
    "\n",
    "# the manufacturing quality tolerance is +/- 0.01 from the mean\n",
    "tolerance = 0.01\n",
    "\n",
    "# simulation parameters\n",
    "NUM_TRIALS = 10000\n",
    "rejects = 0\n",
    "for trial in range(NUM_TRIALS):\n",
    "    diameter = balls.rvs()\n",
    "    if diameter < (mu - tolerance) or diameter > (mu + tolerance):\n",
    "        rejects += 1\n",
    "        \n",
    "p = float(rejects) / float(NUM_TRIALS)\n",
    "print('%d balls rejected out of %d manufactured, ratio: %0.8f' % (rejects, NUM_TRIALS, p))"
   ]
  },
  {
   "cell_type": "markdown",
   "metadata": {},
   "source": [
    "As a final point, it is possible to run simple simulations like this in a vectorized, and thus much\n",
    "more computationally efficient way.  As we mentioned in passing, the `.rvs()` function is capable\n",
    "of generating a whole numpy array of random samples.  We can use this fact to generate all of the\n",
    "random samples simultaneously, then use vectorized operations to calculate the final simulation\n",
    "results."
   ]
  },
  {
   "cell_type": "code",
   "execution_count": 80,
   "metadata": {
    "ExecuteTime": {
     "end_time": "2019-11-18T14:31:23.748900Z",
     "start_time": "2019-11-18T14:31:23.742565Z"
    }
   },
   "outputs": [
    {
     "name": "stdout",
     "output_type": "stream",
     "text": [
      "457 balls rejected out of 10000 manufactured, ratio: 0.04570000\n"
     ]
    }
   ],
   "source": [
    "# define normal distribution random variables for the manufacturing process\n",
    "mu = 3.0\n",
    "sigma = 0.005\n",
    "balls = norm(mu, sigma)\n",
    "\n",
    "# the manufacturing quality tolerance is +/- 0.01 from the mean\n",
    "tolerance = 0.01\n",
    "\n",
    "# sample NUM_TRIALS balls from the random process, these are randomly generated ball diameters\n",
    "# that are drawn from the defined manufacturing process normal distribution\n",
    "NUM_TRIALS = 10000\n",
    "diameters = balls.rvs(NUM_TRIALS)\n",
    "\n",
    "# boolean array/result of which balls are out of tolerence, thus rejects\n",
    "# we sum up each reject result indivually then add the 2 different reject realms\n",
    "rejects = np.sum(diameters < (mu - tolerance)) + \\\n",
    "          np.sum(diameters > (mu + tolerance))\n",
    "\n",
    "p = float(rejects) / float(NUM_TRIALS)\n",
    "print('%d balls rejected out of %d manufactured, ratio: %0.8f' % (rejects, NUM_TRIALS, p))"
   ]
  },
  {
   "cell_type": "markdown",
   "metadata": {},
   "source": [
    "# Addendum\n",
    "\n",
    "## Demonstration of density of drawing samples from a normal distribution\n",
    "\n",
    "We demonstrated for the uniform distribution how, when we draw samples randomly from a uniform distribution,\n",
    "they are uniformly spread through the interval of the distribution.\n",
    "\n",
    "For any continuous distribution, you should be able to demonstrate the same thing.  It is a good exercise to\n",
    "try this for a normal distribution, to really make sure you understand what it means to draw a random\n",
    "sample from a continuous distribution. \n",
    "\n",
    "Lets just use a standard normal distribution to illustrate.  We will use the seaborn plotting library\n",
    "scatter plot and density estimation abilities to demonstrate this. \n",
    "\n",
    "First of all lets draw a random sample of points from a standard normal distribution and plot them."
   ]
  },
  {
   "cell_type": "code",
   "execution_count": 81,
   "metadata": {
    "ExecuteTime": {
     "end_time": "2019-11-18T14:31:24.049407Z",
     "start_time": "2019-11-18T14:31:23.750294Z"
    }
   },
   "outputs": [
    {
     "data": {
      "image/png": "[encoded data removed]",
      "text/plain": [
       "<Figure size 720x576 with 1 Axes>"
      ]
     },
     "metadata": {
      "needs_background": "light"
     },
     "output_type": "display_data"
    }
   ],
   "source": [
    "# define a standard normal distribution\n",
    "mu = 0.0\n",
    "sigma = 1.0\n",
    "n = norm(mu, sigma)\n",
    "\n",
    "# draw random samples\n",
    "NUM_SAMPLES = 1000\n",
    "samples = n.rvs(NUM_SAMPLES)\n",
    "\n",
    "# visualize the resulting density of the random samples, using seaborn built in scatter plotting and density\n",
    "# visualization capabilities\n",
    "sns.distplot(samples, hist=True, rug=True);\n",
    "plt.grid();"
   ]
  },
  {
   "cell_type": "markdown",
   "metadata": {},
   "source": [
    "A few notes about this first figure.  By setting `hist=True` we cause the histogram to be drawn in light blue\n",
    "on the graph.  A histogram is a discrete way of giving an estimate of the density of the sample points\n",
    "we are showing.  By setting `rut=True` we actuall cause small dark blue ticks (or rugs) to be drawn at the bottom\n",
    "of the graph.  We had 1000 samples so there should be 1000 rugs drawn at the bottom.  The rugs give a rough\n",
    "idea of the density of where the samples were located, though the histogram gives a better idea.  As we would\n",
    "expect for a standard normal distribution, most of the samples were close the $\\mu$ the mean of our\n",
    "standard normal distribution.  The dark blue line gives what is known as a density estimate\n",
    "for the sample points we plotted.  It is related to and derived from something like calculating\n",
    "the histogram.  You can think of this as the probability density function.  In this case, since the\n",
    "sample points are a random sample, it is an estimate of the probability density functions (PDF) that\n",
    "the points must have been drawn from.\n",
    "\n",
    "As a final point, lets compare the estimated density function that seaborn determined with the true density\n",
    "function of the standard normal distribution we actually sampled the points from.  When you sample random points\n",
    "from a random distribution, you will never be able to exactly see the true shape of the distribution.  The\n",
    "points are random, there is some variation, and this is expected.  But the more points you sample, the closer\n",
    "your estimated distribution will come to the true pdf distribution you are sampling from."
   ]
  },
  {
   "cell_type": "code",
   "execution_count": 82,
   "metadata": {
    "ExecuteTime": {
     "end_time": "2019-11-18T14:31:24.275236Z",
     "start_time": "2019-11-18T14:31:24.050483Z"
    }
   },
   "outputs": [
    {
     "data": {
      "image/png": "[encoded data removed]",
      "text/plain": [
       "<Figure size 720x576 with 1 Axes>"
      ]
     },
     "metadata": {
      "needs_background": "light"
     },
     "output_type": "display_data"
    }
   ],
   "source": [
    "# visualize the resulting density of the random samples, using seaborn built in scatter plotting and density\n",
    "# visualization capabilities\n",
    "sns.distplot(samples, hist=True, rug=True, label='theoretical pdf');\n",
    "\n",
    "# put the true pdf density function onto the estimated density plot\n",
    "x = np.linspace(-4.0, 4.0, 1000, 'actual standard normal pdf')\n",
    "plt.plot(x, n.pdf(x), 'r-')\n",
    "\n",
    "plt.grid();\n",
    "#plt.legend();"
   ]
  },
  {
   "cell_type": "markdown",
   "metadata": {},
   "source": [
    "Usually for even 1000 samples, the estimate of the densify function will be quite good.  You can improve the\n",
    "estimate of the underlying density function by increasing the samples.\n",
    "\n",
    "But the point you should understand is, that when you sample points from a random distribution, a random number\n",
    "is generated that is dictated by the probability density function of the probability distribution.  For a standard \n",
    "normal distribution, you are most likely to get a value close to 0 (the mean of the distribution).  The further\n",
    "you get from the mean, the more unlikely you are to get a value.  If you rerun the previous 2 cells, you\n",
    "may sometimes see a rug that is below -4 or greater than 4.  Values these extreme (4 standard deviations or more away\n",
    "from the mean) are very unlikely to occur.  The probability of being less than 4 standard deviations away from the\n",
    "mean is:"
   ]
  },
  {
   "cell_type": "code",
   "execution_count": 83,
   "metadata": {
    "ExecuteTime": {
     "end_time": "2019-11-18T14:31:24.279357Z",
     "start_time": "2019-11-18T14:31:24.276341Z"
    }
   },
   "outputs": [
    {
     "name": "stdout",
     "output_type": "stream",
     "text": [
      "0.00003167\n",
      "0.02275013\n"
     ]
    }
   ],
   "source": [
    "# probability of being more than 4 standard deviations lower than the mean\n",
    "print('%0.8f' % n.cdf(-4.0))\n",
    "\n",
    "# probability of being more than 2 standard deviations lower than the mean\n",
    "print('%0.8f' % n.cdf(-2.0))"
   ]
  },
  {
   "cell_type": "markdown",
   "metadata": {},
   "source": [
    "Or in other words there is a less than 3 in 100,000 chance of a value being less than -4 (or greater than 4).  So if\n",
    "you only draw 1000 samples, you won't very often see such an extreme value.  But for comparison I showed the\n",
    "probability of being 2 standard deviations lower than the mean.  There is over a 2% chance of this happening, meaning\n",
    "you would expect to see 2 such points if you sample 100, and 20 such points if you sample 1000."
   ]
  },
  {
   "cell_type": "markdown",
   "metadata": {},
   "source": [
    "## Variation of repeated random experiments\n",
    "\n",
    "The beginning of understanding the statistics of running experiments is understanding what you expect to see in terms\n",
    "of the random variation you can expect from seeing 1 particular random sample from some random distribution.\n",
    "\n",
    "First of all, when you take a random sample (or perform an experiment where you sample some number of items\n",
    "at random from the population), you expect that the random sample you get will be goverend by, but not exaclty\n",
    "the same as the true probability distribution you are sampling from.  If the true distribution is normally\n",
    "distributed (which is often but not always true), then you expect that the mean of your sample will be representative\n",
    "of the mean of the distribution you are sampling from, and the variance or standard deviation of your sample will\n",
    "likewise give you some information about the variance of the process you are sampling from.\n",
    "\n",
    "So for example, lets try creating experiments where we draw $10, 100, and 1000$ random samples from the ball bearing\n",
    "manufacuring process normal distribution.  If we calculate the mean and the variance of the samples we draw, we\n",
    "can compare the implied distributions from our sampled data with the true distribution of the underlying process."
   ]
  },
  {
   "cell_type": "markdown",
   "metadata": {},
   "source": [
    "Recall that the true probability of a ball being rejected is $P(X < 2.99) + P(X > 3.01) \\approx 0.04550026389636301$\n",
    "\n",
    "We expect that each time we run the experiment, that the result would should be close to, but not exaclty\n",
    "equal to, the true probability.\n",
    "\n",
    "What if we could repeat the experiment 100 times and plot the distribution of the results?  We would expect\n",
    "that the mean of repeating this experiment over and over would be a much better estimate of the true\n",
    "mean of the rejection rate for the underlying unknown process."
   ]
  },
  {
   "cell_type": "code",
   "execution_count": 84,
   "metadata": {
    "ExecuteTime": {
     "end_time": "2019-11-18T14:31:24.356209Z",
     "start_time": "2019-11-18T14:31:24.280552Z"
    }
   },
   "outputs": [],
   "source": [
    "def simulate_ball_bearings_experiment(num_balls, mu=3.0, sigma=0.005):\n",
    "    \"\"\"Simulates manufacturing num_balls at random, where the diamater and variance.\n",
    "    of the manufacturing process is governed by a normal distribution with a given mean diameter\n",
    "    and standard deviation.  This function returns a single run of a simulated manufacture of the\n",
    "    number of shown balls.\n",
    "    \"\"\"\n",
    "    # our random variable to simulate manufacturing sampled ball bearings\n",
    "    balls = norm(mu, sigma)\n",
    "    \n",
    "    # simulate manufacturing the asked for number of ball bearings\n",
    "    diameters = balls.rvs(num_balls)\n",
    "    \n",
    "    # return the resulting manufactured diameters\n",
    "    return diameters"
   ]
  },
  {
   "cell_type": "code",
   "execution_count": 85,
   "metadata": {
    "ExecuteTime": {
     "end_time": "2019-11-18T14:31:24.669242Z",
     "start_time": "2019-11-18T14:31:24.357464Z"
    }
   },
   "outputs": [
    {
     "data": {
      "image/png": "[encoded data removed]",
      "text/plain": [
       "<Figure size 720x576 with 1 Axes>"
      ]
     },
     "metadata": {
      "needs_background": "light"
     },
     "output_type": "display_data"
    }
   ],
   "source": [
    "mu = 3.0\n",
    "sigma = 0.005\n",
    "\n",
    "# the true pdf of the continuous normal distribution\n",
    "balls = norm(mu, sigma)\n",
    "\n",
    "# visualize the true normal distribution\n",
    "# display distribution and visualize the question/area being asked\n",
    "x = np.linspace(2.98, 3.02, 1000)\n",
    "plt.plot(x, balls.pdf(x), 'b-', label='ball bearing process $\\mu=%0.1f, \\sigma=%0.3f$' % (mu, sigma));\n",
    "plt.grid();\n",
    "\n",
    "\n",
    "# repeat the experiment, but with increasingly larger sample sizes\n",
    "# and plot estimates of the true distribution using the mean and variance of the sample\n",
    "sample10 = simulate_ball_bearings_experiment(10, mu, sigma)\n",
    "mu10 = np.mean(sample10)\n",
    "sigma10 = np.std(sample10)\n",
    "balls10 = norm(mu10, sigma10)\n",
    "plt.plot(x, balls10.pdf(x), 'g-', label='estimate with sample size=10')\n",
    "\n",
    "sample100 = simulate_ball_bearings_experiment(100, mu, sigma)\n",
    "mu100 = np.mean(sample100)\n",
    "sigma100 = np.std(sample100)\n",
    "balls100 = norm(mu100, sigma100)\n",
    "plt.plot(x, balls100.pdf(x), 'r-', label='estimate with sample size=100')\n",
    "\n",
    "sample1000 = simulate_ball_bearings_experiment(1000, mu, sigma)\n",
    "mu1000 = np.mean(sample1000)\n",
    "sigma1000 = np.std(sample1000)\n",
    "balls1000 = norm(mu1000, sigma1000)\n",
    "plt.plot(x, balls1000.pdf(x), 'm-', label='estimate with sample size=1000')\n",
    "\n",
    "plt.legend();"
   ]
  },
  {
   "cell_type": "markdown",
   "metadata": {},
   "source": [
    "You should see that, as the sample size increases, the estimate using the mean and variance of the sample becomes\n",
    "better and better.  This is expected from what is known as the **central limit theorem**.  \n",
    "\n",
    "Though it is beyond the scope of this discussion, from a sample of size $n$, we can use this\n",
    "information, if we assume the underlying process is governed by a normal distribution, to\n",
    "be able to put bounds on the possible true values of the mean (and standard deviation) that\n",
    "we just sampled from.\n",
    "\n",
    "For example, for a sample size of 10 (or 100, or 1000), we can estimate what is known as a 95% confidence interval\n",
    "based on the sampled data of where the true mean must lie.  95% of the area under a sampled normal distribution\n",
    "lies $\\pm 1.96$ standard deviations away from the mean. Thus we can calulate a 95% lower and upper confidence\n",
    "bounds using $n$ and the sampled mean and sampled standard deviation\n",
    "\n",
    "\\begin{equation}\n",
    "\\bar{x} - z_{\\alpha/2} \\frac{\\sigma}{\\sqrt{n}} < \\mu <  \\bar{x} + z_{\\alpha/2} \\frac{\\sigma}{\\sqrt{n}}\n",
    "\\end{equation}\n",
    "\n",
    "Here $\\bar{x}$ is the mean of the sample, and $\\sigma$ is the sample standard deviation from our sample of\n",
    "size $n$.  The $z_{\\alpha/2}$ expression represent the percential in order to get the 95% confidence interval.\n",
    "\n",
    "In practice, this means we can use the sampled mean and sampled standard deviation from an experiment to calculate\n",
    "a 95% confidence interval like this:"
   ]
  },
  {
   "cell_type": "code",
   "execution_count": 86,
   "metadata": {
    "ExecuteTime": {
     "end_time": "2019-11-18T14:31:24.674854Z",
     "start_time": "2019-11-18T14:31:24.670443Z"
    }
   },
   "outputs": [
    {
     "name": "stdout",
     "output_type": "stream",
     "text": [
      "n = 10 (lower = 2.99627882, upper = 3.00303872) interval length = 0.00675990\n",
      "n = 10 mean estimate error = 0.00034123\n"
     ]
    }
   ],
   "source": [
    "lower_bound = mu10 - 1.96 * (sigma10 / np.sqrt(10))\n",
    "upper_bound = mu10 + 1.96 * (sigma10 / np.sqrt(10))\n",
    "interval_length = upper_bound - lower_bound \n",
    "print('n = 10 (lower = %0.8f, upper = %0.8f) interval length = %0.8f' % (lower_bound, upper_bound, interval_length))\n",
    "print('n = 10 mean estimate error = %0.8f' % (np.abs(mu10 - mu)))"
   ]
  },
  {
   "cell_type": "markdown",
   "metadata": {},
   "source": [
    "Your results may vary, but even with a sample size of only 10 items, it is most likely that the 95% confidence interval\n",
    "will contain the true mean of the process we are sampling from.  The real question here is how much variance or\n",
    "uncertainity is in the experimental result.  You will likely see that with a sample size of 10 items, the 95% confidence\n",
    "interval ranges from 2.99 to 3.01.\n",
    "\n",
    "But lets calculate the 95% confidence interval estimate of the mean for samples of 100 and 1000 as well."
   ]
  },
  {
   "cell_type": "code",
   "execution_count": 87,
   "metadata": {
    "ExecuteTime": {
     "end_time": "2019-11-18T14:31:24.770280Z",
     "start_time": "2019-11-18T14:31:24.676021Z"
    }
   },
   "outputs": [
    {
     "name": "stdout",
     "output_type": "stream",
     "text": [
      "n = 100 (lower = 2.99883622, upper = 3.00085094) interval length = 0.00201472\n",
      "n = 100 mean estimate error = 0.00015642\n",
      "n = 1000 (lower = 2.99975956, upper = 3.00037703) interval length = 0.00061747\n",
      "n = 1000 mean estimate error = 0.00006829\n"
     ]
    }
   ],
   "source": [
    "lower_bound = mu100 - 1.96 * (sigma100 / np.sqrt(100))\n",
    "upper_bound = mu100 + 1.96 * (sigma100 / np.sqrt(100))\n",
    "interval_length = upper_bound - lower_bound \n",
    "print('n = 100 (lower = %0.8f, upper = %0.8f) interval length = %0.8f' % (lower_bound, upper_bound, interval_length))\n",
    "print('n = 100 mean estimate error = %0.8f' % (np.abs(mu100 - mu)))\n",
    "\n",
    "lower_bound = mu1000 - 1.96 * (sigma1000 / np.sqrt(1000))\n",
    "upper_bound = mu1000 + 1.96 * (sigma1000 / np.sqrt(1000))\n",
    "interval_length = upper_bound - lower_bound \n",
    "print('n = 1000 (lower = %0.8f, upper = %0.8f) interval length = %0.8f' % (lower_bound, upper_bound, interval_length))\n",
    "print('n = 1000 mean estimate error = %0.8f' % (np.abs(mu1000 - mu)))"
   ]
  },
  {
   "cell_type": "markdown",
   "metadata": {},
   "source": [
    "This may not have been a great example to use since the variance for the underlying PDF is so small.  But you\n",
    "should almost always see that all of the 95% confidence intervals contain the true mean of 3.0 in them.  But also\n",
    "the estimates of the mean, and the length of the 95% confidince interval, will become much smaller and more\n",
    "precise as we increase the sample size of $n$."
   ]
  }
 ],
 "metadata": {
  "author": "me",
  "kernelspec": {
   "display_name": "Python 3",
   "language": "python",
   "name": "python3"
  },
  "language_info": {
   "codemirror_mode": {
    "name": "ipython",
    "version": 3
   },
   "file_extension": ".py",
   "mimetype": "text/x-python",
   "name": "python",
   "nbconvert_exporter": "python",
   "pygments_lexer": "ipython3",
   "version": "3.8.4"
  },
  "latex_envs": {
   "LaTeX_envs_menu_present": true,
   "autoclose": false,
   "autocomplete": true,
   "bibliofile": "biblio.bib",
   "cite_by": "apalike",
   "current_citInitial": 1,
   "eqLabelWithNumbers": true,
   "eqNumInitial": 1,
   "hotkeys": {
    "equation": "Ctrl-E",
    "itemize": "Ctrl-I"
   },
   "labels_anchors": false,
   "latex_user_defs": false,
   "report_style_numbering": false,
   "user_envs_cfg": false
  },
  "toc": {
   "base_numbering": 1,
   "nav_menu": {},
   "number_sections": true,
   "sideBar": true,
   "skip_h1_title": false,
   "title_cell": "Table of Contents",
   "title_sidebar": "Contents",
   "toc_cell": false,
   "toc_position": {},
   "toc_section_display": true,
   "toc_window_display": true
  }
 },
 "nbformat": 4,
 "nbformat_minor": 4
}

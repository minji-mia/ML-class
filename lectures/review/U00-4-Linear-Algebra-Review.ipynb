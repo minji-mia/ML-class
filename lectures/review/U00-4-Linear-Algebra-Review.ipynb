{
 "cells": [
  {
   "cell_type": "code",
   "execution_count": 1,
   "metadata": {
    "ExecuteTime": {
     "end_time": "2018-08-26T16:03:19.622075Z",
     "start_time": "2018-08-26T16:03:18.436482Z"
    }
   },
   "outputs": [],
   "source": [
    "import numpy as np\n",
    "import matplotlib.pyplot as plt\n",
    "import pandas as pd\n",
    "import seaborn as sns\n",
    "%matplotlib inline\n",
    "plt.rcParams['figure.figsize'] = (8, 6) # set default figure size, 8in by 6in"
   ]
  },
  {
   "cell_type": "markdown",
   "metadata": {},
   "source": [
    "# Video W1 12: Matrices and Vectors\n",
    "\n",
    "[YouTube Video Link](https://www.youtube.com/watch?v=04IlpTiBTsk&index=12&list=PLZ9qNFMHZ-A4rycgrgOYma6zxF4BZGGPW)\n",
    "\n",
    "## Matrices\n",
    "\n",
    "A matrix is a retangular array of numbers:\n",
    "\n",
    "$$\n",
    "\\begin{bmatrix}\n",
    "1402 &  191 \\\\ \n",
    "1371 &  821 \\\\ \n",
    " 949 & 1437 \\\\ \n",
    " 147 & 1448 \\\\ \n",
    "\\end{bmatrix}\n",
    "$$\n",
    "\n",
    "The dimension of a matrix is the number of rows by the number of columns.  In the previous matrix,\n",
    "we have 4 rows by 2 columns.\n",
    "\n",
    "In Python, we use `NumPy` arrays to represent 1, 2 (and higher dimensional) vectors and matrices."
   ]
  },
  {
   "cell_type": "code",
   "execution_count": 2,
   "metadata": {
    "ExecuteTime": {
     "end_time": "2018-08-26T16:03:19.631755Z",
     "start_time": "2018-08-26T16:03:19.624126Z"
    }
   },
   "outputs": [
    {
     "name": "stdout",
     "output_type": "stream",
     "text": [
      "[[1402  191]\n",
      " [1371  821]\n",
      " [ 949 1437]\n",
      " [ 147 1448]]\n",
      "2\n",
      "(4, 2)\n"
     ]
    }
   ],
   "source": [
    "A = np.array([[1402, 191], \n",
    "              [1371, 821], \n",
    "              [949, 1437], \n",
    "              [147, 1448]])\n",
    "print(A)\n",
    "print(A.ndim) # it is a 2 dimensional matrix\n",
    "print(A.shape) # notice this is a 2 dimensional matrix, of size 4 x 2"
   ]
  },
  {
   "cell_type": "code",
   "execution_count": 3,
   "metadata": {
    "ExecuteTime": {
     "end_time": "2018-08-26T16:03:19.712280Z",
     "start_time": "2018-08-26T16:03:19.633678Z"
    }
   },
   "outputs": [
    {
     "name": "stdout",
     "output_type": "stream",
     "text": [
      "[[1 2 3]\n",
      " [4 5 6]]\n",
      "2\n",
      "(2, 3)\n"
     ]
    }
   ],
   "source": [
    "# a 2 X 3  matrix\n",
    "B = np.array([[1, 2, 3],\n",
    "              [4, 5, 6]])\n",
    "\n",
    "print(B)\n",
    "print(B.ndim)\n",
    "print(B.shape)"
   ]
  },
  {
   "cell_type": "markdown",
   "metadata": {},
   "source": [
    "We refer to entries of 2 dimensional matrices using `row,column` indices. So given:\n",
    "\n",
    "$$\n",
    "A\n",
    "=\n",
    "\\begin{bmatrix}\n",
    "1402 &  191 \\\\ \n",
    "1371 &  821 \\\\ \n",
    " 949 & 1437 \\\\ \n",
    " 147 & 1448 \\\\ \n",
    "\\end{bmatrix}\n",
    "$$\n",
    "\n",
    "$$A_{ij} = i,j \\; \\mathrm{entry \\; in \\; the} \\; i^{th} \\; \\mathrm{row,} \\; j^{th} \\; \\mathrm{column}.$$\n",
    "\n",
    "So\n",
    "\n",
    "$$A_{12} = 191$$\n",
    "\n",
    "**NOTE:** In Python, lists and `NumPy` arrays are indexed starting at 0 (0 based indexing).  This means\n",
    "that when you translate any code from a 1 based mathematical indexing, to the 0 based indexing, you \n",
    "always need to subtract one.  So for example, to get the $A_{12}$ entry in our matrix we need to:"
   ]
  },
  {
   "cell_type": "code",
   "execution_count": 4,
   "metadata": {
    "ExecuteTime": {
     "end_time": "2018-08-26T16:03:19.807087Z",
     "start_time": "2018-08-26T16:03:19.714108Z"
    }
   },
   "outputs": [
    {
     "name": "stdout",
     "output_type": "stream",
     "text": [
      "191\n"
     ]
    }
   ],
   "source": [
    "print(A[0,1])"
   ]
  },
  {
   "cell_type": "markdown",
   "metadata": {},
   "source": [
    "The lecturer goes in to this a bit more in the video.  In general, in programming\n",
    "languages, and in mathematical treatments, you can treat matrices and vectors\n",
    "as being 1 indexed (starting at index 1) or 0 indexed (starting at index 0).\n",
    "Because the class from our videos uses Matlab, which is 1 indexed, the lecturer\n",
    "tends to use 1 indexed vectors.  However, since Python and NumPy are 0\n",
    "indexed representations, I will usually convert any notations from the videos\n",
    "into equivalent 0 indexed versions, because that is simplier and more directly\n",
    "implementable into Python and NumPy 0 indexed lists and arrays."
   ]
  },
  {
   "cell_type": "markdown",
   "metadata": {},
   "source": [
    "## Vector\n",
    "\n",
    "A vector is simply a 1 dimensional vector, or you can think of it as a matrix with n rows and 1 column:\n",
    "\n",
    "$$\n",
    "y\n",
    "=\n",
    "\\begin{bmatrix}\n",
    "460 \\\\ \n",
    "232 \\\\ \n",
    "315 \\\\ \n",
    "178 \\\\ \n",
    "\\end{bmatrix}\n",
    "$$\n",
    "\n",
    "Notice that in `NumPy`, there is a slight difference between a vector, and an array with 1 column:"
   ]
  },
  {
   "cell_type": "code",
   "execution_count": 5,
   "metadata": {
    "ExecuteTime": {
     "end_time": "2018-08-26T16:03:19.908915Z",
     "start_time": "2018-08-26T16:03:19.808969Z"
    }
   },
   "outputs": [
    {
     "name": "stdout",
     "output_type": "stream",
     "text": [
      "[460 232 315 178]\n",
      "1\n",
      "(4,)\n",
      "[[460]\n",
      " [232]\n",
      " [315]\n",
      " [178]]\n",
      "2\n",
      "(4, 1)\n"
     ]
    }
   ],
   "source": [
    "# a numpy vector is 1 dimensional, we can initialize with a 1d list\n",
    "y = np.array([460, 232, 315, 178])\n",
    "print(y)\n",
    "print(y.ndim)\n",
    "print(y.shape)\n",
    "\n",
    "# we can create a 4x1 column matrix, like this:\n",
    "z = np.array([[460],\n",
    "              [232],\n",
    "              [315],\n",
    "              [178]])\n",
    "print(z)\n",
    "print(z.ndim)\n",
    "print(z.shape)"
   ]
  },
  {
   "cell_type": "markdown",
   "metadata": {},
   "source": [
    "Sometimes in writing code we can use `NumPy` 1d vectors, but sometimes we need to use a $n \\times 1$\n",
    "column matrix instead.\n",
    "\n"
   ]
  },
  {
   "cell_type": "markdown",
   "metadata": {},
   "source": [
    "# Video W1 13: Addition and Scalar Multiplication\n",
    "\n",
    "[YouTube Video Link](https://www.youtube.com/watch?v=eCJpIfMrm6U&list=PLZ9qNFMHZ-A4rycgrgOYma6zxF4BZGGPW&index=13)\n",
    "\n",
    "## Matrix Addition\n",
    "\n",
    "Addition and subtraction of matrices are simply element by element wise operations.  The matrices\n",
    "need to have exactly the same dimensions for this to be defined:\n",
    "\n",
    "$$\n",
    "\\begin{bmatrix}\n",
    "1 &  0 \\\\ \n",
    "2 &  5 \\\\ \n",
    "3 & 1 \\\\ \n",
    "\\end{bmatrix}\n",
    "+\n",
    "\\begin{bmatrix}\n",
    "4 & 0.5 \\\\ \n",
    "2 & 5 \\\\ \n",
    "0 & 1 \\\\ \n",
    "\\end{bmatrix}\n",
    "=\n",
    "\\begin{bmatrix}\n",
    "5 & 0.5 \\\\ \n",
    "4 & 10 \\\\ \n",
    "3 & 2 \\\\ \n",
    "\\end{bmatrix}\n",
    "$$\n"
   ]
  },
  {
   "cell_type": "code",
   "execution_count": 6,
   "metadata": {
    "ExecuteTime": {
     "end_time": "2018-08-26T16:03:20.004550Z",
     "start_time": "2018-08-26T16:03:19.911719Z"
    }
   },
   "outputs": [
    {
     "name": "stdout",
     "output_type": "stream",
     "text": [
      "[[ 5.   0.5]\n",
      " [ 4.  10. ]\n",
      " [ 3.   2. ]]\n",
      "[[-3.  -0.5]\n",
      " [ 0.   0. ]\n",
      " [ 3.   0. ]]\n"
     ]
    }
   ],
   "source": [
    "A = np.array([[1, 0],\n",
    "              [2, 5],\n",
    "              [3, 1]])\n",
    "B = np.array([[4, 0.5],\n",
    "              [2, 5],\n",
    "              [0, 1]])\n",
    "\n",
    "print(A + B)\n",
    "print(A - B)"
   ]
  },
  {
   "cell_type": "markdown",
   "metadata": {},
   "source": [
    "## Scalar Multiplication\n",
    "\n",
    "I will probably slip into the habit of using the term scalar here and there.  Scalar is just a fancy\n",
    "term for a regular, single (real valued) value.  Basically the opposite of a Matrix is a scalar value.\n",
    "\n",
    "When you multiply (or divide) a matrix by a scalar value, you simply multiple each value in the matrix\n",
    "by the scalar value:\n",
    "\n",
    "\n",
    "$$\n",
    "3\n",
    "\\times\n",
    "\\begin{bmatrix}\n",
    "1 &  0 \\\\ \n",
    "2 &  5 \\\\ \n",
    "3 & 1 \\\\ \n",
    "\\end{bmatrix}\n",
    "=\n",
    "\\begin{bmatrix}\n",
    "3 & 0 \\\\ \n",
    "6 & 15 \\\\ \n",
    "9 & 3 \\\\ \n",
    "\\end{bmatrix}\n",
    "$$\n",
    "\n",
    "By default, `NumPy` arrays support scalar operations against vectors and matrices.\n",
    "So if we want to do the equivalent scalar multiplication, we simply multiply\n",
    "the `NumPy` array by the scalar value, like this:"
   ]
  },
  {
   "cell_type": "code",
   "execution_count": 7,
   "metadata": {
    "ExecuteTime": {
     "end_time": "2018-08-26T16:03:20.157087Z",
     "start_time": "2018-08-26T16:03:20.006814Z"
    }
   },
   "outputs": [
    {
     "name": "stdout",
     "output_type": "stream",
     "text": [
      "[[ 3.  0.]\n",
      " [ 6. 15.]\n",
      " [ 9.  3.]]\n"
     ]
    }
   ],
   "source": [
    "A = np.array([[1, 0],\n",
    "              [2, 5],\n",
    "              [3, 1]])\n",
    "\n",
    "print(3.0 * A)"
   ]
  },
  {
   "cell_type": "code",
   "execution_count": 8,
   "metadata": {
    "ExecuteTime": {
     "end_time": "2018-08-26T16:03:20.255343Z",
     "start_time": "2018-08-26T16:03:20.159133Z"
    }
   },
   "outputs": [
    {
     "name": "stdout",
     "output_type": "stream",
     "text": [
      "[[1.   0.  ]\n",
      " [1.5  0.75]]\n",
      "[[1.   0.  ]\n",
      " [1.5  0.75]]\n"
     ]
    }
   ],
   "source": [
    "B = np.array([[4, 0],\n",
    "              [6, 3]])\n",
    "\n",
    "print(B / 4.0)\n",
    "print(1.0/4.0 * B)"
   ]
  },
  {
   "cell_type": "markdown",
   "metadata": {},
   "source": [
    "Also `NumPy` is perfectly capable of combining multiple operations together\n",
    "from single complex expressions using vectorized operation.  For example:"
   ]
  },
  {
   "cell_type": "code",
   "execution_count": 9,
   "metadata": {
    "ExecuteTime": {
     "end_time": "2018-08-26T16:03:20.357563Z",
     "start_time": "2018-08-26T16:03:20.256903Z"
    }
   },
   "outputs": [
    {
     "name": "stdout",
     "output_type": "stream",
     "text": [
      "[[ 2.        ]\n",
      " [12.        ]\n",
      " [10.33333333]]\n",
      "(3, 1)\n"
     ]
    }
   ],
   "source": [
    "a = np.array([[1],\n",
    "              [4],\n",
    "              [2]])\n",
    "b = np.array([[0],\n",
    "              [0],\n",
    "              [5]])\n",
    "c = np.array([[3],\n",
    "              [0],\n",
    "              [2]])\n",
    "\n",
    "d = 3.0 * a + b - c / 3.0\n",
    "print(d)\n",
    "print(d.shape)"
   ]
  },
  {
   "cell_type": "markdown",
   "metadata": {},
   "source": [
    "# Video W1 14: Matrix Vector Multiplication\n",
    "\n",
    "[YouTube Video Link](https://www.youtube.com/watch?v=bA3wxP5AtQk&index=14&list=PLZ9qNFMHZ-A4rycgrgOYma6zxF4BZGGPW)\n",
    "\n",
    "## Example of Matrix x Vector Multiplication\n",
    "\n",
    "$$\n",
    "\\begin{bmatrix}\n",
    "1 &  3 \\\\ \n",
    "4 &  2 \\\\ \n",
    "2 & 1 \\\\ \n",
    "\\end{bmatrix}\n",
    "\\begin{bmatrix}\n",
    "1 \\\\ \n",
    "5 \\\\ \n",
    "\\end{bmatrix}\n",
    "=\n",
    "\\begin{bmatrix}\n",
    "16 \\\\\n",
    "4 \\\\\n",
    "7 \\\\\n",
    "\\end{bmatrix}\n",
    "$$\n",
    "\n",
    "Here we multiple a $3 \\times 2$ matrix by a $2 \\times 1$ vector.  The result is a $3 \\times 1$\n",
    "vector.\n",
    "\n",
    "In `NumPy`, the `*` operator only works to perform scalar multiplication of a matrix with a scalar\n",
    "value (or scalar multiplications of two matrices of the same dimensions), thus the following\n",
    "is not going to work."
   ]
  },
  {
   "cell_type": "code",
   "execution_count": 10,
   "metadata": {
    "ExecuteTime": {
     "end_time": "2018-08-26T16:03:20.452369Z",
     "start_time": "2018-08-26T16:03:20.359717Z"
    }
   },
   "outputs": [
    {
     "name": "stdout",
     "output_type": "stream",
     "text": [
      "Operator * is not overloaded to perform Matrix - Matrix multiplication, need to use np.dot() function\n"
     ]
    }
   ],
   "source": [
    "A = np.array([[1, 3],\n",
    "              [4, 0],\n",
    "              [2, 1]])\n",
    "x = np.array([[1],\n",
    "              [5]])\n",
    "\n",
    "try:\n",
    "    print(A * x)\n",
    "except ValueError:\n",
    "    print('Operator * is not overloaded to perform Matrix - Matrix multiplication, need to use np.dot() function')\n",
    "    \n",
    "# uncomment this to see the actual ValueError exception\n",
    "#print(A * x)"
   ]
  },
  {
   "cell_type": "markdown",
   "metadata": {},
   "source": [
    "We instead need to use a `NumPy` library function if we want to do matrix multiplication:"
   ]
  },
  {
   "cell_type": "code",
   "execution_count": 11,
   "metadata": {
    "ExecuteTime": {
     "end_time": "2018-08-26T16:03:20.592123Z",
     "start_time": "2018-08-26T16:03:20.455095Z"
    }
   },
   "outputs": [
    {
     "name": "stdout",
     "output_type": "stream",
     "text": [
      "[[16]\n",
      " [ 4]\n",
      " [ 7]]\n"
     ]
    }
   ],
   "source": [
    "y = np.dot(A, x)\n",
    "print(y)"
   ]
  },
  {
   "cell_type": "markdown",
   "metadata": {},
   "source": [
    "Notice that the result of multiple A of shape 3 X 2 times x of shape\n",
    "2 x 1 is a vector of shape 3 x 1."
   ]
  },
  {
   "cell_type": "code",
   "execution_count": 12,
   "metadata": {
    "ExecuteTime": {
     "end_time": "2018-08-26T16:03:20.681681Z",
     "start_time": "2018-08-26T16:03:20.593905Z"
    }
   },
   "outputs": [
    {
     "name": "stdout",
     "output_type": "stream",
     "text": [
      "(3, 2)\n",
      "(2, 1)\n",
      "(3, 1)\n"
     ]
    }
   ],
   "source": [
    "print(A.shape)\n",
    "print(x.shape)\n",
    "print(y.shape)"
   ]
  },
  {
   "cell_type": "markdown",
   "metadata": {},
   "source": [
    "Another example, lets multiple a 3 x 4 matrix times a 4 x 1 vector to get\n",
    "a 3 x 1 result."
   ]
  },
  {
   "cell_type": "code",
   "execution_count": 13,
   "metadata": {
    "ExecuteTime": {
     "end_time": "2018-08-26T16:03:20.781531Z",
     "start_time": "2018-08-26T16:03:20.683854Z"
    }
   },
   "outputs": [
    {
     "name": "stdout",
     "output_type": "stream",
     "text": [
      "(3, 4)\n",
      "(4, 1)\n"
     ]
    }
   ],
   "source": [
    "A = np.array([[ 1,  2, 1, 5],\n",
    "              [ 0,  3, 0, 4],\n",
    "              [-1, -2, 0, 0]])\n",
    "x = np.array([[1],\n",
    "              [3],\n",
    "              [2],\n",
    "              [1]])\n",
    "\n",
    "print(A.shape)\n",
    "print(x.shape)"
   ]
  },
  {
   "cell_type": "code",
   "execution_count": 14,
   "metadata": {
    "ExecuteTime": {
     "end_time": "2018-08-26T16:03:20.879124Z",
     "start_time": "2018-08-26T16:03:20.783304Z"
    }
   },
   "outputs": [
    {
     "name": "stdout",
     "output_type": "stream",
     "text": [
      "[[14]\n",
      " [13]\n",
      " [-7]]\n",
      "(3, 1)\n"
     ]
    }
   ],
   "source": [
    "y = np.dot(A, x)\n",
    "print(y)\n",
    "print(y.shape)"
   ]
  },
  {
   "cell_type": "markdown",
   "metadata": {},
   "source": [
    "## A Neat Trick\n",
    "\n",
    "We can compute all of the model hypothesis (given a particular $\\theta_0, \\theta_1$) for a number of\n",
    "houses simultaneously using matrix vector multiplication.\n",
    "\n",
    "Say our hypothesis is:\n",
    "\n",
    "$$\n",
    "h_\\theta(x) = -40 + 0.25x\n",
    "$$\n",
    "\n",
    "Where of course $\\theta_0$ the intercept is -40 and $\\theta_1$ the slope is 0.25.\n",
    "\n",
    "\n",
    "We can do the following for a set of houses, to compute the model prices for\n",
    "all of the houses at the same time.  Notice that we need to add a dummy\n",
    "column to our X array of feature input data, to represent the value to\n",
    "multiple times the intercept (we always just add the intercept to the\n",
    "other term, so multiplying by 1 gives equivalent.)"
   ]
  },
  {
   "cell_type": "code",
   "execution_count": 15,
   "metadata": {
    "ExecuteTime": {
     "end_time": "2018-08-26T16:03:20.971035Z",
     "start_time": "2018-08-26T16:03:20.881215Z"
    }
   },
   "outputs": [
    {
     "name": "stdout",
     "output_type": "stream",
     "text": [
      "[[486. ]\n",
      " [314. ]\n",
      " [343.5]\n",
      " [173. ]]\n"
     ]
    }
   ],
   "source": [
    "X = np.array([[1, 2104],\n",
    "              [1, 1416],\n",
    "              [1, 1534],\n",
    "              [1, 852]])\n",
    "theta = np.array([[-40],\n",
    "                  [0.25]])\n",
    "\n",
    "y = np.dot(X, theta) # y is our hypothesis/model prices for the 4 houses of the given sizes\n",
    "print(y)"
   ]
  },
  {
   "cell_type": "markdown",
   "metadata": {},
   "source": [
    "So in a single operation, we calculated the hypothesis for all (4) of our houses\n",
    "in our input feature data set.\n",
    "\n",
    "Using a vectorized matrix vector multiplication like this is much faster\n",
    "than doing this in a for loop. Vectorized operations are much more\n",
    "computationally efficient.  For example:"
   ]
  },
  {
   "cell_type": "code",
   "execution_count": 16,
   "metadata": {
    "ExecuteTime": {
     "end_time": "2018-08-26T16:03:27.683765Z",
     "start_time": "2018-08-26T16:03:20.973069Z"
    }
   },
   "outputs": [
    {
     "name": "stdout",
     "output_type": "stream",
     "text": [
      "3.32 µs ± 57 ns per loop (mean ± std. dev. of 7 runs, 100000 loops each)\n",
      "5.36 µs ± 73.1 ns per loop (mean ± std. dev. of 7 runs, 100000 loops each)\n"
     ]
    }
   ],
   "source": [
    "%timeit y = np.dot(X, theta)\n",
    "\n",
    "def compute_hypothesis_using_loop(X, theta):\n",
    "    y = np.empty((X.shape[0], 1)) # create empty array to hold and return result\n",
    "    \n",
    "    for i in range(X.shape[0]):\n",
    "        x = X[i, 1] # extract ith house square feet\n",
    "        y[i,0] = theta[0, 0] + theta[1, 0] * x # theta[0,0] is our intercept and theta[1, 0] is our slope\n",
    "\n",
    "    return y\n",
    "\n",
    "%timeit y = compute_hypothesis_using_loop(X, theta)"
   ]
  },
  {
   "cell_type": "markdown",
   "metadata": {},
   "source": [
    "This will usually be about 2 or 3 times slower using an explicit loop.  And the\n",
    "penalty is much much worse if your input data X has a large number of\n",
    "houses.  Here with only 4 houses you don't get a real good feel for how much\n",
    "faster the vectorized version can be compared to explicitly iterating\n",
    "in a loop to calculate the hypothesis."
   ]
  },
  {
   "cell_type": "markdown",
   "metadata": {},
   "source": [
    "# Video W1 15: Matrix Vector Multiplication\n",
    "\n",
    "There was a duplicate in the playlist of the Matrix Vector multiplication video, so ignore W1 15.\n",
    "\n",
    "\n",
    "# Video W1 16: Matrix Matrix Multiplication\n",
    "\n",
    "[YouTube Video Link](https://www.youtube.com/watch?v=aqK2Y0l2rXE&list=PLZ9qNFMHZ-A4rycgrgOYma6zxF4BZGGPW&index=16)\n",
    "\n",
    "## Multiplying two matrices together\n",
    "\n",
    "This is really a simple extension of the matrix by vector multiplication:\n",
    "\n",
    "$$\n",
    "\\begin{bmatrix}\n",
    "1 &  3 & 2 \\\\ \n",
    "4 &  0 & 1 \\\\ \n",
    "\\end{bmatrix}\n",
    "\\begin{bmatrix}\n",
    "1 & 3 \\\\ \n",
    "0 & 1 \\\\\n",
    "5 & 2 \\\\\n",
    "\\end{bmatrix}\n",
    "=\n",
    "\\begin{bmatrix}\n",
    "11 & 10 \\\\\n",
    "9  & 14 \\\\\n",
    "\\end{bmatrix}\n",
    "$$\n",
    "\n",
    "In `NumPy` we still use the same `np.dot()` function to perform matrix by matrix multiplication:"
   ]
  },
  {
   "cell_type": "code",
   "execution_count": 17,
   "metadata": {
    "ExecuteTime": {
     "end_time": "2018-08-26T16:03:27.690944Z",
     "start_time": "2018-08-26T16:03:27.685456Z"
    }
   },
   "outputs": [
    {
     "name": "stdout",
     "output_type": "stream",
     "text": [
      "[[11 10]\n",
      " [ 9 14]]\n"
     ]
    }
   ],
   "source": [
    "A = np.array([[1, 3, 2],\n",
    "              [4, 0, 1]])\n",
    "B = np.array([[1, 3],\n",
    "              [0, 1],\n",
    "              [5, 2]])\n",
    "\n",
    "print(np.dot(A, B))"
   ]
  },
  {
   "cell_type": "code",
   "execution_count": 18,
   "metadata": {
    "ExecuteTime": {
     "end_time": "2018-08-26T16:03:27.817829Z",
     "start_time": "2018-08-26T16:03:27.693025Z"
    }
   },
   "outputs": [
    {
     "name": "stdout",
     "output_type": "stream",
     "text": [
      "[[ 9  7]\n",
      " [15 12]]\n"
     ]
    }
   ],
   "source": [
    "# another example, a 2x2 times a 2x2 matrix\n",
    "A = np.array([[1, 3],\n",
    "              [2, 5]])\n",
    "B = np.array([[0, 1],\n",
    "              [3, 2]])\n",
    "\n",
    "print(np.dot(A, B))"
   ]
  },
  {
   "cell_type": "markdown",
   "metadata": {},
   "source": [
    "## More Neat Tricks\n",
    "\n",
    "Lets say instead of 1 hypothesis, we instead have 3 hypotheses that we want to calculate the predicted price for a set of houses\n",
    "for:\n",
    "\n",
    "$$\n",
    "h_\\theta(x) = -40 + 0.25x\n",
    "$$\n",
    "\n",
    "$$\n",
    "h_\\theta(x) = 200 + 0.1x\n",
    "$$\n",
    "\n",
    "$$\n",
    "h_\\theta(x) = -150 + 0.4x\n",
    "$$\n",
    "\n",
    "\n",
    "We can use matrix matrix multiplication to perform all of the prediction calculations in a single vectorized operation.\n"
   ]
  },
  {
   "cell_type": "code",
   "execution_count": 19,
   "metadata": {
    "ExecuteTime": {
     "end_time": "2018-08-26T16:03:27.908611Z",
     "start_time": "2018-08-26T16:03:27.820365Z"
    }
   },
   "outputs": [
    {
     "name": "stdout",
     "output_type": "stream",
     "text": [
      "[[486.  410.4 691.6]\n",
      " [314.  341.6 416.4]\n",
      " [343.5 353.4 463.6]\n",
      " [173.  285.2 190.8]]\n"
     ]
    }
   ],
   "source": [
    "X = np.array([[1, 2104],\n",
    "              [1, 1416],\n",
    "              [1, 1534],\n",
    "              [1, 852]])\n",
    "\n",
    "Theta = np.array([[-40, 200, -150],\n",
    "                  [0.25, 0.1, 0.4]])\n",
    "\n",
    "print(np.dot(X, Theta))"
   ]
  },
  {
   "cell_type": "markdown",
   "metadata": {},
   "source": [
    "The resulting matrix gives the hypothesized price for each of the 4 houses\n",
    "(the rows of the matrix).  Each column represents a different hypothesized\n",
    "price, thus we have 3 columns for each of the 3 hypothesis being calculated.\n",
    "This multiplication can of course be extended to any number of houses\n",
    "(with any number of input features) and for any number of hypothesis we\n",
    "want to evaluate.\n",
    "\n",
    "Also, as discussed previously, the vectorized operation of calculating all\n",
    "hypothesis for all houses shown here will be much faster than if we explicitly\n",
    "wrote some nested loops to calculate each of the hypothesized house prices\n",
    "one by one."
   ]
  },
  {
   "cell_type": "markdown",
   "metadata": {},
   "source": [
    "# Video W1 17: Matrix Multiplication Properties\n",
    "\n",
    "[YouTube Video Link](https://www.youtube.com/watch?v=00GJM2Js7AI&index=17&list=PLZ9qNFMHZ-A4rycgrgOYma6zxF4BZGGPW)\n",
    "\n",
    "A discussion of some things you should be aware when using linear algebra matrix operations.\n",
    "\n",
    "- Matrix multipication is not commutative $ A \\times B \\ne B \\times A$\n",
    "- However, matrix multiplication is associative \n",
    "  $(A \\times B) \\times C = A \\times (B \\times C)$\n"
   ]
  },
  {
   "cell_type": "code",
   "execution_count": 20,
   "metadata": {
    "ExecuteTime": {
     "end_time": "2018-08-26T16:03:28.000181Z",
     "start_time": "2018-08-26T16:03:27.910625Z"
    }
   },
   "outputs": [
    {
     "name": "stdout",
     "output_type": "stream",
     "text": [
      "[[2 0]\n",
      " [0 0]]\n",
      "[[0 0]\n",
      " [2 2]]\n"
     ]
    }
   ],
   "source": [
    "# matrix multiplication IS NOT commutative\n",
    "A = np.array([[1, 1],\n",
    "              [0, 0]])\n",
    "B = np.array([[0, 0],\n",
    "              [2, 0]])\n",
    "\n",
    "print(np.dot(A, B))\n",
    "print(np.dot(B, A))"
   ]
  },
  {
   "cell_type": "code",
   "execution_count": 21,
   "metadata": {
    "ExecuteTime": {
     "end_time": "2018-08-26T16:03:28.137068Z",
     "start_time": "2018-08-26T16:03:28.002103Z"
    }
   },
   "outputs": [
    {
     "name": "stdout",
     "output_type": "stream",
     "text": [
      "[[4 0]\n",
      " [0 0]]\n",
      "[[4 0]\n",
      " [0 0]]\n"
     ]
    }
   ],
   "source": [
    "# Matrix multiplication IS associative\n",
    "C = np.array([[2, 0],\n",
    "              [2, 1]])\n",
    "\n",
    "Tmp = np.dot(A, B)\n",
    "print(np.dot(Tmp, C))\n",
    "\n",
    "Tmp = np.dot(B,C)\n",
    "print(np.dot(A, Tmp))"
   ]
  },
  {
   "cell_type": "markdown",
   "metadata": {},
   "source": [
    "## Identity Matrix\n",
    "\n",
    "For scalar values, the value 1 is the identity, e.g $1 \\times z = z \\times 1 = z$.\n",
    "\n",
    "For matrices there is an identity matrix, denotied as $I$ or $(I_{n \\times n})$.  The identity matrix has 1's on the diagonal, and\n",
    "zeros every else."
   ]
  },
  {
   "cell_type": "code",
   "execution_count": 22,
   "metadata": {
    "ExecuteTime": {
     "end_time": "2018-08-26T16:03:28.217088Z",
     "start_time": "2018-08-26T16:03:28.139310Z"
    }
   },
   "outputs": [
    {
     "name": "stdout",
     "output_type": "stream",
     "text": [
      "[[1. 0. 0. 0.]\n",
      " [0. 1. 0. 0.]\n",
      " [0. 0. 1. 0.]\n",
      " [0. 0. 0. 1.]]\n"
     ]
    }
   ],
   "source": [
    "# the 4x4 identity matrix\n",
    "print(np.eye(4))"
   ]
  },
  {
   "cell_type": "markdown",
   "metadata": {},
   "source": [
    "For any matrix $A$,\n",
    "\n",
    "$$\n",
    "A \\cdot I = I \\cdot A = A\n",
    "$$"
   ]
  },
  {
   "cell_type": "code",
   "execution_count": 23,
   "metadata": {
    "ExecuteTime": {
     "end_time": "2018-08-26T16:03:28.313726Z",
     "start_time": "2018-08-26T16:03:28.218928Z"
    }
   },
   "outputs": [
    {
     "name": "stdout",
     "output_type": "stream",
     "text": [
      "[[3. 4. 7.]\n",
      " [1. 8. 2.]\n",
      " [9. 6. 5.]]\n",
      "[[3. 4. 7.]\n",
      " [1. 8. 2.]\n",
      " [9. 6. 5.]]\n"
     ]
    }
   ],
   "source": [
    "A = np.array([[3, 4, 7],\n",
    "              [1, 8, 2],\n",
    "              [9, 6, 5]])\n",
    "\n",
    "I = np.eye(3)\n",
    "\n",
    "print(np.dot(A, I))\n",
    "print(np.dot(I, A))"
   ]
  },
  {
   "cell_type": "markdown",
   "metadata": {},
   "source": [
    "# Video W1 18: Inverse and Transpose\n",
    "\n",
    "[YouTube Video Link](https://www.youtube.com/watch?v=9McrlFqn-gg&index=18&list=PLZ9qNFMHZ-A4rycgrgOYma6zxF4BZGGPW)\n",
    "\n",
    "## Matrix Inverse\n",
    "\n",
    "The inverse of a scalar is simply the value such that when you multiple the scalar by its inverse you get 1.\n",
    "\n",
    "For example:\n",
    "$$\n",
    "3 \\times 3^{-1} = 3 \\times \\frac{1}{3} = 1\n",
    "$$\n",
    "\n",
    "For a matrix, the inverse of a matrix is a matrix such that:\n",
    "\n",
    "$$\n",
    "A \\cdot (A^{-1}) = A^{-1} \\cdot A = I\n",
    "$$\n",
    "\n",
    "Only square matrices can have inverses.  But not all square matrices are guaranted to have an inverse.  Finding the inverse of\n",
    "a square matrix (if it exists) can be difficult.  Here is an example of a matrix and its inverse:"
   ]
  },
  {
   "cell_type": "code",
   "execution_count": 24,
   "metadata": {
    "ExecuteTime": {
     "end_time": "2018-08-26T16:03:28.405440Z",
     "start_time": "2018-08-26T16:03:28.315804Z"
    }
   },
   "outputs": [
    {
     "name": "stdout",
     "output_type": "stream",
     "text": [
      "[[ 1.00000000e+00 -5.55111512e-17]\n",
      " [ 0.00000000e+00  1.00000000e+00]]\n"
     ]
    }
   ],
   "source": [
    "A = np.array([[3, 4],\n",
    "              [2, 16]])\n",
    "Ainv = np.array([[0.4, -0.1],\n",
    "                 [-0.05, 0.075]])\n",
    "\n",
    "# show that Ainv is the inverse of A\n",
    "print(np.dot(A, Ainv))"
   ]
  },
  {
   "cell_type": "markdown",
   "metadata": {},
   "source": [
    "Don't be confused if the numbers (especially the 0's), are't exactly 1 or 0, the result is very close to the Identity matrix \n",
    "(within machine precision of the calculation).\n",
    "\n",
    "How do we compute the Inverse of a matrix?  There are algorithms to do this (of course), and it is difficult to do by hand.\n",
    "The `NumPy` library has functions that can be used to compute the inverse of a matrix:"
   ]
  },
  {
   "cell_type": "code",
   "execution_count": 25,
   "metadata": {
    "ExecuteTime": {
     "end_time": "2018-08-26T16:03:28.497099Z",
     "start_time": "2018-08-26T16:03:28.407552Z"
    }
   },
   "outputs": [
    {
     "name": "stdout",
     "output_type": "stream",
     "text": [
      "[[ 0.4   -0.1  ]\n",
      " [-0.05   0.075]]\n"
     ]
    }
   ],
   "source": [
    "print(np.linalg.inv(A))"
   ]
  },
  {
   "cell_type": "code",
   "execution_count": 26,
   "metadata": {
    "ExecuteTime": {
     "end_time": "2018-08-26T16:03:28.587239Z",
     "start_time": "2018-08-26T16:03:28.499374Z"
    }
   },
   "outputs": [
    {
     "name": "stdout",
     "output_type": "stream",
     "text": [
      "[[1. 0.]\n",
      " [0. 1.]]\n"
     ]
    }
   ],
   "source": [
    "print(np.dot(A, np.linalg.inv(A)))"
   ]
  },
  {
   "cell_type": "markdown",
   "metadata": {},
   "source": [
    "Some scalar values don't have an inverse, for example 0 doesn't have an inverse.  Likewise, some matrices don't have an inverse.\n",
    "However for machine learning this is usually not an issue, because often there are pseudo inverses that are close enough for\n",
    "machine learning purposes."
   ]
  },
  {
   "cell_type": "markdown",
   "metadata": {},
   "source": [
    "## Matrix Transpose\n",
    "\n",
    "The transpose of matrix simply flips the row and column indexes of a matrix:\n",
    "\n",
    "$$\n",
    "A =\n",
    "\\begin{bmatrix}\n",
    "1 &  2 & 0 \\\\ \n",
    "3 &  5 & 9 \\\\ \n",
    "\\end{bmatrix}\n",
    "\\;\\;\\;\n",
    "A^T =\n",
    "\\begin{bmatrix}\n",
    "1 &  3 \\\\ \n",
    "2 &  5\\\\\n",
    "0 & 9 \\\\\n",
    "\\end{bmatrix}\n",
    "$$"
   ]
  },
  {
   "cell_type": "code",
   "execution_count": 27,
   "metadata": {
    "ExecuteTime": {
     "end_time": "2018-08-26T16:03:28.688907Z",
     "start_time": "2018-08-26T16:03:28.589092Z"
    }
   },
   "outputs": [
    {
     "name": "stdout",
     "output_type": "stream",
     "text": [
      "[[1 3]\n",
      " [2 5]\n",
      " [0 9]]\n",
      "[[1 3]\n",
      " [2 5]\n",
      " [0 9]]\n"
     ]
    }
   ],
   "source": [
    "A = np.array([[1, 2, 0],\n",
    "              [3, 5, 9]])\n",
    "\n",
    "# we can use the transpose function from NumPy\n",
    "print(np.transpose(A))\n",
    "\n",
    "# or we can use the convenience attribute x.T\n",
    "print(A.T) "
   ]
  },
  {
   "cell_type": "code",
   "execution_count": 29,
   "metadata": {
    "ExecuteTime": {
     "end_time": "2018-08-26T16:03:28.825978Z",
     "start_time": "2018-08-26T16:03:28.690842Z"
    }
   },
   "outputs": [
    {
     "name": "stdout",
     "output_type": "stream",
     "text": [
      "              Module   Versions\n",
      "--------------------   ------------------------------------------------------------\n",
      "              numpy:   ['1.18.5']\n",
      "             pandas:   ['1.0.5']\n",
      "            seaborn:   ['0.10.1']\n"
     ]
    }
   ],
   "source": [
    "import sys\n",
    "sys.path.append(\"../../src\") # add our class modules to the system PYTHON_PATH\n",
    "\n",
    "from ml_python_class.custom_funcs import version_information\n",
    "version_information()"
   ]
  }
 ],
 "metadata": {
  "author": "m",
  "kernelspec": {
   "display_name": "python3-datasci",
   "language": "python",
   "name": "python3-datasci"
  },
  "language_info": {
   "codemirror_mode": {
    "name": "ipython",
    "version": 3
   },
   "file_extension": ".py",
   "mimetype": "text/x-python",
   "name": "python",
   "nbconvert_exporter": "python",
   "pygments_lexer": "ipython3",
   "version": "3.6.10"
  },
  "latex_envs": {
   "LaTeX_envs_menu_present": true,
   "autoclose": true,
   "autocomplete": true,
   "bibliofile": "biblio.bib",
   "cite_by": "apalike",
   "current_citInitial": 1,
   "eqLabelWithNumbers": true,
   "eqNumInitial": 1,
   "hotkeys": {
    "equation": "Ctrl-E",
    "itemize": "Ctrl-I"
   },
   "labels_anchors": false,
   "latex_user_defs": false,
   "report_style_numbering": false,
   "user_envs_cfg": false
  },
  "toc": {
   "base_numbering": 1,
   "nav_menu": {},
   "number_sections": true,
   "sideBar": true,
   "skip_h1_title": false,
   "title_cell": "Table of Contents",
   "title_sidebar": "Contents",
   "toc_cell": false,
   "toc_position": {},
   "toc_section_display": true,
   "toc_window_display": false
  },
  "varInspector": {
   "cols": {
    "lenName": 16,
    "lenType": 16,
    "lenVar": 40
   },
   "kernels_config": {
    "python": {
     "delete_cmd_postfix": "",
     "delete_cmd_prefix": "del ",
     "library": "var_list.py",
     "varRefreshCmd": "print(var_dic_list())"
    },
    "r": {
     "delete_cmd_postfix": ") ",
     "delete_cmd_prefix": "rm(",
     "library": "var_list.r",
     "varRefreshCmd": "cat(var_dic_list()) "
    }
   },
   "types_to_exclude": [
    "module",
    "function",
    "builtin_function_or_method",
    "instance",
    "_Feature"
   ],
   "window_display": false
  }
 },
 "nbformat": 4,
 "nbformat_minor": 4
}

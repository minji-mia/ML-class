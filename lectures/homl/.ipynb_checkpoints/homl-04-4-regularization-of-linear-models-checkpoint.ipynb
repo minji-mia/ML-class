{
 "cells": [
  {
   "cell_type": "code",
   "execution_count": 1,
   "metadata": {},
   "outputs": [],
   "source": [
    "# general imports usually needed\n",
    "import numpy as np\n",
    "import matplotlib as mpl\n",
    "import matplotlib.animation\n",
    "import matplotlib.pyplot as plt\n",
    "import seaborn as sbn\n",
    "import pandas as pd"
   ]
  },
  {
   "cell_type": "code",
   "execution_count": 2,
   "metadata": {},
   "outputs": [],
   "source": [
    "# libraries more specific to this lecture notebook\n",
    "import os.path\n",
    "import sys\n",
    "sys.path.append('../../src')\n",
    "from ml_python_class.config import DATA_DIR\n",
    "\n",
    "from sklearn.linear_model import LinearRegression\n",
    "from sklearn.linear_model import SGDRegressor\n",
    "from sklearn.linear_model import Ridge\n",
    "from sklearn.linear_model import Lasso\n",
    "from sklearn.linear_model import ElasticNet\n",
    "from sklearn.preprocessing import PolynomialFeatures\n",
    "from sklearn.metrics import mean_squared_error\n",
    "from sklearn.model_selection import train_test_split\n",
    "from sklearn.pipeline import Pipeline"
   ]
  },
  {
   "cell_type": "code",
   "execution_count": 3,
   "metadata": {},
   "outputs": [],
   "source": [
    "# notebook wide settings to make plots more readable and visually better to understand\n",
    "np.set_printoptions(suppress=True)\n",
    "\n",
    "#%matplotlib widget\n",
    "#%matplotlib inline\n",
    "\n",
    "plt.rc('axes', labelsize=14)\n",
    "plt.rc('xtick', labelsize=12)\n",
    "plt.rc('ytick', labelsize=12)\n",
    "plt.rc('figure', titlesize=18)\n",
    "plt.rc('legend', fontsize=14)\n",
    "plt.rcParams['figure.figsize'] = (12.0, 8.0) # default figure size if not specified in plot\n",
    "plt.style.use('seaborn-darkgrid')\n"
   ]
  },
  {
   "cell_type": "markdown",
   "metadata": {},
   "source": [
    "# 4. (Chapter 4) Training Models\n",
    "\n",
    "In this chapter we will begin our study of Machine Learning algorithms in earnest.  Up\n",
    "to this point you have gotten a taste of using some ML models as black boxes.\n",
    "You don't really know internally what they are doing or how they work.  But still, learning\n",
    "the API of how to create data sets and set up models for training, and knowning in\n",
    "general what supervisied learning is and how you train a model to fit a dataset is\n",
    "sufficient to start working with ML.\n",
    "\n",
    "However, at some point you will be working with a dataset and you will get some\n",
    "weird or unexpected results.  Also there are myriads of parameters and hyper-parameters,\n",
    "not to mention issues with formatting and cleaning your data, and tweaking\n",
    "training procedures, etc. that will all always be a bit mysterious and/or you will only\n",
    "learn by wrote checklists, if you don't understand some of the fundamentals of the\n",
    "internal implemenations of the various ML algorithms you use.\n",
    "\n",
    "Understanding whats under the hood will help you quickly understand what types of ML\n",
    "models will be promising or not for the data you have.  It will give you an understanding\n",
    "of the hyper-parameters the model uses, and what you might want to try for these parameters\n",
    "to get good results.  Understanding whats under the hood will also allow you to debug\n",
    "and spot issues you have with training and debugging your models.  It will allow you\n",
    "to perform error analysis, and better understand why your models may be working, and why\n",
    "they may be failing, so that you can tweak things to improve their performance.\n",
    "\n",
    "In short, while you can be a push-button/check-list using data analyst, if you eventually\n",
    "want to improve your skills and become a better data scientist, you need to start\n",
    "learning the internal working of ML algorithms.  Our goal in this class is to begin\n",
    "your journey along this path.  We won't become experts on any of the ML methods we \n",
    "will look at, but we hope to introduce you to the fundamental concepts and inner\n",
    "workings, so that you can beging to understand more deeply how the techniques work.\n",
    "\n",
    "In this chapter, and units of our course, we will begin by looking at **linear regression**\n",
    "(which we have used already), followed by **logistic regression**.  These units are very\n",
    "important, as these models have basic concepts that are often similar across many types\n",
    "of ML algorithms.  We will look at the idea of the **cost function** (or **fitness function**),\n",
    "and how this can be used with techniques like **gradient descent** to fit the parameters\n",
    "of a model in general to make predictions about a set of data.  Linear regression\n",
    "is a technique for performing regression modeling (predict real valued outputs), while\n",
    "logistic regression is useful for classification (despite its name, which is a bit\n",
    "misleading at best).  By comparing similarities and differences of cost functions and\n",
    "fitting models between regression and classification tasks, we will illustrate some general\n",
    "principles of ML that apply to many types of supervisied learning models, whether\n",
    "regression or classification tasks."
   ]
  },
  {
   "cell_type": "markdown",
   "metadata": {},
   "source": [
    "## 4.5 Regularized Linear Models\n",
    "\n",
    "In practice we will never know what the right complexity of the model is we should use to get\n",
    "the best balance of bias and variance.  But if the model seems like it might be overfitting, we\n",
    "can try and reduce this by **regularizing** the model.  For example, a good way to reduce overfitting\n",
    "and regularize a polynomial regression is to reduce the number of polynomial degrees.\n",
    "\n",
    "Most ML supervised learning models have similar ways to regularize them.  For a linear model (like many\n",
    "other types of methods) regularization is typically achieved by constraining the weights of\n",
    "the model in some way."
   ]
  },
  {
   "cell_type": "markdown",
   "metadata": {},
   "source": [
    "### Ridge Regression\n",
    "\n",
    "**Ridge regression** is a regularized version of linear regression.  We simply add in \n",
    "a **regularization term** to the cost function, like this:\n",
    "\n",
    "$$\n",
    "\\text{regularization penality} = \\alpha \\sum_{i=1}^{n} \\theta_i^2\n",
    "$$\n",
    "\n",
    "We basically sum up the square of the $n$ parameters/weights of the linear model.  Thus if these\n",
    "parameters are really high, the regularization penality will be high.  So for example, for a\n",
    "polynomial regression with many high-degree terms, this penality will tend to make the\n",
    "fitting want to reduce the weights to small or 0 values, especially when the high-degree\n",
    "terms are not hellping the model in reducing the RMSE error for the data much.\n",
    "\n",
    "The regularization penality term should only be added to the cost function during training.  Once\n",
    "trained, you want to evaluate the model's error performance using the unregularized performance\n",
    "measure.\n",
    "\n",
    "The hyperparameter $\\alpha$ controls how much weight is given to the regularization penalty.\n",
    "Of course if $\\alpha = 0$ then there is no penality, and ridge regression simply reduces\n",
    "to regular linear regression.  But if $\\alpha$ is very large, then all weights\n",
    "will tend to end up very close to zero, and the result will be a flat line going through the\n",
    "data's mean.\n",
    "\n",
    "So for example, for ridge regression the cost function (often called $J(\\theta)$) looks like\n",
    "this:\n",
    "\n",
    "$$\n",
    "J(\\theta) = MSE(\\theta) + \\alpha \\frac{1}{2}\\sum_{i=1}^n \\theta_i^2\n",
    "$$\n",
    "\n",
    "Notice that the summation is summing over the $n$ features we are fitting (not the m samples) because\n",
    "we are penalizing based on the feature weight parameter values.  Notice also that\n",
    "the sum starts at $i = 1$, so we do not include the bias/intercept term $\\theta_0$ in our\n",
    "regularized penality term.  \n",
    "\n",
    "As an example, lets train several ridge regression models.  We will use our made up quadratic data,\n",
    "and a degree 10 polynomial fit.  "
   ]
  },
  {
   "cell_type": "code",
   "execution_count": 4,
   "metadata": {},
   "outputs": [],
   "source": [
    "# number of samples in our system\n",
    "m = 100\n",
    "\n",
    "# x values randomly range from -3 to 3\n",
    "X = 2 * np.random.rand(m,1) - 1\n",
    "\n",
    "# create y targets\n",
    "y = 0.5 * X**2.0 + 0.75 * X + 3.0\n",
    "\n",
    "# but make the y targets a bit noisy\n",
    "y = y + np.random.randn(m,1)*0.5"
   ]
  },
  {
   "cell_type": "code",
   "execution_count": 5,
   "metadata": {},
   "outputs": [
    {
     "data": {
      "text/plain": [
       "Pipeline(steps=[('poly_features',\n",
       "                 PolynomialFeatures(degree=25, include_bias=False)),\n",
       "                ('ridge_reg', Ridge(alpha=0, solver='svd'))])"
      ]
     },
     "execution_count": 5,
     "metadata": {},
     "output_type": "execute_result"
    }
   ],
   "source": [
    "from sklearn.linear_model import Ridge\n",
    "\n",
    "# ridge regression using alpha of 0, e.g. just a linear regression\n",
    "ridge_reg_0 = Pipeline([\n",
    "    ('poly_features', PolynomialFeatures(degree=25, include_bias=False)),\n",
    "    ('ridge_reg', Ridge(alpha=0, solver='svd')),\n",
    "])\n",
    "ridge_reg_0.fit(X, y)"
   ]
  },
  {
   "cell_type": "code",
   "execution_count": 6,
   "metadata": {},
   "outputs": [
    {
     "data": {
      "text/plain": [
       "Pipeline(steps=[('poly_features',\n",
       "                 PolynomialFeatures(degree=25, include_bias=False)),\n",
       "                ('ridge_reg', Ridge(solver='svd'))])"
      ]
     },
     "execution_count": 6,
     "metadata": {},
     "output_type": "execute_result"
    }
   ],
   "source": [
    "# ridge regression using small alpha of 0.001\n",
    "ridge_reg_small = Pipeline([\n",
    "    ('poly_features', PolynomialFeatures(degree=25, include_bias=False)),\n",
    "    ('ridge_reg', Ridge(alpha=1.0, solver='svd')),\n",
    "])\n",
    "ridge_reg_small.fit(X, y)"
   ]
  },
  {
   "cell_type": "code",
   "execution_count": 7,
   "metadata": {},
   "outputs": [
    {
     "data": {
      "text/plain": [
       "Pipeline(steps=[('poly_features',\n",
       "                 PolynomialFeatures(degree=25, include_bias=False)),\n",
       "                ('ridge_reg', Ridge(alpha=100.0, solver='svd'))])"
      ]
     },
     "execution_count": 7,
     "metadata": {},
     "output_type": "execute_result"
    }
   ],
   "source": [
    "# ridge regression using alpha of 1\n",
    "ridge_reg_1 = Pipeline([\n",
    "    ('poly_features', PolynomialFeatures(degree=25, include_bias=False)),\n",
    "    ('ridge_reg', Ridge(alpha=100.0, solver='svd')),\n",
    "])\n",
    "ridge_reg_1.fit(X, y)"
   ]
  },
  {
   "cell_type": "code",
   "execution_count": 8,
   "metadata": {},
   "outputs": [
    {
     "data": {
      "image/png": "[encoded data removed]",
      "text/plain": [
       "<Figure size 864x576 with 1 Axes>"
      ]
     },
     "metadata": {},
     "output_type": "display_data"
    }
   ],
   "source": [
    "# display the target data, along with the true quadratic function that generated the relationship between\n",
    "# the variable x and the target value y\n",
    "plt.scatter(X, y);\n",
    "x_h = np.linspace(-1.0, 1.0, 100)\n",
    "y_h = 0.5 * x_h**2.0 + 0.75 * x_h + 3.0\n",
    "plt.plot(x_h, y_h, 'k--', label='true function')\n",
    "\n",
    "# add predictions from alpha=0 linear regression\n",
    "x_h = x_h.reshape(-1,1)\n",
    "plt.plot(x_h, ridge_reg_0.predict(x_h), label=r'$\\alpha = 0$')\n",
    "\n",
    "# add predictions from alpha=small ridge regression\n",
    "x_h = x_h.reshape(-1,1)\n",
    "plt.plot(x_h, ridge_reg_small.predict(x_h), label=r'$\\alpha = 1.0$')\n",
    "\n",
    "# add predictions from alpha=s1 ridge regression\n",
    "x_h = x_h.reshape(-1,1)\n",
    "plt.plot(x_h, ridge_reg_1.predict(x_h), label=r'$\\alpha = 100.0$')\n",
    "\n",
    "# add labels and info to plot\n",
    "plt.xlabel(r'$x_1$')\n",
    "plt.ylabel('$y$')\n",
    "plt.ylim(1, 5)\n",
    "plt.legend();"
   ]
  },
  {
   "cell_type": "markdown",
   "metadata": {},
   "source": [
    "Notice that with no regularization ($\\alpha = 0$) the model badly overfits, it wiggles and squirms\n",
    "around to hit the data points, as we saw before.  But adding just the right amount of\n",
    "regularization, like $\\alpha = 1.0$ results in a model that reduces most of the \n",
    "unneded high-order polynomial feature weights to 0, and fits the curve relatively well.\n",
    "If you add on too much regularization, you will end up reducing all feature parameters\n",
    "to 0, and get a straight line ($\\alpha = 100.0$)\n",
    "\n",
    "If you look at the actual parameters for the $\\alpha = 1.0$ ridge regression model, you\n",
    "will see this.  Recall that the actual data is generated from \n",
    "$\\frac{1}{2} x^2 + \\frac{3}{4} x + 3$"
   ]
  },
  {
   "cell_type": "code",
   "execution_count": 9,
   "metadata": {},
   "outputs": [
    {
     "data": {
      "text/plain": [
       "(array([3.03129817]),\n",
       " array([[ 0.77596681,  0.33588531,  0.28705503,  0.22941149,  0.05056167,\n",
       "          0.17271952, -0.04002871,  0.10654314, -0.07458008,  0.04660844,\n",
       "         -0.08376998, -0.0013128 , -0.07978037, -0.03789591, -0.06845412,\n",
       "         -0.06556853, -0.05299012, -0.08674041, -0.03527267, -0.10334417,\n",
       "         -0.01645482, -0.11681167,  0.00274283, -0.12816428,  0.02186457]]))"
      ]
     },
     "execution_count": 9,
     "metadata": {},
     "output_type": "execute_result"
    }
   ],
   "source": [
    "ridge_reg_small['ridge_reg'].intercept_, ridge_reg_small['ridge_reg'].coef_"
   ]
  },
  {
   "cell_type": "code",
   "execution_count": 10,
   "metadata": {},
   "outputs": [
    {
     "data": {
      "text/plain": [
       "(array([3.1496057]),\n",
       " array([[0.19000263, 0.04454899, 0.10583937, 0.03795704, 0.07041041,\n",
       "         0.03105209, 0.05123322, 0.02524622, 0.03928752, 0.02051536,\n",
       "         0.03121863, 0.01667428, 0.02547738, 0.01354171, 0.02123868,\n",
       "         0.0109684 , 0.01802059, 0.00883735, 0.01552339, 0.00705827,\n",
       "         0.01355182, 0.00556166, 0.0119738 , 0.0042938 , 0.01069707]]))"
      ]
     },
     "execution_count": 10,
     "metadata": {},
     "output_type": "execute_result"
    }
   ],
   "source": [
    "ridge_reg_1['ridge_reg'].intercept_, ridge_reg_1['ridge_reg'].coef_"
   ]
  },
  {
   "cell_type": "markdown",
   "metadata": {},
   "source": [
    "While not perfect, you will see that the first two coefficient, which are the $x^1$ and\n",
    "$x^2$ coefficients, are generally the larger ones.  Most others are closer to 0, though\n",
    "the terms that are still powers of 2, like the $x^4, x^8$ etc. tend to be still the higher terms\n",
    "as they will have similar effects to the $x^2$ term here."
   ]
  },
  {
   "cell_type": "markdown",
   "metadata": {},
   "source": [
    "The regularization term we have used for ridge regression is actually the norm of the\n",
    "feature weight vector (see linear algebra review). This is known as the l-2 (or $\\ell_2$) norm.\n",
    "So in many models you will see l-2 regularization as an option, which is the same thing, adding\n",
    "on a penality based on the size of the feature weight parameters.\n",
    "\n",
    "For example, using an `SGDRegressor`, which by default use the RMSE cost function, we can get\n",
    "ridge regression by asking the regressor object to apply `l2` penality to the cost, which\n",
    "is the regularization we have been using."
   ]
  },
  {
   "cell_type": "code",
   "execution_count": 11,
   "metadata": {},
   "outputs": [
    {
     "data": {
      "text/plain": [
       "(array([2.9412734]),\n",
       " array([ 0.42943501,  0.43455866,  0.23005671,  0.20414079,  0.14019681,\n",
       "         0.1180319 ,  0.09469688,  0.07380219,  0.06885479,  0.04744397,\n",
       "         0.05290907,  0.03043933,  0.04251773,  0.01890783,  0.03549631,\n",
       "         0.01079589,  0.03063089,  0.00491431,  0.02719775,  0.00053451,\n",
       "         0.02474406, -0.00280727,  0.02297635, -0.00541481,  0.02169896]))"
      ]
     },
     "execution_count": 11,
     "metadata": {},
     "output_type": "execute_result"
    }
   ],
   "source": [
    "# fit regression using stochastic gradient descent on a degree-25 model\n",
    "sgd_reg = Pipeline([\n",
    "    ('poly_features', PolynomialFeatures(degree=25, include_bias=False)),\n",
    "    ('sgd_reg', SGDRegressor(penalty='l2', alpha=0.1)),\n",
    "])\n",
    "sgd_reg.fit(X, y.ravel())\n",
    "sgd_reg['sgd_reg'].intercept_, sgd_reg['sgd_reg'].coef_"
   ]
  },
  {
   "cell_type": "markdown",
   "metadata": {},
   "source": [
    "### Lasso Regression\n",
    "\n",
    "**Least Absolute Shrinkage and Selection Operator Regression** (simply called *lasso regression*)\n",
    "is another regularized version of linear regression.  Just like ridge regression, it adds\n",
    "a regularization penality.  But it uses the l-1 ($\\ell_1$) norm of the weight vector, which\n",
    "is just the sum of the absolute values.\n",
    "\n",
    "$$\n",
    "J(\\theta) = MSE(\\theta) + \\alpha \\sum_{i=1}^{n} |\\theta_i|\n",
    "$$"
   ]
  },
  {
   "cell_type": "markdown",
   "metadata": {},
   "source": [
    "We can recreate our previous model using a lasso regression instead.  The two types of regularization\n",
    "penalities have different properties.  The $\\ell_1$ regularization using the absolute value will\n",
    "be more likely to completely eliminate the least important weights of the least important features.\n",
    "This can be especially useful for the scenario we are using here, as there are no actual\n",
    "features in the true data relationship above the degree-2 feature."
   ]
  },
  {
   "cell_type": "code",
   "execution_count": 12,
   "metadata": {},
   "outputs": [],
   "source": [
    "from sklearn.linear_model import Lasso"
   ]
  },
  {
   "cell_type": "code",
   "execution_count": 13,
   "metadata": {},
   "outputs": [
    {
     "name": "stderr",
     "output_type": "stream",
     "text": [
      "/opt/anaconda3/envs/python3-datasci/lib/python3.6/site-packages/sklearn/linear_model/_coordinate_descent.py:531: ConvergenceWarning: Objective did not converge. You might want to increase the number of iterations. Duality gap: 11.529999241030541, tolerance: 0.005506880197846195\n",
      "  positive)\n"
     ]
    },
    {
     "data": {
      "text/plain": [
       "Pipeline(steps=[('poly_features',\n",
       "                 PolynomialFeatures(degree=25, include_bias=False)),\n",
       "                ('lasso_reg', Lasso(alpha=1e-09))])"
      ]
     },
     "execution_count": 13,
     "metadata": {},
     "output_type": "execute_result"
    }
   ],
   "source": [
    "# lasso regression using alpha of 0, e.g. just a linear regression\n",
    "lasso_reg_0 = Pipeline([\n",
    "    ('poly_features', PolynomialFeatures(degree=25, include_bias=False)),\n",
    "    ('lasso_reg', Lasso(alpha=0.000000001)),\n",
    "])\n",
    "lasso_reg_0.fit(X, y)"
   ]
  },
  {
   "cell_type": "code",
   "execution_count": 14,
   "metadata": {},
   "outputs": [
    {
     "data": {
      "text/plain": [
       "Pipeline(steps=[('poly_features',\n",
       "                 PolynomialFeatures(degree=25, include_bias=False)),\n",
       "                ('lasso_reg', Lasso(alpha=0.01))])"
      ]
     },
     "execution_count": 14,
     "metadata": {},
     "output_type": "execute_result"
    }
   ],
   "source": [
    "# lasso regression using alpha of 1\n",
    "lasso_reg_small = Pipeline([\n",
    "    ('poly_features', PolynomialFeatures(degree=25, include_bias=False)),\n",
    "    ('lasso_reg', Lasso(alpha=0.01)),\n",
    "])\n",
    "lasso_reg_small.fit(X, y)"
   ]
  },
  {
   "cell_type": "code",
   "execution_count": 15,
   "metadata": {},
   "outputs": [
    {
     "data": {
      "text/plain": [
       "Pipeline(steps=[('poly_features',\n",
       "                 PolynomialFeatures(degree=25, include_bias=False)),\n",
       "                ('lasso_reg', Lasso())])"
      ]
     },
     "execution_count": 15,
     "metadata": {},
     "output_type": "execute_result"
    }
   ],
   "source": [
    "# lasso regression using alpha of 100\n",
    "lasso_reg_1 = Pipeline([\n",
    "    ('poly_features', PolynomialFeatures(degree=25, include_bias=False)),\n",
    "    ('lasso_reg', Lasso(alpha=1.0)),\n",
    "])\n",
    "lasso_reg_1.fit(X, y)"
   ]
  },
  {
   "cell_type": "code",
   "execution_count": 16,
   "metadata": {},
   "outputs": [
    {
     "data": {
      "image/png": "[encoded data removed]",
      "text/plain": [
       "<Figure size 864x576 with 1 Axes>"
      ]
     },
     "metadata": {},
     "output_type": "display_data"
    }
   ],
   "source": [
    "# display the target data, along with the true quadratic function that generated the relationship between\n",
    "# the variable x and the target value y\n",
    "plt.scatter(X, y);\n",
    "x_h = np.linspace(-1.0, 1.0, 100)\n",
    "y_h = 0.5 * x_h**2.0 + 0.75 * x_h + 3.0\n",
    "plt.plot(x_h, y_h, 'k--', label='true function')\n",
    "\n",
    "# add predictions from alpha=0 linear regression\n",
    "x_h = x_h.reshape(-1,1)\n",
    "plt.plot(x_h, lasso_reg_0.predict(x_h), label=r'$\\alpha = 0$')\n",
    "\n",
    "# add predictions from alpha=small ridge regression\n",
    "x_h = x_h.reshape(-1,1)\n",
    "plt.plot(x_h, lasso_reg_small.predict(x_h), label=r'$\\alpha = 0.01$')\n",
    "\n",
    "# add predictions from alpha=s1 ridge regression\n",
    "x_h = x_h.reshape(-1,1)\n",
    "plt.plot(x_h, lasso_reg_1.predict(x_h), label=r'$\\alpha = 1.0$')\n",
    "\n",
    "# add labels and info to plot\n",
    "plt.xlabel(r'$x_1$')\n",
    "plt.ylabel('$y$')\n",
    "plt.ylim(1, 5)\n",
    "plt.legend();"
   ]
  },
  {
   "cell_type": "code",
   "execution_count": 17,
   "metadata": {},
   "outputs": [
    {
     "data": {
      "text/plain": [
       "(array([3.03398833]),\n",
       " array([ 0.8839388,  0.5254786,  0.       ,  0.       ,  0.       ,\n",
       "         0.       ,  0.       ,  0.       , -0.       ,  0.       ,\n",
       "        -0.       ,  0.       , -0.       ,  0.       , -0.       ,\n",
       "         0.       , -0.       ,  0.       , -0.       ,  0.       ,\n",
       "        -0.       ,  0.       , -0.       ,  0.       , -0.       ]))"
      ]
     },
     "execution_count": 17,
     "metadata": {},
     "output_type": "execute_result"
    }
   ],
   "source": [
    "lasso_reg_small['lasso_reg'].intercept_, lasso_reg_small['lasso_reg'].coef_"
   ]
  },
  {
   "cell_type": "code",
   "execution_count": 18,
   "metadata": {},
   "outputs": [
    {
     "data": {
      "text/plain": [
       "(array([3.16921753]),\n",
       " array([ 0.,  0.,  0.,  0.,  0.,  0.,  0.,  0.,  0.,  0.,  0.,  0.,  0.,\n",
       "         0.,  0.,  0.,  0.,  0.,  0.,  0.,  0., -0.,  0., -0.,  0.]))"
      ]
     },
     "execution_count": 18,
     "metadata": {},
     "output_type": "execute_result"
    }
   ],
   "source": [
    "lasso_reg_1['lasso_reg'].intercept_, lasso_reg_1['lasso_reg'].coef_"
   ]
  },
  {
   "cell_type": "markdown",
   "metadata": {},
   "source": [
    "Notice the effect is particularly good here when we get the $\\alpha$ parameter\n",
    "at a good level for this data.  Lasso eliminates all of the highre order terms, and\n",
    "even though we have a highly powered model, determines it only needs the $x^1$ and $x^2$\n",
    "feater weights to model the data well.\n",
    "\n",
    "Notice also again that when the hyperparameter $\\alpha$ is too large, all weights\n",
    "are eliminated, and we end up with a straight line prediction that goes through\n",
    "the mean value of the data.\n",
    "\n",
    "Note that in the above example, we could again instead also use `SGDRegressor` but with\n",
    "a `penality=\"l1\"` to obtain the same cost function as the lasso regression."
   ]
  },
  {
   "cell_type": "markdown",
   "metadata": {},
   "source": [
    "### Elastic Net\n",
    "\n",
    "If you understand ridge regression and the $\\ell_2$ regularization penality using the squares of the\n",
    "weights, and lasso regression and the $\\ell_1$ regularization penality using the absolute\n",
    "values, then an elastic net is a simple combination of the two.\n",
    "\n",
    "The equation for an elastic net regression where we combine both types of regularization is\n",
    "\n",
    "$$\n",
    "J(\\theta) = MSE(\\theta) + r \\alpha \\sum_{i=1}^n |\\theta-i| + \\frac{1 - r}{2} \\alpha \\sum_{i=1}^n \\theta_i^2\n",
    "$$\n",
    "\n",
    "Here $\\alpha$ controls the importance of both of the regularization penalities.  $r$ is another hyperparameter\n",
    "that determins the mixing of the two types of regularization.  When $r = 0$ of course\n",
    "there is no $\\ell_1$ regularization, so this is equivalant to using only $\\ell_2$\n",
    "regularization.  And similarly when $r = 1$ the $\\ell_2$ regularization drops out and\n",
    "you only have $\\ell_1$ regularization.  A value in between will result in a mix\n",
    "of the two types.\n",
    "\n",
    "So when should you use $\\ell_1$ vs $\\ell_2$ or both?  It is almost always preferable to\n",
    "use a model that is too powerful, and explore regularization hyperparameters to reduce\n",
    "the model complexity to better fit the bias / variance tradeoff.  Ridge / $\\ell_2$ is a\n",
    "good default to try first, because usually all or many of the features may actually be\n",
    "useful in predicting your data.  But if you suspect that some or many of your features are actually\n",
    "not useful predictors, then using lasso / $\\ell_1$ regularization is the way to go, as we just\n",
    "demonstrated in our examples with our random data.\n",
    "\n",
    "Scikit-learn also has an `ElasticNet` class you may use.  Notice you use the\n",
    "named parameter `l1_ratio=0.5` to specify the `r` value, e.g. the balance between\n",
    "l-1 and l-2 regularization."
   ]
  },
  {
   "cell_type": "code",
   "execution_count": 19,
   "metadata": {},
   "outputs": [
    {
     "data": {
      "text/plain": [
       "(array([3.03688761]),\n",
       " array([ 0.87991475,  0.41910359,  0.01253061,  0.15850604,  0.        ,\n",
       "         0.        ,  0.        ,  0.        , -0.        ,  0.        ,\n",
       "        -0.        ,  0.        , -0.        ,  0.        , -0.        ,\n",
       "         0.        , -0.        , -0.        , -0.        , -0.        ,\n",
       "        -0.        , -0.        , -0.        , -0.        , -0.        ]))"
      ]
     },
     "execution_count": 19,
     "metadata": {},
     "output_type": "execute_result"
    }
   ],
   "source": [
    "from sklearn.linear_model import ElasticNet\n",
    "\n",
    "elastic_net_reg = Pipeline([\n",
    "    ('poly_features', PolynomialFeatures(degree=25, include_bias=False)),\n",
    "    ('elastic_net_reg', ElasticNet(alpha=0.01, l1_ratio=0.5)),\n",
    "])\n",
    "elastic_net_reg.fit(X, y)\n",
    "elastic_net_reg['elastic_net_reg'].intercept_, elastic_net_reg['elastic_net_reg'].coef_,"
   ]
  },
  {
   "cell_type": "markdown",
   "metadata": {},
   "source": [
    "### Early Stopping\n",
    "\n",
    "A very different way to regularize iterative learning algorithms such as\n",
    "gradient descent is to employ **early stopping**.  For any model you\n",
    "are training with an iterative learning algorithm, the validation error should start off\n",
    "initially high, but will reduce along with the training error.  However, \n",
    "for a model that will overfit, at some point the training set error will continue to reduce,\n",
    "but the validation error will begin to rise again.  This is the point where the\n",
    "model has begun to overfit the data.  If you detect and stop training at this point (or keep\n",
    "a history so you can use the model when reached at this point), then you can effectively\n",
    "also reduce overfitting.  \n",
    "\n",
    "However determining when this point occurs can be a challenge.  With stochastic and\n",
    "mini-batch gradient descent, the error curves will not decrease smoothly.  So determining when\n",
    "the average validation / test cost has stopped decreasing and is starting to increase can\n",
    "be a challenge.  Likewise, you can also be stuck in plateaus, so it can be easy to misidentify \n",
    "a long slow crawl on a plateau for the end of making progress on the validation error."
   ]
  }
 ],
 "metadata": {
  "kernelspec": {
   "display_name": "python3-datasci",
   "language": "python",
   "name": "python3-datasci"
  },
  "language_info": {
   "codemirror_mode": {
    "name": "ipython",
    "version": 3
   },
   "file_extension": ".py",
   "mimetype": "text/x-python",
   "name": "python",
   "nbconvert_exporter": "python",
   "pygments_lexer": "ipython3",
   "version": "3.6.10"
  }
 },
 "nbformat": 4,
 "nbformat_minor": 4
}

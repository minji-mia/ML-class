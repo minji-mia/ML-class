{
 "cells": [
  {
   "cell_type": "code",
   "execution_count": 1,
   "metadata": {},
   "outputs": [],
   "source": [
    "# general imports usually needed\n",
    "import numpy as np\n",
    "import matplotlib as mpl\n",
    "import matplotlib.animation\n",
    "import matplotlib.pyplot as plt\n",
    "import seaborn as sbn\n",
    "import pandas as pd"
   ]
  },
  {
   "cell_type": "code",
   "execution_count": 2,
   "metadata": {},
   "outputs": [],
   "source": [
    "# libraries more specific to this lecture notebook\n",
    "import os.path\n",
    "import sys\n",
    "sys.path.append('../../src')\n",
    "from ml_python_class.config import DATA_DIR\n",
    "\n",
    "from sklearn import datasets\n",
    "from sklearn.pipeline import Pipeline\n",
    "from sklearn.preprocessing import StandardScaler\n",
    "from sklearn.svm import LinearSVC\n",
    "from sklearn.svm import SVC"
   ]
  },
  {
   "cell_type": "code",
   "execution_count": 3,
   "metadata": {},
   "outputs": [],
   "source": [
    "# notebook wide settings to make plots more readable and visually better to understand\n",
    "np.set_printoptions(suppress=True)\n",
    "\n",
    "#%matplotlib widget\n",
    "#%matplotlib inline\n",
    "\n",
    "plt.rc('axes', labelsize=14)\n",
    "plt.rc('xtick', labelsize=12)\n",
    "plt.rc('ytick', labelsize=12)\n",
    "plt.rc('figure', titlesize=18)\n",
    "plt.rc('legend', fontsize=14)\n",
    "plt.rcParams['figure.figsize'] = (12.0, 8.0) # default figure size if not specified in plot\n",
    "plt.style.use('seaborn-darkgrid')\n"
   ]
  },
  {
   "cell_type": "markdown",
   "metadata": {},
   "source": [
    "# 5. (Chapter 5) Support Vector Machines\n",
    "\n",
    "A support vector machine (SVM) is a very powerful and versatile machine learning model,\n",
    "capable of performing linear or nonlinear classification, regression, and even\n",
    "outlier detection.  It is still one of the most popular ML models, and is a goto\n",
    "technique for many researchers and in many areas, though now a-days it is not usually\n",
    "considered to be the most likely to give the very best achievable performance on many\n",
    "different kinds of problems.\n",
    "\n",
    "SVM are particularly well suited for classification problems.  They perform best for small\n",
    "or medium sized datasets.  Again now a-days we might be more likely to apply a deep\n",
    "learning method if we have truly large data, and SVM can have some performance issues\n",
    "which can limit its use for truly large datasets."
   ]
  },
  {
   "cell_type": "markdown",
   "metadata": {},
   "source": [
    "## 5.1 Linear SVM Classification\n",
    "\n",
    "To understand how an SVM classifier works, lets fist look at the simple idea of linear separability,\n",
    "and **large margin classification**.\n",
    "\n",
    "Not all classification data is *separatable*.  If it is, we might be able to separate it with a more complex \n",
    "nonlinear function, like a polynomial, but we might not be able to use a simple line (or plane or\n",
    "hyperplane in 3 or more dimensions) to separate the data.  When we can use a line or plane\n",
    "to separate two classes in a dataset, the data is **linearly separable**.  Usually data is\n",
    "not so simply classified, and when it is linearly separable, usually we can easily make classification\n",
    "decisions about the data.\n",
    "\n",
    "For example, taking the figure 5-1 from our textbook, if we only look at the Versicolor and\n",
    "Setosa classes from the iris dataset data we have seen before, these classes \n",
    "are linearly separable using only 2 features like petal length and petal width.\n",
    "\n",
    "However, when data is linearly separable, there will exist an (infinite) number of possible lines\n",
    "we could choose to separate the two classes.  Two such successful linear separations\n",
    "are shown in figure 5-1 (the red and purple solid lines).\n",
    "\n",
    "So in a way that is similiar to our question about the best fit of a line to a data that motivated\n",
    "the creation of the concept of a cost function, we can ask what is the best line or linear\n",
    "boundary that we can choose to separate  classes like in this figure?  This leads to the\n",
    "concept of the **largest margin**.  Informally, as shown on the left of figure 5-1, the\n",
    "largest margin can be defined as the linear separation that produces the largest margin between\n",
    "classes.  We can formalize this concept, though we do not do that here, and end up with a \n",
    "function that can be optimized to determine which linear separation results in the widest possible\n",
    "margin for data that is linearly separable.\n",
    "\n",
    "Like the cost function(s) we have looked at before, the widest margin determination is sensitive\n",
    "to scaling issues, and you will get different results for different scalings of the features\n",
    "you are separating.  For best results, features should be scaled to have close to the same\n",
    "ranges, and if this is not done it can lead to poor performance for SVM models."
   ]
  },
  {
   "cell_type": "markdown",
   "metadata": {},
   "source": [
    "## 5.2 Soft Margin Classification\n",
    "\n",
    "Most of the time for real data it will be impossible to linearly separate the data, and thus there\n",
    "is no possible linear separation and no possible separation margin that can be given for the\n",
    "dataset.\n",
    "\n",
    "If we require that all instance be off of the margin, this is known as **hard margin classification**.\n",
    "But when the data is not linearly separable, no such hard margin exists.  But we can loosen\n",
    "the constraints to extend the concept by using **soft margin classification**.\n",
    "\n",
    "Basically for an SVM classifier, you can tune a hyperparamter, known simply as `C`, that \n",
    "will loosen the constraints for a hard margin, and allow some or more points to be in or on the\n",
    "wrong side of the margin.  Smaller `C` values lead to wider margines by allowing more violations of the\n",
    "margin, and larger `C` make the algorithm try to keep more hard margin restrictions (at the cost of\n",
    "smaller or no possible margin).  If your SVM model is overfitting, you can regularize it by\n",
    "reducing C, leading to softer margins which will tend to be better at generalizing performance to\n",
    "unseen data.\n",
    "\n",
    "As usual, the scikit-learn linear SVM model fits within the framework we have seen before, and is an\n",
    "transformer / estimator object.  It takes the mentioned `C` parameter, as well as other types of\n",
    "regularization.\n",
    "\n",
    "The object that performs linear SVM in scikit-learn is called `LinearSVC` for linear support\n",
    "vector classifier.  We will later show that you can use SVM for regression as well, but\n",
    "SVM are particularly suited to classification.  Also another different from the logistic regression,\n",
    "because of the margin(s) that SVM determines for the classification, there is not the same idea\n",
    "of a probability estimate for predictions.  Each item that we ask for a prediciton will be on one\n",
    "side or the other of the determined linear boundary.\n",
    "\n",
    "As an example from our textbook, we can train a linear SVM classifier on the iris virginica\n",
    "/ not virginica binary classification task as follows (SVM can do multiclass classification\n",
    "as well, which we will see in a bit):\n"
   ]
  },
  {
   "cell_type": "code",
   "execution_count": 4,
   "metadata": {},
   "outputs": [],
   "source": [
    "iris = datasets.load_iris()\n",
    "X = iris['data'][:, (2, 3)] # petal length, petal width\n",
    "y = (iris[\"target\"] == 2).astype(np.float64) # iris-virginica"
   ]
  },
  {
   "cell_type": "code",
   "execution_count": 5,
   "metadata": {},
   "outputs": [
    {
     "data": {
      "text/plain": [
       "Pipeline(steps=[('scaler', StandardScaler()),\n",
       "                ('linear_svc', LinearSVC(C=1, loss='hinge'))])"
      ]
     },
     "execution_count": 5,
     "metadata": {},
     "output_type": "execute_result"
    }
   ],
   "source": [
    "svm_clf = Pipeline([\n",
    "    (\"scaler\", StandardScaler()),\n",
    "    (\"linear_svc\", LinearSVC(C=1, loss=\"hinge\"))\n",
    "])\n",
    "\n",
    "svm_clf.fit(X, y)"
   ]
  },
  {
   "cell_type": "code",
   "execution_count": 6,
   "metadata": {},
   "outputs": [
    {
     "data": {
      "text/plain": [
       "array([1.])"
      ]
     },
     "execution_count": 6,
     "metadata": {},
     "output_type": "execute_result"
    }
   ],
   "source": [
    "svm_clf.predict([[5.5, 1.7]])"
   ]
  },
  {
   "cell_type": "markdown",
   "metadata": {},
   "source": [
    "As a note, the `LinearSVC` object is basically scikit-learns `SVC` (support vector classifier)\n",
    "object using a \"linear\" kernel.  We will look at creating nonlinear classifiers next by specifying\n",
    "nonlinear kernels, and what that means.  But we can get the equivalent model specifying\n",
    "a linear kernal of an `SVC` instance like this.\n",
    "\n",
    "Also there is no `loss` parameter for the `SVC` object, because \n",
    "loss (or regularization) will be a function of the type of kernel used."
   ]
  },
  {
   "cell_type": "code",
   "execution_count": 7,
   "metadata": {},
   "outputs": [
    {
     "data": {
      "text/plain": [
       "Pipeline(steps=[('scaler', StandardScaler()),\n",
       "                ('linear_svc', SVC(C=1, kernel='linear'))])"
      ]
     },
     "execution_count": 7,
     "metadata": {},
     "output_type": "execute_result"
    }
   ],
   "source": [
    "svm_clf = Pipeline([\n",
    "    (\"scaler\", StandardScaler()),\n",
    "    (\"linear_svc\", SVC(kernel='linear', C=1))\n",
    "])\n",
    "\n",
    "svm_clf.fit(X, y)"
   ]
  },
  {
   "cell_type": "code",
   "execution_count": 8,
   "metadata": {},
   "outputs": [
    {
     "data": {
      "text/plain": [
       "array([1.])"
      ]
     },
     "execution_count": 8,
     "metadata": {},
     "output_type": "execute_result"
    }
   ],
   "source": [
    "svm_clf.predict([[5.5, 1.7]])"
   ]
  },
  {
   "cell_type": "markdown",
   "metadata": {},
   "source": [
    "And finally, lets actually visualize the decision boundary.  As we have\n",
    "done previously, we can use a contour plot of the prediction function\n",
    "to determine where in the feature parameter space the decision changes from\n",
    "1 (virginica) to 0 (not virginica)"
   ]
  },
  {
   "cell_type": "code",
   "execution_count": 9,
   "metadata": {},
   "outputs": [
    {
     "data": {
      "image/png": "[encoded data removed]",
      "text/plain": [
       "<Figure size 864x864 with 1 Axes>"
      ]
     },
     "metadata": {},
     "output_type": "display_data"
    }
   ],
   "source": [
    "# create a mesh of points to evaluate predicitons over\n",
    "x0, x1 = np.meshgrid(\n",
    "        np.linspace(0, 7, 250).reshape(-1, 1),\n",
    "        np.linspace(0, 4, 250).reshape(-1, 1),\n",
    "    )\n",
    "X_new = np.c_[x0.ravel(), x1.ravel()]\n",
    "\n",
    "# make predictions over the mesh\n",
    "y_predict = svm_clf.predict(X_new)\n",
    "\n",
    "# plot the contour map\n",
    "plt.figure(figsize=(12, 12))\n",
    "zz = y_predict.reshape(x0.shape)\n",
    "from matplotlib.colors import ListedColormap\n",
    "#custom_cmap = ListedColormap(['#fafab0','#9898ff','#a0faa0'])\n",
    "custom_cmap = ListedColormap(['#9898ff','#a0faa0'])\n",
    "plt.contourf(x0, x1, zz, cmap=custom_cmap);\n",
    "\n",
    "\n",
    "# Plot the actual data points, color and shape coded\n",
    "plt.plot(X[y==1, 0], X[y==1, 1], \"g^\", label=\"Iris-Virginica\")\n",
    "plt.plot(X[y==0, 0], X[y==0, 1], \"bs\", label=\"not Virginica\")\n",
    "\n",
    "# add labels and plot information\n",
    "plt.xlabel(\"Petal length\", fontsize=14)\n",
    "plt.ylabel(\"Petal width\", fontsize=14)\n",
    "plt.legend(loc=\"center left\", fontsize=14)\n",
    "plt.axis([0, 7, 0, 4]);\n"
   ]
  }
 ],
 "metadata": {
  "kernelspec": {
   "display_name": "python3-datasci",
   "language": "python",
   "name": "python3-datasci"
  },
  "language_info": {
   "codemirror_mode": {
    "name": "ipython",
    "version": 3
   },
   "file_extension": ".py",
   "mimetype": "text/x-python",
   "name": "python",
   "nbconvert_exporter": "python",
   "pygments_lexer": "ipython3",
   "version": "3.6.10"
  }
 },
 "nbformat": 4,
 "nbformat_minor": 4
}

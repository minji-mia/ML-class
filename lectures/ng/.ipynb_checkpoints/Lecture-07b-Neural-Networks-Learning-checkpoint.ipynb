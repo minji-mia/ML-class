{
 "cells": [
  {
   "cell_type": "code",
   "execution_count": 1,
   "metadata": {
    "ExecuteTime": {
     "end_time": "2018-09-12T16:46:24.376234Z",
     "start_time": "2018-09-12T16:46:24.115631Z"
    }
   },
   "outputs": [],
   "source": [
    "import numpy as np\n",
    "import matplotlib.pyplot as plt\n",
    "import pandas as pd\n",
    "import matplotlib\n",
    "%matplotlib inline\n",
    "plt.rcParams['figure.figsize'] = (8, 6) # set default figure size, 8in by 6in"
   ]
  },
  {
   "cell_type": "markdown",
   "metadata": {},
   "source": [
    "# Video W5 01: Neural Network Cost Function\n",
    "\n",
    "[YouTube Video Link](https://www.youtube.com/watch?v=18X68kLAfKY&list=PLZ9qNFMHZ-A4rycgrgOYma6zxF4BZGGPW&index=51)\n",
    "\n",
    "We will be looking this week at methods to train a neural network, e.g. ways to find the set of $\\Theta$ parameters that optimize\n",
    "our network performance on a given training set.  We will be looking at multilayer networks, with usually at least 1 layer of so\n",
    "called hidden units, and a final layer of output units.  We will be doing either binary or multi-class classification with\n",
    "our networks.  For binary classification, we would simply have a single unit in the output layer, and the answer we are looking for\n",
    "is is this a positive or a negative case.  When we have $N$ multiple classes, as we already discussed, we can use a network with\n",
    "$N$ units in the output layer, and we will train such that each unit represents a particular classification.\n",
    "\n",
    "**Cost Function**\n",
    "\n",
    "The cost function we need to use for a neural network is a generalization of the cost function we used for logistic regression. \n",
    "Recall that our logistic regression cost function with the regularization term looked like this:\n",
    "\n",
    "$$\n",
    "J(\\theta) = -\\frac{1}{m} \\Big[ \\sum_{i=1}^m  y^{(i)} \\; \\textrm{log} (h_\\theta(x^{(i)})) + (1 - y^{(i)}) \\; \\textrm{log} (1 - h_\\theta(x^{(i)})) \\Big] + \\frac{\\lambda}{2m} \\sum_{j=1}^{n} \\theta_j^2\n",
    "$$\n",
    "\n",
    "The biggest change in notation for a neural network is that we need to sum up over multiple output units (for the most general\n",
    "multi-class case).  Thus, if we have $K$ output units, we sum up their individual costs:\n",
    "\n",
    "$$\n",
    "J(\\theta) = -\\frac{1}{m} \\Big[ \\sum_{i=1}^m  \\sum_{k=1}^{K} y_k^{(i)} \\; \\textrm{log} (h_\\theta(x^{(i)}))_k + (1 - y_k^{(i)}) \\; \\textrm{log} (1 - h_\\theta(x^{(i)}))_k \\Big] + \\frac{\\lambda}{2m} \\sum_{l=1}^{L-1} \\sum_{i=1}^{s_l}\\sum_{j=1}^{s_{l+1}} \\big( \\Theta_{ji}^{(l)} \\big)^2\n",
    "$$\n",
    "\n",
    "Notice also that the regularization term has become more complex.  This is because we need to add in penalities for our cost for all\n",
    "of the $\\Theta$ parameter values in all of the layers of our network."
   ]
  },
  {
   "cell_type": "markdown",
   "metadata": {},
   "source": [
    "# Video W5 02: Backpropagation Algorithm\n",
    "\n",
    "[YouTube Video Link](https://www.youtube.com/watch?v=SvAEX5taVKk&list=PLZ9qNFMHZ-A4rycgrgOYma6zxF4BZGGPW&index=52)\n",
    "\n",
    "The trick with multi-layer neural networks is calculating the partial derivative or gradient terms in the layers of the network.\n",
    "Because of the layered nature of the network, there is no direct way to calculate the partial derivatives for hidden layers.  We\n",
    "can however estimate these partial derivatives by calculating the delta or differences in our outputs at the output layer from the\n",
    "correct output.  Given these deltas, we can estimate deltas for subsequent earlier layers.  Thus backpropagation works by first\n",
    "doing a feed forward pass to calculate all of the activations for all of the units in all layers, then backpropagating the delta\n",
    "errors, wich can give us an estimate of the partial derivatives of the functions at each layer.  Don't worry too much if you don't\n",
    "follow the logic for how the backpropagation equations have been derived.  For this course, it will be sufficient to understand\n",
    "the given backpropagation equations so that you can implment them in Python code.\n",
    "\n",
    "The delta's for the output layer are computed dirrectly as simply the difference between the activiation of each unit and the\n",
    "correct answer given in our training set $y$.  For the 4 layer example network from the video, the delta's at layer $L = 4$ are\n",
    "given by:\n",
    "\n",
    "$$\n",
    "\\delta_j^{(4)} = a_j^{(4)} - y_j\n",
    "$$\n",
    "\n",
    "As you can see, this is simply the difference between the output and the correct answer for each of the $j$ output units.  Given\n",
    "these delta values for the output layer, we can estimate deltas for the 2 previous layers:\n",
    "\n",
    "$$\n",
    "\\delta_j^{(3)} = (\\Theta^{(3)})^T \\delta^{(4)} \\; .* \\; g'(z^{(3)})\n",
    "$$\n",
    "\n",
    "$$\n",
    "\\delta_j^{(2)} = (\\Theta^{(2)})^T \\delta^{(3)} \\; .* \\; g'(z^{(2)})\n",
    "$$\n",
    "\n",
    "Notice each calculation of a layer uses the delta calculated from the next higher layer.  The $g'(z)$ represents the derivative\n",
    "of the sigmoid function, which can be derived directly using calculus.  In the video the instructor uses a bit of matlab\n",
    "notation in these equations.  The $.*$ means we need to do an element wise multiplication between the left and right terms.\n",
    "The result will be deltas for each of the units in the indicated layer of the network.  These deltas can then be used directly\n",
    "as estimates of the gradient or partial derivatives, and thus can then be used in our optimization methods like gradient descent to search for the best $\\Theta$ parameters for a given network to represent a given training set of data.\n",
    "\n",
    "**Backpropagation Algorithm**\n",
    "\n",
    "Given a training set of $m$ training examples ${ (x^{(1)}, y^{(1)}), \\cdots, (x^{(m)}, y^{(m)})}$ the video next gives\n",
    "pseudo code for the basic backpropagation algorithm.  There are a lot of details here, but for all of the details it is mostly\n",
    "a matter of being comfortable with the notation.  We are using subscripts $i, j$ to denote connections or $\\Theta$ parameters\n",
    "from the $j^{th}$ unit in a previous layer to the $i^{th}$ unit in the next layer.  And we are using $l$ to indicate the layer\n",
    "number in the network.\n",
    "\n",
    "Given this notation, we create a number of matrices (denoted by capital Delta $\\Delta$, that we initially set to 0 and use\n",
    "as accumulators when computing the deltas.  The algorithm given in the video is:\n",
    "\n",
    "Set $\\Delta_{ij}^{(l)} = 0$ (for all $l, i, j$).\n",
    "\n",
    "For $i = 1 \\; \\textrm{to} \\; m$  (we iterate over each of our training examples)\n",
    "\n",
    "- Set $a^{(1)} = x^{(1)}$ and perform forward propagation to compute the activation $a^{(l)}$ for all units in all layers $l = 2, 3, ..., L$.\n",
    "- Using $y^{(i)}$ compute the delta in the output layer $\\delta^{(L)} = a^{(L)} - y^{(i)}$ \n",
    "- Backpropagate and compute the delta values in all previous layers\n",
    "- Accumulate this computed delta for input example $m$ by adding $\\Delta_{ij}^{(l)} := \\Delta_{ij}^{(l)} + a_j^{(l)} \\delta_i^{(l+1)}$\n",
    "\n",
    "Finally we can add in a regularization term for the units that don't represent bias units\n",
    "\n",
    "$$\n",
    "D_{ij}^{(l)} := \\frac{1}{m} \\Delta_{ij}^{(l)} + \\lambda \\Theta_{ij}^{(l)} \\; \\; \\textrm{if} \\; \\; j \\ne 0\n",
    "$$\n",
    "\n",
    "$$\n",
    "D_{ij}^{(l)} := \\frac{1}{m} \\Delta_{ij}^{(l)} \\;\\;\\;\\;\\;\\;\\;\\; \\textrm{if} \\; \\; j = 0\n",
    "$$\n",
    "\n",
    "And these $D$ terms can be used as approximations of the partial derivative gradients we need in order to perform an optimization\n",
    "like gradient descent on our $\\Theta$ parameters of the network:\n",
    "\n",
    "$$\n",
    "\\frac{\\partial}{\\partial \\Theta_{ij}^{(l)}} J(\\Theta) = D_{ij}^{(l)}\n",
    "$$"
   ]
  },
  {
   "cell_type": "markdown",
   "metadata": {},
   "source": [
    "# Video W5 03: Backpropagation Intuition\n",
    "\n",
    "[YouTube Video Link](https://www.youtube.com/watch?v=q1bQDyV6lsg&list=PLZ9qNFMHZ-A4rycgrgOYma6zxF4BZGGPW&index=53)\n",
    "\n"
   ]
  },
  {
   "cell_type": "markdown",
   "metadata": {},
   "source": [
    "# Video W5 04: Implementation Note: Unrolling Parameters\n",
    "\n",
    "[YouTube Video Link](https://www.youtube.com/watch?v=rcDJhGtXMvk&index=54&list=PLZ9qNFMHZ-A4rycgrgOYma6zxF4BZGGPW)\n",
    "\n",
    "Example of the unrolling/reshaping operations from the video, but in `Python`/`NumPy`"
   ]
  },
  {
   "cell_type": "code",
   "execution_count": 2,
   "metadata": {
    "ExecuteTime": {
     "end_time": "2018-09-12T16:46:24.385301Z",
     "start_time": "2018-09-12T16:46:24.377535Z"
    }
   },
   "outputs": [
    {
     "name": "stdout",
     "output_type": "stream",
     "text": [
      "[[1. 1. 1. 1. 1. 1. 1. 1. 1. 1. 1.]\n",
      " [1. 1. 1. 1. 1. 1. 1. 1. 1. 1. 1.]\n",
      " [1. 1. 1. 1. 1. 1. 1. 1. 1. 1. 1.]\n",
      " [1. 1. 1. 1. 1. 1. 1. 1. 1. 1. 1.]\n",
      " [1. 1. 1. 1. 1. 1. 1. 1. 1. 1. 1.]\n",
      " [1. 1. 1. 1. 1. 1. 1. 1. 1. 1. 1.]\n",
      " [1. 1. 1. 1. 1. 1. 1. 1. 1. 1. 1.]\n",
      " [1. 1. 1. 1. 1. 1. 1. 1. 1. 1. 1.]\n",
      " [1. 1. 1. 1. 1. 1. 1. 1. 1. 1. 1.]\n",
      " [1. 1. 1. 1. 1. 1. 1. 1. 1. 1. 1.]]\n",
      "(10, 11)\n"
     ]
    }
   ],
   "source": [
    "# example of the matrix reshaping in Python/NumPy\n",
    "Theta1 = np.ones( (10, 11) )\n",
    "print(Theta1)\n",
    "print(Theta1.shape)"
   ]
  },
  {
   "cell_type": "code",
   "execution_count": 3,
   "metadata": {
    "ExecuteTime": {
     "end_time": "2018-09-12T16:46:24.393975Z",
     "start_time": "2018-09-12T16:46:24.386592Z"
    }
   },
   "outputs": [],
   "source": [
    "Theta2 = 2 * np.ones( (10,11) )\n",
    "Theta3 = 3 * np.ones( (1, 11) )"
   ]
  },
  {
   "cell_type": "code",
   "execution_count": 4,
   "metadata": {
    "ExecuteTime": {
     "end_time": "2018-09-12T16:46:24.402305Z",
     "start_time": "2018-09-12T16:46:24.395622Z"
    }
   },
   "outputs": [
    {
     "name": "stdout",
     "output_type": "stream",
     "text": [
      "[[3.]\n",
      " [3.]\n",
      " [3.]\n",
      " [3.]\n",
      " [3.]\n",
      " [3.]\n",
      " [3.]\n",
      " [3.]\n",
      " [3.]\n",
      " [3.]\n",
      " [3.]]\n",
      "(11, 1)\n"
     ]
    }
   ],
   "source": [
    "# the matlab/octave notation Theta1(:) basically reshapes the matrix into a column vector, the\n",
    "# equivalent in NumPY is\n",
    "Theta3Col = Theta3.reshape( (Theta3.size,1) )\n",
    "print(Theta3Col)\n",
    "print(Theta3Col.shape)"
   ]
  },
  {
   "cell_type": "code",
   "execution_count": 5,
   "metadata": {
    "ExecuteTime": {
     "end_time": "2018-09-12T16:46:24.409375Z",
     "start_time": "2018-09-12T16:46:24.403826Z"
    }
   },
   "outputs": [
    {
     "name": "stdout",
     "output_type": "stream",
     "text": [
      "(231, 1)\n"
     ]
    }
   ],
   "source": [
    "# so to create the thetaVec column vector, we can do this\n",
    "thetaVec = np.concatenate((Theta1.reshape( (Theta1.size,1) ), \n",
    "                           Theta2.reshape( (Theta2.size,1) ),\n",
    "                           Theta3.reshape( (Theta3.size,1) ) ))\n",
    "print(thetaVec.shape)\n",
    "#print thetaVec"
   ]
  },
  {
   "cell_type": "code",
   "execution_count": 6,
   "metadata": {
    "ExecuteTime": {
     "end_time": "2018-09-12T16:46:24.418974Z",
     "start_time": "2018-09-12T16:46:24.410628Z"
    }
   },
   "outputs": [
    {
     "data": {
      "text/plain": [
       "array([[1., 1., 1., 1., 1., 1., 1., 1., 1., 1., 1.],\n",
       "       [1., 1., 1., 1., 1., 1., 1., 1., 1., 1., 1.],\n",
       "       [1., 1., 1., 1., 1., 1., 1., 1., 1., 1., 1.],\n",
       "       [1., 1., 1., 1., 1., 1., 1., 1., 1., 1., 1.],\n",
       "       [1., 1., 1., 1., 1., 1., 1., 1., 1., 1., 1.],\n",
       "       [1., 1., 1., 1., 1., 1., 1., 1., 1., 1., 1.],\n",
       "       [1., 1., 1., 1., 1., 1., 1., 1., 1., 1., 1.],\n",
       "       [1., 1., 1., 1., 1., 1., 1., 1., 1., 1., 1.],\n",
       "       [1., 1., 1., 1., 1., 1., 1., 1., 1., 1., 1.],\n",
       "       [1., 1., 1., 1., 1., 1., 1., 1., 1., 1., 1.]])"
      ]
     },
     "execution_count": 6,
     "metadata": {},
     "output_type": "execute_result"
    }
   ],
   "source": [
    "# to get back the theta matrices from the column vector, we can do something similar to matlab\n",
    "# get the Theta1 values back to a 10x11 matrix, note we use 0 based indexing in NumPy arrays\n",
    "np.reshape(thetaVec[0:110], (10, 11) )"
   ]
  },
  {
   "cell_type": "code",
   "execution_count": 7,
   "metadata": {
    "ExecuteTime": {
     "end_time": "2018-09-12T16:46:24.427186Z",
     "start_time": "2018-09-12T16:46:24.420455Z"
    }
   },
   "outputs": [
    {
     "data": {
      "text/plain": [
       "array([[2., 2., 2., 2., 2., 2., 2., 2., 2., 2., 2.],\n",
       "       [2., 2., 2., 2., 2., 2., 2., 2., 2., 2., 2.],\n",
       "       [2., 2., 2., 2., 2., 2., 2., 2., 2., 2., 2.],\n",
       "       [2., 2., 2., 2., 2., 2., 2., 2., 2., 2., 2.],\n",
       "       [2., 2., 2., 2., 2., 2., 2., 2., 2., 2., 2.],\n",
       "       [2., 2., 2., 2., 2., 2., 2., 2., 2., 2., 2.],\n",
       "       [2., 2., 2., 2., 2., 2., 2., 2., 2., 2., 2.],\n",
       "       [2., 2., 2., 2., 2., 2., 2., 2., 2., 2., 2.],\n",
       "       [2., 2., 2., 2., 2., 2., 2., 2., 2., 2., 2.],\n",
       "       [2., 2., 2., 2., 2., 2., 2., 2., 2., 2., 2.]])"
      ]
     },
     "execution_count": 7,
     "metadata": {},
     "output_type": "execute_result"
    }
   ],
   "source": [
    "np.reshape(thetaVec[110:220], (10, 11) )"
   ]
  },
  {
   "cell_type": "code",
   "execution_count": 8,
   "metadata": {
    "ExecuteTime": {
     "end_time": "2018-09-12T16:46:24.434376Z",
     "start_time": "2018-09-12T16:46:24.428192Z"
    }
   },
   "outputs": [
    {
     "data": {
      "text/plain": [
       "array([[3., 3., 3., 3., 3., 3., 3., 3., 3., 3., 3.]])"
      ]
     },
     "execution_count": 8,
     "metadata": {},
     "output_type": "execute_result"
    }
   ],
   "source": [
    "np.reshape(thetaVec[220:231], (1,11) )"
   ]
  },
  {
   "cell_type": "markdown",
   "metadata": {},
   "source": [
    "# Video W5 05: Gradient Checking\n",
    "\n",
    "[YouTube Video Link](https://www.youtube.com/watch?v=I-X8_EcGYik&index=55&list=PLZ9qNFMHZ-A4rycgrgOYma6zxF4BZGGPW)\n",
    "\n",
    "This is a method that helps to debug any gradient descent or optimization methods for backpropagation.  If you introduce subtle bugs in computing\n",
    "the cost or gradient values that are used in an optimization method, the optimization can appear to be working.  However, you\n",
    "can end up with not truly optimal parameters that you would get if your calculation of cost and gradient were completely 100%\n",
    "correct.  The method shown in this video can be used to check that the result you get after optimization is actually the\n",
    "best one possible, and thus that you are computing the cost and gradients correctly.\n",
    "\n",
    "This method is based on approximating the gradient or partial derivative, using the difference of the function at 2 points\n",
    "that are close together (based on the definition of the derivative of a function at a point).\n",
    "\n",
    "If the approximate method of calculating the partial derivative is close to the computed $D$ values, then probably the\n",
    "implementation is correct.  Where close is defined as being the same to some number of decimal places, for example.\n",
    "\n",
    "Here is a very simple example of calculating the gradient (the derivative) using this numerical approximation.  Suppose\n",
    "you have \n",
    "\n",
    "$$\n",
    "J(\\theta) = \\theta^3\n",
    "$$\n",
    "\n",
    "Furthermore let $\\theta = 1.0$ and $\\epsilon = 0.01$.  We can use the formula for two sided difference for approximating the derivative\n",
    "\n",
    "$$\n",
    "\\frac{J(\\theta + \\epsilon) - J(\\theta - \\epsilon)}{2 \\epsilon}\n",
    "$$\n",
    "\n",
    "to approximate the derivative.  The true derivative using analytic methods for this function at the point $\\theta = 1$ is\n",
    "\n",
    "$$\n",
    "\\frac{d}{d \\theta} J(\\theta) = 3 \\theta^2 = 3\n",
    "$$"
   ]
  },
  {
   "cell_type": "code",
   "execution_count": 9,
   "metadata": {
    "ExecuteTime": {
     "end_time": "2018-09-12T16:46:24.447726Z",
     "start_time": "2018-09-12T16:46:24.443524Z"
    }
   },
   "outputs": [
    {
     "name": "stdout",
     "output_type": "stream",
     "text": [
      "3.0001000000000055\n"
     ]
    }
   ],
   "source": [
    "theta = 1.0\n",
    "epsilon = 0.01\n",
    "\n",
    "def J(theta):\n",
    "    return theta**3.0\n",
    "\n",
    "dtheta = ( J(theta + epsilon) - J(theta - epsilon) ) / (2.0 * epsilon)\n",
    "print(dtheta)"
   ]
  },
  {
   "cell_type": "markdown",
   "metadata": {},
   "source": [
    "# Video W5 06: Random Initialization\n",
    "\n",
    "[YouTube Video Link](https://www.youtube.com/watch?v=NhgB6FLyHJc&list=PLZ9qNFMHZ-A4rycgrgOYma6zxF4BZGGPW&index=56)\n",
    "\n",
    "Unlike before in logistic regression, there is a problem with setting the initial values for theta to 0 when using\n",
    "backpropagation.  All of the activations (and all of the delta values) will be the same for all inputs given an initial\n",
    "theta that is all 0's.  \n",
    "\n",
    "A simple way to get around this is to initialize all of the theta paramters to small random values, around 0.  The\n",
    "eqivalent way to create random Theta1, Theta2, etc. matrices of the right shape in NumPy is:"
   ]
  },
  {
   "cell_type": "code",
   "execution_count": 10,
   "metadata": {
    "ExecuteTime": {
     "end_time": "2018-09-12T16:46:24.475069Z",
     "start_time": "2018-09-12T16:46:24.470223Z"
    }
   },
   "outputs": [
    {
     "name": "stdout",
     "output_type": "stream",
     "text": [
      "[[ 0.00668019 -0.00987181  0.00775176 -0.00589933  0.0043004   0.00533237\n",
      "  -0.00867824  0.00449488  0.00091011  0.0064603   0.00277205]\n",
      " [-0.00879135  0.0047599   0.00436855 -0.00615432  0.00192374 -0.00906756\n",
      "   0.00479429 -0.00853049  0.00253213 -0.00585883 -0.00219101]\n",
      " [ 0.00300754  0.00578999  0.00813133  0.00914543 -0.00963712 -0.00489888\n",
      "   0.00074983  0.00037015  0.00949004  0.00367559 -0.00831385]\n",
      " [ 0.00995843  0.00328048 -0.0043363  -0.0072663  -0.00983425  0.00122008\n",
      "   0.00623033 -0.00852755  0.00164807  0.00799957 -0.00784953]\n",
      " [-0.00639692 -0.00369869 -0.00828627 -0.00240915  0.00426213 -0.00329968\n",
      "  -0.00818927 -0.00733671  0.00334533  0.00357161 -0.00022899]\n",
      " [-0.00580071 -0.00439358  0.00116013  0.00637713  0.00123391 -0.00096655\n",
      "   0.00547334  0.00822073  0.00951108  0.00313236 -0.0064284 ]\n",
      " [-0.00199572 -0.00080729 -0.00625825  0.00372203  0.00467795  0.00212927\n",
      "   0.0085699   0.00462321  0.00381612  0.00090667  0.00414145]\n",
      " [ 0.00839723  0.009465    0.00808683 -0.00193388  0.00191654  0.00842818\n",
      "   0.00067575 -0.0059827   0.00049901 -0.00838414 -0.00124073]\n",
      " [ 0.00086334 -0.00988411  0.00479048 -0.00770461 -0.00345088  0.00616839\n",
      "   0.0033824  -0.0090321  -0.00418757  0.00721616  0.00851111]\n",
      " [-0.00305972 -0.00754511 -0.00368611  0.00536635 -0.00164146  0.00800049\n",
      "  -0.00014545  0.00993211  0.00181221 -0.00645042 -0.00838611]]\n"
     ]
    }
   ],
   "source": [
    "INIT_EPSILON = 0.01\n",
    "Theta1 = np.random.uniform(-INIT_EPSILON, INIT_EPSILON, (10, 11) )\n",
    "print(Theta1)"
   ]
  },
  {
   "cell_type": "markdown",
   "metadata": {},
   "source": [
    "# Video W5 07: Putting it Together\n",
    "\n",
    "[YouTube Video Link](https://www.youtube.com/watch?v=T7-ZsYlFH4M&list=PLZ9qNFMHZ-A4rycgrgOYma6zxF4BZGGPW&index=57)\n",
    "\n"
   ]
  },
  {
   "cell_type": "markdown",
   "metadata": {},
   "source": [
    "# Video W5 08: Autonomous Driving\n",
    "\n",
    "[YouTube Video Link](https://www.youtube.com/watch?v=WkmplH50K1k&index=58&list=PLZ9qNFMHZ-A4rycgrgOYma6zxF4BZGGPW)\n"
   ]
  },
  {
   "cell_type": "code",
   "execution_count": 12,
   "metadata": {
    "ExecuteTime": {
     "end_time": "2018-09-12T16:46:24.586448Z",
     "start_time": "2018-09-12T16:46:24.519019Z"
    }
   },
   "outputs": [
    {
     "name": "stdout",
     "output_type": "stream",
     "text": [
      "              Module   Versions\n",
      "--------------------   ------------------------------------------------------------\n",
      "         matplotlib:   ['3.3.0']\n",
      "              numpy:   ['1.18.5']\n",
      "             pandas:   ['1.0.5']\n"
     ]
    }
   ],
   "source": [
    "import sys\n",
    "sys.path.append(\"../../src\") # add our class modules to the system PYTHON_PATH\n",
    "\n",
    "from ml_python_class.custom_funcs import version_information\n",
    "version_information()"
   ]
  }
 ],
 "metadata": {
  "kernelspec": {
   "display_name": "python3-datasci",
   "language": "python",
   "name": "python3-datasci"
  },
  "language_info": {
   "codemirror_mode": {
    "name": "ipython",
    "version": 3
   },
   "file_extension": ".py",
   "mimetype": "text/x-python",
   "name": "python",
   "nbconvert_exporter": "python",
   "pygments_lexer": "ipython3",
   "version": "3.6.10"
  },
  "toc": {
   "base_numbering": 1,
   "nav_menu": {},
   "number_sections": true,
   "sideBar": true,
   "skip_h1_title": false,
   "title_cell": "Table of Contents",
   "title_sidebar": "Contents",
   "toc_cell": false,
   "toc_position": {},
   "toc_section_display": true,
   "toc_window_display": false
  },
  "varInspector": {
   "cols": {
    "lenName": 16,
    "lenType": 16,
    "lenVar": 40
   },
   "kernels_config": {
    "python": {
     "delete_cmd_postfix": "",
     "delete_cmd_prefix": "del ",
     "library": "var_list.py",
     "varRefreshCmd": "print(var_dic_list())"
    },
    "r": {
     "delete_cmd_postfix": ") ",
     "delete_cmd_prefix": "rm(",
     "library": "var_list.r",
     "varRefreshCmd": "cat(var_dic_list()) "
    }
   },
   "types_to_exclude": [
    "module",
    "function",
    "builtin_function_or_method",
    "instance",
    "_Feature"
   ],
   "window_display": false
  }
 },
 "nbformat": 4,
 "nbformat_minor": 4
}

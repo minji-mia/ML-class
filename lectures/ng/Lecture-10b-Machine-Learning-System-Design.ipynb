{
 "cells": [
  {
   "cell_type": "code",
   "execution_count": 1,
   "metadata": {},
   "outputs": [],
   "source": [
    "import numpy as np\n",
    "import matplotlib.pyplot as plt\n",
    "import pandas as pd\n",
    "import matplotlib\n",
    "%matplotlib inline\n",
    "matplotlib.rcParams['figure.figsize'] = (8, 6) # set default figure size, 8in by 6in"
   ]
  },
  {
   "cell_type": "markdown",
   "metadata": {},
   "source": [
    "# Video W6 08: Prioritizing What to Work On\n",
    "\n",
    "[YouTube Video Link](https://www.youtube.com/watch?v=0Gj0oc9QPgk&list=PLZ9qNFMHZ-A4rycgrgOYma6zxF4BZGGPW&index=66)\n"
   ]
  },
  {
   "cell_type": "markdown",
   "metadata": {},
   "source": [
    "# Video W6 09: Error Analysis\n",
    "\n",
    "[YouTube Video Link](https://www.youtube.com/watch?v=cvqbQpM_zOQ&list=PLZ9qNFMHZ-A4rycgrgOYma6zxF4BZGGPW&index=67)\n",
    "\n",
    "## Recommended Approach\n",
    "\n",
    "- Start with a simple algorithm that you can implement quickly.  Implement it and test it on your cross-validation data.\n",
    "- Plot learning curves to decide if more data, more features, etc. are likely to help.\n",
    "- Error analysis: Manually examine the examples (in cross validation set) that your algorithm made errors on.\n",
    "  See if you spot any systematic trend in what type of examples it is making errors on.\n"
   ]
  },
  {
   "cell_type": "markdown",
   "metadata": {},
   "source": [
    "# Video W6 10: Error Metrics for Skewed Classes\n",
    "\n",
    "[YouTube Video Link](https://www.youtube.com/watch?v=225zo-kjPQo&index=68&list=PLZ9qNFMHZ-A4rycgrgOYma6zxF4BZGGPW)\n"
   ]
  },
  {
   "cell_type": "markdown",
   "metadata": {},
   "source": [
    "# Video W6 11: Trading Off Precision and Recall\n",
    "\n",
    "[YouTube Video Link](https://www.youtube.com/watch?v=usb607igSc0&list=PLZ9qNFMHZ-A4rycgrgOYma6zxF4BZGGPW&index=69)\n"
   ]
  },
  {
   "cell_type": "markdown",
   "metadata": {},
   "source": [
    "# Video W6 12: Data for Machine Learning\n",
    "\n",
    "[YouTube Video Link](https://www.youtube.com/watch?v=qoWvp5iNzs8&list=PLZ9qNFMHZ-A4rycgrgOYma6zxF4BZGGPW&index=70)\n"
   ]
  },
  {
   "cell_type": "code",
   "execution_count": 3,
   "metadata": {},
   "outputs": [
    {
     "name": "stdout",
     "output_type": "stream",
     "text": [
      "              Module   Versions\n",
      "--------------------   ------------------------------------------------------------\n",
      "         matplotlib:   ['3.3.0']\n",
      "              numpy:   ['1.18.5']\n",
      "             pandas:   ['1.0.5']\n"
     ]
    }
   ],
   "source": [
    "import sys\n",
    "sys.path.append(\"../../src\") # add our class modules to the system PYTHON_PATH\n",
    "\n",
    "from ml_python_class.custom_funcs import version_information\n",
    "version_information()"
   ]
  }
 ],
 "metadata": {
  "kernelspec": {
   "display_name": "python3-datasci",
   "language": "python",
   "name": "python3-datasci"
  },
  "language_info": {
   "codemirror_mode": {
    "name": "ipython",
    "version": 3
   },
   "file_extension": ".py",
   "mimetype": "text/x-python",
   "name": "python",
   "nbconvert_exporter": "python",
   "pygments_lexer": "ipython3",
   "version": "3.6.10"
  },
  "latex_envs": {
   "LaTeX_envs_menu_present": true,
   "autoclose": false,
   "autocomplete": true,
   "bibliofile": "biblio.bib",
   "cite_by": "apalike",
   "current_citInitial": 1,
   "eqLabelWithNumbers": true,
   "eqNumInitial": 1,
   "hotkeys": {
    "equation": "Ctrl-E",
    "itemize": "Ctrl-I"
   },
   "labels_anchors": false,
   "latex_user_defs": false,
   "report_style_numbering": false,
   "user_envs_cfg": false
  },
  "toc": {
   "base_numbering": 1,
   "nav_menu": {},
   "number_sections": true,
   "sideBar": true,
   "skip_h1_title": false,
   "title_cell": "Table of Contents",
   "title_sidebar": "Contents",
   "toc_cell": false,
   "toc_position": {},
   "toc_section_display": true,
   "toc_window_display": false
  }
 },
 "nbformat": 4,
 "nbformat_minor": 4
}

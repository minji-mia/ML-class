{
 "cells": [
  {
   "cell_type": "markdown",
   "metadata": {},
   "source": [
    "# Python Classes and Object-Oriented Programming\n",
    "\n",
    "Up to this point we have discussed the built-in data types of the Python\n",
    "language, and how you can define your own functions to break down\n",
    "problems into small subproblems and solve them.\n",
    "\n",
    "Object-oriented programming is another way of organizing code to\n",
    "solve large problems.  I assume you have some familiarity with what\n",
    "object-oriented programming is, and some of its principles.\n",
    "If not, it would be worthwhile reading at least a \n",
    "[high-level summary of OO principles](https://www.freecodecamp.org/news/object-oriented-programming-concepts-21bb035f7260/).\n",
    "\n",
    "We will need to use and maybe define our own classes in several\n",
    "places for this course, so you should familarizie yourself with the basics\n",
    "of defining and using classes in Python."
   ]
  },
  {
   "cell_type": "markdown",
   "metadata": {},
   "source": [
    "## Classes and objects\n",
    "\n",
    "One way of thinking of objects and OO programming is it is a way to add your\n",
    "own user-defined data type to the core Python language.\n",
    "\n",
    "A classic example is to add a new mathematical `Point` class to the\n",
    "python language.  The `Point` class will represent a 2-D point in space"
   ]
  },
  {
   "cell_type": "markdown",
   "metadata": {},
   "source": [
    "### Attributes\n",
    "\n",
    "Classes have member attributes, and member methods you can call to ask the\n",
    "class to perform some task for you.\n",
    "\n",
    "The first step of a class id defining the private internal attributes of\n",
    "the class.  Though by default, python classes do not enforce strict\n",
    "priviacy of access to private parts of the class, unlike what you can\n",
    "do in some other languages.  This is both useful, but also dangerous as it\n",
    "allows any external entitiy to mess with the internal state of a class\n",
    "object, which breaks the principle of encapsulation.\n",
    "\n",
    "But in any case, use the `class` keyword to define a new class to add to the\n",
    "language."
   ]
  },
  {
   "cell_type": "code",
   "execution_count": 1,
   "metadata": {},
   "outputs": [],
   "source": [
    "class Point:\n",
    "    \"\"\"Represents a point - 2D space\n",
    "    \"\"\""
   ]
  },
  {
   "cell_type": "markdown",
   "metadata": {},
   "source": [
    "Since python is a dynamic high-level language, we can create instances\n",
    "of a Point class object immediately."
   ]
  },
  {
   "cell_type": "code",
   "execution_count": 2,
   "metadata": {},
   "outputs": [
    {
     "data": {
      "text/plain": [
       "<__main__.Point at 0x7f9578071310>"
      ]
     },
     "execution_count": 2,
     "metadata": {},
     "output_type": "execute_result"
    }
   ],
   "source": [
    "p = Point()\n",
    "p"
   ]
  },
  {
   "cell_type": "markdown",
   "metadata": {},
   "source": [
    "We can dynamically assign member attributes to our `p` instance of the\n",
    "`Point` class."
   ]
  },
  {
   "cell_type": "code",
   "execution_count": 3,
   "metadata": {},
   "outputs": [
    {
     "name": "stdout",
     "output_type": "stream",
     "text": [
      "3.0\n",
      "4.0\n"
     ]
    }
   ],
   "source": [
    "p.x = 3.0\n",
    "p.y = 4.0\n",
    "print(p.x)\n",
    "print(p.y)"
   ]
  },
  {
   "cell_type": "code",
   "execution_count": 4,
   "metadata": {},
   "outputs": [
    {
     "name": "stdout",
     "output_type": "stream",
     "text": [
      "-5.0\n",
      "-7.0\n",
      "3.0\n",
      "4.0\n"
     ]
    }
   ],
   "source": [
    "# point p is an instance of a Point class, we can create other instances which\n",
    "# are separate form p\n",
    "p2 = Point\n",
    "p2.x = -5.0\n",
    "p2.y = -7.0\n",
    "\n",
    "print(p2.x)\n",
    "print(p2.y)\n",
    "print(p.x)\n",
    "print(p.y)"
   ]
  },
  {
   "cell_type": "markdown",
   "metadata": {},
   "source": [
    "Notice that the `.` notation is used for member access.  We use `p.x` to \n",
    "create and assign a value to a new attribute of the instance `p`, and we can\n",
    "use `p.x` to access and read out that attribute value."
   ]
  },
  {
   "cell_type": "markdown",
   "metadata": {},
   "source": [
    "### Object Composition\n",
    "\n",
    "It is useful to be able to compose objects using other objects when designing\n",
    "a solution to a complex problem using OO programming.  For example, lets say\n",
    "you now need a `Rectangle` object.  We will define a `Rectangle` in our\n",
    "system as a point where the lower left corner of the rectangle is\n",
    "located, then as the rectangle width (x-direction) and height (y-direction).\n",
    "\n",
    "We could just define our own `x` and `y` member instances for the rectangle\n",
    "corner.  But this is really a `Point` so we should reuse our concept of a \n",
    "`Point` data type when building up a definition of a rectangle."
   ]
  },
  {
   "cell_type": "code",
   "execution_count": 5,
   "metadata": {},
   "outputs": [],
   "source": [
    "class Rectangle:\n",
    "    \"\"\"Represents a rectangle.\n",
    "    \n",
    "    attributes: corner, width, height\n",
    "    \"\"\""
   ]
  },
  {
   "cell_type": "code",
   "execution_count": 6,
   "metadata": {},
   "outputs": [],
   "source": [
    "# create an instance of a rectangle\n",
    "r = Rectangle()\n",
    "\n",
    "# add member variables for the width and height of the rectangle\n",
    "r.width = 200.0\n",
    "r.height = 100.0\n",
    "\n",
    "# now use object composition to define the corner point\n",
    "r.corner = Point()\n",
    "r.corner.x = 30.0\n",
    "r.corner.y = 60.0"
   ]
  },
  {
   "cell_type": "markdown",
   "metadata": {},
   "source": [
    "## Classes and functions\n",
    "\n",
    "You can of course pass instances of classes you define to functions, just like\n",
    "any of the built-in data types available in python."
   ]
  },
  {
   "cell_type": "code",
   "execution_count": 7,
   "metadata": {},
   "outputs": [],
   "source": [
    "def distance(p1, p2):\n",
    "    \"\"\"Given 2 instances of a Point object, calculate the eucledian distance\n",
    "    from p1 to p2.\n",
    "    \"\"\"\n",
    "    # need sqrt function to calculate distance\n",
    "    from math import sqrt \n",
    "    \n",
    "    # distance is square root of the sum of the squared difference of each dimenstion\n",
    "    return sqrt( (p1.x - p2.x)**2.0 + (p1.y - p2.y)**2.0 )"
   ]
  },
  {
   "cell_type": "code",
   "execution_count": 8,
   "metadata": {},
   "outputs": [
    {
     "data": {
      "text/plain": [
       "13.601470508735444"
      ]
     },
     "execution_count": 8,
     "metadata": {},
     "output_type": "execute_result"
    }
   ],
   "source": [
    "# reusing the 2 points we instantiated above\n",
    "distance(p, p2)"
   ]
  },
  {
   "cell_type": "code",
   "execution_count": 9,
   "metadata": {},
   "outputs": [],
   "source": [
    "def upper_right_corner(rect):\n",
    "    \"\"\"Given an instance of our Rectangle class, determine the upper-right\n",
    "    corner of the rectangle.\n",
    "    \"\"\"\n",
    "    # upper right corner will be a new point\n",
    "    ur_corner = Point()\n",
    "    \n",
    "    ur_corner.x = rect.corner.x + rect.width\n",
    "    ur_corner.y = rect.corner.y + rect.height\n",
    "    \n",
    "    return ur_corner"
   ]
  },
  {
   "cell_type": "code",
   "execution_count": 10,
   "metadata": {},
   "outputs": [
    {
     "name": "stdout",
     "output_type": "stream",
     "text": [
      "230.0\n",
      "160.0\n"
     ]
    }
   ],
   "source": [
    "# reuse the rectangle from above\n",
    "ur = upper_right_corner(r)\n",
    "print(ur.x)\n",
    "print(ur.y)"
   ]
  },
  {
   "cell_type": "markdown",
   "metadata": {},
   "source": [
    "## Classes and methods\n",
    "\n",
    "Although we defined some classes, and passed some instances of them to some\n",
    "regular function, the above code using the `Point` and `Rectangle` class\n",
    "are not really object-oriented.\n",
    "\n",
    "They are not object-oriented yet because they do not encapsulate the\n",
    "operations that are defined that we can use to operate on\n",
    "`Point` and `Rectangle` instances.\n",
    "\n",
    "We can define our two regular functions above as member\n",
    "functions of the `Point` and `Rectangle` class respectively."
   ]
  },
  {
   "cell_type": "code",
   "execution_count": 11,
   "metadata": {},
   "outputs": [],
   "source": [
    "class Point:\n",
    "    \"\"\"Represents a point - 2D space\n",
    "    \"\"\"\n",
    "    \n",
    "    def distance(self, p):\n",
    "        \"\"\"Calculate the distance between ourself and\n",
    "        another point, p, given as a parameter to the\n",
    "        member function.\n",
    "        \"\"\"\n",
    "        # need sqrt function to calculate distance\n",
    "        from math import sqrt \n",
    "\n",
    "        # distance is square root of the sum of the squared difference of each dimenstion\n",
    "        return sqrt( (self.x - p.x)**2.0 + (self.y - p.y)**2.0 )       "
   ]
  },
  {
   "cell_type": "code",
   "execution_count": 12,
   "metadata": {},
   "outputs": [
    {
     "data": {
      "text/plain": [
       "5.0"
      ]
     },
     "execution_count": 12,
     "metadata": {},
     "output_type": "execute_result"
    }
   ],
   "source": [
    "# lets redefine our points using our new class definition\n",
    "p1 = Point()\n",
    "p1.x = 0\n",
    "p1.y = 0\n",
    "\n",
    "# distance from origin to 3,4 is right triangle 3,4 = 5\n",
    "p2 = Point()\n",
    "p2.x = 3\n",
    "p2.y = 4\n",
    "\n",
    "p1.distance(p2)"
   ]
  },
  {
   "cell_type": "code",
   "execution_count": 13,
   "metadata": {},
   "outputs": [],
   "source": [
    "class Rectangle:\n",
    "    \"\"\"Represents a rectangle.\n",
    "    \n",
    "    attributes: corner, width, height\n",
    "    \"\"\"\n",
    "    \n",
    "    def upper_right_corner(self):\n",
    "        \"\"\"Given an instance of our Rectangle class, determine the upper-right\n",
    "        corner of the rectangle.\n",
    "        \"\"\"\n",
    "        # upper right corner will be a new point\n",
    "        ur_corner = Point()\n",
    "\n",
    "        ur_corner.x = self.corner.x + self.width\n",
    "        ur_corner.y = self.corner.y + self.height\n",
    "\n",
    "        return ur_corner    "
   ]
  },
  {
   "cell_type": "code",
   "execution_count": 14,
   "metadata": {},
   "outputs": [
    {
     "name": "stdout",
     "output_type": "stream",
     "text": [
      "230.0\n",
      "160.0\n"
     ]
    }
   ],
   "source": [
    "# lets redefine our rectangle and try the member method\n",
    "r = Rectangle()\n",
    "r.width = 200.0\n",
    "r.height = 100.0\n",
    "r.corner = Point()\n",
    "r.corner.x = 30.0\n",
    "r.corner.y = 60.0\n",
    "\n",
    "\n",
    "ur = r.upper_right_corner()\n",
    "print(ur.x)\n",
    "print(ur.y)"
   ]
  },
  {
   "cell_type": "markdown",
   "metadata": {},
   "source": [
    "A member function is defined inside the scop of a `class` in python.\n",
    "All member functions always take `self` as their first parameter.\n",
    "When you call the member function on an instance of an object, \n",
    "`self` will refer to that instance object in the member function.\n",
    "\n",
    "So as you can see, for our rectangle member function we define it to\n",
    "accept only `self` as a parameter.  Also notice that when we invoke `upper_right_corner()`\n",
    "on the rectangle `r` we don't pass in `r`.  The instance of the object is\n",
    "passed in implicitly because we are invoking the member function of\n",
    "the `r` instance.\n",
    "\n",
    "Likewise our `distance()` function takes 2 parameters, `self` and a second\n",
    "point. But when we invoke the function we only pass in the second parameter,\n",
    "because the instance of the object we invoke the method for is passed in \n",
    "always as the first parameter implicitly.\n",
    "\n",
    "These classes are getting somewhat useful.  But in order to use the\n",
    "member function, the user has to know and set up all of the\n",
    "member variables of each object by hand.  This is both cumbersome \n",
    "and error prone.  In an OO language, we can usually define a constructor\n",
    "for the classes we add to the language.  In Python, this is done with\n",
    "the `__init__()` method.  There are several methods with special names\n",
    "you can define for a class.  They all begin and end with two underscores.\n",
    "These allow you to define the class constructors, and to overload\n",
    "operators for the clas instances.\n",
    "\n",
    "Lets add class constructors for both of our classes with the `__init__()`\n",
    "method.  In most cases, you usually pass in values to the constructor so\n",
    "that you can initialize the member attributes of your class.  Member functions\n",
    "are like any function in Python, so we can use named and default parameters\n",
    "to the function, as well as positional parameters."
   ]
  },
  {
   "cell_type": "code",
   "execution_count": 15,
   "metadata": {},
   "outputs": [],
   "source": [
    "class Point:\n",
    "    \"\"\"Represents a point - 2D space\n",
    "    \"\"\"\n",
    "    \n",
    "    def __init__(self, x=0, y=0):\n",
    "        \"\"\"Class constructor for the Point class.  Initialize member\n",
    "        attributes x and y.  We default to being a point at the origin\n",
    "        of the coordinate system if x and y are not given.\n",
    "        \"\"\"\n",
    "        self.x = x\n",
    "        self.y = y\n",
    "        \n",
    "    def distance(self, p):\n",
    "        \"\"\"Calculate the distance between ourself and\n",
    "        another point, p, given as a parameter to the\n",
    "        member function.\n",
    "        \"\"\"\n",
    "        # need sqrt function to calculate distance\n",
    "        from math import sqrt \n",
    "\n",
    "        # distance is square root of the sum of the squared difference of each dimenstion\n",
    "        return sqrt( (self.x - p.x)**2.0 + (self.y - p.y)**2.0 )       "
   ]
  },
  {
   "cell_type": "code",
   "execution_count": 16,
   "metadata": {},
   "outputs": [],
   "source": [
    "class Rectangle:\n",
    "    \"\"\"Represents a rectangle.\n",
    "    \n",
    "    attributes: corner, width, height\n",
    "    \"\"\"\n",
    "    \n",
    "    def __init__(self, x=0, y=0, width=1.0, height=1.0):\n",
    "        \"\"\"Class constructor for the Rectangle class.  Initialize member\n",
    "        attributes.  We are given the lower left corner, and the\n",
    "        rectangle width and height as attributes.  All parameters have defaults,\n",
    "        so if none are specified a unit Rectangle (square) located at the origin is\n",
    "        created with width and height of 1.\n",
    "        \"\"\"\n",
    "        # our lower left corner is a Point, we use object composition\n",
    "        # in our Rectangle class, reusing the Point class.\n",
    "        self.corner = Point(x, y)\n",
    "        \n",
    "        self.width = width\n",
    "        self.height = height\n",
    "        \n",
    "    def upper_right_corner(self):\n",
    "        \"\"\"Given an instance of our Rectangle class, determine the upper-right\n",
    "        corner of the rectangle.\n",
    "        \"\"\"\n",
    "        # upper right corner will be a new point\n",
    "        ur_corner = Point()\n",
    "\n",
    "        ur_corner.x = self.corner.x + self.width\n",
    "        ur_corner.y = self.corner.y + self.height\n",
    "\n",
    "        return ur_corner    "
   ]
  },
  {
   "cell_type": "markdown",
   "metadata": {},
   "source": [
    "With these class init methods added to help us construct the objects, our\n",
    "code is much nicer and less error prone to use the points and rectangle \n",
    "objects."
   ]
  },
  {
   "cell_type": "code",
   "execution_count": 17,
   "metadata": {},
   "outputs": [
    {
     "data": {
      "text/plain": [
       "5.0"
      ]
     },
     "execution_count": 17,
     "metadata": {},
     "output_type": "execute_result"
    }
   ],
   "source": [
    "# lets redefine our points using our new class definition\n",
    "# defaults to point at the origin\n",
    "p1 = Point()\n",
    "\n",
    "# distance from origin to 3,4 is right triangle 3,4 = 5\n",
    "p2 = Point(3, 4)\n",
    "\n",
    "p1.distance(p2)"
   ]
  },
  {
   "cell_type": "code",
   "execution_count": 18,
   "metadata": {},
   "outputs": [
    {
     "name": "stdout",
     "output_type": "stream",
     "text": [
      "1.0\n",
      "1.0\n"
     ]
    }
   ],
   "source": [
    "# defaults to the unit rectangle\n",
    "r = Rectangle()\n",
    "c = r.upper_right_corner()\n",
    "print(c.x)\n",
    "print(c.y)"
   ]
  },
  {
   "cell_type": "code",
   "execution_count": 19,
   "metadata": {},
   "outputs": [
    {
     "name": "stdout",
     "output_type": "stream",
     "text": [
      "160.0\n",
      "230.0\n"
     ]
    }
   ],
   "source": [
    "r = Rectangle(60.0, 30.0, 100.0, 200.0)\n",
    "c = r.upper_right_corner()\n",
    "print(c.x)\n",
    "print(c.y)"
   ]
  },
  {
   "cell_type": "markdown",
   "metadata": {},
   "source": [
    "## Operator overloading and special methods\n",
    "\n",
    "It was annoying to have to get the point returned then individually \n",
    "access and display the x and y coordinates.  There are many special methods\n",
    "define for Python classes that allow you to add functionality to your user\n",
    "defined types.  `__str__` is called anytime someone tries to display\n",
    "your object or convert it to a string representation.  We can give\n",
    "string methods to our classes to make displaying them easier.\n",
    "\n",
    "Likewise you can overload operators for your user define types.\n",
    "Functions with names like `__add__`, `__subtract__`, `__mul__`,\n",
    "`__lt__`, `__gt__`,\n",
    "etc. can be defined to implement those corresponding operations \n",
    "for your classes.  A fuller list of the special method names you can\n",
    "define is given\n",
    "[here](https://docs.python.org/3/reference/datamodel.html#special-method-names)\n",
    "\n",
    "Lets also overload the add operator for points to define vector\n",
    "addition, which is simply adding together the x and y dimensions, and\n",
    "returning a new resulting `Point` which is the result of the vector\n",
    "addition."
   ]
  },
  {
   "cell_type": "code",
   "execution_count": 20,
   "metadata": {},
   "outputs": [],
   "source": [
    "class Point:\n",
    "    \"\"\"Represents a point - 2D space\n",
    "    \"\"\"\n",
    "    \n",
    "    def __init__(self, x=0, y=0):\n",
    "        \"\"\"Class constructor for the Point class.  Initialize member\n",
    "        attributes x and y.  We default to being a point at the origin\n",
    "        of the coordinate system if x and y are not given.\n",
    "        \"\"\"\n",
    "        self.x = x\n",
    "        self.y = y\n",
    "        \n",
    "    def __str__(self):\n",
    "        \"\"\"Provide functionality to provide a string representation of\n",
    "        this point when needed.\n",
    "        \"\"\"\n",
    "        return 'x:%f, y:%f' % (self.x, self.y)\n",
    "            \n",
    "    def __add__(self, p):\n",
    "        \"\"\"Define vector addition between ourself and another point\n",
    "        p as overloaded `+` operation.\n",
    "        \"\"\"\n",
    "        # new resulting point we will return\n",
    "        newx = self.x + p.x\n",
    "        newy = self.y + p.y\n",
    "        \n",
    "        # new resulting point is returned\n",
    "        return Point(newx, newy)\n",
    "        \n",
    "    def distance(self, p):\n",
    "        \"\"\"Calculate the distance between ourself and\n",
    "        another point, p, given as a parameter to the\n",
    "        member function.\n",
    "        \"\"\"\n",
    "        # need sqrt function to calculate distance\n",
    "        from math import sqrt \n",
    "\n",
    "        # distance is square root of the sum of the squared difference of each dimenstion\n",
    "        return sqrt( (self.x - p.x)**2.0 + (self.y - p.y)**2.0 )\n",
    "    "
   ]
  },
  {
   "cell_type": "code",
   "execution_count": 21,
   "metadata": {},
   "outputs": [],
   "source": [
    "class Rectangle:\n",
    "    \"\"\"Represents a rectangle.\n",
    "    \n",
    "    attributes: corner, width, height\n",
    "    \"\"\"\n",
    "    \n",
    "    def __init__(self, x=0, y=0, width=1.0, height=1.0):\n",
    "        \"\"\"Class constructor for the Rectangle class.  Initialize member\n",
    "        attributes.  We are given the lower left corner, and the\n",
    "        rectangle width and height as attributes.  All parameters have defaults,\n",
    "        so if none are specified a unit Rectangle (square) located at the origin is\n",
    "        created with width and height of 1.\n",
    "        \"\"\"\n",
    "        # our lower left corner is a Point, we use object composition\n",
    "        # in our Rectangle class, reusing the Point class.\n",
    "        self.corner = Point(x, y)\n",
    "        \n",
    "        self.width = width\n",
    "        self.height = height\n",
    "        \n",
    "    def __str__(self):\n",
    "        \"\"\"Provide functionality to provide a string representation of this\n",
    "        rectangle when needed.\n",
    "        \"\"\"\n",
    "        # notice we are using the __str__ of the point\n",
    "        self.ur_corner = self.upper_right_corner()\n",
    "        return 'll corner: %s, ur corner: %s  (width: %f  height: %f)' % \\\n",
    "                  (self.corner, self.ur_corner, self.width, self.height)\n",
    "        \n",
    "    def __mul__(self, scale):\n",
    "        \"\"\"Overload multiplication operator to provide rectangle scaling.\n",
    "        Does not change location of ll corner, simply scales the \n",
    "        width and height dimensions by the floating point scale parameter.\n",
    "        Also does not change self, but a new rectangle appropriatly scaled\n",
    "        is created and returned.\n",
    "        \"\"\"\n",
    "        newwidth = self.width * scale\n",
    "        newheight = self.height * scale\n",
    "        newrect = Rectangle(self.corner.x, self.corner.y, newwidth, newheight)\n",
    "        return newrect\n",
    "    \n",
    "    def upper_right_corner(self):\n",
    "        \"\"\"Given an instance of our Rectangle class, determine the upper-right\n",
    "        corner of the rectangle.\n",
    "        \"\"\"\n",
    "        # upper right corner will be a new point\n",
    "        ur_corner = Point()\n",
    "\n",
    "        ur_corner.x = self.corner.x + self.width\n",
    "        ur_corner.y = self.corner.y + self.height\n",
    "\n",
    "        return ur_corner    "
   ]
  },
  {
   "cell_type": "code",
   "execution_count": 22,
   "metadata": {},
   "outputs": [
    {
     "name": "stdout",
     "output_type": "stream",
     "text": [
      "x:0.000000, y:0.000000\n",
      "x:3.000000, y:4.000000\n",
      "x:-1.000000, y:6.000000\n"
     ]
    }
   ],
   "source": [
    "# lets redefine our points using our new class definition\n",
    "# defaults to point at the origin\n",
    "p1 = Point()\n",
    "print(p1) # example of using __str__\n",
    "\n",
    "# distance from origin to 3,4 is right triangle 3,4 = 5\n",
    "p2 = Point(3, 4)\n",
    "print(p2)\n",
    "\n",
    "p3 = Point(-4, 2)\n",
    "newp = p2 + p3 # example of __add__\n",
    "print(newp)"
   ]
  },
  {
   "cell_type": "code",
   "execution_count": 23,
   "metadata": {},
   "outputs": [
    {
     "name": "stdout",
     "output_type": "stream",
     "text": [
      "ll corner: x:0.000000, y:0.000000, ur corner: x:1.000000, y:1.000000  (width: 1.000000  height: 1.000000)\n",
      "ll corner: x:0.000000, y:0.000000, ur corner: x:5.000000, y:5.000000  (width: 5.000000  height: 5.000000)\n"
     ]
    }
   ],
   "source": [
    "# defaults to the unit rectangle\n",
    "r = Rectangle()\n",
    "print(r)\n",
    "\n",
    "biggerr = r * 5\n",
    "print(biggerr)"
   ]
  },
  {
   "cell_type": "code",
   "execution_count": 24,
   "metadata": {},
   "outputs": [
    {
     "name": "stdout",
     "output_type": "stream",
     "text": [
      "ll corner: x:60.000000, y:30.000000, ur corner: x:160.000000, y:230.000000  (width: 100.000000  height: 200.000000)\n",
      "ll corner: x:60.000000, y:30.000000, ur corner: x:440.000000, y:790.000000  (width: 380.000000  height: 760.000000)\n"
     ]
    }
   ],
   "source": [
    "r = Rectangle(60.0, 30.0, 100.0, 200.0)\n",
    "print(r)\n",
    "\n",
    "biggerr = r * 3.8\n",
    "print(biggerr)"
   ]
  },
  {
   "cell_type": "markdown",
   "metadata": {},
   "source": [
    "## Inheritance\n",
    "\n",
    "Object inheritance is one of the fundamental concepts of OO programming.\n",
    "We will make some use of inheritance in places for this class, so you should\n",
    "understand the fundamental concepts.\n",
    "\n",
    "The \"Think Python\" textbook I am using for most of the examples in this\n",
    "notebook has a good example of object composition and inheritance\n",
    "using a `Card` class, and then a `Deck` class, which is composed of\n",
    "`Card` instances.  Then finally inheritance is demonstrated\n",
    "using a `Hand` class, where a hand of cards is like a small deck\n",
    "of cards, with some other attributes, (like the name or player entitiy\n",
    "that is playing and has the hand).  I encourage you to read over this\n",
    "example.\n",
    "\n",
    "I'll just give another quick example of inheritance here.  A very typical first\n",
    "example of inheritance is to define a hierarchy of shapes.  Since we\n",
    "have been using a rectangle class, lets try defining a shape hierarchy.\n",
    "In this example, all we want to do is be able to instantiate shapes with\n",
    "different numbers of sizes, then provide some special methods for\n",
    "such shapes.\n",
    "\n",
    "We start with a generic base class for all `Polygon` instances, that all of\n",
    "our classes will inherit from.  This class basically defines\n",
    "the constructor and a `__str__` representation that can be used by\n",
    "all the derived children classes."
   ]
  },
  {
   "cell_type": "code",
   "execution_count": 25,
   "metadata": {},
   "outputs": [],
   "source": [
    "class Polygon:\n",
    "    \"\"\"Basic class for a hierarchy of Polygon types\n",
    "    \"\"\"\n",
    "    \n",
    "    def __init__(self, sides):\n",
    "        \"\"\"We expect a sequence of sides, where each item in the\n",
    "        sequence is simply the length of that side.\n",
    "        \"\"\"\n",
    "        self.num_sides = len(sides)\n",
    "        self.sides = sides\n",
    "        \n",
    "    def polygon_name(self):\n",
    "        \"\"\"We expect child classes to overrid this, so they can give\n",
    "        a more useful name than Polygon for the shape\n",
    "        \"\"\"\n",
    "        return '%d-sided Polygon' % self.num_sides\n",
    "    \n",
    "    def area(self):\n",
    "        \"\"\"A kind of virtual function.  Child classes need to \n",
    "        override this function, or else we just throw an exception if\n",
    "        they do not.\n",
    "        \"\"\"\n",
    "        raise Exception('<Polygon> area not implemented by child class as expected')\n",
    "              \n",
    "              \n",
    "    def __str__(self):\n",
    "        \"\"\"Represent the polygon as a string\n",
    "        \"\"\"\n",
    "        # create a string with the polygon name and length of sides in it\n",
    "        s = \"%s\" % self.polygon_name()\n",
    "        for idx, side in enumerate(self.sides):\n",
    "            s += \"\\n   side %d: %f\" % (idx+1, side)\n",
    "        return s"
   ]
  },
  {
   "cell_type": "code",
   "execution_count": 26,
   "metadata": {},
   "outputs": [
    {
     "name": "stdout",
     "output_type": "stream",
     "text": [
      "3-sided Polygon\n",
      "   side 1: 3.000000\n",
      "   side 2: 4.000000\n",
      "   side 3: 5.000000\n"
     ]
    }
   ],
   "source": [
    "# basic tests of the base Polygon class\n",
    "# triangle with 3 sides of length 3,4,5\n",
    "triangle = Polygon( (3, 4, 5) )\n",
    "print(triangle)"
   ]
  },
  {
   "cell_type": "markdown",
   "metadata": {},
   "source": [
    "Given our base class, lets create a child class called `Triangle` which is\n",
    "a 3 sided polygon.  The length of the 3 sides uniquely define only a single\n",
    "triangle, thus we can do things like calculate the area and angles of the \n",
    "triangle given its 3 side lengths.\n",
    "\n",
    "Here we override the `polygon_name` so we have a more specifi name when \n",
    "we display the triangle, and we add an area method to calcualte\n",
    "the triangle area given the length of its sides.\n",
    "\n",
    "**Note**: notice the syntax for defining inheritance.  By giving a base class\n",
    "name in parenthesis after our new class, we are declaring that this is \n",
    "a child class of the `Polygon` base class.\n",
    "\n",
    "**Note**: we have an example of chaining a method from our\n",
    "super class here.  We do some error checking, and if the number\n",
    "of sides is not 3, we throw an exception since it really isn't a triangle\n",
    "without 3 sides."
   ]
  },
  {
   "cell_type": "code",
   "execution_count": 27,
   "metadata": {},
   "outputs": [],
   "source": [
    "class Triangle(Polygon):\n",
    "    \"\"\"A 3-sided polygon is a triangle.\n",
    "    \"\"\"\n",
    "    def __init__(self, sides):\n",
    "        \"\"\"We chain the constructor so we can test that\n",
    "        we really are a triangle.\n",
    "        \"\"\"\n",
    "        # refuse if we are not a triangle\n",
    "        if len(sides) != 3:\n",
    "            raise Exception(\"<Triangle> Error, must have 3 sides\")\n",
    "        \n",
    "        # otherwise safe to construct ourself\n",
    "        Polygon.__init__(self, sides)\n",
    "        \n",
    "    def polygon_name(self):\n",
    "        \"\"\"Override base class so our name is more meaningful.\n",
    "        \"\"\"\n",
    "        return \"Triangle\"\n",
    "\n",
    "    def area(self):\n",
    "        \"\"\"Given the length of 3 sides only 1 unique triangle is possible.\n",
    "        We can calculate its area.\n",
    "        \"\"\"\n",
    "        # need a square root function to calculate area\n",
    "        from math import sqrt \n",
    "        \n",
    "        # tuple assignment to give sides names easier to work with\n",
    "        a, b, c = self.sides\n",
    "        \n",
    "        # calculate the semi-perimeter\n",
    "        s = (a + b + c) / 2.0\n",
    "        \n",
    "        # area is then a function of the semi perimeter and the side lengths\n",
    "        area = sqrt( s * (s - a) * (s - b) * (s - c) )\n",
    "        \n",
    "        return area\n",
    "        "
   ]
  },
  {
   "cell_type": "code",
   "execution_count": 28,
   "metadata": {},
   "outputs": [
    {
     "name": "stdout",
     "output_type": "stream",
     "text": [
      "Exception thrown because triangle must have exactly 3 sides\n"
     ]
    }
   ],
   "source": [
    "try:\n",
    "    Triangle( (1, 2) )\n",
    "except Exception:\n",
    "    print('Exception thrown because triangle must have exactly 3 sides')"
   ]
  },
  {
   "cell_type": "code",
   "execution_count": 29,
   "metadata": {},
   "outputs": [
    {
     "name": "stdout",
     "output_type": "stream",
     "text": [
      "Triangle\n",
      "   side 1: 3.000000\n",
      "   side 2: 4.000000\n",
      "   side 3: 5.000000\n",
      "6.0\n"
     ]
    }
   ],
   "source": [
    "# a 3, 4, 5 right triangle, has area (3*4) / 2\n",
    "right_triangle = Triangle( (3, 4, 5) )\n",
    "print(right_triangle)\n",
    "print(right_triangle.area())"
   ]
  },
  {
   "cell_type": "code",
   "execution_count": 30,
   "metadata": {},
   "outputs": [
    {
     "name": "stdout",
     "output_type": "stream",
     "text": [
      "Triangle\n",
      "   side 1: 10.000000\n",
      "   side 2: 10.000000\n",
      "   side 3: 10.000000\n",
      "43.30127018922193\n"
     ]
    }
   ],
   "source": [
    "# equilateral triangle\n",
    "equilateral = Triangle( (10, 10, 10) )\n",
    "print(equilateral)\n",
    "print(equilateral.area())"
   ]
  },
  {
   "cell_type": "markdown",
   "metadata": {},
   "source": [
    "Quadrilaterals have 4 sides.  Squares and rectangles are quadralaterals.\n",
    "\n",
    "We can't determine the area of a quadrilateral just from the length of the sides.\n",
    "But if we are given angles of 2 opposite corners (among the 4), then we\n",
    "can uniquel determine the quadrilateral area."
   ]
  },
  {
   "cell_type": "code",
   "execution_count": 31,
   "metadata": {},
   "outputs": [],
   "source": [
    "class Quadrilateral(Polygon):\n",
    "    \"\"\"A 4-sided polygon generically is a Quadrilateral.\n",
    "    \"\"\"\n",
    "    def __init__(self, sides, angle1, angle2):\n",
    "        \"\"\"We chain the constructor.  We check that it is a quadrilateral.\n",
    "        We also add in opposite angle attributes, so we uniquely define\n",
    "        the quadrilateral\n",
    "        \"\"\"\n",
    "        # refuse if we are not a quadrilateral\n",
    "        if len(sides) != 4:\n",
    "            raise Exception(\"<Quadrilateral> Error, must have 4 sides\")\n",
    "        \n",
    "        # otherwise safe to construct ourself\n",
    "        Polygon.__init__(self, sides)\n",
    "        \n",
    "        # save the opposite angle attributes of this quadrilateral as well\n",
    "        self.angle1 = angle1\n",
    "        self.angle2 = angle2\n",
    "        \n",
    "    def all_angles_90(self):\n",
    "        \"\"\"Squares and rectangles have 4 angles all of 90 degrees,\n",
    "        If the two opposite angles are 90 degrees, all of them are, \n",
    "        and thus we are either a square or a rectangle.\n",
    "        \"\"\"\n",
    "        if self.angle1 == 90 and self.angle2 == 90:\n",
    "            return True\n",
    "        else:\n",
    "            return False\n",
    "        \n",
    "    def is_square(self):\n",
    "        \"\"\"Test for squareness.  We are a square when all angles are\n",
    "        90degree angles, and all sides are of equal length\n",
    "        \"\"\"\n",
    "        a, b, c, d = self.sides\n",
    "        if self.all_angles_90() and a == b and a == c and a == d:\n",
    "            return True\n",
    "        else:\n",
    "            return False\n",
    "        \n",
    "    def is_rectangle(self):\n",
    "        \"\"\"Test for rectangleness.  We are a rectangle when \n",
    "        all angles are 90degrees, and we are not a square\n",
    "        (adjacent sides are of different lengths).\n",
    "        \"\"\"\n",
    "        if self.all_angles_90() and not self.is_square():\n",
    "            return True\n",
    "        else:\n",
    "            return False\n",
    "        \n",
    "    def polygon_name(self):\n",
    "        \"\"\"Override base class so our name is more meaningful.\n",
    "        Now that I think about this, we could derive Square\n",
    "        and Rectangle classes from Quadrilteral.  I leave as\n",
    "        an exercise for the student.\n",
    "        \"\"\"\n",
    "        # determine shape name\n",
    "        if self.is_square():\n",
    "            name = \"Square\"  \n",
    "        elif self.is_rectangle():\n",
    "            name = \"Rectangle\"\n",
    "        else:\n",
    "            name = \"Quadrilateral\"\n",
    "            \n",
    "        return name\n",
    "\n",
    "    def area(self):\n",
    "        \"\"\"Given the 4 side lengths and two opposite angles, \n",
    "        determine the area of this quadrilateral.  We\n",
    "        use Bretschneider's formula\n",
    "        \"\"\"\n",
    "        # need a few math functions and pi\n",
    "        from math import sqrt, cos, pi\n",
    "        \n",
    "        # tuple assignment to give sides names easier to work with\n",
    "        a, b, c, d = self.sides\n",
    "        \n",
    "        # semi-perimeter needed again\n",
    "        s = (a + b + c + d) / 2.0\n",
    "        \n",
    "        # 1/2 sum of the two opposite angles, we assume angles\n",
    "        # are specified in degrees\n",
    "        theta = (self.angle1 + self.angle2) / 2.0\n",
    "        radians = theta * (pi / 180.0)\n",
    "        \n",
    "        # area is then a function of sum of angles, length\n",
    "        area = sqrt( (s - a) * (s - b) * (s - c) * (s - d) -\n",
    "                      a * b * c * d * cos(radians)**2.0 )\n",
    "        \n",
    "        return area\n",
    "        "
   ]
  },
  {
   "cell_type": "code",
   "execution_count": 32,
   "metadata": {},
   "outputs": [
    {
     "name": "stdout",
     "output_type": "stream",
     "text": [
      "Square\n",
      "   side 1: 5.000000\n",
      "   side 2: 5.000000\n",
      "   side 3: 5.000000\n",
      "   side 4: 5.000000\n",
      "25.0\n"
     ]
    }
   ],
   "source": [
    "# square\n",
    "q1 = Quadrilateral( (5, 5, 5, 5), 90, 90 )\n",
    "print(q1)\n",
    "print(q1.area())"
   ]
  },
  {
   "cell_type": "code",
   "execution_count": 33,
   "metadata": {},
   "outputs": [
    {
     "name": "stdout",
     "output_type": "stream",
     "text": [
      "Rectangle\n",
      "   side 1: 5.000000\n",
      "   side 2: 3.000000\n",
      "   side 3: 5.000000\n",
      "   side 4: 3.000000\n",
      "15.0\n"
     ]
    }
   ],
   "source": [
    "# rectangle\n",
    "q2 = Quadrilateral( (5, 3, 5, 3), 90, 90)\n",
    "print(q2)\n",
    "print(q2.area())"
   ]
  },
  {
   "cell_type": "code",
   "execution_count": 34,
   "metadata": {},
   "outputs": [
    {
     "name": "stdout",
     "output_type": "stream",
     "text": [
      "Quadrilateral\n",
      "   side 1: 13.000000\n",
      "   side 2: 14.000000\n",
      "   side 3: 2.985000\n",
      "   side 4: 13.000000\n",
      "100.00525242157576\n"
     ]
    }
   ],
   "source": [
    "# an irregular polygon, the area of this polygon is about 100\n",
    "q3 = Quadrilateral( (13, 14, 2.985, 13), 60, 120)\n",
    "print(q3)\n",
    "print(q3.area())"
   ]
  },
  {
   "cell_type": "markdown",
   "metadata": {},
   "source": [
    "# Functional Programming in Python\n",
    "\n",
    "In addition to supporting Object-Oriented programming,  you\n",
    "can also program in a\n",
    "[Functional Programming style](https://docs.python.org/3/howto/functional.html)\n",
    "with Python.\n",
    "\n",
    "Functional programming uses pure functions, with no side effects.  In functional\n",
    "programming we decompose a problem into a set of pure functions.  Ideally\n",
    "functions only take inputs and produce outputs, they do not have any internal \n",
    "state or remember anything or modify anything as a side effect (this is what\n",
    "makes them a pure function).  Functional programming can be considered as the\n",
    "opposite of object-oriented programming.  Objects are little capsules containing some internal state along with a collection of methods that allow you to modify\n",
    "that state.  Functional programming wants to avoid state changes as much as possible\n",
    "and works with data flowing between functions that take it as input, transform\n",
    "it in some way (like map or filter it) and send it along the pipeline as output.\n",
    "\n",
    "You can combine the two approaches in Python.  OO is good for some things\n",
    "(like the big picture structure of a library) and functional programming\n",
    "is better suited for other areas.\n",
    "\n",
    "Some of the libraries and concepts we use in this class make use of a \n",
    "functional programming approach towards implementing solutions.  Thus \n",
    "a basic familiarity with the concepts can be helpful for this class.\n",
    "\n"
   ]
  },
  {
   "cell_type": "markdown",
   "metadata": {},
   "source": [
    "## Functions as first-class objects\n",
    "\n",
    "We briefly mentiond the idea of passing functions to other functions\n",
    "when we first talked about functions.  When functions are first-class objects\n",
    "of a programming language, they can be used as parameters to other functions.\n",
    "This is an important aspect of functional-style programming, and is used\n",
    "in many places in the libraries we will use.\n",
    "\n",
    "As a quick example, say we have a function that simply tests\n",
    "wheter a values is even or not."
   ]
  },
  {
   "cell_type": "code",
   "execution_count": 35,
   "metadata": {},
   "outputs": [],
   "source": [
    "def is_even(x):\n",
    "    \"\"\"Test for \"evenness\" of the given value x\n",
    "    \"\"\"\n",
    "    return (x % 2) == 0"
   ]
  },
  {
   "cell_type": "markdown",
   "metadata": {},
   "source": [
    "So we could write a function that takes tests like this to perform filtering\n",
    "actions.  For example, our own implementation of a generic filter might\n",
    "expect a function that tests a value and returns the truthiness of the\n",
    "value for the test."
   ]
  },
  {
   "cell_type": "code",
   "execution_count": 36,
   "metadata": {},
   "outputs": [],
   "source": [
    "def our_filter(test, iter):\n",
    "    \"\"\"Perform a filter of a sequence or some iteratble source of data\n",
    "    \"\"\"\n",
    "    res = []\n",
    "    \n",
    "    # for each item in the iteration sequence\n",
    "    for item in iter:\n",
    "        # if the item passes the test, it stays in, otherwise filtered out.\n",
    "        if test(item):\n",
    "            res.append(item)\n",
    "            \n",
    "    return res"
   ]
  },
  {
   "cell_type": "code",
   "execution_count": 37,
   "metadata": {},
   "outputs": [
    {
     "data": {
      "text/plain": [
       "[2, 6, 4, 8, 2]"
      ]
     },
     "execution_count": 37,
     "metadata": {},
     "output_type": "execute_result"
    }
   ],
   "source": [
    "l = [3, 5, 2, 6, 9, 7, 4, 8, 2]\n",
    "\n",
    "# use our test for evenness to filter the sequence\n",
    "our_filter(is_even, l)"
   ]
  },
  {
   "cell_type": "markdown",
   "metadata": {},
   "source": [
    "The point here is that the generic filter function can be used to \n",
    "filter by any test, so long as the test function is of the appropriate\n",
    "signature."
   ]
  },
  {
   "cell_type": "code",
   "execution_count": 38,
   "metadata": {},
   "outputs": [],
   "source": [
    "def is_odd_or_2(x):\n",
    "    if x == 2:\n",
    "        return True\n",
    "    else:\n",
    "        return x % 2 == 1"
   ]
  },
  {
   "cell_type": "code",
   "execution_count": 39,
   "metadata": {},
   "outputs": [
    {
     "data": {
      "text/plain": [
       "[3, 5, 2, 9, 7, 2]"
      ]
     },
     "execution_count": 39,
     "metadata": {},
     "output_type": "execute_result"
    }
   ],
   "source": [
    "our_filter(is_odd_or_2, l)"
   ]
  },
  {
   "cell_type": "markdown",
   "metadata": {},
   "source": [
    "## Composibility, and map/filter pipelines\n",
    "\n",
    "The most obvious example we will use in this class of functional programming\n",
    "and composibility is the `Scikit-learn`'s data transformation \n",
    "pipeline.  In general there is a type of class in `sklearn` called\n",
    "a `Transformer` that takes a data set as input to a single method called\n",
    "`transform()` and it transforms and returns a new data set as output.\n",
    "You can chain together sequences of these object/function transformers\n",
    "to define a data cleaning and transformation pipeline.\n",
    "\n",
    "As a general example of this type of style of programming, lets look at\n",
    "two built-in Python functions that are oriented towards a functional\n",
    "programming style `map()` and `filter()`.\n",
    "\n",
    "`filter()` does exactly what we just described for our own filter, though\n",
    "it accepts iterator objects and returns an iterator object as a result.\n",
    "This means you can use it like our own function, but you will get back\n",
    "an object you have to iterate over to get the items from the sequence.\n"
   ]
  },
  {
   "cell_type": "code",
   "execution_count": 40,
   "metadata": {},
   "outputs": [
    {
     "data": {
      "text/plain": [
       "<filter at 0x7f956afc19d0>"
      ]
     },
     "execution_count": 40,
     "metadata": {},
     "output_type": "execute_result"
    }
   ],
   "source": [
    "# use builg in filter method.  If you call you get back an iterator object\n",
    "filter(is_even, range(100))"
   ]
  },
  {
   "cell_type": "code",
   "execution_count": 41,
   "metadata": {},
   "outputs": [
    {
     "name": "stdout",
     "output_type": "stream",
     "text": [
      "0 2 4 6 8 10 12 14 16 18 20 22 24 26 28 30 32 34 36 38 40 42 44 46 48 50 52 54 56 58 60 62 64 66 68 70 72 74 76 78 80 82 84 86 88 90 92 94 96 98 "
     ]
    }
   ],
   "source": [
    "# you can use a for loop to get the items out of the filter\n",
    "for val in filter(is_even, range(100)):\n",
    "    print(val, end=' ')"
   ]
  },
  {
   "cell_type": "code",
   "execution_count": 42,
   "metadata": {},
   "outputs": [
    {
     "data": {
      "text/plain": [
       "[0,\n",
       " 2,\n",
       " 4,\n",
       " 6,\n",
       " 8,\n",
       " 10,\n",
       " 12,\n",
       " 14,\n",
       " 16,\n",
       " 18,\n",
       " 20,\n",
       " 22,\n",
       " 24,\n",
       " 26,\n",
       " 28,\n",
       " 30,\n",
       " 32,\n",
       " 34,\n",
       " 36,\n",
       " 38,\n",
       " 40,\n",
       " 42,\n",
       " 44,\n",
       " 46,\n",
       " 48,\n",
       " 50,\n",
       " 52,\n",
       " 54,\n",
       " 56,\n",
       " 58,\n",
       " 60,\n",
       " 62,\n",
       " 64,\n",
       " 66,\n",
       " 68,\n",
       " 70,\n",
       " 72,\n",
       " 74,\n",
       " 76,\n",
       " 78,\n",
       " 80,\n",
       " 82,\n",
       " 84,\n",
       " 86,\n",
       " 88,\n",
       " 90,\n",
       " 92,\n",
       " 94,\n",
       " 96,\n",
       " 98]"
      ]
     },
     "execution_count": 42,
     "metadata": {},
     "output_type": "execute_result"
    }
   ],
   "source": [
    "# or you can use the built-in list() function to gather an iteration source into\n",
    "# a list\n",
    "list(filter(is_even, range(100)))"
   ]
  },
  {
   "cell_type": "markdown",
   "metadata": {},
   "source": [
    "`map(f, iter)` generically returns a new list which is the result of applying the\n",
    "function `f` to each item in iter.  So for example"
   ]
  },
  {
   "cell_type": "code",
   "execution_count": 43,
   "metadata": {},
   "outputs": [],
   "source": [
    "# generate some random numbers, in range -10 to 10\n",
    "import random\n",
    "# an example of a generator, this will create a sequcne of 25 random number from\n",
    "# -10 to 10\n",
    "gen = (random.randint(-10, 10) for i in range(25))"
   ]
  },
  {
   "cell_type": "code",
   "execution_count": 44,
   "metadata": {},
   "outputs": [
    {
     "data": {
      "text/plain": [
       "[8, 3, 0, 5, 1, 1, 9, 6, 4, 5, 9, 7, 5, 10, 2, 6, 10, 4, 7, 5, 1, 5, 6, 9, 4]"
      ]
     },
     "execution_count": 44,
     "metadata": {},
     "output_type": "execute_result"
    }
   ],
   "source": [
    "# map all values to their absolute value, abs() is a built-in function\n",
    "list(map(abs, gen))"
   ]
  },
  {
   "cell_type": "code",
   "execution_count": 45,
   "metadata": {},
   "outputs": [
    {
     "data": {
      "text/plain": [
       "[False,\n",
       " True,\n",
       " False,\n",
       " False,\n",
       " True,\n",
       " True,\n",
       " False,\n",
       " True,\n",
       " False,\n",
       " False,\n",
       " True,\n",
       " True,\n",
       " True,\n",
       " False,\n",
       " False,\n",
       " True,\n",
       " True,\n",
       " False,\n",
       " False,\n",
       " False,\n",
       " True,\n",
       " True,\n",
       " False,\n",
       " False,\n",
       " False]"
      ]
     },
     "execution_count": 45,
     "metadata": {},
     "output_type": "execute_result"
    }
   ],
   "source": [
    "# as another example, lets say we need a boolean array that is true for all\n",
    "# values < 0 and false for all >= 0\n",
    "gen = (random.randint(-10, 10) for i in range(25))\n",
    "list(map(lambda x: x < 0, gen))"
   ]
  },
  {
   "cell_type": "markdown",
   "metadata": {},
   "source": [
    "Map is also useful when we need to map some function of 2 or more\n",
    "sequences to some new value.  This is common when, for example, we have \n",
    "2 or more features of a data set, and we want to create a new feature that is\n",
    "a combination of the 2 existing features.\n",
    "\n",
    "So for example, say you want to raise all of the values in your first \n",
    "sequence to the power indicated in the second sequence."
   ]
  },
  {
   "cell_type": "code",
   "execution_count": 46,
   "metadata": {},
   "outputs": [
    {
     "data": {
      "text/plain": [
       "[10, 400, 27000, 2560000, 312500000]"
      ]
     },
     "execution_count": 46,
     "metadata": {},
     "output_type": "execute_result"
    }
   ],
   "source": [
    "bases = [10, 20, 30, 40, 50]\n",
    "powers = [1, 2, 3, 4, 5]\n",
    "\n",
    "list(map(pow, bases, powers))"
   ]
  },
  {
   "cell_type": "markdown",
   "metadata": {},
   "source": [
    "We have already seen the `enumerate()` built-in function, which is an\n",
    "example that maps an index with a sequence of items and forms tuples."
   ]
  },
  {
   "cell_type": "code",
   "execution_count": 47,
   "metadata": {},
   "outputs": [
    {
     "data": {
      "text/plain": [
       "[(0, 2),\n",
       " (1, -2),\n",
       " (2, 7),\n",
       " (3, -7),\n",
       " (4, 4),\n",
       " (5, 1),\n",
       " (6, -1),\n",
       " (7, -1),\n",
       " (8, -4),\n",
       " (9, -1),\n",
       " (10, -4),\n",
       " (11, 7),\n",
       " (12, -8),\n",
       " (13, 1),\n",
       " (14, -6),\n",
       " (15, -1),\n",
       " (16, 2),\n",
       " (17, -2),\n",
       " (18, 8),\n",
       " (19, -5),\n",
       " (20, -10),\n",
       " (21, 4),\n",
       " (22, -3),\n",
       " (23, 0),\n",
       " (24, 1)]"
      ]
     },
     "execution_count": 47,
     "metadata": {},
     "output_type": "execute_result"
    }
   ],
   "source": [
    "gen = (random.randint(-10, 10) for i in range(25))\n",
    "list(enumerate(gen))"
   ]
  },
  {
   "cell_type": "code",
   "execution_count": 48,
   "metadata": {},
   "outputs": [
    {
     "data": {
      "text/plain": [
       "[(0, -6),\n",
       " (1, -3),\n",
       " (2, -9),\n",
       " (3, -5),\n",
       " (4, 1),\n",
       " (5, 6),\n",
       " (6, -1),\n",
       " (7, -1),\n",
       " (8, -5),\n",
       " (9, -6),\n",
       " (10, 8),\n",
       " (11, 3),\n",
       " (12, -6),\n",
       " (13, 1),\n",
       " (14, 2),\n",
       " (15, -7),\n",
       " (16, -1),\n",
       " (17, 2),\n",
       " (18, -1),\n",
       " (19, 5),\n",
       " (20, -2),\n",
       " (21, 8),\n",
       " (22, -2),\n",
       " (23, -6),\n",
       " (24, -3)]"
      ]
     },
     "execution_count": 48,
     "metadata": {},
     "output_type": "execute_result"
    }
   ],
   "source": [
    "# basically this is a map that takes a list of indexes and of the values,\n",
    "# and returns tuples\n",
    "gen = (random.randint(-10, 10) for i in range(25))\n",
    "list(map(lambda x, y: (x, y), range(25), gen))"
   ]
  },
  {
   "cell_type": "code",
   "execution_count": 49,
   "metadata": {},
   "outputs": [
    {
     "data": {
      "text/plain": [
       "[(0, 9),\n",
       " (1, -6),\n",
       " (2, 0),\n",
       " (3, 8),\n",
       " (4, 6),\n",
       " (5, -4),\n",
       " (6, -3),\n",
       " (7, -3),\n",
       " (8, -4),\n",
       " (9, 10),\n",
       " (10, 10),\n",
       " (11, 7),\n",
       " (12, -4),\n",
       " (13, -4),\n",
       " (14, 4),\n",
       " (15, 4),\n",
       " (16, -2),\n",
       " (17, -2),\n",
       " (18, 4),\n",
       " (19, 7),\n",
       " (20, 8),\n",
       " (21, -9),\n",
       " (22, 7),\n",
       " (23, -5),\n",
       " (24, 6)]"
      ]
     },
     "execution_count": 49,
     "metadata": {},
     "output_type": "execute_result"
    }
   ],
   "source": [
    "# or equivalently, the zip() function can do this as well\n",
    "gen = (random.randint(-10, 10) for i in range(25))\n",
    "list(zip(range(25), gen))"
   ]
  },
  {
   "cell_type": "markdown",
   "metadata": {},
   "source": [
    "And there are many more built in functions and libraries that support\n",
    "functional programming approaches in Python.  I recommend looking\n",
    "up\n",
    "\n",
    "- [itertools](https://docs.python.org/3/library/itertools.html#module-itertools)\n",
    "- [operator](https://docs.python.org/3/library/operator.html#module-operator)"
   ]
  }
 ],
 "metadata": {
  "kernelspec": {
   "display_name": "python3-datasci",
   "language": "python",
   "name": "python3-datasci"
  },
  "language_info": {
   "codemirror_mode": {
    "name": "ipython",
    "version": 3
   },
   "file_extension": ".py",
   "mimetype": "text/x-python",
   "name": "python",
   "nbconvert_exporter": "python",
   "pygments_lexer": "ipython3",
   "version": "3.7.7"
  }
 },
 "nbformat": 4,
 "nbformat_minor": 4
}

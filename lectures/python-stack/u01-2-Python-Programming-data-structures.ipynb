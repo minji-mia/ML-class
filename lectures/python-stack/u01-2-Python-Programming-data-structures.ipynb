{
 "cells": [
  {
   "cell_type": "markdown",
   "metadata": {},
   "source": [
    "# Python Programming: Data Structures and Classes\n",
    "\n",
    "In the previous lecture notebook we quickly coverd all of the important\n",
    "control structures available in Python, and how to define and use\n",
    "functions in Python.\n",
    "\n",
    "In this notebook we begin to look at some of the power of the high-level\n",
    "language constructs Python provides by looking at some of the built-in\n",
    "basic data types.  \n",
    "\n",
    "We will also cover the basics of defining and using classes and objects and\n",
    "doing object-oriented programming in the Python language."
   ]
  },
  {
   "cell_type": "markdown",
   "metadata": {},
   "source": [
    "# Strings\n",
    "\n",
    "Strings are not like numerical values.  In Pythong, strings or the `str` type \n",
    "are first-class data types of the language, unlike some othre languages.\n",
    "Strings are a fundamental type.\n",
    "\n",
    "Strings are a type of **sequence**, which means it is an order collection\n",
    "of values.  Basically a string is an order collection of characters in Python."
   ]
  },
  {
   "cell_type": "markdown",
   "metadata": {},
   "source": [
    "## A string is a sequence\n",
    "\n",
    "You can access individual characters in the string sequence using an indexing\n",
    "operator (all sequences in Python provide indexing and slicing operations, \n",
    "as we will discuss).  Indexing is 0-based in Python, the first element is found\n",
    "at index 0."
   ]
  },
  {
   "cell_type": "code",
   "execution_count": null,
   "metadata": {},
   "outputs": [],
   "source": [
    "fruit = 'banana'\n"
   ]
  },
  {
   "cell_type": "code",
   "execution_count": 2,
   "metadata": {},
   "outputs": [
    {
     "data": {
      "text/plain": [
       "'b'"
      ]
     },
     "execution_count": 2,
     "metadata": {},
     "output_type": "execute_result"
    }
   ],
   "source": [
    "# first character is at index 0\n",
    "fruit[0]"
   ]
  },
  {
   "cell_type": "code",
   "execution_count": 3,
   "metadata": {},
   "outputs": [
    {
     "data": {
      "text/plain": [
       "'n'"
      ]
     },
     "execution_count": 3,
     "metadata": {},
     "output_type": "execute_result"
    }
   ],
   "source": [
    "# character at index 2 is the 3rd character, an n\n",
    "letter = fruit[2]\n",
    "letter"
   ]
  },
  {
   "cell_type": "markdown",
   "metadata": {},
   "source": [
    "You can use expressions that evaluate to an index to access characters of\n",
    "a sequence like a string."
   ]
  },
  {
   "cell_type": "code",
   "execution_count": 4,
   "metadata": {},
   "outputs": [
    {
     "data": {
      "text/plain": [
       "'a'"
      ]
     },
     "execution_count": 4,
     "metadata": {},
     "output_type": "execute_result"
    }
   ],
   "source": [
    "length = 6 # banana has 6 characters\n",
    "last_char = fruit[length - 1]\n",
    "last_char"
   ]
  },
  {
   "cell_type": "code",
   "execution_count": 5,
   "metadata": {},
   "outputs": [
    {
     "data": {
      "text/plain": [
       "'a'"
      ]
     },
     "execution_count": 5,
     "metadata": {},
     "output_type": "execute_result"
    }
   ],
   "source": [
    "mid = length // 2\n",
    "mid_char = fruit[mid]\n",
    "mid_char"
   ]
  },
  {
   "cell_type": "markdown",
   "metadata": {},
   "source": [
    "## 'len'\n",
    "\n",
    "`len()` is a built-in function that returns the number of characters in\n",
    "a string (or in general, the number of items in any sequence container)."
   ]
  },
  {
   "cell_type": "code",
   "execution_count": 6,
   "metadata": {},
   "outputs": [
    {
     "data": {
      "text/plain": [
       "6"
      ]
     },
     "execution_count": 6,
     "metadata": {},
     "output_type": "execute_result"
    }
   ],
   "source": [
    "len(fruit)"
   ]
  },
  {
   "cell_type": "markdown",
   "metadata": {},
   "source": [
    "To get the last letter of the string you might try this:"
   ]
  },
  {
   "cell_type": "code",
   "execution_count": 7,
   "metadata": {},
   "outputs": [
    {
     "name": "stdout",
     "output_type": "stream",
     "text": [
      "IndexError because valid indexes are from 0 to 5, but length is 6\n",
      "   which is an invalid index.\n"
     ]
    }
   ],
   "source": [
    "length = len(fruit) # get the length programatically instead of hard coding it\n",
    "\n",
    "try:\n",
    "    last_char = fruit[length]\n",
    "except IndexError:\n",
    "    print('IndexError because valid indexes are from 0 to 5, but length is 6')\n",
    "    print('   which is an invalid index.')\n"
   ]
  },
  {
   "cell_type": "markdown",
   "metadata": {},
   "source": [
    "So to get the last character you actually need the character at `length - 1`\n",
    "index."
   ]
  },
  {
   "cell_type": "code",
   "execution_count": 8,
   "metadata": {},
   "outputs": [
    {
     "data": {
      "text/plain": [
       "'a'"
      ]
     },
     "execution_count": 8,
     "metadata": {},
     "output_type": "execute_result"
    }
   ],
   "source": [
    "last_char = fruit[length - 1]\n",
    "last_char"
   ]
  },
  {
   "cell_type": "markdown",
   "metadata": {},
   "source": [
    "## Traversal with a `for` loop\n",
    "\n",
    "Another way to iterate in Python is with `for` loops.  But unlike some languages,\n",
    "`for` loops are specifically designed to iterate over the items in a sequence.\n",
    "Since the items in a string are characters, if you iterate over a string you will\n",
    "get the individual characters of the string."
   ]
  },
  {
   "cell_type": "code",
   "execution_count": 9,
   "metadata": {},
   "outputs": [
    {
     "name": "stdout",
     "output_type": "stream",
     "text": [
      "b\n",
      "a\n",
      "n\n",
      "a\n",
      "n\n",
      "a\n"
     ]
    }
   ],
   "source": [
    "for letter in fruit:\n",
    "    print(letter)"
   ]
  },
  {
   "cell_type": "markdown",
   "metadata": {},
   "source": [
    "You can compare this to manipulating an explicit index variable `index` to access\n",
    "the characters in a string."
   ]
  },
  {
   "cell_type": "code",
   "execution_count": 10,
   "metadata": {},
   "outputs": [
    {
     "name": "stdout",
     "output_type": "stream",
     "text": [
      "0 b\n",
      "1 a\n",
      "2 n\n",
      "3 a\n",
      "4 n\n",
      "5 a\n"
     ]
    }
   ],
   "source": [
    "index = 0\n",
    "while index < len(fruit):\n",
    "    letter = fruit[index]\n",
    "    print(index, letter)\n",
    "    index = index + 1"
   ]
  },
  {
   "cell_type": "markdown",
   "metadata": {},
   "source": [
    "It is considered bad style to use an index controlled loop like this to access\n",
    "the elementes of a sequence.  If you need to have both the index number of the\n",
    "item in the sequence, and the item, use the built-in `enumerate()` function,\n",
    "which enumerates over the items of a sequence, returning the index and the item\n",
    "as pairs, like this."
   ]
  },
  {
   "cell_type": "code",
   "execution_count": 11,
   "metadata": {},
   "outputs": [
    {
     "name": "stdout",
     "output_type": "stream",
     "text": [
      "0 b\n",
      "1 a\n",
      "2 n\n",
      "3 a\n",
      "4 n\n",
      "5 a\n"
     ]
    }
   ],
   "source": [
    "for index, letter in enumerate(fruit):\n",
    "    print(index, letter)"
   ]
  },
  {
   "cell_type": "markdown",
   "metadata": {},
   "source": [
    "## String slices\n",
    "\n",
    "A segment of a string is called a slice.  \n",
    "\n",
    "**ALERT**: understanding slicing is very important for this class.  We use slicing\n",
    "of sequences in all kinds of contexts. \n",
    "\n",
    "You should learn all of the ways you can slice sequences, we will make heavy\n",
    "use of slicing syntax in this class.  Many things we use in this class are\n",
    "sequences, like lists, numpy arrays, pandas dataframes, etc."
   ]
  },
  {
   "cell_type": "code",
   "execution_count": 12,
   "metadata": {},
   "outputs": [],
   "source": [
    "s = 'Monty Python'"
   ]
  },
  {
   "cell_type": "code",
   "execution_count": 13,
   "metadata": {},
   "outputs": [
    {
     "data": {
      "text/plain": [
       "'Monty'"
      ]
     },
     "execution_count": 13,
     "metadata": {},
     "output_type": "execute_result"
    }
   ],
   "source": [
    "# slice from the beginning to the 5th index (up to by not including index 5)\n",
    "s[0:5]"
   ]
  },
  {
   "cell_type": "code",
   "execution_count": 14,
   "metadata": {},
   "outputs": [
    {
     "data": {
      "text/plain": [
       "'Monty'"
      ]
     },
     "execution_count": 14,
     "metadata": {},
     "output_type": "execute_result"
    }
   ],
   "source": [
    "# if you omit the beginning index of a slice, 0 is assumed\n",
    "s[:5]"
   ]
  },
  {
   "cell_type": "code",
   "execution_count": 15,
   "metadata": {},
   "outputs": [
    {
     "data": {
      "text/plain": [
       "'Python'"
      ]
     },
     "execution_count": 15,
     "metadata": {},
     "output_type": "execute_result"
    }
   ],
   "source": [
    "# slice from the middle of a sequence to the end\n",
    "s[6:12]"
   ]
  },
  {
   "cell_type": "code",
   "execution_count": 16,
   "metadata": {},
   "outputs": [
    {
     "data": {
      "text/plain": [
       "'Python'"
      ]
     },
     "execution_count": 16,
     "metadata": {},
     "output_type": "execute_result"
    }
   ],
   "source": [
    "# if  you omit the end index, all characters to the end are assumed\n",
    "s[6:]"
   ]
  },
  {
   "cell_type": "code",
   "execution_count": 17,
   "metadata": {},
   "outputs": [
    {
     "data": {
      "text/plain": [
       "'ty Py'"
      ]
     },
     "execution_count": 17,
     "metadata": {},
     "output_type": "execute_result"
    }
   ],
   "source": [
    "# arbitrary slice of characters from index 3 up to (but not including)\n",
    "# index 8 in the middle of the sequence\n",
    "s[3:8]"
   ]
  },
  {
   "cell_type": "code",
   "execution_count": 18,
   "metadata": {},
   "outputs": [
    {
     "data": {
      "text/plain": [
       "'Monty Python'"
      ]
     },
     "execution_count": 18,
     "metadata": {},
     "output_type": "execute_result"
    }
   ],
   "source": [
    "# given what we just demonstrated, what does the following mean?\n",
    "s[:]"
   ]
  },
  {
   "cell_type": "code",
   "execution_count": 19,
   "metadata": {},
   "outputs": [
    {
     "data": {
      "text/plain": [
       "'MnyPto'"
      ]
     },
     "execution_count": 19,
     "metadata": {},
     "output_type": "execute_result"
    }
   ],
   "source": [
    "# you can provide a 3rd parameter for a slice, the step or skip\n",
    "# get every even character of the string\n",
    "s[::2]"
   ]
  },
  {
   "cell_type": "code",
   "execution_count": 20,
   "metadata": {},
   "outputs": [
    {
     "data": {
      "text/plain": [
       "'ot yhn'"
      ]
     },
     "execution_count": 20,
     "metadata": {},
     "output_type": "execute_result"
    }
   ],
   "source": [
    "# get every odd character starting at character 1\n",
    "s[1::2]"
   ]
  },
  {
   "cell_type": "code",
   "execution_count": 21,
   "metadata": {},
   "outputs": [
    {
     "data": {
      "text/plain": [
       "'n'"
      ]
     },
     "execution_count": 21,
     "metadata": {},
     "output_type": "execute_result"
    }
   ],
   "source": [
    "# negative indexes are relative to the end of the sequence,\n",
    "# get the last character\n",
    "s[-1]"
   ]
  },
  {
   "cell_type": "code",
   "execution_count": 22,
   "metadata": {},
   "outputs": [
    {
     "data": {
      "text/plain": [
       "'on'"
      ]
     },
     "execution_count": 22,
     "metadata": {},
     "output_type": "execute_result"
    }
   ],
   "source": [
    "# get the last 2 characters\n",
    "s[-2:]"
   ]
  },
  {
   "cell_type": "code",
   "execution_count": 23,
   "metadata": {},
   "outputs": [
    {
     "data": {
      "text/plain": [
       "'nohtyP ytnoM'"
      ]
     },
     "execution_count": 23,
     "metadata": {},
     "output_type": "execute_result"
    }
   ],
   "source": [
    "# reverse the string, go from last to first character with a step of -1\n",
    "s[::-1]"
   ]
  },
  {
   "cell_type": "markdown",
   "metadata": {},
   "source": [
    "## Strings are immutable\n",
    "\n",
    "Strings are **immutable**.  This means you can't actually change\n",
    "the characters of a string in place.   The other immutable data structure\n",
    "we will use a lot is a **tuple**, which we will describe briefly later.\n",
    "\n",
    "What does it mean that strings are immutable.  Well you can't do something \n",
    "like this:"
   ]
  },
  {
   "cell_type": "code",
   "execution_count": 24,
   "metadata": {},
   "outputs": [
    {
     "name": "stdout",
     "output_type": "stream",
     "text": [
      "TypeError is generated because it is illegal to try and change (mutate)\n",
      "   the individual characters of a string sequence.\n"
     ]
    }
   ],
   "source": [
    "greeting = 'Hello, world!'\n",
    "\n",
    "try:\n",
    "    greeting[0] = 'J'\n",
    "except TypeError:\n",
    "    print('TypeError is generated because it is illegal to try and change (mutate)')\n",
    "    print('   the individual characters of a string sequence.')"
   ]
  },
  {
   "cell_type": "markdown",
   "metadata": {},
   "source": [
    "If you need to modify a string, the best you can do is create a new\n",
    "string."
   ]
  },
  {
   "cell_type": "code",
   "execution_count": 25,
   "metadata": {},
   "outputs": [
    {
     "data": {
      "text/plain": [
       "'Jello, world!'"
      ]
     },
     "execution_count": 25,
     "metadata": {},
     "output_type": "execute_result"
    }
   ],
   "source": [
    "new_greeting = 'J' + greeting[1:]\n",
    "new_greeting"
   ]
  },
  {
   "cell_type": "markdown",
   "metadata": {},
   "source": [
    "## Operations on strings\n",
    "\n",
    "There are operations that can be done on strings, like operations on numeric\n",
    "types.  In another language, we might say that operations `+` and `*` \n",
    "are \"overloaded\" for the string type in the Python language.\n",
    "\n",
    "We just saw the operator `+` for strings.  Plus will concatenate strings."
   ]
  },
  {
   "cell_type": "code",
   "execution_count": 26,
   "metadata": {},
   "outputs": [
    {
     "data": {
      "text/plain": [
       "'Hello World!'"
      ]
     },
     "execution_count": 26,
     "metadata": {},
     "output_type": "execute_result"
    }
   ],
   "source": [
    "# string concatenation\n",
    "s = \"Hello\" + \" \" + \"World!\"\n",
    "s"
   ]
  },
  {
   "cell_type": "markdown",
   "metadata": {},
   "source": [
    "The `*` operator on strings defines a string repetition.  The amount of repetition\n",
    "has to appear on the right hand side of the `*` operator."
   ]
  },
  {
   "cell_type": "code",
   "execution_count": 27,
   "metadata": {},
   "outputs": [
    {
     "data": {
      "text/plain": [
       "'Spam Spam Spam Spam Spam Spam Spam Spam Spam Spam Spamity spam, spamity spam!'"
      ]
     },
     "execution_count": 27,
     "metadata": {},
     "output_type": "execute_result"
    }
   ],
   "source": [
    "# example of string repetition and concatenation together\n",
    "x = 'Spam ' * 10 + \"Spamity spam, spamity spam!\"\n",
    "x"
   ]
  },
  {
   "cell_type": "markdown",
   "metadata": {},
   "source": [
    "## String methods\n",
    "\n",
    "Although in many ways strings are fundamantal types in Python, it is more\n",
    "correct to think of strings as instances of objects.\n",
    "\n",
    "So an instance of a string has many member function that can be called to \n",
    "manipulate the string.  This is true of all of the rest of the high-level \n",
    "data types we will look at as well in the following sections.\n",
    "\n",
    "We can use the built-in method `dir()` to list all of the string methods\n",
    "available for a string.  Documentation of \n",
    "[Python string methods](https://docs.python.org/3/library/stdtypes.html#string-methods)\n",
    "can be found at that link."
   ]
  },
  {
   "cell_type": "code",
   "execution_count": 28,
   "metadata": {},
   "outputs": [
    {
     "data": {
      "text/plain": [
       "['__add__',\n",
       " '__class__',\n",
       " '__contains__',\n",
       " '__delattr__',\n",
       " '__dir__',\n",
       " '__doc__',\n",
       " '__eq__',\n",
       " '__format__',\n",
       " '__ge__',\n",
       " '__getattribute__',\n",
       " '__getitem__',\n",
       " '__getnewargs__',\n",
       " '__gt__',\n",
       " '__hash__',\n",
       " '__init__',\n",
       " '__init_subclass__',\n",
       " '__iter__',\n",
       " '__le__',\n",
       " '__len__',\n",
       " '__lt__',\n",
       " '__mod__',\n",
       " '__mul__',\n",
       " '__ne__',\n",
       " '__new__',\n",
       " '__reduce__',\n",
       " '__reduce_ex__',\n",
       " '__repr__',\n",
       " '__rmod__',\n",
       " '__rmul__',\n",
       " '__setattr__',\n",
       " '__sizeof__',\n",
       " '__str__',\n",
       " '__subclasshook__',\n",
       " 'capitalize',\n",
       " 'casefold',\n",
       " 'center',\n",
       " 'count',\n",
       " 'encode',\n",
       " 'endswith',\n",
       " 'expandtabs',\n",
       " 'find',\n",
       " 'format',\n",
       " 'format_map',\n",
       " 'index',\n",
       " 'isalnum',\n",
       " 'isalpha',\n",
       " 'isascii',\n",
       " 'isdecimal',\n",
       " 'isdigit',\n",
       " 'isidentifier',\n",
       " 'islower',\n",
       " 'isnumeric',\n",
       " 'isprintable',\n",
       " 'isspace',\n",
       " 'istitle',\n",
       " 'isupper',\n",
       " 'join',\n",
       " 'ljust',\n",
       " 'lower',\n",
       " 'lstrip',\n",
       " 'maketrans',\n",
       " 'partition',\n",
       " 'replace',\n",
       " 'rfind',\n",
       " 'rindex',\n",
       " 'rjust',\n",
       " 'rpartition',\n",
       " 'rsplit',\n",
       " 'rstrip',\n",
       " 'split',\n",
       " 'splitlines',\n",
       " 'startswith',\n",
       " 'strip',\n",
       " 'swapcase',\n",
       " 'title',\n",
       " 'translate',\n",
       " 'upper',\n",
       " 'zfill']"
      ]
     },
     "execution_count": 28,
     "metadata": {},
     "output_type": "execute_result"
    }
   ],
   "source": [
    "s = 'A string'\n",
    "dir(s)"
   ]
  },
  {
   "cell_type": "markdown",
   "metadata": {},
   "source": [
    "Just a few examples of string methods."
   ]
  },
  {
   "cell_type": "code",
   "execution_count": 29,
   "metadata": {},
   "outputs": [
    {
     "data": {
      "text/plain": [
       "'A STRING'"
      ]
     },
     "execution_count": 29,
     "metadata": {},
     "output_type": "execute_result"
    }
   ],
   "source": [
    "s.upper()"
   ]
  },
  {
   "cell_type": "code",
   "execution_count": 30,
   "metadata": {},
   "outputs": [
    {
     "data": {
      "text/plain": [
       "2"
      ]
     },
     "execution_count": 30,
     "metadata": {},
     "output_type": "execute_result"
    }
   ],
   "source": [
    "s.find('s')"
   ]
  },
  {
   "cell_type": "code",
   "execution_count": 31,
   "metadata": {},
   "outputs": [
    {
     "data": {
      "text/plain": [
       "5"
      ]
     },
     "execution_count": 31,
     "metadata": {},
     "output_type": "execute_result"
    }
   ],
   "source": [
    "s.find('ing')"
   ]
  },
  {
   "cell_type": "code",
   "execution_count": 32,
   "metadata": {},
   "outputs": [
    {
     "data": {
      "text/plain": [
       "'A string'"
      ]
     },
     "execution_count": 32,
     "metadata": {},
     "output_type": "execute_result"
    }
   ],
   "source": [
    "s.capitalize()"
   ]
  },
  {
   "cell_type": "code",
   "execution_count": 33,
   "metadata": {},
   "outputs": [
    {
     "data": {
      "text/plain": [
       "['A', 'string']"
      ]
     },
     "execution_count": 33,
     "metadata": {},
     "output_type": "execute_result"
    }
   ],
   "source": [
    "s.split()"
   ]
  },
  {
   "cell_type": "code",
   "execution_count": 34,
   "metadata": {},
   "outputs": [
    {
     "data": {
      "text/plain": [
       "'This string has lots of space, before and after it'"
      ]
     },
     "execution_count": 34,
     "metadata": {},
     "output_type": "execute_result"
    }
   ],
   "source": [
    "s = '  \\t   This string has lots of space, before and after it   \\t\\t\\n'\n",
    "s.strip()"
   ]
  },
  {
   "cell_type": "markdown",
   "metadata": {},
   "source": [
    "## The `in` operator\n",
    "\n",
    "The word `in` is a boolean operator that takes a value and a sequence\n",
    "and returns `True` if the value appears as an item in the sequence.\n",
    "\n",
    "For string types, `in` returns true if the value is a substring of the string."
   ]
  },
  {
   "cell_type": "code",
   "execution_count": 35,
   "metadata": {},
   "outputs": [
    {
     "data": {
      "text/plain": [
       "True"
      ]
     },
     "execution_count": 35,
     "metadata": {},
     "output_type": "execute_result"
    }
   ],
   "source": [
    "'nana' in 'banana'"
   ]
  },
  {
   "cell_type": "code",
   "execution_count": 36,
   "metadata": {},
   "outputs": [
    {
     "data": {
      "text/plain": [
       "False"
      ]
     },
     "execution_count": 36,
     "metadata": {},
     "output_type": "execute_result"
    }
   ],
   "source": [
    "'seed' in 'apple'"
   ]
  },
  {
   "cell_type": "code",
   "execution_count": 37,
   "metadata": {},
   "outputs": [
    {
     "data": {
      "text/plain": [
       "True"
      ]
     },
     "execution_count": 37,
     "metadata": {},
     "output_type": "execute_result"
    }
   ],
   "source": [
    "'seed' in 'birdseed and apple sauce'"
   ]
  },
  {
   "cell_type": "markdown",
   "metadata": {},
   "source": [
    "## String comparison\n",
    "\n",
    "Besides the `+` and `*` operations, all of the boolean operations are\n",
    "defined for strings.  The boolean operators will compare strings \n",
    "by alphabetical ordering."
   ]
  },
  {
   "cell_type": "code",
   "execution_count": 38,
   "metadata": {},
   "outputs": [
    {
     "data": {
      "text/plain": [
       "True"
      ]
     },
     "execution_count": 38,
     "metadata": {},
     "output_type": "execute_result"
    }
   ],
   "source": [
    "'apple' < 'banana'"
   ]
  },
  {
   "cell_type": "code",
   "execution_count": 39,
   "metadata": {},
   "outputs": [
    {
     "data": {
      "text/plain": [
       "False"
      ]
     },
     "execution_count": 39,
     "metadata": {},
     "output_type": "execute_result"
    }
   ],
   "source": [
    "'grape' <= 'granite'"
   ]
  },
  {
   "cell_type": "code",
   "execution_count": 40,
   "metadata": {},
   "outputs": [
    {
     "data": {
      "text/plain": [
       "False"
      ]
     },
     "execution_count": 40,
     "metadata": {},
     "output_type": "execute_result"
    }
   ],
   "source": [
    "'apple' == 'orange'"
   ]
  },
  {
   "cell_type": "code",
   "execution_count": 41,
   "metadata": {},
   "outputs": [
    {
     "data": {
      "text/plain": [
       "True"
      ]
     },
     "execution_count": 41,
     "metadata": {},
     "output_type": "execute_result"
    }
   ],
   "source": [
    "'banana' == 'banana'"
   ]
  },
  {
   "cell_type": "code",
   "execution_count": 42,
   "metadata": {},
   "outputs": [
    {
     "data": {
      "text/plain": [
       "False"
      ]
     },
     "execution_count": 42,
     "metadata": {},
     "output_type": "execute_result"
    }
   ],
   "source": [
    "# but all upercase letters come before all lowercase letters, so you can be \n",
    "# surprised if you don't know this\n",
    "'banana' < 'apple'"
   ]
  },
  {
   "cell_type": "code",
   "execution_count": 43,
   "metadata": {},
   "outputs": [
    {
     "data": {
      "text/plain": [
       "True"
      ]
     },
     "execution_count": 43,
     "metadata": {},
     "output_type": "execute_result"
    }
   ],
   "source": [
    "'Banana' < 'apple'"
   ]
  },
  {
   "cell_type": "markdown",
   "metadata": {},
   "source": [
    "### Self-test Exercises"
   ]
  },
  {
   "cell_type": "markdown",
   "metadata": {},
   "source": [
    "# Lists"
   ]
  },
  {
   "cell_type": "markdown",
   "metadata": {},
   "source": [
    "## A list is a sequence\n",
    "\n",
    "A list is also a sequence like a string.  However a list differs in two\n",
    "fundamental ways.\n",
    "\n",
    "1. A list is a sequence of arbitrary types/values, unlike a string which is a sequence\n",
    "of characters.\n",
    "2. A list is **mutable**, which means unlike a string you can modify the elements\n",
    "of a list in place.\n",
    "\n",
    "Lists look kind of like arrays if you are familiar with languages like\n",
    "C or Java.  But they are really a much higher-level abstract data type\n",
    "than a simple array.  It is best not to think of a list as a simple array.\n",
    "\n",
    "- Arrays are homogeneous, they only hold values of a single type.  Python \n",
    "lists are nonhomogeneous, they can hold values of many different types.\n",
    "- Arrays are fixed size, they cannot easily grow and shring.  Python lists\n",
    "are dynamically resizable, they can grow and shrink as needed.\n",
    "\n",
    "We create lists using the `[ ]` syntax."
   ]
  },
  {
   "cell_type": "code",
   "execution_count": 44,
   "metadata": {},
   "outputs": [],
   "source": [
    "# a list of integers\n",
    "ivals = [10, 20, 30, 40]\n",
    "\n",
    "# a list of strings\n",
    "flavors = ['crunchy frog', 'ram bladder', 'lark vomit']\n",
    "\n",
    "# but did we mention Python lists are nonhomogeneous\n",
    "stuff = ['Gouda', 42, True, 4.2e-25, 2+3j, 'end of list']"
   ]
  },
  {
   "cell_type": "markdown",
   "metadata": {},
   "source": [
    "A value in a list can even be another list (e.g. nested lists), which can\n",
    "be very useful for building complex data structures at times."
   ]
  },
  {
   "cell_type": "code",
   "execution_count": 45,
   "metadata": {},
   "outputs": [
    {
     "data": {
      "text/plain": [
       "['spam', 2.0, 5, [10, 20, 30, 40]]"
      ]
     },
     "execution_count": 45,
     "metadata": {},
     "output_type": "execute_result"
    }
   ],
   "source": [
    "l = ['spam', 2.0, 5, [10, 20, 30, 40]]\n",
    "l"
   ]
  },
  {
   "cell_type": "markdown",
   "metadata": {},
   "source": [
    "Lists are sequences, so all of the things we talked about you could do with a \n",
    "sequence like a string, you can do with a list."
   ]
  },
  {
   "cell_type": "code",
   "execution_count": 46,
   "metadata": {},
   "outputs": [
    {
     "data": {
      "text/plain": [
       "[10, 20, 30, 40]"
      ]
     },
     "execution_count": 46,
     "metadata": {},
     "output_type": "execute_result"
    }
   ],
   "source": [
    "# index and slice list\n",
    "l[-1]"
   ]
  },
  {
   "cell_type": "code",
   "execution_count": 47,
   "metadata": {},
   "outputs": [
    {
     "data": {
      "text/plain": [
       "[2.0, 5]"
      ]
     },
     "execution_count": 47,
     "metadata": {},
     "output_type": "execute_result"
    }
   ],
   "source": [
    "l[1:3]"
   ]
  },
  {
   "cell_type": "code",
   "execution_count": 48,
   "metadata": {},
   "outputs": [
    {
     "name": "stdout",
     "output_type": "stream",
     "text": [
      "0 Gouda\n",
      "1 42\n",
      "2 True\n",
      "3 4.2e-25\n",
      "4 (2+3j)\n",
      "5 end of list\n"
     ]
    }
   ],
   "source": [
    "# iterate over a list\n",
    "for index, element in enumerate(stuff):\n",
    "    print(index, element)"
   ]
  },
  {
   "cell_type": "markdown",
   "metadata": {},
   "source": [
    "## Lists are mutable\n",
    "\n",
    "But lists are mutable, so we can change the items in a list."
   ]
  },
  {
   "cell_type": "code",
   "execution_count": 49,
   "metadata": {},
   "outputs": [],
   "source": [
    "cheeses = ['Cheddar', 'Edam', 'Gouda']"
   ]
  },
  {
   "cell_type": "code",
   "execution_count": 50,
   "metadata": {},
   "outputs": [
    {
     "data": {
      "text/plain": [
       "'Cheddar'"
      ]
     },
     "execution_count": 50,
     "metadata": {},
     "output_type": "execute_result"
    }
   ],
   "source": [
    "cheeses[0] "
   ]
  },
  {
   "cell_type": "code",
   "execution_count": 51,
   "metadata": {},
   "outputs": [
    {
     "data": {
      "text/plain": [
       "['Danish Blue', 'Edam', 'Stilton']"
      ]
     },
     "execution_count": 51,
     "metadata": {},
     "output_type": "execute_result"
    }
   ],
   "source": [
    "cheeses[0] = 'Danish Blue'\n",
    "cheeses[-1] = 'Stilton'\n",
    "cheeses"
   ]
  },
  {
   "cell_type": "markdown",
   "metadata": {},
   "source": [
    "## Traversing a list\n",
    "\n",
    "You should use the `for` loop construct to iterate over elements\n",
    "of a Python list.  We showed one example above.  \n",
    "\n",
    "When you iterate over a nested list, you only get the top level elements, e.g.\n",
    "any nested lists will be extracted as a single element.  An exmaple should \n",
    "make this clearer"
   ]
  },
  {
   "cell_type": "code",
   "execution_count": 52,
   "metadata": {},
   "outputs": [
    {
     "data": {
      "text/plain": [
       "['spam', 2.0, 5, [10, 20, 30, 40]]"
      ]
     },
     "execution_count": 52,
     "metadata": {},
     "output_type": "execute_result"
    }
   ],
   "source": [
    "# l is  a nested list defined before\n",
    "l"
   ]
  },
  {
   "cell_type": "code",
   "execution_count": 53,
   "metadata": {},
   "outputs": [
    {
     "name": "stdout",
     "output_type": "stream",
     "text": [
      "spam\n",
      "2.0\n",
      "5\n",
      "[10, 20, 30, 40]\n"
     ]
    }
   ],
   "source": [
    "# if we iterate over l, the last element is the whole final list\n",
    "for element in l:\n",
    "    print(element)"
   ]
  },
  {
   "cell_type": "code",
   "execution_count": 54,
   "metadata": {},
   "outputs": [
    {
     "name": "stdout",
     "output_type": "stream",
     "text": [
      "spam\n",
      "2.0\n",
      "5\n",
      "[10, 20, 30, 40]\n",
      "now displaying the individual elements of the nested list\n",
      "10\n",
      "20\n",
      "30\n",
      "40\n"
     ]
    }
   ],
   "source": [
    "# if you want to iterate over the nested elements, well...\n",
    "for element in l:\n",
    "    print(element)\n",
    "    if type(element) == list:\n",
    "        print(\"now displaying the individual elements of the nested list\")\n",
    "        for nested_element in element:\n",
    "            print(nested_element)"
   ]
  },
  {
   "cell_type": "markdown",
   "metadata": {},
   "source": [
    "## List operations\n",
    "\n",
    "`+` and `*` operators are also defined for list, and they do the same thing\n",
    "as for strings.  `+` concatenates lists."
   ]
  },
  {
   "cell_type": "code",
   "execution_count": 55,
   "metadata": {},
   "outputs": [
    {
     "data": {
      "text/plain": [
       "[1, 2, 3, 4, 5, 6, 6, 8]"
      ]
     },
     "execution_count": 55,
     "metadata": {},
     "output_type": "execute_result"
    }
   ],
   "source": [
    "a = [1, 2, 3, 4]\n",
    "b = [5, 6, 6, 8]\n",
    "\n",
    "c = a + b\n",
    "c"
   ]
  },
  {
   "cell_type": "markdown",
   "metadata": {},
   "source": [
    "And the `*` operator repeates a list"
   ]
  },
  {
   "cell_type": "code",
   "execution_count": 56,
   "metadata": {},
   "outputs": [
    {
     "data": {
      "text/plain": [
       "[1, 2, 3, 4, 1, 2, 3, 4, 1, 2, 3, 4, 1, 2, 3, 4]"
      ]
     },
     "execution_count": 56,
     "metadata": {},
     "output_type": "execute_result"
    }
   ],
   "source": [
    "c = a * 4\n",
    "c"
   ]
  },
  {
   "cell_type": "code",
   "execution_count": 57,
   "metadata": {},
   "outputs": [
    {
     "data": {
      "text/plain": [
       "['red',\n",
       " 'green',\n",
       " 'blue',\n",
       " 'red',\n",
       " 'green',\n",
       " 'blue',\n",
       " 'red',\n",
       " 'green',\n",
       " 'blue',\n",
       " 'red',\n",
       " 'green',\n",
       " 'blue',\n",
       " 'red',\n",
       " 'green',\n",
       " 'blue',\n",
       " 'red',\n",
       " 'green',\n",
       " 'blue',\n",
       " 'red',\n",
       " 'green',\n",
       " 'blue',\n",
       " 'red',\n",
       " 'green',\n",
       " 'blue',\n",
       " 'red',\n",
       " 'green',\n",
       " 'blue',\n",
       " 'red',\n",
       " 'green',\n",
       " 'blue']"
      ]
     },
     "execution_count": 57,
     "metadata": {},
     "output_type": "execute_result"
    }
   ],
   "source": [
    "# create a bag of 10 red, green and blue balls for an experiment\n",
    "balls = ['red', 'green', 'blue']\n",
    "bag_of_balls = balls * 10\n",
    "bag_of_balls"
   ]
  },
  {
   "cell_type": "markdown",
   "metadata": {},
   "source": [
    "## List slices\n",
    "\n",
    "As we already mentioned, lists are sequences and all sequences support\n",
    "slicing syntax in Python."
   ]
  },
  {
   "cell_type": "code",
   "execution_count": 58,
   "metadata": {},
   "outputs": [],
   "source": [
    "t = ['a', 'b', 'c', 'd', 'e', 'f']"
   ]
  },
  {
   "cell_type": "code",
   "execution_count": 59,
   "metadata": {},
   "outputs": [
    {
     "data": {
      "text/plain": [
       "['b', 'c']"
      ]
     },
     "execution_count": 59,
     "metadata": {},
     "output_type": "execute_result"
    }
   ],
   "source": [
    "t[1:3]"
   ]
  },
  {
   "cell_type": "code",
   "execution_count": 60,
   "metadata": {},
   "outputs": [
    {
     "data": {
      "text/plain": [
       "['a', 'b', 'c', 'd']"
      ]
     },
     "execution_count": 60,
     "metadata": {},
     "output_type": "execute_result"
    }
   ],
   "source": [
    "t[:4]"
   ]
  },
  {
   "cell_type": "code",
   "execution_count": 61,
   "metadata": {},
   "outputs": [
    {
     "data": {
      "text/plain": [
       "['d', 'e', 'f']"
      ]
     },
     "execution_count": 61,
     "metadata": {},
     "output_type": "execute_result"
    }
   ],
   "source": [
    "t[3:]"
   ]
  },
  {
   "cell_type": "code",
   "execution_count": 62,
   "metadata": {},
   "outputs": [
    {
     "data": {
      "text/plain": [
       "['f', 'e', 'd', 'c', 'b', 'a']"
      ]
     },
     "execution_count": 62,
     "metadata": {},
     "output_type": "execute_result"
    }
   ],
   "source": [
    "t[::-1]"
   ]
  },
  {
   "cell_type": "code",
   "execution_count": 63,
   "metadata": {},
   "outputs": [
    {
     "data": {
      "text/plain": [
       "['b', 'e']"
      ]
     },
     "execution_count": 63,
     "metadata": {},
     "output_type": "execute_result"
    }
   ],
   "source": [
    "t[1:5:3]"
   ]
  },
  {
   "cell_type": "markdown",
   "metadata": {},
   "source": [
    "## List methods\n",
    "\n",
    "A Python list is an instance of an object.\n",
    "\n",
    "[Common sequence operations](https://docs.python.org/3/library/stdtypes.html#common-sequence-operations)\n",
    "you can perform on a list.\n",
    "[Mutable sequence operations](https://docs.python.org/3/library/stdtypes.html#mutable-sequence-types)\n",
    "you can perform on a list.\n",
    "\n",
    "A list is a mutable sequence, so any common sequence operation can be performed\n",
    "on lists, and any mutable sequence operations as well.\n",
    "\n",
    "We can get a list of the methods available to a list using `dir()` built-int\n",
    "method again."
   ]
  },
  {
   "cell_type": "code",
   "execution_count": 64,
   "metadata": {},
   "outputs": [
    {
     "data": {
      "text/plain": [
       "['__add__',\n",
       " '__class__',\n",
       " '__contains__',\n",
       " '__delattr__',\n",
       " '__delitem__',\n",
       " '__dir__',\n",
       " '__doc__',\n",
       " '__eq__',\n",
       " '__format__',\n",
       " '__ge__',\n",
       " '__getattribute__',\n",
       " '__getitem__',\n",
       " '__gt__',\n",
       " '__hash__',\n",
       " '__iadd__',\n",
       " '__imul__',\n",
       " '__init__',\n",
       " '__init_subclass__',\n",
       " '__iter__',\n",
       " '__le__',\n",
       " '__len__',\n",
       " '__lt__',\n",
       " '__mul__',\n",
       " '__ne__',\n",
       " '__new__',\n",
       " '__reduce__',\n",
       " '__reduce_ex__',\n",
       " '__repr__',\n",
       " '__reversed__',\n",
       " '__rmul__',\n",
       " '__setattr__',\n",
       " '__setitem__',\n",
       " '__sizeof__',\n",
       " '__str__',\n",
       " '__subclasshook__',\n",
       " 'append',\n",
       " 'clear',\n",
       " 'copy',\n",
       " 'count',\n",
       " 'extend',\n",
       " 'index',\n",
       " 'insert',\n",
       " 'pop',\n",
       " 'remove',\n",
       " 'reverse',\n",
       " 'sort']"
      ]
     },
     "execution_count": 64,
     "metadata": {},
     "output_type": "execute_result"
    }
   ],
   "source": [
    "dir(t)"
   ]
  },
  {
   "cell_type": "markdown",
   "metadata": {},
   "source": [
    "Here are a few examples of using some of the methods you can perform on lists."
   ]
  },
  {
   "cell_type": "code",
   "execution_count": 65,
   "metadata": {},
   "outputs": [
    {
     "data": {
      "text/plain": [
       "['f', 'e', 'd', 'c', 'b', 'a']"
      ]
     },
     "execution_count": 65,
     "metadata": {},
     "output_type": "execute_result"
    }
   ],
   "source": [
    "t.reverse()\n",
    "t"
   ]
  },
  {
   "cell_type": "code",
   "execution_count": 66,
   "metadata": {},
   "outputs": [
    {
     "data": {
      "text/plain": [
       "['apple', 'banana', 'grape', 'kiwi', 'orange', 'strawberry', 'zuchini']"
      ]
     },
     "execution_count": 66,
     "metadata": {},
     "output_type": "execute_result"
    }
   ],
   "source": [
    "unsorted = ['grape', 'banana', 'apple', 'orange', 'zuchini', 'strawberry', 'kiwi']\n",
    "unsorted.sort()\n",
    "unsorted"
   ]
  },
  {
   "cell_type": "code",
   "execution_count": 67,
   "metadata": {},
   "outputs": [
    {
     "data": {
      "text/plain": [
       "['apple',\n",
       " 'banana',\n",
       " 'grape',\n",
       " 'kiwi',\n",
       " 'orange',\n",
       " 'strawberry',\n",
       " 'zuchini',\n",
       " 'blueberry',\n",
       " 'rasberry']"
      ]
     },
     "execution_count": 67,
     "metadata": {},
     "output_type": "execute_result"
    }
   ],
   "source": [
    "unsorted.append('blueberry')\n",
    "unsorted.append('rasberry')\n",
    "unsorted"
   ]
  },
  {
   "cell_type": "code",
   "execution_count": 68,
   "metadata": {},
   "outputs": [
    {
     "data": {
      "text/plain": [
       "['apple',\n",
       " 'banana',\n",
       " 'blueberry',\n",
       " 'grape',\n",
       " 'kiwi',\n",
       " 'orange',\n",
       " 'rasberry',\n",
       " 'strawberry',\n",
       " 'zuchini']"
      ]
     },
     "execution_count": 68,
     "metadata": {},
     "output_type": "execute_result"
    }
   ],
   "source": [
    "unsorted.sort()\n",
    "unsorted"
   ]
  },
  {
   "cell_type": "code",
   "execution_count": 69,
   "metadata": {},
   "outputs": [
    {
     "data": {
      "text/plain": [
       "[5, 3, 7]"
      ]
     },
     "execution_count": 69,
     "metadata": {},
     "output_type": "execute_result"
    }
   ],
   "source": [
    "# using a list as a stack\n",
    "stack = [] # initially empty\n",
    "\n",
    "stack.append(5) # push\n",
    "stack.append(3)\n",
    "stack.append(7)\n",
    "stack"
   ]
  },
  {
   "cell_type": "code",
   "execution_count": 70,
   "metadata": {},
   "outputs": [
    {
     "data": {
      "text/plain": [
       "7"
      ]
     },
     "execution_count": 70,
     "metadata": {},
     "output_type": "execute_result"
    }
   ],
   "source": [
    "top = stack.pop()\n",
    "top"
   ]
  },
  {
   "cell_type": "code",
   "execution_count": 71,
   "metadata": {},
   "outputs": [
    {
     "data": {
      "text/plain": [
       "[5, 3]"
      ]
     },
     "execution_count": 71,
     "metadata": {},
     "output_type": "execute_result"
    }
   ],
   "source": [
    "stack"
   ]
  },
  {
   "cell_type": "code",
   "execution_count": 72,
   "metadata": {},
   "outputs": [
    {
     "data": {
      "text/plain": [
       "5"
      ]
     },
     "execution_count": 72,
     "metadata": {},
     "output_type": "execute_result"
    }
   ],
   "source": [
    "stack.pop()\n",
    "top = stack.pop()\n",
    "top"
   ]
  },
  {
   "cell_type": "code",
   "execution_count": 73,
   "metadata": {},
   "outputs": [
    {
     "data": {
      "text/plain": [
       "[]"
      ]
     },
     "execution_count": 73,
     "metadata": {},
     "output_type": "execute_result"
    }
   ],
   "source": [
    "stack"
   ]
  },
  {
   "cell_type": "code",
   "execution_count": 74,
   "metadata": {},
   "outputs": [
    {
     "data": {
      "text/plain": [
       "[5, 3, 7]"
      ]
     },
     "execution_count": 74,
     "metadata": {},
     "output_type": "execute_result"
    }
   ],
   "source": [
    "# using a list as a queue\n",
    "queue = [] # initially empty\n",
    "queue.append(5)\n",
    "queue.append(3)\n",
    "queue.append(7)\n",
    "\n",
    "queue"
   ]
  },
  {
   "cell_type": "code",
   "execution_count": 75,
   "metadata": {},
   "outputs": [
    {
     "data": {
      "text/plain": [
       "5"
      ]
     },
     "execution_count": 75,
     "metadata": {},
     "output_type": "execute_result"
    }
   ],
   "source": [
    "front = queue.pop(0) # remove item 0, e.g. front of queue\n",
    "front"
   ]
  },
  {
   "cell_type": "code",
   "execution_count": 76,
   "metadata": {},
   "outputs": [
    {
     "data": {
      "text/plain": [
       "[3, 7]"
      ]
     },
     "execution_count": 76,
     "metadata": {},
     "output_type": "execute_result"
    }
   ],
   "source": [
    "queue"
   ]
  },
  {
   "cell_type": "code",
   "execution_count": 77,
   "metadata": {},
   "outputs": [
    {
     "data": {
      "text/plain": [
       "7"
      ]
     },
     "execution_count": 77,
     "metadata": {},
     "output_type": "execute_result"
    }
   ],
   "source": [
    "queue.pop(0)\n",
    "front = queue.pop(0)\n",
    "front"
   ]
  },
  {
   "cell_type": "code",
   "execution_count": 78,
   "metadata": {},
   "outputs": [
    {
     "data": {
      "text/plain": [
       "[]"
      ]
     },
     "execution_count": 78,
     "metadata": {},
     "output_type": "execute_result"
    }
   ],
   "source": [
    "queue"
   ]
  },
  {
   "cell_type": "markdown",
   "metadata": {},
   "source": [
    "# Dictionaries\n",
    "\n",
    "Dictionaries are a high-level abstract data type that you may or may not\n",
    "be familiar with, but which are extremely useful to learn how to use.\n",
    "\n",
    "Dictionaries are also known as **maps**, **key-value pairs** or sometimes\n",
    "as a **hash**."
   ]
  },
  {
   "cell_type": "markdown",
   "metadata": {},
   "source": [
    "## A dictionary is a mapping\n",
    "\n",
    "A dictionary is like a list but more general.  In a list, the\n",
    "integer index is a key that maps from the index to the value at the\n",
    "index for that list.  In a list the indices have to be integers.\n",
    "\n",
    "For the more general `dictionary`, a **key** can be any type, not just an integer.\n",
    "Each key is associated with a single value, just like each integer index\n",
    "is associated with a single value in a list.\n",
    "\n",
    "However one difference, besides that the indexes can be arbitrary values, is\n",
    "that since the keys don't necessarily have an inherent order, a dictionary is\n",
    "not considered a sequence like a list.  \n",
    "\n",
    "In python `{` and `}` squiggly braces are used to identify and define dictionaries."
   ]
  },
  {
   "cell_type": "code",
   "execution_count": 79,
   "metadata": {},
   "outputs": [],
   "source": [
    "# dictionary of birthdays\n",
    "birthday = {'Newton': 1642, \n",
    "            'Darwin': 1809, \n",
    "            'Curie': 1867, \n",
    "            'Einstein': 1879, \n",
    "            'Harter': 1978}"
   ]
  },
  {
   "cell_type": "code",
   "execution_count": 80,
   "metadata": {},
   "outputs": [
    {
     "data": {
      "text/plain": [
       "1642"
      ]
     },
     "execution_count": 80,
     "metadata": {},
     "output_type": "execute_result"
    }
   ],
   "source": [
    "# look up some birthdays\n",
    "birthday['Newton']"
   ]
  },
  {
   "cell_type": "code",
   "execution_count": 81,
   "metadata": {},
   "outputs": [
    {
     "data": {
      "text/plain": [
       "1879"
      ]
     },
     "execution_count": 81,
     "metadata": {},
     "output_type": "execute_result"
    }
   ],
   "source": [
    "birthday['Einstein']"
   ]
  },
  {
   "cell_type": "markdown",
   "metadata": {},
   "source": [
    "If a key isn't in the dictionary you get an error, just like if you try and\n",
    "access a list index that is not in the list"
   ]
  },
  {
   "cell_type": "code",
   "execution_count": 82,
   "metadata": {},
   "outputs": [
    {
     "name": "stdout",
     "output_type": "stream",
     "text": [
      "KeyError is generated here which means the key is not in the dictionary.\n"
     ]
    }
   ],
   "source": [
    "try:\n",
    "    birthday['Hopper']\n",
    "except KeyError:\n",
    "    print('KeyError is generated here which means the key is not in the dictionary.')"
   ]
  },
  {
   "cell_type": "markdown",
   "metadata": {},
   "source": [
    "The `len()` function works on dictionaries, so we can find out the number of \n",
    "key-value pairs in the dictionary using this."
   ]
  },
  {
   "cell_type": "code",
   "execution_count": 83,
   "metadata": {},
   "outputs": [
    {
     "data": {
      "text/plain": [
       "5"
      ]
     },
     "execution_count": 83,
     "metadata": {},
     "output_type": "execute_result"
    }
   ],
   "source": [
    "len(birthday)"
   ]
  },
  {
   "cell_type": "markdown",
   "metadata": {},
   "source": [
    "The `in` operator work on dictionaries too; it tell you whether something is \n",
    "a key of the dictionary or not."
   ]
  },
  {
   "cell_type": "code",
   "execution_count": 84,
   "metadata": {},
   "outputs": [
    {
     "data": {
      "text/plain": [
       "True"
      ]
     },
     "execution_count": 84,
     "metadata": {},
     "output_type": "execute_result"
    }
   ],
   "source": [
    "'Harter' in birthday"
   ]
  },
  {
   "cell_type": "code",
   "execution_count": 85,
   "metadata": {},
   "outputs": [
    {
     "data": {
      "text/plain": [
       "True"
      ]
     },
     "execution_count": 85,
     "metadata": {},
     "output_type": "execute_result"
    }
   ],
   "source": [
    "'Einstein' in birthday"
   ]
  },
  {
   "cell_type": "code",
   "execution_count": 86,
   "metadata": {},
   "outputs": [
    {
     "data": {
      "text/plain": [
       "False"
      ]
     },
     "execution_count": 86,
     "metadata": {},
     "output_type": "execute_result"
    }
   ],
   "source": [
    "'Hopper' in birthday"
   ]
  },
  {
   "cell_type": "markdown",
   "metadata": {},
   "source": [
    "## Dictionaries are mutable\n",
    "\n",
    "Dictionaries are mutable, like lists.  In fact, we can easily add new\n",
    "key-value pairs."
   ]
  },
  {
   "cell_type": "code",
   "execution_count": 87,
   "metadata": {},
   "outputs": [
    {
     "data": {
      "text/plain": [
       "{'Newton': 1642,\n",
       " 'Darwin': 1809,\n",
       " 'Curie': 1867,\n",
       " 'Einstein': 1879,\n",
       " 'Harter': 1978,\n",
       " 'Hopper': 1912,\n",
       " 'Maxwell': 1875}"
      ]
     },
     "execution_count": 87,
     "metadata": {},
     "output_type": "execute_result"
    }
   ],
   "source": [
    "birthday['Hopper'] = 1912\n",
    "birthday['Maxwell'] = 1875\n",
    "\n",
    "birthday"
   ]
  },
  {
   "cell_type": "code",
   "execution_count": 88,
   "metadata": {},
   "outputs": [
    {
     "data": {
      "text/plain": [
       "7"
      ]
     },
     "execution_count": 88,
     "metadata": {},
     "output_type": "execute_result"
    }
   ],
   "source": [
    "len(birthday)"
   ]
  },
  {
   "cell_type": "code",
   "execution_count": 89,
   "metadata": {},
   "outputs": [
    {
     "data": {
      "text/plain": [
       "True"
      ]
     },
     "execution_count": 89,
     "metadata": {},
     "output_type": "execute_result"
    }
   ],
   "source": [
    "'Hopper' in birthday"
   ]
  },
  {
   "cell_type": "markdown",
   "metadata": {},
   "source": [
    "## Dictionary methods\n",
    "\n",
    "As with lists and strings, dictionaries are actuall objects with a set of \n",
    "member methods that can be called on an instance of a dictionary.\n",
    "\n",
    "[Dictionary member methods](https://docs.python.org/3/library/stdtypes.html#mapping-types-dict)"
   ]
  },
  {
   "cell_type": "code",
   "execution_count": 90,
   "metadata": {},
   "outputs": [
    {
     "data": {
      "text/plain": [
       "['__class__',\n",
       " '__contains__',\n",
       " '__delattr__',\n",
       " '__delitem__',\n",
       " '__dir__',\n",
       " '__doc__',\n",
       " '__eq__',\n",
       " '__format__',\n",
       " '__ge__',\n",
       " '__getattribute__',\n",
       " '__getitem__',\n",
       " '__gt__',\n",
       " '__hash__',\n",
       " '__init__',\n",
       " '__init_subclass__',\n",
       " '__iter__',\n",
       " '__le__',\n",
       " '__len__',\n",
       " '__lt__',\n",
       " '__ne__',\n",
       " '__new__',\n",
       " '__reduce__',\n",
       " '__reduce_ex__',\n",
       " '__repr__',\n",
       " '__setattr__',\n",
       " '__setitem__',\n",
       " '__sizeof__',\n",
       " '__str__',\n",
       " '__subclasshook__',\n",
       " 'clear',\n",
       " 'copy',\n",
       " 'fromkeys',\n",
       " 'get',\n",
       " 'items',\n",
       " 'keys',\n",
       " 'pop',\n",
       " 'popitem',\n",
       " 'setdefault',\n",
       " 'update',\n",
       " 'values']"
      ]
     },
     "execution_count": 90,
     "metadata": {},
     "output_type": "execute_result"
    }
   ],
   "source": [
    "dir(birthday)"
   ]
  },
  {
   "cell_type": "code",
   "execution_count": 91,
   "metadata": {},
   "outputs": [
    {
     "data": {
      "text/plain": [
       "dict_keys(['Newton', 'Darwin', 'Curie', 'Einstein', 'Harter', 'Hopper', 'Maxwell'])"
      ]
     },
     "execution_count": 91,
     "metadata": {},
     "output_type": "execute_result"
    }
   ],
   "source": [
    "birthday.keys()"
   ]
  },
  {
   "cell_type": "code",
   "execution_count": 92,
   "metadata": {},
   "outputs": [
    {
     "data": {
      "text/plain": [
       "dict_values([1642, 1809, 1867, 1879, 1978, 1912, 1875])"
      ]
     },
     "execution_count": 92,
     "metadata": {},
     "output_type": "execute_result"
    }
   ],
   "source": [
    "birthday.values()"
   ]
  },
  {
   "cell_type": "code",
   "execution_count": 93,
   "metadata": {},
   "outputs": [
    {
     "name": "stdout",
     "output_type": "stream",
     "text": [
      "Newton 1642\n",
      "Darwin 1809\n",
      "Curie 1867\n",
      "Einstein 1879\n",
      "Harter 1978\n",
      "Hopper 1912\n",
      "Maxwell 1875\n"
     ]
    }
   ],
   "source": [
    "# iterate over the birthday by keys.\n",
    "# Keys are not guaranteed to come out in any particular order from the dictionary/hash\n",
    "for key in birthday.keys():\n",
    "    print(key, birthday[key])"
   ]
  },
  {
   "cell_type": "code",
   "execution_count": 94,
   "metadata": {},
   "outputs": [
    {
     "name": "stdout",
     "output_type": "stream",
     "text": [
      "Newton 1642\n",
      "Darwin 1809\n",
      "Curie 1867\n",
      "Einstein 1879\n",
      "Harter 1978\n",
      "Hopper 1912\n",
      "Maxwell 1875\n"
     ]
    }
   ],
   "source": [
    "# actually, the default iteration of a dictionary is by the key, so\n",
    "# if you want to iterate over the keys, you can use more simply\n",
    "for key in birthday:\n",
    "    print(key, birthday[key])"
   ]
  },
  {
   "cell_type": "code",
   "execution_count": 95,
   "metadata": {},
   "outputs": [
    {
     "name": "stdout",
     "output_type": "stream",
     "text": [
      "Curie 1867\n",
      "Darwin 1809\n",
      "Einstein 1879\n",
      "Harter 1978\n",
      "Hopper 1912\n",
      "Maxwell 1875\n",
      "Newton 1642\n"
     ]
    }
   ],
   "source": [
    "# we can iterate over the keys in an order, for example we could get the keys and\n",
    "# sort them, then iterate over them\n",
    "for key in sorted(birthday.keys()):\n",
    "    print(key, birthday[key])"
   ]
  },
  {
   "cell_type": "code",
   "execution_count": 96,
   "metadata": {},
   "outputs": [
    {
     "name": "stdout",
     "output_type": "stream",
     "text": [
      "Newton 1642\n",
      "Darwin 1809\n",
      "Curie 1867\n",
      "Einstein 1879\n",
      "Harter 1978\n",
      "Hopper 1912\n",
      "Maxwell 1875\n"
     ]
    }
   ],
   "source": [
    "# items returns the key,value pairs together\n",
    "for key, value in birthday.items():\n",
    "    print(key, value)"
   ]
  },
  {
   "cell_type": "markdown",
   "metadata": {},
   "source": [
    "## Dictionaries to count values\n",
    "\n",
    "A common operation for data exploration is to get frequency counts of the types\n",
    "and number of values of some data item.  Dictionaries are well suited for this \n",
    "task.\n",
    "\n",
    "For example, lets say you need to determine the count of the characters in\n",
    "a string.  We can use a dictionary and the `get()` method to do this easily."
   ]
  },
  {
   "cell_type": "code",
   "execution_count": 97,
   "metadata": {},
   "outputs": [],
   "source": [
    "text = \"\"\"\n",
    "Just some random text we want to count character frequencies of.\n",
    "\n",
    "Lorem ipsum dolor sit amet, consectetur adipiscing elit, sed do eiusmod tempor \n",
    "incididunt ut labore et dolore magna aliqua. Ipsum consequat nisl vel pretium \n",
    "lectus quam. Id leo in vitae turpis massa sed. Hendrerit gravida rutrum quisque \n",
    "non tellus orci ac auctor augue. Maecenas volutpat blandit aliquam etiam. Nibh \n",
    "cras pulvinar mattis nunc sed blandit libero volutpat sed. At erat pellentesque \n",
    "adipiscing commodo elit at imperdiet dui. Urna nec tincidunt praesent semper \n",
    "feugiat nibh sed. Sed pulvinar proin gravida hendrerit. Enim neque volutpat ac \n",
    "tincidunt vitae semper quis lectus nulla. Aenean pharetra magna ac placerat \n",
    "vestibulum lectus mauris. Hendrerit dolor magna eget est. Sapien et ligula \n",
    "ullamcorper malesuada proin libero nunc consequat.\n",
    "\n",
    "Integer malesuada nunc vel risus commodo viverra. Vestibulum morbi blandit \n",
    "cursus risus at. Eleifend quam adipiscing vitae proin. Vulputate ut pharetra \n",
    "sit amet aliquam id. Neque ornare aenean euismod elementum. Et egestas quis \n",
    "ipsum suspendisse ultrices gravida dictum fusce ut. Enim sit amet venenatis \n",
    "urna. Morbi quis commodo odio aenean sed adipiscing. Justo nec ultrices dui \n",
    "sapien eget mi proin. Euismod in pellentesque massa placerat duis ultricies \n",
    "lacus sed turpis. Adipiscing bibendum est ultricies integer quis auctor. Vehicula \n",
    "ipsum a arcu cursus vitae congue mauris rhoncus. Facilisis volutpat est velit \n",
    "egestas dui id ornare arcu odio. Duis at consectetur lorem donec massa sapien \n",
    "faucibus et. Placerat in egestas erat imperdiet sed euismod nisi porta lorem.\n",
    "\"\"\""
   ]
  },
  {
   "cell_type": "code",
   "execution_count": 98,
   "metadata": {},
   "outputs": [],
   "source": [
    "def character_frequency(text):\n",
    "    frequencies = {} # keep frequency counts in a dictionary\n",
    "    \n",
    "    # iterate over the given text\n",
    "    for char in text:\n",
    "        count = frequencies.get(char, 0) # get current count or 0 if haven't seen yet\n",
    "        count += 1 # increment count by 1\n",
    "        frequencies[char] = count # update dictionary\n",
    "        \n",
    "    # return the dictionary result\n",
    "    return frequencies"
   ]
  },
  {
   "cell_type": "code",
   "execution_count": 99,
   "metadata": {},
   "outputs": [
    {
     "data": {
      "text/plain": [
       "[(' ', 235),\n",
       " ('e', 150),\n",
       " ('i', 126),\n",
       " ('a', 118),\n",
       " ('t', 106),\n",
       " ('u', 102),\n",
       " ('s', 101),\n",
       " ('r', 82),\n",
       " ('n', 82),\n",
       " ('o', 63),\n",
       " ('l', 59),\n",
       " ('c', 58),\n",
       " ('d', 57),\n",
       " ('m', 56),\n",
       " ('p', 41),\n",
       " ('.', 29),\n",
       " ('\\n', 24),\n",
       " ('g', 22),\n",
       " ('v', 20),\n",
       " ('q', 18),\n",
       " ('b', 15),\n",
       " ('h', 8),\n",
       " ('f', 6),\n",
       " ('E', 5),\n",
       " ('I', 3),\n",
       " ('A', 3),\n",
       " ('V', 3),\n",
       " ('J', 2),\n",
       " ('w', 2),\n",
       " (',', 2),\n",
       " ('H', 2),\n",
       " ('M', 2),\n",
       " ('N', 2),\n",
       " ('S', 2),\n",
       " ('x', 1),\n",
       " ('L', 1),\n",
       " ('U', 1),\n",
       " ('F', 1),\n",
       " ('D', 1),\n",
       " ('P', 1)]"
      ]
     },
     "execution_count": 99,
     "metadata": {},
     "output_type": "execute_result"
    }
   ],
   "source": [
    "# get the character count/frequencies\n",
    "freq = character_frequency(text)\n",
    "\n",
    "# get the key/value pairs so we can sort by the value frequency counts\n",
    "table = list(freq.items())\n",
    "\n",
    "# sort the table.  We provide a custom sort function using a lambda function\n",
    "# The lambda function essentially says for each item in table, sort by the\n",
    "# second item at index 1, thus we sort by the frequency value \n",
    "table.sort(key=lambda key_value: key_value[1], reverse=True)\n",
    "\n",
    "table"
   ]
  },
  {
   "cell_type": "markdown",
   "metadata": {},
   "source": [
    "# Tuples\n",
    "\n",
    "A **tuple** is a sequence of values.  So a tuple is basically a list.\n",
    "However, you cannot modify a tuple once created, unlike a list."
   ]
  },
  {
   "cell_type": "markdown",
   "metadata": {},
   "source": [
    "## Tuples are immutable\n",
    "\n",
    "A tuple is a sequence of values of any time.  You can index the values\n",
    "by an integer, and slice the tuple like a list.\n",
    "\n",
    "However, tuples are immutable.  Why do we need an immutable list/sequence type\n",
    "in Python?  Read on to find out.\n",
    "\n",
    "Syntatically you can create a tuple as a list of comma separated\n",
    "values.  Also, it actually is not necessary in Python syntatically, but\n",
    "many people indicate tuple lists by enclosing them in `(` and `)` (unlike\n",
    "a list where the square `[` and `]` are used and are actually necessary\n",
    "syntatically).\n",
    "\n",
    "So we can create a tuple like:"
   ]
  },
  {
   "cell_type": "code",
   "execution_count": 100,
   "metadata": {},
   "outputs": [],
   "source": [
    "t1 = 'hello', 3, 3.14159, False, 42.42 "
   ]
  },
  {
   "cell_type": "markdown",
   "metadata": {},
   "source": [
    "And although it is not necessary, you will commonly see the same tuple declared\n",
    "like"
   ]
  },
  {
   "cell_type": "code",
   "execution_count": 101,
   "metadata": {},
   "outputs": [],
   "source": [
    "t2 = ('hello', 3, 3.14159, False, 42.42)"
   ]
  },
  {
   "cell_type": "markdown",
   "metadata": {},
   "source": [
    "Most list operators (sequence operators) work on a tuple"
   ]
  },
  {
   "cell_type": "code",
   "execution_count": 102,
   "metadata": {},
   "outputs": [
    {
     "data": {
      "text/plain": [
       "'hello'"
      ]
     },
     "execution_count": 102,
     "metadata": {},
     "output_type": "execute_result"
    }
   ],
   "source": [
    "t2[0]"
   ]
  },
  {
   "cell_type": "code",
   "execution_count": 103,
   "metadata": {},
   "outputs": [
    {
     "data": {
      "text/plain": [
       "(3, 3.14159)"
      ]
     },
     "execution_count": 103,
     "metadata": {},
     "output_type": "execute_result"
    }
   ],
   "source": [
    "t2[1:3]"
   ]
  },
  {
   "cell_type": "code",
   "execution_count": 104,
   "metadata": {},
   "outputs": [
    {
     "data": {
      "text/plain": [
       "42.42"
      ]
     },
     "execution_count": 104,
     "metadata": {},
     "output_type": "execute_result"
    }
   ],
   "source": [
    "t1[-1]"
   ]
  },
  {
   "cell_type": "code",
   "execution_count": 105,
   "metadata": {},
   "outputs": [
    {
     "name": "stdout",
     "output_type": "stream",
     "text": [
      "hello\n",
      "3\n",
      "3.14159\n",
      "False\n",
      "42.42\n"
     ]
    }
   ],
   "source": [
    "for t in t2:\n",
    "    print(t)"
   ]
  },
  {
   "cell_type": "markdown",
   "metadata": {},
   "source": [
    "But if you try to modify one of the elements of a tuple you get an error"
   ]
  },
  {
   "cell_type": "code",
   "execution_count": 106,
   "metadata": {},
   "outputs": [
    {
     "name": "stdout",
     "output_type": "stream",
     "text": [
      "TypeError generated becasue tuple object does not support item assignment.\n"
     ]
    }
   ],
   "source": [
    "try:\n",
    "    t2[0] = 'goodbye'\n",
    "except TypeError:\n",
    "    print('TypeError generated becasue tuple object does not support item assignment.')"
   ]
  },
  {
   "cell_type": "markdown",
   "metadata": {},
   "source": [
    "For a similar reason, methods like `append()` and `pop()` are not defined\n",
    "for a tuple object as they would modify the tuple.\n",
    "\n",
    "Also as this may be useful for this class in places, the relational operators\n",
    "work with tuples (and other sequences as well).  Python starts by comparing the\n",
    "first element from each sequence.  If they are equal, it goes on to the next sequence.\n",
    "\n",
    "So our 2 tuples should evaluate as equal"
   ]
  },
  {
   "cell_type": "code",
   "execution_count": 107,
   "metadata": {},
   "outputs": [
    {
     "data": {
      "text/plain": [
       "True"
      ]
     },
     "execution_count": 107,
     "metadata": {},
     "output_type": "execute_result"
    }
   ],
   "source": [
    "t1 == t2"
   ]
  },
  {
   "cell_type": "markdown",
   "metadata": {},
   "source": [
    "Or generally, the first value that differs in the tuple will determine \n",
    "the boolean relation."
   ]
  },
  {
   "cell_type": "code",
   "execution_count": 108,
   "metadata": {},
   "outputs": [
    {
     "data": {
      "text/plain": [
       "True"
      ]
     },
     "execution_count": 108,
     "metadata": {},
     "output_type": "execute_result"
    }
   ],
   "source": [
    "(1, 2, 3) < (1, 2, 4)"
   ]
  },
  {
   "cell_type": "code",
   "execution_count": 109,
   "metadata": {},
   "outputs": [
    {
     "data": {
      "text/plain": [
       "False"
      ]
     },
     "execution_count": 109,
     "metadata": {},
     "output_type": "execute_result"
    }
   ],
   "source": [
    "(1, 2, 3) < (1, 2, 2)"
   ]
  },
  {
   "cell_type": "markdown",
   "metadata": {},
   "source": [
    "## Tuple assignment\n",
    "\n",
    "Tuples can assign individual elements to one another in an\n",
    "assignment.  This type of assignment between variables and items\n",
    "in a tuple is used extensively in Python and in the libraries we use\n",
    "for this class.  For example:"
   ]
  },
  {
   "cell_type": "code",
   "execution_count": 110,
   "metadata": {},
   "outputs": [
    {
     "name": "stdout",
     "output_type": "stream",
     "text": [
      "1\n",
      "100\n"
     ]
    }
   ],
   "source": [
    "begin, end = 1, 100\n",
    "print(begin)\n",
    "print(end)"
   ]
  },
  {
   "cell_type": "code",
   "execution_count": 111,
   "metadata": {},
   "outputs": [
    {
     "name": "stdout",
     "output_type": "stream",
     "text": [
      "Derek\n",
      "67\n"
     ]
    }
   ],
   "source": [
    "(name, age, salary, attributes) = ('Derek', 42, 10.00, {'height': 67, 'weight': 165})\n",
    "\n",
    "print(name)\n",
    "print(attributes['height'])"
   ]
  },
  {
   "cell_type": "code",
   "execution_count": 112,
   "metadata": {},
   "outputs": [
    {
     "name": "stdout",
     "output_type": "stream",
     "text": [
      "13\n",
      "42\n"
     ]
    }
   ],
   "source": [
    "# kind of a trick, but we can use tuple assignment to perform an in place swap of \n",
    "# values\n",
    "a, b = 42, 13\n",
    "\n",
    "# do the swap\n",
    "a, b = b, a\n",
    "\n",
    "print(a)\n",
    "print(b)"
   ]
  },
  {
   "cell_type": "markdown",
   "metadata": {},
   "source": [
    "## Tuples as return values\n",
    "\n",
    "Probably the most common use of this kind of tuple assignment is to handle the\n",
    "return values from a function.\n",
    "\n",
    "Strictly speaking, a function cn only return one value.  But if you want a \n",
    "function to return a list of values in Python, you can instead return a\n",
    "tuple (or a list), and thus you are returning only 1 \"thing\", but the container\n",
    "contains multiple values.  \n",
    "\n",
    "This is used extensively by library funciton to return multiple results back to\n",
    "the caller of functions.  \n",
    "\n",
    "As a quick example, the built in `divmod()` function, that we have looked at before,\n",
    "actually returns a tuple result.  It returns the result of the division, followed\n",
    "by the remainder.  We can assign both return values into a single tuple."
   ]
  },
  {
   "cell_type": "code",
   "execution_count": 113,
   "metadata": {},
   "outputs": [
    {
     "data": {
      "text/plain": [
       "(2, 1)"
      ]
     },
     "execution_count": 113,
     "metadata": {},
     "output_type": "execute_result"
    }
   ],
   "source": [
    "# 7 / 3 = 2 with a remainder of 1\n",
    "res = divmod(7, 3)\n",
    "res"
   ]
  },
  {
   "cell_type": "markdown",
   "metadata": {},
   "source": [
    "Or instead, we can pick out the individual elements returned and assign them into\n",
    "more useful variable names as a result of calling the function."
   ]
  },
  {
   "cell_type": "code",
   "execution_count": 114,
   "metadata": {},
   "outputs": [
    {
     "name": "stdout",
     "output_type": "stream",
     "text": [
      "result of dividiong 7 by 3:  2\n",
      "remainder from the division:  1\n"
     ]
    }
   ],
   "source": [
    "quotient, remainder = divmod(7,3)\n",
    "print('result of dividiong 7 by 3: ', quotient)\n",
    "print('remainder from the division: ', remainder)"
   ]
  },
  {
   "cell_type": "markdown",
   "metadata": {},
   "source": [
    "You can return multiple values from your own function by returning a tuple\n",
    "list.  For example, here is a function that returns the min and max values\n",
    "from a list of values given to it."
   ]
  },
  {
   "cell_type": "code",
   "execution_count": 115,
   "metadata": {},
   "outputs": [],
   "source": [
    "def min_max(l):\n",
    "    \"\"\"Given a list of values, return the min,max tuple of the minmum and \n",
    "    maximum values in the list.\n",
    "    \"\"\"\n",
    "    return min(l), max(l)"
   ]
  },
  {
   "cell_type": "code",
   "execution_count": 116,
   "metadata": {},
   "outputs": [
    {
     "name": "stdout",
     "output_type": "stream",
     "text": [
      "minimum value in list: 1\n",
      "maximum value in list: 9\n"
     ]
    }
   ],
   "source": [
    "# a list of integer values\n",
    "l = [5, 3, 9, 2, 7, 6, 1, 8]\n",
    "\n",
    "# call the list, get the tuple result\n",
    "min_val, max_val = min_max(l)\n",
    "\n",
    "print('minimum value in list:', min_val)\n",
    "print('maximum value in list:', max_val)"
   ]
  },
  {
   "cell_type": "markdown",
   "metadata": {},
   "source": [
    "## Lists and tuples\n",
    "\n",
    "`zip()` is a built-in function that takes two or more sequences and\n",
    "interleaves them. \n",
    "\n",
    "For example, `zip()` takes 2 tuples or lists of the same size, and this allows\n",
    "you to iterate over corresponding pairs of objects."
   ]
  },
  {
   "cell_type": "code",
   "execution_count": 117,
   "metadata": {},
   "outputs": [
    {
     "name": "stdout",
     "output_type": "stream",
     "text": [
      "('a', 1)\n",
      "('b', 2)\n",
      "('c', 3)\n",
      "('d', 4)\n"
     ]
    }
   ],
   "source": [
    "# a string is a sequence of characters, so it is \"list\" like\n",
    "s = 'abcd'\n",
    "\n",
    "# a tuple of 4 items\n",
    "t = (1, 2, 3, 4)\n",
    "\n",
    "for pair in zip(s, t):\n",
    "    print(pair)"
   ]
  },
  {
   "cell_type": "code",
   "execution_count": 118,
   "metadata": {},
   "outputs": [
    {
     "name": "stdout",
     "output_type": "stream",
     "text": [
      "a 1\n",
      "b 2\n",
      "c 3\n",
      "d 4\n"
     ]
    }
   ],
   "source": [
    "# once again because of tuple assignment, we could extract the individual\n",
    "# items of the pair while iterating over them\n",
    "for char, value in zip(s, t):\n",
    "    print(char, value)"
   ]
  },
  {
   "cell_type": "markdown",
   "metadata": {},
   "source": [
    "You can turn the rusult of calling zip into a true list, you can create\n",
    "sequences of corresponding elements.\n",
    "\n",
    "Also, `zip` will actually work with 3 or more sequences, as long as all sequences\n",
    "are of the same length."
   ]
  },
  {
   "cell_type": "code",
   "execution_count": 119,
   "metadata": {},
   "outputs": [
    {
     "data": {
      "text/plain": [
       "[(1, 'alice', 42), (2, 'bob', 38), (3, 'carol', 29)]"
      ]
     },
     "execution_count": 119,
     "metadata": {},
     "output_type": "execute_result"
    }
   ],
   "source": [
    "names = ['alice', 'bob', 'carol']\n",
    "ages = (42, 38, 29)\n",
    "id = (1, 2, 3)\n",
    "\n",
    "l = list(zip(id, names, ages))\n",
    "l"
   ]
  },
  {
   "cell_type": "markdown",
   "metadata": {},
   "source": [
    "If you combine `zip`, `for` and tuple assignment, you get a useful idiom\n",
    "for traversing two (or more) equences at the same time.  For example, `has_match`\n",
    "takes two sequences, `t1` and `t2`, and returns `True` if there is an index\n",
    "i such that `t1[i] == t2[i]`."
   ]
  },
  {
   "cell_type": "code",
   "execution_count": 120,
   "metadata": {},
   "outputs": [],
   "source": [
    "def has_match(t1, t2):\n",
    "    \"\"\"Determine if any corresponding element of sequence t1 matches t2.  If\n",
    "    we find a matching element, we return a True result.  Otherwise the answer\n",
    "    is false.\n",
    "    \"\"\"\n",
    "    for x, y in zip(t1, t2):\n",
    "        if x == y:\n",
    "            return True\n",
    "    return False"
   ]
  },
  {
   "cell_type": "code",
   "execution_count": 121,
   "metadata": {},
   "outputs": [
    {
     "data": {
      "text/plain": [
       "True"
      ]
     },
     "execution_count": 121,
     "metadata": {},
     "output_type": "execute_result"
    }
   ],
   "source": [
    "has_match((1, 2, 3), (4, 5, 3))"
   ]
  },
  {
   "cell_type": "code",
   "execution_count": 122,
   "metadata": {},
   "outputs": [
    {
     "data": {
      "text/plain": [
       "False"
      ]
     },
     "execution_count": 122,
     "metadata": {},
     "output_type": "execute_result"
    }
   ],
   "source": [
    "has_match( (1, 2, 3), (4, 5, 6))"
   ]
  },
  {
   "cell_type": "markdown",
   "metadata": {},
   "source": [
    "Finally, as we may have already mentioned, if you need to traverse the elements\n",
    "of a sequence, like a list or tuple, and you also need the index of each\n",
    "element, you should use a `for` loop and the `enumerate()` function.  `enumerate()`\n",
    "basically zips a list of the integer indexes to the list, so  you can\n",
    "get each element and its index when iterating the list."
   ]
  },
  {
   "cell_type": "code",
   "execution_count": 123,
   "metadata": {},
   "outputs": [
    {
     "name": "stdout",
     "output_type": "stream",
     "text": [
      "0 a\n",
      "1 b\n",
      "2 c\n",
      "3 d\n",
      "4 e\n",
      "5 f\n",
      "6 g\n"
     ]
    }
   ],
   "source": [
    "for index, element in enumerate('abcdefg'):\n",
    "    print(index, element)"
   ]
  },
  {
   "cell_type": "markdown",
   "metadata": {},
   "source": [
    "## Dictionaries and tuples\n",
    "\n",
    "Dictionaries have a method called `items()` that returns a sequence of \n",
    "tuples, where each tuple is a key-value pair."
   ]
  },
  {
   "cell_type": "code",
   "execution_count": 124,
   "metadata": {},
   "outputs": [
    {
     "data": {
      "text/plain": [
       "dict_items([('a', 0), ('b', 1), ('c', 2)])"
      ]
     },
     "execution_count": 124,
     "metadata": {},
     "output_type": "execute_result"
    }
   ],
   "source": [
    "d = {'a': 0, 'b': 1, 'c': 2}\n",
    "t = d.items()\n",
    "t"
   ]
  },
  {
   "cell_type": "code",
   "execution_count": 125,
   "metadata": {},
   "outputs": [
    {
     "name": "stdout",
     "output_type": "stream",
     "text": [
      "a 0\n",
      "b 1\n",
      "c 2\n"
     ]
    }
   ],
   "source": [
    "for key, value in d.items():\n",
    "    print(key, value)"
   ]
  },
  {
   "cell_type": "markdown",
   "metadata": {},
   "source": [
    "Also it is common to use a tuple as a key for a complex dictionary.  One cannot\n",
    "use lists because of their immutable nature.\n",
    "\n",
    "For example, we might need a telephone dictionary that maps `('last', 'first')` \n",
    "names to their telephone number."
   ]
  },
  {
   "cell_type": "code",
   "execution_count": 126,
   "metadata": {},
   "outputs": [
    {
     "data": {
      "text/plain": [
       "'817-763-8293'"
      ]
     },
     "execution_count": 126,
     "metadata": {},
     "output_type": "execute_result"
    }
   ],
   "source": [
    "telephone_book = {\n",
    "    ('Cleese', 'John'): '218-256-7918',\n",
    "    ('Chapman', 'Graham'): '903-418-1938',\n",
    "    ('Gilliam', 'Terry'): '817-763-8293',\n",
    "    ('Palin', 'Michael'): '428-271-2939'\n",
    "}\n",
    "\n",
    "telephone_book['Gilliam', 'Terry']"
   ]
  },
  {
   "cell_type": "markdown",
   "metadata": {},
   "source": [
    "# Sets\n",
    "\n",
    "Sets are another built-in type that can be very useful in\n",
    "particular circumstances.  A set is an implementation of the\n",
    "mathematical notion of a set.  So each unique value only appears one\n",
    "time within the set.\n",
    "\n",
    "We used a dictionary in a set like way, to count the occurrences of\n",
    "letters in a text.  When a letter is encountered, we know if it is a letter\n",
    "in the text or not depending on if it is a key in the dictionary.\n",
    "\n",
    "To define a set do the following."
   ]
  },
  {
   "cell_type": "code",
   "execution_count": 127,
   "metadata": {},
   "outputs": [],
   "source": [
    "# an initially empty set\n",
    "words = set() "
   ]
  },
  {
   "cell_type": "code",
   "execution_count": 128,
   "metadata": {},
   "outputs": [],
   "source": [
    "# using our lorem ipsum text from the sectionary on dictionaries, this time\n",
    "# split by words, and create a set of the unique words\n",
    "# By default, split() splits by whitespace, so spaces, tabs, newlines\n",
    "for word in text.split():\n",
    "    words.add(word)"
   ]
  },
  {
   "cell_type": "code",
   "execution_count": 129,
   "metadata": {},
   "outputs": [
    {
     "data": {
      "text/plain": [
       "{'Adipiscing',\n",
       " 'Aenean',\n",
       " 'At',\n",
       " 'Duis',\n",
       " 'Eleifend',\n",
       " 'Enim',\n",
       " 'Et',\n",
       " 'Euismod',\n",
       " 'Facilisis',\n",
       " 'Hendrerit',\n",
       " 'Id',\n",
       " 'Integer',\n",
       " 'Ipsum',\n",
       " 'Just',\n",
       " 'Justo',\n",
       " 'Lorem',\n",
       " 'Maecenas',\n",
       " 'Morbi',\n",
       " 'Neque',\n",
       " 'Nibh',\n",
       " 'Placerat',\n",
       " 'Sapien',\n",
       " 'Sed',\n",
       " 'Urna',\n",
       " 'Vehicula',\n",
       " 'Vestibulum',\n",
       " 'Vulputate',\n",
       " 'a',\n",
       " 'ac',\n",
       " 'adipiscing',\n",
       " 'adipiscing.',\n",
       " 'aenean',\n",
       " 'aliqua.',\n",
       " 'aliquam',\n",
       " 'amet',\n",
       " 'amet,',\n",
       " 'arcu',\n",
       " 'at',\n",
       " 'at.',\n",
       " 'auctor',\n",
       " 'auctor.',\n",
       " 'augue.',\n",
       " 'bibendum',\n",
       " 'blandit',\n",
       " 'character',\n",
       " 'commodo',\n",
       " 'congue',\n",
       " 'consectetur',\n",
       " 'consequat',\n",
       " 'consequat.',\n",
       " 'count',\n",
       " 'cras',\n",
       " 'cursus',\n",
       " 'dictum',\n",
       " 'do',\n",
       " 'dolor',\n",
       " 'dolore',\n",
       " 'donec',\n",
       " 'dui',\n",
       " 'dui.',\n",
       " 'duis',\n",
       " 'egestas',\n",
       " 'eget',\n",
       " 'eiusmod',\n",
       " 'elementum.',\n",
       " 'elit',\n",
       " 'elit,',\n",
       " 'erat',\n",
       " 'est',\n",
       " 'est.',\n",
       " 'et',\n",
       " 'et.',\n",
       " 'etiam.',\n",
       " 'euismod',\n",
       " 'faucibus',\n",
       " 'feugiat',\n",
       " 'frequencies',\n",
       " 'fusce',\n",
       " 'gravida',\n",
       " 'hendrerit.',\n",
       " 'id',\n",
       " 'id.',\n",
       " 'imperdiet',\n",
       " 'in',\n",
       " 'incididunt',\n",
       " 'integer',\n",
       " 'ipsum',\n",
       " 'labore',\n",
       " 'lacus',\n",
       " 'lectus',\n",
       " 'leo',\n",
       " 'libero',\n",
       " 'ligula',\n",
       " 'lorem',\n",
       " 'lorem.',\n",
       " 'magna',\n",
       " 'malesuada',\n",
       " 'massa',\n",
       " 'mattis',\n",
       " 'mauris',\n",
       " 'mauris.',\n",
       " 'mi',\n",
       " 'morbi',\n",
       " 'nec',\n",
       " 'neque',\n",
       " 'nibh',\n",
       " 'nisi',\n",
       " 'nisl',\n",
       " 'non',\n",
       " 'nulla.',\n",
       " 'nunc',\n",
       " 'odio',\n",
       " 'odio.',\n",
       " 'of.',\n",
       " 'orci',\n",
       " 'ornare',\n",
       " 'pellentesque',\n",
       " 'pharetra',\n",
       " 'placerat',\n",
       " 'porta',\n",
       " 'praesent',\n",
       " 'pretium',\n",
       " 'proin',\n",
       " 'proin.',\n",
       " 'pulvinar',\n",
       " 'quam',\n",
       " 'quam.',\n",
       " 'quis',\n",
       " 'quisque',\n",
       " 'random',\n",
       " 'rhoncus.',\n",
       " 'risus',\n",
       " 'rutrum',\n",
       " 'sapien',\n",
       " 'sed',\n",
       " 'sed.',\n",
       " 'semper',\n",
       " 'sit',\n",
       " 'some',\n",
       " 'suspendisse',\n",
       " 'tellus',\n",
       " 'tempor',\n",
       " 'text',\n",
       " 'tincidunt',\n",
       " 'to',\n",
       " 'turpis',\n",
       " 'turpis.',\n",
       " 'ullamcorper',\n",
       " 'ultrices',\n",
       " 'ultricies',\n",
       " 'urna.',\n",
       " 'ut',\n",
       " 'ut.',\n",
       " 'vel',\n",
       " 'velit',\n",
       " 'venenatis',\n",
       " 'vestibulum',\n",
       " 'vitae',\n",
       " 'viverra.',\n",
       " 'volutpat',\n",
       " 'want',\n",
       " 'we'}"
      ]
     },
     "execution_count": 129,
     "metadata": {},
     "output_type": "execute_result"
    }
   ],
   "source": [
    "# the set of unique words\n",
    "words"
   ]
  },
  {
   "cell_type": "markdown",
   "metadata": {},
   "source": [
    "We can check set membership using the `in` operator, difference using\n",
    "the `difference()` method or the `-` operator, and set union using \n",
    "the `union()` or the `+` operator."
   ]
  },
  {
   "cell_type": "code",
   "execution_count": 130,
   "metadata": {},
   "outputs": [
    {
     "data": {
      "text/plain": [
       "True"
      ]
     },
     "execution_count": 130,
     "metadata": {},
     "output_type": "execute_result"
    }
   ],
   "source": [
    "# set membership\n",
    "'vel' in words"
   ]
  },
  {
   "cell_type": "code",
   "execution_count": 131,
   "metadata": {},
   "outputs": [
    {
     "data": {
      "text/plain": [
       "False"
      ]
     },
     "execution_count": 131,
     "metadata": {},
     "output_type": "execute_result"
    }
   ],
   "source": [
    "'velum' in words"
   ]
  },
  {
   "cell_type": "code",
   "execution_count": 132,
   "metadata": {},
   "outputs": [
    {
     "data": {
      "text/plain": [
       "{'a', 'd'}"
      ]
     },
     "execution_count": 132,
     "metadata": {},
     "output_type": "execute_result"
    }
   ],
   "source": [
    "# difference\n",
    "s1 = set(['a', 'b', 'c', 'd'])\n",
    "s2 = set(['b', 'c'])\n",
    "\n",
    "s1 - s2"
   ]
  },
  {
   "cell_type": "code",
   "execution_count": 133,
   "metadata": {},
   "outputs": [
    {
     "data": {
      "text/plain": [
       "set()"
      ]
     },
     "execution_count": 133,
     "metadata": {},
     "output_type": "execute_result"
    }
   ],
   "source": [
    "# the empty set\n",
    "s2 - s1"
   ]
  },
  {
   "cell_type": "code",
   "execution_count": 134,
   "metadata": {},
   "outputs": [
    {
     "data": {
      "text/plain": [
       "{'e'}"
      ]
     },
     "execution_count": 134,
     "metadata": {},
     "output_type": "execute_result"
    }
   ],
   "source": [
    "s2.add('e')\n",
    "s2 - s1"
   ]
  },
  {
   "cell_type": "code",
   "execution_count": 135,
   "metadata": {},
   "outputs": [
    {
     "data": {
      "text/plain": [
       "{'a', 'b', 'c', 'd', 'e'}"
      ]
     },
     "execution_count": 135,
     "metadata": {},
     "output_type": "execute_result"
    }
   ],
   "source": [
    "# union, whoops I was wrong, `+` is not defined for union, seems like a missed\n",
    "# opportunity there?\n",
    "#s1 + s2\n",
    "s1.union(s2)"
   ]
  },
  {
   "cell_type": "markdown",
   "metadata": {},
   "source": [
    "# List comprehensions\n",
    "\n",
    "List comprehensions are a relatively newer addition to the Python language.\n",
    "On the one hand they can make you code more concise.  On the other hand \n",
    "they may make your code more concise, which may not be as readable?\n",
    "\n",
    "In any case, you will probably see list comprehensions used more and more\n",
    "frequently in many places.  Any (simple) loop can be turned into a \n",
    "list comprehension, and any list comprehension can be turned back into \n",
    "a more traditional for loop."
   ]
  },
  {
   "cell_type": "code",
   "execution_count": 136,
   "metadata": {},
   "outputs": [],
   "source": [
    "# function to capitalize all letters of a string s, using a traditiona loop\n",
    "def capitalize_all_loop(s):\n",
    "    \"\"\"Capitalize all letters in the string s and return the (new)\n",
    "    resulting string.\n",
    "    \"\"\"\n",
    "    res = []\n",
    "    for c in s:\n",
    "        res.append(c.capitalize())\n",
    "    return res"
   ]
  },
  {
   "cell_type": "code",
   "execution_count": 137,
   "metadata": {},
   "outputs": [
    {
     "data": {
      "text/plain": [
       "['T',\n",
       " 'H',\n",
       " 'I',\n",
       " 'S',\n",
       " ' ',\n",
       " 'I',\n",
       " 'S',\n",
       " ' ',\n",
       " 'A',\n",
       " ' ',\n",
       " 'S',\n",
       " 'T',\n",
       " 'R',\n",
       " 'I',\n",
       " 'N',\n",
       " 'G',\n",
       " '!',\n",
       " ' ',\n",
       " ' ',\n",
       " 'I',\n",
       " 'T',\n",
       " ' ',\n",
       " 'H',\n",
       " 'A',\n",
       " 'S',\n",
       " ' ',\n",
       " 'S',\n",
       " 'O',\n",
       " 'M',\n",
       " 'E',\n",
       " ' ',\n",
       " 'U',\n",
       " 'P',\n",
       " 'P',\n",
       " 'E',\n",
       " 'R',\n",
       " ',',\n",
       " ' ',\n",
       " 'B',\n",
       " 'U',\n",
       " 'T',\n",
       " ' ',\n",
       " 'M',\n",
       " 'O',\n",
       " 'S',\n",
       " 'T',\n",
       " 'L',\n",
       " 'Y',\n",
       " ' ',\n",
       " 'L',\n",
       " 'O',\n",
       " 'W',\n",
       " 'E',\n",
       " 'R',\n",
       " '.']"
      ]
     },
     "execution_count": 137,
     "metadata": {},
     "output_type": "execute_result"
    }
   ],
   "source": [
    "capitalize_all_loop(\"This is a string!  It has some upper, but mostly lower.\")"
   ]
  },
  {
   "cell_type": "markdown",
   "metadata": {},
   "source": [
    "Notice that the result is no a list instead of a string, which you may not\n",
    "have been expecting.  How would you convert it back to a string?\n",
    "\n",
    "To do the same thing using a list comprehension, we do the following.\n",
    "Notice that `[` and `]` are defining a new list that we return, but inside of\n",
    "the list comprehension, instead of a comma separated list of elements, we\n",
    "have a function/code, and a for statement.  The for statement selects each c in\n",
    "s, then `capitalize()` is called on each c, and the result of each of these is\n",
    "appended to the list that is created and returned."
   ]
  },
  {
   "cell_type": "code",
   "execution_count": 138,
   "metadata": {},
   "outputs": [],
   "source": [
    "def capitalize_all_list(s):\n",
    "    return [c.capitalize() for c in s]"
   ]
  },
  {
   "cell_type": "code",
   "execution_count": 139,
   "metadata": {},
   "outputs": [
    {
     "data": {
      "text/plain": [
       "['T',\n",
       " 'H',\n",
       " 'I',\n",
       " 'S',\n",
       " ' ',\n",
       " 'I',\n",
       " 'S',\n",
       " ' ',\n",
       " 'A',\n",
       " ' ',\n",
       " 'S',\n",
       " 'T',\n",
       " 'R',\n",
       " 'I',\n",
       " 'N',\n",
       " 'G',\n",
       " '!',\n",
       " ' ',\n",
       " ' ',\n",
       " 'I',\n",
       " 'T',\n",
       " ' ',\n",
       " 'H',\n",
       " 'A',\n",
       " 'S',\n",
       " ' ',\n",
       " 'S',\n",
       " 'O',\n",
       " 'M',\n",
       " 'E',\n",
       " ' ',\n",
       " 'U',\n",
       " 'P',\n",
       " 'P',\n",
       " 'E',\n",
       " 'R',\n",
       " ',',\n",
       " ' ',\n",
       " 'B',\n",
       " 'U',\n",
       " 'T',\n",
       " ' ',\n",
       " 'M',\n",
       " 'O',\n",
       " 'S',\n",
       " 'T',\n",
       " 'L',\n",
       " 'Y',\n",
       " ' ',\n",
       " 'L',\n",
       " 'O',\n",
       " 'W',\n",
       " 'E',\n",
       " 'R',\n",
       " '.']"
      ]
     },
     "execution_count": 139,
     "metadata": {},
     "output_type": "execute_result"
    }
   ],
   "source": [
    "capitalize_all_list(\"This is a string!  It has some upper, but mostly lower.\")"
   ]
  },
  {
   "cell_type": "markdown",
   "metadata": {},
   "source": [
    "List comprehensions can also be used for filtering.  For example this \n",
    "function selects only the elements of `s` that are upper case, and\n",
    "returns a new list:"
   ]
  },
  {
   "cell_type": "code",
   "execution_count": 140,
   "metadata": {},
   "outputs": [],
   "source": [
    "def only_upper_loop(s):\n",
    "    \"\"\"Select only the upper case letters of string s, and put them into a new\n",
    "    list that we return to the caller.\n",
    "    \"\"\"\n",
    "    res = []\n",
    "    for c in s:\n",
    "        if c.isupper():\n",
    "            res.append(c)\n",
    "    return res"
   ]
  },
  {
   "cell_type": "code",
   "execution_count": 141,
   "metadata": {},
   "outputs": [
    {
     "data": {
      "text/plain": [
       "['T', 'I', 'P', 'P', 'E', 'R']"
      ]
     },
     "execution_count": 141,
     "metadata": {},
     "output_type": "execute_result"
    }
   ],
   "source": [
    "only_upper_loop(\"This is a string!  It has some uPPER, but mostly lower.\")"
   ]
  },
  {
   "cell_type": "markdown",
   "metadata": {},
   "source": [
    "The equivalant filter as a list comprehension"
   ]
  },
  {
   "cell_type": "code",
   "execution_count": 142,
   "metadata": {},
   "outputs": [],
   "source": [
    "def only_upper_list(s):\n",
    "    return [c for c in s if c.isupper()]"
   ]
  },
  {
   "cell_type": "code",
   "execution_count": 143,
   "metadata": {},
   "outputs": [
    {
     "data": {
      "text/plain": [
       "['T', 'I', 'P', 'P', 'E', 'R']"
      ]
     },
     "execution_count": 143,
     "metadata": {},
     "output_type": "execute_result"
    }
   ],
   "source": [
    "only_upper_list(\"This is a string!  It has some uPPER, but mostly lower.\")"
   ]
  }
 ],
 "metadata": {
  "kernelspec": {
   "display_name": "python3-datasci",
   "language": "python",
   "name": "python3-datasci"
  },
  "language_info": {
   "codemirror_mode": {
    "name": "ipython",
    "version": 3
   },
   "file_extension": ".py",
   "mimetype": "text/x-python",
   "name": "python",
   "nbconvert_exporter": "python",
   "pygments_lexer": "ipython3",
   "version": "3.7.7"
  }
 },
 "nbformat": 4,
 "nbformat_minor": 4
}

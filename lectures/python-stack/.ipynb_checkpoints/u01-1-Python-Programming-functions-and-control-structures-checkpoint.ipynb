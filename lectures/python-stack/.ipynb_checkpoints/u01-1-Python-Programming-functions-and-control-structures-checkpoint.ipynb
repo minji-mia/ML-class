{
 "cells": [
  {
   "cell_type": "markdown",
   "metadata": {},
   "source": [
    "# Introduction: Python Programming\n",
    "\n",
    "The following notebook is mostly derived from and a summary of chapter 1-7\n",
    "of Downey's\n",
    "[Think Python: How to Think Like a Computer Scientist](https://greenteapress.com/wp/think-python-2e/)"
   ]
  },
  {
   "cell_type": "code",
   "execution_count": 1,
   "metadata": {
    "ExecuteTime": {
     "end_time": "2018-08-23T17:04:12.603048Z",
     "start_time": "2018-08-23T17:04:12.589626Z"
    }
   },
   "outputs": [
    {
     "data": {
      "text/html": [
       "<img src=\"http://imgs.xkcd.com/comics/python.png\"/>"
      ],
      "text/plain": [
       "<IPython.core.display.Image object>"
      ]
     },
     "execution_count": 1,
     "metadata": {},
     "output_type": "execute_result"
    }
   ],
   "source": [
    "from IPython.core.display import Image \n",
    "Image(url='http://imgs.xkcd.com/comics/python.png') "
   ]
  },
  {
   "cell_type": "markdown",
   "metadata": {},
   "source": [
    "Python is a high-level, interpreted language.  Python has become very popular all the way from learning basic beginning programming up to enterprise level software and web systems development.  Of importance to this class, Python is being used extensively by computational scientists for scientific programming, machine learning and high performance computing tasks and environments.\n",
    "\n",
    "The single most important skill for a computer scientist or data scientitst is\n",
    "**problem solving**.  Problem solving means the ability to formulate problems,\n",
    "think creatively about solutions, and express solutions clearly and accuratly.\n",
    "\n",
    "As it turns out, the skill of programming and being able to think computationally\n",
    "is an excellent way to organize our thoughts to be able to problem solve\n",
    "effectively.  \n",
    "\n",
    "The goal of this notebook is to introduce you to some of the most important\n",
    "parts of and uses of the basic Python programming language.  We don't expect \n",
    "you to be an expert or know all of the language after working though \n",
    "this material.  Your goal is to learn enough so that you can begin working on \n",
    "and understanding the machine learning code examples we will use in the \n",
    "course.  We assume you have had some experience with programming, though not \n",
    "necessarily with the Python programming language itself."
   ]
  },
  {
   "cell_type": "markdown",
   "metadata": {},
   "source": [
    "# Arthimetic Operators, Values and Types\n",
    "\n",
    "Lets start with the obligatory first statement you learn in any new language,\n",
    "'Hello, World!'"
   ]
  },
  {
   "cell_type": "code",
   "execution_count": 2,
   "metadata": {},
   "outputs": [
    {
     "name": "stdout",
     "output_type": "stream",
     "text": [
      "Hello, World!\n"
     ]
    }
   ],
   "source": [
    "print('Hello, World!')"
   ]
  },
  {
   "cell_type": "markdown",
   "metadata": {},
   "source": [
    "This is an example of a **print statement**.  The `print()` statement is actually a built \n",
    "in function.  You will learn below how to add your own functions to the \n",
    "Python language.  The `print` function takes one (or more) parameters as input \n",
    "and displayes them on the console output.  The parenthesis `(` and `)` indicate \n",
    "that we are calling the function, and passing in a parameter to the function.\n",
    "\n",
    "The parameter to the `print` statement is a string.  We will talk about strings\n",
    "and other types next.  The string in this statement is `'Hello, World'`, and it is\n",
    "enclosed in single quote to indicate it is a string type.\n",
    "\n",
    "Python is an interpreted language.  We did not have to compile the program above \n",
    "before we ran it.  Hitting `shift-enter` in the Jupyter notebook will send the \n",
    "statements in the cell to a Python interpreter (the kernel), which will interpret \n",
    "and execute the statements, and return the results and/or display the output that \n",
    "results from executing the statements."
   ]
  },
  {
   "cell_type": "markdown",
   "metadata": {},
   "source": [
    "## Arithmetic Operators\n",
    "\n",
    "Python support the basic arithmetic statements and operators, in mostly the \n",
    "same syntax you are probably familiar with from other programming languages \n",
    "you may have used (like C or Java).\n",
    "\n",
    "Operators `+`, `-`, `*` perform the usual addition, subtraction and\n",
    "multiplication."
   ]
  },
  {
   "cell_type": "code",
   "execution_count": 3,
   "metadata": {},
   "outputs": [
    {
     "data": {
      "text/plain": [
       "42"
      ]
     },
     "execution_count": 3,
     "metadata": {},
     "output_type": "execute_result"
    }
   ],
   "source": [
    "40 + 2"
   ]
  },
  {
   "cell_type": "code",
   "execution_count": 4,
   "metadata": {},
   "outputs": [
    {
     "data": {
      "text/plain": [
       "42"
      ]
     },
     "execution_count": 4,
     "metadata": {},
     "output_type": "execute_result"
    }
   ],
   "source": [
    "43 - 1"
   ]
  },
  {
   "cell_type": "code",
   "execution_count": 5,
   "metadata": {},
   "outputs": [
    {
     "data": {
      "text/plain": [
       "42"
      ]
     },
     "execution_count": 5,
     "metadata": {},
     "output_type": "execute_result"
    }
   ],
   "source": [
    "6 * 7"
   ]
  },
  {
   "cell_type": "markdown",
   "metadata": {},
   "source": [
    "The operator `/` performs floating point division."
   ]
  },
  {
   "cell_type": "code",
   "execution_count": 6,
   "metadata": {},
   "outputs": [
    {
     "data": {
      "text/plain": [
       "42.0"
      ]
     },
     "execution_count": 6,
     "metadata": {},
     "output_type": "execute_result"
    }
   ],
   "source": [
    "84 / 2 "
   ]
  },
  {
   "cell_type": "code",
   "execution_count": 7,
   "metadata": {},
   "outputs": [
    {
     "data": {
      "text/plain": [
       "42.5"
      ]
     },
     "execution_count": 7,
     "metadata": {},
     "output_type": "execute_result"
    }
   ],
   "source": [
    "85 / 2"
   ]
  },
  {
   "cell_type": "markdown",
   "metadata": {},
   "source": [
    "Unlike some other languages, `/` always returns a floating point result.\n",
    "If you want to force integer division in Python 3 you can use //"
   ]
  },
  {
   "cell_type": "code",
   "execution_count": 8,
   "metadata": {},
   "outputs": [
    {
     "data": {
      "text/plain": [
       "42"
      ]
     },
     "execution_count": 8,
     "metadata": {},
     "output_type": "execute_result"
    }
   ],
   "source": [
    "85 // 2"
   ]
  },
  {
   "cell_type": "markdown",
   "metadata": {},
   "source": [
    "Finally the operator `**` performs exponentiation, that is it raises a number \n",
    "to a power."
   ]
  },
  {
   "cell_type": "code",
   "execution_count": 9,
   "metadata": {},
   "outputs": [
    {
     "data": {
      "text/plain": [
       "42"
      ]
     },
     "execution_count": 9,
     "metadata": {},
     "output_type": "execute_result"
    }
   ],
   "source": [
    "6**2 + 6"
   ]
  },
  {
   "cell_type": "markdown",
   "metadata": {},
   "source": [
    "Be careful, in some languages `^` is used for exponentiation, but in\n",
    "Python (like C and some other languages) the `^` operator performs \n",
    "a bitwise XOR, so you will not get the result you expect if you were looking\n",
    "for exponentiation"
   ]
  },
  {
   "cell_type": "code",
   "execution_count": 10,
   "metadata": {},
   "outputs": [
    {
     "data": {
      "text/plain": [
       "4"
      ]
     },
     "execution_count": 10,
     "metadata": {},
     "output_type": "execute_result"
    }
   ],
   "source": [
    "6^2"
   ]
  },
  {
   "cell_type": "markdown",
   "metadata": {},
   "source": [
    "The usual [order of operators](https://en.wikipedia.org/wiki/Order_of_operations)\n",
    "applies in Python, and you can use parenthesis to force evaluation order, and\n",
    "to make complex expressions."
   ]
  },
  {
   "cell_type": "code",
   "execution_count": 11,
   "metadata": {},
   "outputs": [
    {
     "data": {
      "text/plain": [
       "151.5"
      ]
     },
     "execution_count": 11,
     "metadata": {},
     "output_type": "execute_result"
    }
   ],
   "source": [
    "3 * 7.0**2 + (2.5 / 8.0 * 1.5**2) * (4.8 * 4 / 3.0)"
   ]
  },
  {
   "cell_type": "markdown",
   "metadata": {},
   "source": [
    "## Values and Types\n",
    "\n",
    "A **value** is one of the basic things a program works with.\n",
    "\n",
    "Values have **types**.  In Python, unlike an explicitly typed language \n",
    "(like C or Java), the type of a value is inferred by the Python language.\n",
    "\n",
    "We can use the `type()` built-in function to query expressions or values to \n",
    "determine the internal type being used by Python to represent the \n",
    "value.  "
   ]
  },
  {
   "cell_type": "code",
   "execution_count": 12,
   "metadata": {},
   "outputs": [
    {
     "data": {
      "text/plain": [
       "int"
      ]
     },
     "execution_count": 12,
     "metadata": {},
     "output_type": "execute_result"
    }
   ],
   "source": [
    "type(2)"
   ]
  },
  {
   "cell_type": "code",
   "execution_count": 13,
   "metadata": {},
   "outputs": [
    {
     "data": {
      "text/plain": [
       "float"
      ]
     },
     "execution_count": 13,
     "metadata": {},
     "output_type": "execute_result"
    }
   ],
   "source": [
    "type(42.0)"
   ]
  },
  {
   "cell_type": "code",
   "execution_count": 14,
   "metadata": {},
   "outputs": [
    {
     "data": {
      "text/plain": [
       "str"
      ]
     },
     "execution_count": 14,
     "metadata": {},
     "output_type": "execute_result"
    }
   ],
   "source": [
    "type('Hello, World!')"
   ]
  },
  {
   "cell_type": "code",
   "execution_count": 15,
   "metadata": {},
   "outputs": [
    {
     "data": {
      "text/plain": [
       "bool"
      ]
     },
     "execution_count": 15,
     "metadata": {},
     "output_type": "execute_result"
    }
   ],
   "source": [
    "type(True)"
   ]
  },
  {
   "cell_type": "markdown",
   "metadata": {},
   "source": [
    "Python uses many of the same types you may be familiar with using from other \n",
    "programming languages behind the scenes, like `int`s and `float`s.  The\n",
    "string type `str` is a built-in first-class type in Python, as is the `bool`\n",
    "type.  Notice that the keywords `True` and `False` are defined to represent\n",
    "the boolean values of the `bool` type."
   ]
  },
  {
   "cell_type": "markdown",
   "metadata": {},
   "source": [
    "### Self-Test Exercises\n",
    "\n",
    "Try and answer the following first from what you have done and read.  Then try \n",
    "and add code cells to test your answers.\n",
    "\n",
    "1. You can use a minus sign to make a negative number like -2.  What happens if \n",
    "you put a plus sign before a number?  What about 2+ +2?\n",
    "2. In math notation, leading zeros are ok, as in 09.  What happens if you try \n",
    "this in Python?  What about 011?  Try 0xAB as a value as well.\n",
    "3. What happens if you have two values with no operator between them?\n",
    "4. You can use the Python interpreter as a calculater.  How many seconds are there \n",
    "in 42 mintues 42 seconds?\n",
    "5. How many miles are there in 10km?  Hint there are 1.61 km per mile.\n",
    "6. If you run a 10km race in 42 minutes 42 seconds, what is your average pace\n",
    "(time per mile in minutes and seconds)?  What is your average speed in miles \n",
    "per hour?"
   ]
  },
  {
   "cell_type": "markdown",
   "metadata": {},
   "source": [
    "# Variables, Expressions and Statements\n",
    "\n",
    "## Assignment statements\n",
    "\n",
    "An **assignment statement** creates a new variable and gives it a value."
   ]
  },
  {
   "cell_type": "code",
   "execution_count": 16,
   "metadata": {},
   "outputs": [],
   "source": [
    "# define and assign a string value\n",
    "message = 'And now for something completely different'\n",
    "\n",
    "# define and assign an integer value\n",
    "n = 17\n",
    "\n",
    "# define and assign a float value\n",
    "pi = 3.1415926535897932"
   ]
  },
  {
   "cell_type": "markdown",
   "metadata": {},
   "source": [
    "We have just defined 3 new variables and assigned each one a value.  Notice \n",
    "we do not have to declare any variable type, Python infers the type from \n",
    "the type of the value you assign to each variable.\n",
    "\n",
    "Variable names in Python follow the standards you are most likely familiar with\n",
    "from other languages.  Only upper case and lowercase letters, numbers \n",
    "and the underscore character `_`  can be used for variable names.  Also variable\n",
    "names cannot start with a number, they must start with a letter or an underscore.\n",
    "\n",
    "It is  conventional in Python programming to use `under_score_nameing_convention`\n",
    "for regular variable names (as opposed to `camelCaseNameingConvention`, \n",
    "please follow this convention in code you write for this class)."
   ]
  },
  {
   "cell_type": "code",
   "execution_count": 17,
   "metadata": {},
   "outputs": [],
   "source": [
    "# if you uncomment this you get a syntax error, do you know why?\n",
    "# 76trombones = 'big parade'"
   ]
  },
  {
   "cell_type": "code",
   "execution_count": 18,
   "metadata": {},
   "outputs": [],
   "source": [
    "# if you uncomment this you get a syntax error, do you know why?\n",
    "# more@ = 100000"
   ]
  },
  {
   "cell_type": "code",
   "execution_count": 19,
   "metadata": {},
   "outputs": [],
   "source": [
    "# if you uncomment this you get a syntax error\n",
    "# class = 'Advanced Theoretical Zymurgy'"
   ]
  },
  {
   "cell_type": "markdown",
   "metadata": {},
   "source": [
    "The last example of an illegal variable name illustrates that you also \n",
    "cannot use Python keywords as the name of a variable.  The list of \n",
    "[Python keywrods](https://docs.python.org/3/reference/lexical_analysis.html#keywords) \n",
    "is relatively small, but contains things like `if`, `return`,  `def`, `True`, etc.  "
   ]
  },
  {
   "cell_type": "markdown",
   "metadata": {},
   "source": [
    "## Expressions and Statements\n",
    "\n",
    "An **expression** is a combination of values, variables and operators.\n",
    "A value by itself is an expression, or you can combine values using\n",
    "operators."
   ]
  },
  {
   "cell_type": "code",
   "execution_count": 20,
   "metadata": {},
   "outputs": [
    {
     "data": {
      "text/plain": [
       "42"
      ]
     },
     "execution_count": 20,
     "metadata": {},
     "output_type": "execute_result"
    }
   ],
   "source": [
    "42"
   ]
  },
  {
   "cell_type": "code",
   "execution_count": 21,
   "metadata": {},
   "outputs": [
    {
     "data": {
      "text/plain": [
       "17"
      ]
     },
     "execution_count": 21,
     "metadata": {},
     "output_type": "execute_result"
    }
   ],
   "source": [
    "n"
   ]
  },
  {
   "cell_type": "code",
   "execution_count": 22,
   "metadata": {},
   "outputs": [
    {
     "data": {
      "text/plain": [
       "28.274333882308138"
      ]
     },
     "execution_count": 22,
     "metadata": {},
     "output_type": "execute_result"
    }
   ],
   "source": [
    "radius = 3.0 # not an expression, but a statement\n",
    "pi * radius**2 # this is an expression"
   ]
  },
  {
   "cell_type": "markdown",
   "metadata": {},
   "source": [
    "A **statement** is a unit of code that has an effect, like creating \n",
    "a variable or displaying a value.  An assignment statement is a statement.\n",
    "So when we assigned variables their values these were all statements.  Calling \n",
    "a function is a statement, so when we call the print function we are \n",
    "executing a statement."
   ]
  },
  {
   "cell_type": "markdown",
   "metadata": {},
   "source": [
    "### Self-Test Exercises\n",
    "\n",
    "1. In some languages every statements ends with a semi-colon `;`.  What\n",
    "happens if you put a semi-colon at the end of a Python statement?\n",
    "2. What if you put a period at the end of a statement?\n",
    "3. In math notation you can multiple x and y like this: $x y$.  What happens\n",
    "if you try that in Python?\n",
    "4. The volume of a sphere with radius `r` is $4/3 \\pi r^3$.  What is the volume\n",
    "of a sphere with radius 5?\n",
    "5. If I leave my house at 6:52 am and run 1 mile at an easy pase (8:15 per mile),\n",
    "then 3 miles at tempo (7:12 per mile) and 1 mile at the easy pace again, what \n",
    "time do I get home for breakfast?"
   ]
  },
  {
   "cell_type": "markdown",
   "metadata": {},
   "source": [
    "# Functions\n",
    "\n",
    "A **function** is a named sequence of statements that performs a \n",
    "computation.  When you define a function, you specify the name, the sequence\n",
    "of statements (function implementation), and parameters that can be passed\n",
    "into the function as inputs.\n",
    "\n",
    "Functions are fundamental to programming and solving problems computationally.\n",
    "You should be familiar with defining functions and using them in any\n",
    "programming language you use.\n"
   ]
  },
  {
   "cell_type": "markdown",
   "metadata": {},
   "source": [
    "## Function calls\n",
    "\n",
    "We have already used several functions in this notebook."
   ]
  },
  {
   "cell_type": "code",
   "execution_count": 23,
   "metadata": {},
   "outputs": [
    {
     "data": {
      "text/plain": [
       "int"
      ]
     },
     "execution_count": 23,
     "metadata": {},
     "output_type": "execute_result"
    }
   ],
   "source": [
    "type(42)"
   ]
  },
  {
   "cell_type": "code",
   "execution_count": 24,
   "metadata": {},
   "outputs": [
    {
     "name": "stdout",
     "output_type": "stream",
     "text": [
      "Hello, sailor!\n"
     ]
    }
   ],
   "source": [
    "print(\"Hello, sailor!\")"
   ]
  },
  {
   "cell_type": "markdown",
   "metadata": {},
   "source": [
    "Both of these are examples of a **function call**.  We call the function by\n",
    "name, passing in 1 **argument** or **parameter** in both cases to each of \n",
    "the functions.\n",
    "\n",
    "The first function returns a result.  You can see that something was returned, \n",
    "because the cell number is repeated for the cell code, and for the return \n",
    "value that resulted from executing the cell.  The `print()` function actually\n",
    "does not return a value.  It dispalys something on the output, but doesn't\n",
    "return anything.\n",
    "\n",
    "Python provides lots of built in functions that you can use directly from \n",
    "any Python interpreter.  In addition, you can load many more functions \n",
    "(and other things) by importing additional libraries, which we will discuss\n",
    "later.\n",
    "\n",
    "For example, some more built-in function to convert from one type of \n",
    "value to another."
   ]
  },
  {
   "cell_type": "code",
   "execution_count": 25,
   "metadata": {},
   "outputs": [
    {
     "data": {
      "text/plain": [
       "32"
      ]
     },
     "execution_count": 25,
     "metadata": {},
     "output_type": "execute_result"
    }
   ],
   "source": [
    "# convert a string to an integer\n",
    "int('32')"
   ]
  },
  {
   "cell_type": "code",
   "execution_count": 26,
   "metadata": {},
   "outputs": [
    {
     "name": "stdout",
     "output_type": "stream",
     "text": [
      "ValueError was thrown\n"
     ]
    }
   ],
   "source": [
    "# conversion will throw an error if it can't understand the expression you ask \n",
    "# it to convert\n",
    "try:\n",
    "    int('Hello')\n",
    "except ValueError:\n",
    "    print('ValueError was thrown')"
   ]
  },
  {
   "cell_type": "code",
   "execution_count": 27,
   "metadata": {},
   "outputs": [
    {
     "data": {
      "text/plain": [
       "32.0"
      ]
     },
     "execution_count": 27,
     "metadata": {},
     "output_type": "execute_result"
    }
   ],
   "source": [
    "# convert an int to a float\n",
    "float(32)"
   ]
  },
  {
   "cell_type": "code",
   "execution_count": 28,
   "metadata": {},
   "outputs": [
    {
     "data": {
      "text/plain": [
       "'32'"
      ]
     },
     "execution_count": 28,
     "metadata": {},
     "output_type": "execute_result"
    }
   ],
   "source": [
    "# convert an int to a string\n",
    "str(32)"
   ]
  },
  {
   "cell_type": "markdown",
   "metadata": {},
   "source": [
    "There are many other built-in functions.  Here is a list of other\n",
    "[Python built-in functions](https://docs.python.org/3/library/functions.html)\n",
    "\n",
    "Just a few more examples from that list:"
   ]
  },
  {
   "cell_type": "code",
   "execution_count": 29,
   "metadata": {},
   "outputs": [
    {
     "data": {
      "text/plain": [
       "42"
      ]
     },
     "execution_count": 29,
     "metadata": {},
     "output_type": "execute_result"
    }
   ],
   "source": [
    "# absolute value of a value\n",
    "abs(-42)"
   ]
  },
  {
   "cell_type": "code",
   "execution_count": 30,
   "metadata": {},
   "outputs": [
    {
     "data": {
      "text/plain": [
       "['Image',\n",
       " 'In',\n",
       " 'Out',\n",
       " '_',\n",
       " '_1',\n",
       " '_10',\n",
       " '_11',\n",
       " '_12',\n",
       " '_13',\n",
       " '_14',\n",
       " '_15',\n",
       " '_20',\n",
       " '_21',\n",
       " '_22',\n",
       " '_23',\n",
       " '_25',\n",
       " '_27',\n",
       " '_28',\n",
       " '_29',\n",
       " '_3',\n",
       " '_4',\n",
       " '_5',\n",
       " '_6',\n",
       " '_7',\n",
       " '_8',\n",
       " '_9',\n",
       " '__',\n",
       " '___',\n",
       " '__builtin__',\n",
       " '__builtins__',\n",
       " '__doc__',\n",
       " '__loader__',\n",
       " '__name__',\n",
       " '__package__',\n",
       " '__spec__',\n",
       " '_dh',\n",
       " '_i',\n",
       " '_i1',\n",
       " '_i10',\n",
       " '_i11',\n",
       " '_i12',\n",
       " '_i13',\n",
       " '_i14',\n",
       " '_i15',\n",
       " '_i16',\n",
       " '_i17',\n",
       " '_i18',\n",
       " '_i19',\n",
       " '_i2',\n",
       " '_i20',\n",
       " '_i21',\n",
       " '_i22',\n",
       " '_i23',\n",
       " '_i24',\n",
       " '_i25',\n",
       " '_i26',\n",
       " '_i27',\n",
       " '_i28',\n",
       " '_i29',\n",
       " '_i3',\n",
       " '_i30',\n",
       " '_i4',\n",
       " '_i5',\n",
       " '_i6',\n",
       " '_i7',\n",
       " '_i8',\n",
       " '_i9',\n",
       " '_ih',\n",
       " '_ii',\n",
       " '_iii',\n",
       " '_oh',\n",
       " 'exit',\n",
       " 'get_ipython',\n",
       " 'message',\n",
       " 'n',\n",
       " 'pi',\n",
       " 'quit',\n",
       " 'radius']"
      ]
     },
     "execution_count": 30,
     "metadata": {},
     "output_type": "execute_result"
    }
   ],
   "source": [
    "# an example of Python introspection of language, return a list of all\n",
    "# names (variables) currently defined in this kernel environment\n",
    "dir()"
   ]
  },
  {
   "cell_type": "code",
   "execution_count": 31,
   "metadata": {},
   "outputs": [
    {
     "data": {
      "text/plain": [
       "(6, 2)"
      ]
     },
     "execution_count": 31,
     "metadata": {},
     "output_type": "execute_result"
    }
   ],
   "source": [
    "# perform both integer division and modulus division (remainder) of the\n",
    "# given values, return the resulting pair of the division and any remainder\n",
    "divmod(44, 7)"
   ]
  },
  {
   "cell_type": "markdown",
   "metadata": {},
   "source": [
    "## Math Functions\n",
    "\n",
    "As we mentioned, there are many, many, many more functions and other\n",
    "things available to use in the Python language besides the built-in\n",
    "functions. \n",
    "\n",
    "Functions (and other stuff) are organized into what are referred to as\n",
    "modules in Python.  A module is essentially a collection of related\n",
    "functions (and other stuff).\n",
    "\n",
    "Before we can use the functions in a module, we have to import the module."
   ]
  },
  {
   "cell_type": "code",
   "execution_count": 32,
   "metadata": {},
   "outputs": [],
   "source": [
    "import math"
   ]
  },
  {
   "cell_type": "markdown",
   "metadata": {},
   "source": [
    "This statement imports the `math` library module.  The module is imported into \n",
    "its own namespace.  All of the functions (and other stuff) defined in the `math`\n",
    "library are inside of the imported `math` namespace."
   ]
  },
  {
   "cell_type": "code",
   "execution_count": 33,
   "metadata": {},
   "outputs": [
    {
     "data": {
      "text/plain": [
       "['__doc__',\n",
       " '__file__',\n",
       " '__loader__',\n",
       " '__name__',\n",
       " '__package__',\n",
       " '__spec__',\n",
       " 'acos',\n",
       " 'acosh',\n",
       " 'asin',\n",
       " 'asinh',\n",
       " 'atan',\n",
       " 'atan2',\n",
       " 'atanh',\n",
       " 'ceil',\n",
       " 'copysign',\n",
       " 'cos',\n",
       " 'cosh',\n",
       " 'degrees',\n",
       " 'e',\n",
       " 'erf',\n",
       " 'erfc',\n",
       " 'exp',\n",
       " 'expm1',\n",
       " 'fabs',\n",
       " 'factorial',\n",
       " 'floor',\n",
       " 'fmod',\n",
       " 'frexp',\n",
       " 'fsum',\n",
       " 'gamma',\n",
       " 'gcd',\n",
       " 'hypot',\n",
       " 'inf',\n",
       " 'isclose',\n",
       " 'isfinite',\n",
       " 'isinf',\n",
       " 'isnan',\n",
       " 'ldexp',\n",
       " 'lgamma',\n",
       " 'log',\n",
       " 'log10',\n",
       " 'log1p',\n",
       " 'log2',\n",
       " 'modf',\n",
       " 'nan',\n",
       " 'pi',\n",
       " 'pow',\n",
       " 'radians',\n",
       " 'remainder',\n",
       " 'sin',\n",
       " 'sinh',\n",
       " 'sqrt',\n",
       " 'tan',\n",
       " 'tanh',\n",
       " 'tau',\n",
       " 'trunc']"
      ]
     },
     "execution_count": 33,
     "metadata": {},
     "output_type": "execute_result"
    }
   ],
   "source": [
    "dir(math)"
   ]
  },
  {
   "cell_type": "markdown",
   "metadata": {},
   "source": [
    "Here is the documentation of the\n",
    "[Python math module](https://docs.python.org/3/library/math.html).\n",
    "\n",
    "Some of the things here are actually values, not functions.  For example"
   ]
  },
  {
   "cell_type": "code",
   "execution_count": 34,
   "metadata": {},
   "outputs": [
    {
     "data": {
      "text/plain": [
       "3.141592653589793"
      ]
     },
     "execution_count": 34,
     "metadata": {},
     "output_type": "execute_result"
    }
   ],
   "source": [
    "math.pi"
   ]
  },
  {
   "cell_type": "code",
   "execution_count": 35,
   "metadata": {},
   "outputs": [
    {
     "data": {
      "text/plain": [
       "2.718281828459045"
      ]
     },
     "execution_count": 35,
     "metadata": {},
     "output_type": "execute_result"
    }
   ],
   "source": [
    "math.e"
   ]
  },
  {
   "cell_type": "markdown",
   "metadata": {},
   "source": [
    "Notice we do not call a function here.  These are 2 of the constant values \n",
    "defined in the library.  \n",
    "\n",
    "**Notice** how we accessed items inside of the `math` namespace.  We use the\n",
    "`.` operator, called **dot notation**.  This operator is common to access \n",
    "a member item or member function inside of a namespace or object in\n",
    "programming languages.\n",
    "\n",
    "But much of the items in the `math` library are standard mathematical functions,\n",
    "like trigonemetric functions, logarithms and exponentials, and other utility\n",
    "functions.\n",
    "\n",
    "Lets use some of the functions.  "
   ]
  },
  {
   "cell_type": "code",
   "execution_count": 36,
   "metadata": {},
   "outputs": [
    {
     "data": {
      "text/plain": [
       "1.9629464514396826"
      ]
     },
     "execution_count": 36,
     "metadata": {},
     "output_type": "execute_result"
    }
   ],
   "source": [
    "signal_power = 8.8\n",
    "noise_power = 5.6\n",
    "\n",
    "# calculate decibels of the signal to noise ratio\n",
    "ratio = signal_power / noise_power\n",
    "decibels = 10 * math.log10(ratio)\n",
    "\n",
    "decibels"
   ]
  },
  {
   "cell_type": "code",
   "execution_count": 37,
   "metadata": {},
   "outputs": [
    {
     "data": {
      "text/plain": [
       "0.644217687237691"
      ]
     },
     "execution_count": 37,
     "metadata": {},
     "output_type": "execute_result"
    }
   ],
   "source": [
    "# calculate sine of a given angle.  sin() functions assumes angles\n",
    "# are given in radians\n",
    "radians = 0.7\n",
    "height = math.sin(radians)\n",
    "height"
   ]
  },
  {
   "cell_type": "code",
   "execution_count": 38,
   "metadata": {},
   "outputs": [
    {
     "data": {
      "text/plain": [
       "0.7071067811865475"
      ]
     },
     "execution_count": 38,
     "metadata": {},
     "output_type": "execute_result"
    }
   ],
   "source": [
    "# to convert from degrees to radians, use formula\n",
    "degrees = 45\n",
    "radians = (degrees / 180.0) * math.pi\n",
    "math.sin(radians)"
   ]
  },
  {
   "cell_type": "code",
   "execution_count": 39,
   "metadata": {},
   "outputs": [
    {
     "data": {
      "text/plain": [
       "0.7071067811865476"
      ]
     },
     "execution_count": 39,
     "metadata": {},
     "output_type": "execute_result"
    }
   ],
   "source": [
    "# the sin of a 45degree angle should be equal to 1/2 sqrt(2)\n",
    "math.sqrt(2) / 2.0"
   ]
  },
  {
   "cell_type": "markdown",
   "metadata": {},
   "source": [
    "## Composition\n",
    "\n",
    "So far we have been mostly using the elements of a program, variables, expressions\n",
    "and statements, in isolation.\n",
    "\n",
    "But to be useful, we will need to be able to take small building blocks and \n",
    "**compose** them into more complex expressions.\n",
    "\n",
    "For example, the argument of a function can be any kind of expression, including arithmetic operators:"
   ]
  },
  {
   "cell_type": "code",
   "execution_count": 40,
   "metadata": {},
   "outputs": [
    {
     "data": {
      "text/plain": [
       "0.8854560256532099"
      ]
     },
     "execution_count": 40,
     "metadata": {},
     "output_type": "execute_result"
    }
   ],
   "source": [
    "x = math.sin(degrees / 260.0 * 2 * math.pi)\n",
    "x"
   ]
  },
  {
   "cell_type": "markdown",
   "metadata": {},
   "source": [
    "And can even be function calls.  Here the call to the `log` function returns a\n",
    "result, which is then passed to the `exp` exponential function. \n",
    "\n",
    "The `log` and `exp` functions are inverses of one another, so the result should \n",
    "be that we get back the original value of `x`"
   ]
  },
  {
   "cell_type": "code",
   "execution_count": 41,
   "metadata": {},
   "outputs": [
    {
     "data": {
      "text/plain": [
       "0.8854560256532099"
      ]
     },
     "execution_count": 41,
     "metadata": {},
     "output_type": "execute_result"
    }
   ],
   "source": [
    "x = math.exp(math.log(x))\n",
    "x"
   ]
  },
  {
   "cell_type": "code",
   "execution_count": 42,
   "metadata": {},
   "outputs": [
    {
     "data": {
      "text/plain": [
       "1.8854560256532098"
      ]
     },
     "execution_count": 42,
     "metadata": {},
     "output_type": "execute_result"
    }
   ],
   "source": [
    "x = math.exp(math.log(x + 1))\n",
    "x"
   ]
  },
  {
   "cell_type": "markdown",
   "metadata": {},
   "source": [
    "## Adding new functions\n",
    "\n",
    "You have now learned how to use functions that are built into the language or \n",
    "that other people have defined and put into Python modules that you can import.\n",
    "\n",
    "But to be able to effectively solve problems computationally, you also need to \n",
    "be able to write and implement your own functions.\n",
    "\n",
    "A **function definition** specifies the name of a new function you are creating,\n",
    "and a sequence of statements that run when the function\n",
    "is called."
   ]
  },
  {
   "cell_type": "code",
   "execution_count": 43,
   "metadata": {},
   "outputs": [],
   "source": [
    "def print_lyrics():\n",
    "    print(\"I'm a lumberjack, and I'm okay.\")\n",
    "    print(\"I sleep all night and I work all day.\")"
   ]
  },
  {
   "cell_type": "markdown",
   "metadata": {},
   "source": [
    "All functions need a name.  We have named this function `print_lyrics`.\n",
    "\n",
    "The empty parenthesis `()` indicate that this is a function, and in this case \n",
    "our function doesn't take any arguments as input.\n",
    "\n",
    "All function definitions (and other types of control/definition statements)\n",
    "end with a `:` in Python.  The first line that gives the names, function\n",
    "arguments, and ends with the `:` is called the function **header**.\n",
    "\n",
    "Then all of the lines of code after the `:` that are in the following\n",
    "code block are the **body** of the function.  These are the statements \n",
    "that are executed when you invoke the function."
   ]
  },
  {
   "cell_type": "code",
   "execution_count": 44,
   "metadata": {},
   "outputs": [
    {
     "name": "stdout",
     "output_type": "stream",
     "text": [
      "I'm a lumberjack, and I'm okay.\n",
      "I sleep all night and I work all day.\n"
     ]
    }
   ],
   "source": [
    "print_lyrics()"
   ]
  },
  {
   "cell_type": "markdown",
   "metadata": {},
   "source": [
    "This is our first instance of using defined code blocks in the Python language.\n",
    "In many languages you may be familiar with,  you have to enclose a group of \n",
    "code that represents a code block using opening `{` and closing `}` around \n",
    "the code block.\n",
    "\n",
    "In Python, groups of code, or a **code block** are indicated using indentation.\n",
    "The amount of indentation is not specified by the language, you just need to \n",
    "use a consistent amount.  The Jupyter notebook cells default to using 4 spaces\n",
    "for indentation when writing code and defining code blocks.\n",
    "\n",
    "Once you have defined a function you can invoke it, like we just did above.\n",
    "You can also reuse the function in other functions."
   ]
  },
  {
   "cell_type": "code",
   "execution_count": 45,
   "metadata": {},
   "outputs": [],
   "source": [
    "def repeat_lyrics():\n",
    "    print_lyrics()\n",
    "    print_lyrics()"
   ]
  },
  {
   "cell_type": "code",
   "execution_count": 46,
   "metadata": {},
   "outputs": [
    {
     "name": "stdout",
     "output_type": "stream",
     "text": [
      "I'm a lumberjack, and I'm okay.\n",
      "I sleep all night and I work all day.\n",
      "I'm a lumberjack, and I'm okay.\n",
      "I sleep all night and I work all day.\n"
     ]
    }
   ],
   "source": [
    "repeat_lyrics()"
   ]
  },
  {
   "cell_type": "markdown",
   "metadata": {},
   "source": [
    "## Flow of execution\n",
    "\n",
    "Statements in a Python program or script run normally in **sequential order**. \n",
    "This is the standard **flow of execution**.\n",
    "\n",
    "Jupyter notebook cells can be run in an order that differs from\n",
    "the top-to-bottom ordering of the cells, since you can execute any cell \n",
    "individually.\n",
    "\n",
    "In general, you first have to define a function before you can use it.  So\n",
    "wheter in a notebook or a script, the definition of the function has to \n",
    "be executed before its first invocation. "
   ]
  },
  {
   "cell_type": "code",
   "execution_count": 47,
   "metadata": {},
   "outputs": [
    {
     "name": "stdout",
     "output_type": "stream",
     "text": [
      "Will receive a name error if you try and invoke before defining it.\n"
     ]
    }
   ],
   "source": [
    "# the following will throw an undefined function error the first time run\n",
    "\n",
    "# can't invoke a function\n",
    "try:\n",
    "    some_example_function()\n",
    "except NameError:\n",
    "    print('Will receive a name error if you try and invoke before defining it.')\n",
    "    \n",
    "# before you define the function\n",
    "def some_example_function():\n",
    "    print(\"This is an example function\")"
   ]
  },
  {
   "cell_type": "markdown",
   "metadata": {},
   "source": [
    "If you rerun the above cell though, the function will have been defined\n",
    "when the cell ran the first time, since the try/except block allows the cell to \n",
    "keep running, and the code to define the function will then get run. \n",
    "So rerunning the above cell a second time will actually allow the function \n",
    "call to succeed."
   ]
  },
  {
   "cell_type": "markdown",
   "metadata": {},
   "source": [
    "## Parameters and arguments\n",
    "\n",
    "Most of the built-in and math functions we used required an argument.  \n",
    "Most functions are not that useful unless you can also provide them with\n",
    "some input to work on. \n",
    "\n",
    "We can define a function with an argument.  Inside of the function,\n",
    "the arguments are assigned to variables called **parameters**."
   ]
  },
  {
   "cell_type": "code",
   "execution_count": 48,
   "metadata": {},
   "outputs": [],
   "source": [
    "def print_twice(bruce):\n",
    "    print(bruce)\n",
    "    print(bruce)"
   ]
  },
  {
   "cell_type": "code",
   "execution_count": 49,
   "metadata": {},
   "outputs": [
    {
     "name": "stdout",
     "output_type": "stream",
     "text": [
      "Spam\n",
      "Spam\n"
     ]
    }
   ],
   "source": [
    "print_twice('Spam')"
   ]
  },
  {
   "cell_type": "code",
   "execution_count": 50,
   "metadata": {},
   "outputs": [
    {
     "name": "stdout",
     "output_type": "stream",
     "text": [
      "42\n",
      "42\n"
     ]
    }
   ],
   "source": [
    "print_twice(42)"
   ]
  },
  {
   "cell_type": "code",
   "execution_count": 51,
   "metadata": {},
   "outputs": [
    {
     "name": "stdout",
     "output_type": "stream",
     "text": [
      "3.141592653589793\n",
      "3.141592653589793\n"
     ]
    }
   ],
   "source": [
    "print_twice(math.pi)"
   ]
  },
  {
   "cell_type": "markdown",
   "metadata": {},
   "source": [
    "A few things to note.  The parameter is named bruce.  Inside of the function you \n",
    "can use it like a variable that has been assigned the value that is passed into it\n",
    "when the function is invoked.\n",
    "\n",
    "Also notice that Python is an untyped language.  The first time we call the function,\n",
    "the type of the variable is a string, but the next time we invoke it we pass in \n",
    "an integer.  In other languages we would have to use function overloading \n",
    "in order to do a similar thing where a function can accept an input parameter\n",
    "of any type."
   ]
  },
  {
   "cell_type": "markdown",
   "metadata": {},
   "source": [
    "## Variables and parameters are local\n",
    "\n",
    "When you create a variable inside of a function, it is **local** to the \n",
    "function, which meant it only exists inside of the function.  Parameters\n",
    "of functions are also local to the function.\n",
    "\n",
    "For example"
   ]
  },
  {
   "cell_type": "code",
   "execution_count": 52,
   "metadata": {},
   "outputs": [],
   "source": [
    "def cat_twice(part1, part2):\n",
    "    cat = part1 + part2\n",
    "    print_twice(cat)"
   ]
  },
  {
   "cell_type": "code",
   "execution_count": 53,
   "metadata": {},
   "outputs": [
    {
     "name": "stdout",
     "output_type": "stream",
     "text": [
      "Bing tiddle tiddle bang.\n",
      "Bing tiddle tiddle bang.\n"
     ]
    }
   ],
   "source": [
    "line1 = 'Bing tiddle '\n",
    "line2 = 'tiddle bang.'\n",
    "cat_twice(line1, line2)"
   ]
  },
  {
   "cell_type": "markdown",
   "metadata": {},
   "source": [
    "When `cat_twice()` function returns, the local variable `cat` is destroyed, \n",
    "as are the local parameter names `part1` and `part2`.  If you try and\n",
    "access a variable named `cat` you will get a name error:"
   ]
  },
  {
   "cell_type": "code",
   "execution_count": 54,
   "metadata": {},
   "outputs": [
    {
     "name": "stdout",
     "output_type": "stream",
     "text": [
      "NameError was generated because there is no variable named cat in this\n",
      "   namespace.  cat is only valid in the cat_twice function namespace\n"
     ]
    }
   ],
   "source": [
    "try:\n",
    "    print(cat)\n",
    "except NameError:\n",
    "    print('NameError was generated because there is no variable named cat in this')\n",
    "    print('   namespace.  cat is only valid in the cat_twice function namespace')"
   ]
  },
  {
   "cell_type": "markdown",
   "metadata": {},
   "source": [
    "## Fruitful functions and void functions\n",
    "\n",
    "Some of the functions we have used have returned a result.\n",
    "For example, the `math.sin()` function returns a floating point\n",
    "value as the result.  You can call this **value returning**\n",
    "functions (or **fruitful** functions.\n",
    "\n",
    "Some of the functions we have used do not actually retun anything.\n",
    "In fact all of the functions we have defined ourself \n",
    "are not actually returning anything.  They print out\n",
    "some value, but don't return a result.  These\n",
    "functions are often known as **void** functions.  In \n",
    "Python when a function doesn't return anything, a\n",
    "special type called the `NoneType` type is returned:"
   ]
  },
  {
   "cell_type": "code",
   "execution_count": 55,
   "metadata": {},
   "outputs": [
    {
     "name": "stdout",
     "output_type": "stream",
     "text": [
      "63\n",
      "63\n",
      "None\n",
      "<class 'NoneType'>\n"
     ]
    }
   ],
   "source": [
    "# capture the return value of our function\n",
    "ret_val = cat_twice(42, 21)\n",
    "print(ret_val)\n",
    "print(type(ret_val))"
   ]
  },
  {
   "cell_type": "markdown",
   "metadata": {},
   "source": [
    "## Why functions?\n",
    "\n",
    "Functions are extremely important to computational thinking:\n",
    "\n",
    "- Creating a function names a group of statements.  This turns them into a\n",
    "chunk of computation.  This makes your code easier to read and understand when\n",
    "they reuse these chunks.\n",
    "- Functions can be reused.  Instead of repeating the lines of code, you can\n",
    "abstract them into a function, and reuse them multiple times.\n",
    "- This reuse reduces bugs.  If there is a bug in the function, you can now fix\n",
    "it in one place, and it will be fixed everwhere that uses the function.\n",
    "- A powerful method of problem solving is decomposing your big problem into \n",
    "smaller subproblems (the subproblems to subsubproblems).  Functional\n",
    "decomposition is a basic element of this type of problem solving approach.\n",
    "- Dividing a big program into functions allows you to debug small understandable\n",
    "pieces of a problem 1 step at a time.  When you are confident your small pieces\n",
    "are working well, you are more confident when you combing them into a whole\n",
    "to solve the big problem that your solution will work.\n",
    "- Well designed functions are often useful for many programs.  This is again\n",
    "an aspect of reuse.  Once a function is designed, tested and debugged, you\n",
    "can reuse it in many places and in many ways."
   ]
  },
  {
   "cell_type": "markdown",
   "metadata": {},
   "source": [
    "### Self-test Exercises\n",
    "\n",
    "A function can actually be passed in as a parameter to another function.  \n",
    "We will use this in a lot of our libraries and work in this class.  For example,\n",
    "`do_twice` is a function that is expecting a function (that takes no arguments)\n",
    "as its parameter.\n",
    "```python\n",
    "def do_twice(f):\n",
    "    f()\n",
    "    f()\n",
    "```\n",
    "\n",
    "1. Write a function that you can pass to `do_twice()` so that it displays something.\n",
    "2. Modify `do_twice` to take a function, and to take a second parameter.  Have\n",
    "it now call the function 2 times, passing in the parameter to the function.\n",
    "Write another function that works with this modified version of `do_twice()`\n",
    "and demonstrate it."
   ]
  },
  {
   "cell_type": "markdown",
   "metadata": {},
   "source": [
    "# Conditions and Boolean Expressions\n",
    "\n",
    "All programming languages support conditional statements, like an `if` statement,\n",
    "to only execute some code if some condition is met.  \n",
    "\n",
    "Usually we have some test or condition that we will evaluate, and if it is \n",
    "`True` then the condition is met and we execute the conditional code, and\n",
    "if `False` we do not execute the code.  These are **boolean expressions**"
   ]
  },
  {
   "cell_type": "markdown",
   "metadata": {},
   "source": [
    "## Boolean Expressions\n",
    "\n",
    "All programming languages support boolean expressions.  The\n",
    "[boolean operators]()\n",
    "used by Python are basically the same as you will find in C, Jave, etc.\n",
    "For example `<`, `>` and also `<=` and `>=`.  Also the `==` \n",
    "operator tests if two values are strictly equal or not.\n",
    "\n",
    "All boolean expression in Python return a `bool` result value."
   ]
  },
  {
   "cell_type": "code",
   "execution_count": 56,
   "metadata": {},
   "outputs": [
    {
     "data": {
      "text/plain": [
       "True"
      ]
     },
     "execution_count": 56,
     "metadata": {},
     "output_type": "execute_result"
    }
   ],
   "source": [
    "5 == 5"
   ]
  },
  {
   "cell_type": "code",
   "execution_count": 57,
   "metadata": {},
   "outputs": [
    {
     "data": {
      "text/plain": [
       "False"
      ]
     },
     "execution_count": 57,
     "metadata": {},
     "output_type": "execute_result"
    }
   ],
   "source": [
    "5 == 6"
   ]
  },
  {
   "cell_type": "code",
   "execution_count": 58,
   "metadata": {},
   "outputs": [
    {
     "data": {
      "text/plain": [
       "bool"
      ]
     },
     "execution_count": 58,
     "metadata": {},
     "output_type": "execute_result"
    }
   ],
   "source": [
    "type(True)"
   ]
  },
  {
   "cell_type": "code",
   "execution_count": 59,
   "metadata": {},
   "outputs": [
    {
     "data": {
      "text/plain": [
       "bool"
      ]
     },
     "execution_count": 59,
     "metadata": {},
     "output_type": "execute_result"
    }
   ],
   "source": [
    "type(False)"
   ]
  },
  {
   "cell_type": "code",
   "execution_count": 60,
   "metadata": {},
   "outputs": [],
   "source": [
    "x = 5\n",
    "y = 7"
   ]
  },
  {
   "cell_type": "code",
   "execution_count": 61,
   "metadata": {},
   "outputs": [
    {
     "data": {
      "text/plain": [
       "True"
      ]
     },
     "execution_count": 61,
     "metadata": {},
     "output_type": "execute_result"
    }
   ],
   "source": [
    "x != y"
   ]
  },
  {
   "cell_type": "code",
   "execution_count": 62,
   "metadata": {},
   "outputs": [
    {
     "data": {
      "text/plain": [
       "False"
      ]
     },
     "execution_count": 62,
     "metadata": {},
     "output_type": "execute_result"
    }
   ],
   "source": [
    "x == y"
   ]
  },
  {
   "cell_type": "code",
   "execution_count": 63,
   "metadata": {},
   "outputs": [
    {
     "data": {
      "text/plain": [
       "False"
      ]
     },
     "execution_count": 63,
     "metadata": {},
     "output_type": "execute_result"
    }
   ],
   "source": [
    "x < 5"
   ]
  },
  {
   "cell_type": "code",
   "execution_count": 64,
   "metadata": {},
   "outputs": [
    {
     "data": {
      "text/plain": [
       "False"
      ]
     },
     "execution_count": 64,
     "metadata": {},
     "output_type": "execute_result"
    }
   ],
   "source": [
    "x > y"
   ]
  },
  {
   "cell_type": "markdown",
   "metadata": {},
   "source": [
    "## Logical Operators\n",
    "\n",
    "There are 3 **logical operators**, `and`, `or` and `not`.\n",
    "\n",
    "Boolean expressions can be combined with logical operators into more\n",
    "complex boolean expressions."
   ]
  },
  {
   "cell_type": "code",
   "execution_count": 65,
   "metadata": {},
   "outputs": [
    {
     "data": {
      "text/plain": [
       "True"
      ]
     },
     "execution_count": 65,
     "metadata": {},
     "output_type": "execute_result"
    }
   ],
   "source": [
    "n = 42 \n",
    "\n",
    "# true if n is divisible by 2 or 3\n",
    "n % 2 == 0 or n % 3 == 0"
   ]
  },
  {
   "cell_type": "code",
   "execution_count": 66,
   "metadata": {},
   "outputs": [
    {
     "data": {
      "text/plain": [
       "False"
      ]
     },
     "execution_count": 66,
     "metadata": {},
     "output_type": "execute_result"
    }
   ],
   "source": [
    "n = 13\n",
    "\n",
    "# true if n is divisible by 2 or 3\n",
    "n % 2 == 0 or n % 3 == 0"
   ]
  },
  {
   "cell_type": "code",
   "execution_count": 67,
   "metadata": {},
   "outputs": [
    {
     "data": {
      "text/plain": [
       "True"
      ]
     },
     "execution_count": 67,
     "metadata": {},
     "output_type": "execute_result"
    }
   ],
   "source": [
    "x = 5\n",
    "\n",
    "# true only when x is a value between 0 and 10 (non-inclusive)\n",
    "x > 0 and x < 10"
   ]
  },
  {
   "cell_type": "code",
   "execution_count": 68,
   "metadata": {},
   "outputs": [
    {
     "data": {
      "text/plain": [
       "False"
      ]
     },
     "execution_count": 68,
     "metadata": {},
     "output_type": "execute_result"
    }
   ],
   "source": [
    "x = 10\n",
    "\n",
    "# true only when x is a value between 0 and 10 (non-inclusive)\n",
    "x > 0 and x < 10"
   ]
  },
  {
   "cell_type": "markdown",
   "metadata": {},
   "source": [
    "## Conditional execution\n",
    "\n",
    "We couldn't write very useful programs if we couldn't execute code\n",
    "conditionally.  **Conditional statements** give us this\n",
    "ability.  The most common conditional statement in any language is the\n",
    "if statement."
   ]
  },
  {
   "cell_type": "code",
   "execution_count": 69,
   "metadata": {},
   "outputs": [
    {
     "name": "stdout",
     "output_type": "stream",
     "text": [
      "x is positive\n"
     ]
    }
   ],
   "source": [
    "x = 1\n",
    "\n",
    "if x > 0:\n",
    "    print('x is positive')"
   ]
  },
  {
   "cell_type": "code",
   "execution_count": 70,
   "metadata": {},
   "outputs": [],
   "source": [
    "x = -1\n",
    "\n",
    "if x > 0:\n",
    "    print('x is positive')"
   ]
  },
  {
   "cell_type": "markdown",
   "metadata": {},
   "source": [
    "The syntax for the if conditional statement in python is similar to the\n",
    "function definition you already saw.  The if keyword is followed by a boolean\n",
    "expression, which is ended with a `:`. The following code block, indicated\n",
    "by indentation, is the body of the condition statement, and it is executed if the boolean expression is true.\n",
    "\n",
    "As is true for a function, a code block can have 2 or many lines of code \n",
    "that are conditionally executed."
   ]
  },
  {
   "cell_type": "code",
   "execution_count": 71,
   "metadata": {},
   "outputs": [
    {
     "name": "stdout",
     "output_type": "stream",
     "text": [
      "x is a value from 1 to 9\n",
      "3 times x is 15\n"
     ]
    }
   ],
   "source": [
    "x = 5\n",
    "\n",
    "if x > 0 and x < 10:\n",
    "    y = 3 * x\n",
    "    print('x is a value from 1 to 9')\n",
    "    print('3 times x is', y)"
   ]
  },
  {
   "cell_type": "markdown",
   "metadata": {},
   "source": [
    "## Alternative and chained conditional execution\n",
    "\n",
    "As with most languages, we can specify an alternative\n",
    "set of statements to execute if the condition is false using the `else`\n",
    "alternative statements"
   ]
  },
  {
   "cell_type": "code",
   "execution_count": 72,
   "metadata": {},
   "outputs": [
    {
     "name": "stdout",
     "output_type": "stream",
     "text": [
      "x is negative (or bigger than 9)\n",
      "The absolute value of x is 5\n"
     ]
    }
   ],
   "source": [
    "x = -5\n",
    "\n",
    "if x >= 0 and x < 10:\n",
    "    y = 3 * x\n",
    "    print('x is a value from 0 to 9')\n",
    "    print('3 times x is', y)\n",
    "else:\n",
    "    y = abs(x)\n",
    "    print('x is negative (or bigger than 9)')\n",
    "    print('The absolute value of x is', y)"
   ]
  },
  {
   "cell_type": "code",
   "execution_count": 73,
   "metadata": {},
   "outputs": [
    {
     "name": "stdout",
     "output_type": "stream",
     "text": [
      "x is odd\n"
     ]
    }
   ],
   "source": [
    "x = 3\n",
    "\n",
    "# test if a number is even or odd\n",
    "if x % 2 == 0:\n",
    "    print('x is even')\n",
    "else:\n",
    "    print('x is odd')"
   ]
  },
  {
   "cell_type": "markdown",
   "metadata": {},
   "source": [
    "Python doesn't actually have a case/switch statement.  So if we have\n",
    "multiple **chained conditions** we need to use an `if`/`elif`/`else` \n",
    "chain of conditional checks and execution."
   ]
  },
  {
   "cell_type": "code",
   "execution_count": 74,
   "metadata": {},
   "outputs": [
    {
     "name": "stdout",
     "output_type": "stream",
     "text": [
      "y is bigger\n"
     ]
    }
   ],
   "source": [
    "x = 5\n",
    "y = 7\n",
    "\n",
    "if x > y:\n",
    "    print('x is bigger')\n",
    "elif x < y:\n",
    "    print('y is bigger')\n",
    "else:\n",
    "    print('x and y are equal')"
   ]
  },
  {
   "cell_type": "markdown",
   "metadata": {},
   "source": [
    "## Nested conditionals\n",
    "\n",
    "Conditional execution can be nested, as it can be with most languages.\n",
    "\n",
    "However, a common beginner programmer mistake is to overuse nesting when\n",
    "a boolean expression will make the code more readable.\n",
    "\n",
    "For example, we could nest our test that x is a value from 1 to 9 like:"
   ]
  },
  {
   "cell_type": "code",
   "execution_count": 75,
   "metadata": {},
   "outputs": [
    {
     "name": "stdout",
     "output_type": "stream",
     "text": [
      "x is some value from 1 to 9\n"
     ]
    }
   ],
   "source": [
    "x = 5\n",
    "if x > 0:\n",
    "    if x < 10:\n",
    "        print(\"x is some value from 1 to 9\")"
   ]
  },
  {
   "cell_type": "markdown",
   "metadata": {},
   "source": [
    "But nesting adds complexity to code readability.  You should prefer to remove\n",
    "nested conditions when you can.  You can use logical operators, or perhaps\n",
    "defining new functions to reduce complex nesting."
   ]
  },
  {
   "cell_type": "markdown",
   "metadata": {},
   "source": [
    "### Self-test Exercises\n",
    "\n",
    "1. The `time` module provides a function, also named `time()` that returns the\n",
    "current time as the number of seconds that has passed since \"the epoch\", which\n",
    "is an arbitraty time used as a reference point (1 January 1970)\n",
    "```python\n",
    "import time\n",
    "time.time()\n",
    ">>> 1594495219.9224107\n",
    "```\n",
    "Write a function that takes the time since the epoch and converts it to\n",
    "a time of day in hours, minutes, and seconds, plus the number of days since\n",
    "the epoch.\n",
    "2. Fermat's last theorm says that there are no positive integers $a$, $b$\n",
    "and $c$ such that\n",
    "$$\n",
    "a^n + b^n = c^n\n",
    "$$\n",
    "for any values of n greather than 2.\n",
    "Write a function named `check_fermat` that takes four parameters, `a`, `b`,\n",
    "`c`, and `n` and checkd to see if Fermat's theorem holds. If n is greater than \n",
    "2 and the statment is true for the given `a`, `b` and `c` print out \n",
    "\"Holy smokes, Fermat was wrong!\".  Otherwise print out \"No, that doesn't work.\""
   ]
  },
  {
   "cell_type": "markdown",
   "metadata": {},
   "source": [
    "# Iteration\n",
    "\n",
    "Besides being able to run a block of code conditionally, the other major\n",
    "construct you will use in any programming language is the ability to\n",
    "run a block of code for some number of repetitions, or until some\n",
    "conditions is satisfied."
   ]
  },
  {
   "cell_type": "markdown",
   "metadata": {},
   "source": [
    "## The `while` statement\n",
    "\n",
    "The most basic statement used for **iteration** is the `while` statement.\n",
    "\n",
    "The syntax is similar for the `if` conditional statement, the `while` \n",
    "keyword is followed by a boolean expression and then a `:` at the end\n",
    "of the statement.  A block of code follows which is the body of the\n",
    "loop executed by the `while` iteration statement."
   ]
  },
  {
   "cell_type": "code",
   "execution_count": 76,
   "metadata": {},
   "outputs": [
    {
     "name": "stdout",
     "output_type": "stream",
     "text": [
      "10\n",
      "9\n",
      "8\n",
      "7\n",
      "6\n",
      "5\n",
      "4\n",
      "3\n",
      "2\n",
      "1\n",
      "Blastoff!\n"
     ]
    }
   ],
   "source": [
    "n = 10\n",
    "while n > 0:\n",
    "    print(n)\n",
    "    n = n - 1\n",
    "print('Blastoff!')"
   ]
  },
  {
   "cell_type": "markdown",
   "metadata": {},
   "source": [
    "The body of the loop should change the value of one or more variables\n",
    "that ultimately ends up in the boolean expression being tested becoming\n",
    "false.  If not, the loop will repeat forever, which is called\n",
    "an **infinite loop**.\n",
    "\n",
    "It is not always easy to tell if a loop will terminate or not.\n",
    "For example, no one has proven whether the following\n",
    "code eventually terminates for all possible positive values of n."
   ]
  },
  {
   "cell_type": "code",
   "execution_count": 77,
   "metadata": {},
   "outputs": [
    {
     "name": "stdout",
     "output_type": "stream",
     "text": [
      "1042\n",
      "521\n",
      "1564\n",
      "782\n",
      "391\n",
      "1174\n",
      "587\n",
      "1762\n",
      "881\n",
      "2644\n",
      "1322\n",
      "661\n",
      "1984\n",
      "992\n",
      "496\n",
      "248\n",
      "124\n",
      "62\n",
      "31\n",
      "94\n",
      "47\n",
      "142\n",
      "71\n",
      "214\n",
      "107\n",
      "322\n",
      "161\n",
      "484\n",
      "242\n",
      "121\n",
      "364\n",
      "182\n",
      "91\n",
      "274\n",
      "137\n",
      "412\n",
      "206\n",
      "103\n",
      "310\n",
      "155\n",
      "466\n",
      "233\n",
      "700\n",
      "350\n",
      "175\n",
      "526\n",
      "263\n",
      "790\n",
      "395\n",
      "1186\n",
      "593\n",
      "1780\n",
      "890\n",
      "445\n",
      "1336\n",
      "668\n",
      "334\n",
      "167\n",
      "502\n",
      "251\n",
      "754\n",
      "377\n",
      "1132\n",
      "566\n",
      "283\n",
      "850\n",
      "425\n",
      "1276\n",
      "638\n",
      "319\n",
      "958\n",
      "479\n",
      "1438\n",
      "719\n",
      "2158\n",
      "1079\n",
      "3238\n",
      "1619\n",
      "4858\n",
      "2429\n",
      "7288\n",
      "3644\n",
      "1822\n",
      "911\n",
      "2734\n",
      "1367\n",
      "4102\n",
      "2051\n",
      "6154\n",
      "3077\n",
      "9232\n",
      "4616\n",
      "2308\n",
      "1154\n",
      "577\n",
      "1732\n",
      "866\n",
      "433\n",
      "1300\n",
      "650\n",
      "325\n",
      "976\n",
      "488\n",
      "244\n",
      "122\n",
      "61\n",
      "184\n",
      "92\n",
      "46\n",
      "23\n",
      "70\n",
      "35\n",
      "106\n",
      "53\n",
      "160\n",
      "80\n",
      "40\n",
      "20\n",
      "10\n",
      "5\n",
      "16\n",
      "8\n",
      "4\n",
      "2\n"
     ]
    }
   ],
   "source": [
    "def sequence(n):\n",
    "    while n != 1:\n",
    "        print(n)\n",
    "        # if n is even, just update with integer division by 2\n",
    "        if n % 2 == 0: \n",
    "            n = n // 2\n",
    "        # if n is odd, update it in a more complex way\n",
    "        else:\n",
    "            n = n * 3 + 1\n",
    "            \n",
    "sequence(1042)"
   ]
  },
  {
   "cell_type": "markdown",
   "metadata": {},
   "source": [
    "## `break` and `continue`\n",
    "\n",
    "The Python language defines the `break` and `continue` keywords to \n",
    "control the behavior of loops, which may be familiar to you from \n",
    "other languages.  If a `break` statement is encountered in a loop, \n",
    "the loop will immediately end and the next statement after the body\n",
    "of the loop will execute.  If a `continue` statement is encountered in \n",
    "a loop, the loop will immediately jump to the top of the loop and perform\n",
    "the next test and iteration of the loop.\n"
   ]
  },
  {
   "cell_type": "markdown",
   "metadata": {},
   "source": [
    "## Square roots\n",
    "\n",
    "As a more realistice example of loops, loops and iteration are often used\n",
    "in numerical algorithms where we start with an approximation of the answer\n",
    "and we iteratively improve the value until we reach an answer that\n",
    "is good enough.\n",
    "\n",
    "For example, Newton's method is a well known iterative algorithm for \n",
    "calculating square roots.  If you want to know the square \n",
    "root of some value `a` start with almost any estimate `x`, and you can\n",
    "compute a better estimate with the following formula:\n",
    "\n",
    "$$\n",
    "y = \\frac{x + a/x}{2}\n",
    "$$\n",
    "\n",
    "When `y == x` we can stop.\n",
    "\n",
    "Here is a loop that expects a to be defined as the value we want the\n",
    "square root of, and x is the initial guess."
   ]
  },
  {
   "cell_type": "code",
   "execution_count": 78,
   "metadata": {},
   "outputs": [
    {
     "name": "stdout",
     "output_type": "stream",
     "text": [
      "3\n",
      "2.1666666666666665\n",
      "2.0064102564102564\n",
      "2.0000102400262145\n",
      "2.0000000000262146\n",
      "2.0\n"
     ]
    }
   ],
   "source": [
    "a = 4 # square root of 4 is 2\n",
    "x = 3 # initial guess\n",
    "\n",
    "while True:\n",
    "    print(x)\n",
    "    y = (x + a/x) / 2\n",
    "    if y == x:\n",
    "        break # example of use of break statement, could also put condition in loop test\n",
    "    x = y\n",
    "    "
   ]
  },
  {
   "cell_type": "code",
   "execution_count": 79,
   "metadata": {},
   "outputs": [
    {
     "name": "stdout",
     "output_type": "stream",
     "text": [
      "3\n",
      "3.6666666666666665\n",
      "3.606060606060606\n",
      "3.6055513114336644\n",
      "3.6055512754639896\n",
      "13.000000000000002\n"
     ]
    }
   ],
   "source": [
    "a = 13 # a bit of a more complex square root to calculate\n",
    "x = 3 # initial guess\n",
    "\n",
    "while True:\n",
    "    print(x)\n",
    "    y = (x + a/x) / 2\n",
    "    if y == x:\n",
    "        break # example of use of break statement, could also put condition in loop test\n",
    "    x = y\n",
    "\n",
    "# always good to test our results\n",
    "print(x**2)"
   ]
  },
  {
   "cell_type": "markdown",
   "metadata": {},
   "source": [
    "Side Note: For most values of a this works fine, but it is dangerous to\n",
    "test floats for equality like we do\n",
    "\n",
    "```python\n",
    "if y == x: # y and x will be floating point numbers for this test\n",
    "    break\n",
    "```\n",
    "\n",
    "Floating point values are only approximatley right.  Many rational numbers like\n",
    "1/3 and irrational numbers like $\\sqrt{2}$ can't be represented exactly with\n",
    "a float.\n",
    "\n",
    "I mention this because it can be an issue at time we need to be aware of when\n",
    "running or writing machine learning algorithms.  You should always instead\n",
    "compare the absolute difference between the float value, and consider them\n",
    "as equal if the absolute difference is below some epsilon threshold:\n",
    "\n",
    "```python\n",
    "if abs(y - x) < epsilon:\n",
    "    break\n",
    "```\n",
    "\n",
    "Where `epsilon` has a value like `1.0e-12` that determines how close to equal\n",
    "is close enough."
   ]
  },
  {
   "cell_type": "markdown",
   "metadata": {},
   "source": [
    "### Self-test Exercises\n"
   ]
  },
  {
   "cell_type": "markdown",
   "metadata": {},
   "source": [
    "# Fruitful Functions\n",
    "\n",
    "In this section lets return to defining and using functions in Python.  Up to this\n",
    "point we haven't really shown in examples of defining our own functions that \n",
    "return a result when they are called."
   ]
  },
  {
   "cell_type": "markdown",
   "metadata": {},
   "source": [
    "## Return values\n",
    "\n",
    "Most useful functions return some value (or in Python they can potentially return\n",
    "more than 1 value) as a result of calling them.\n",
    "\n",
    "For example, all of the `math` functions we used returned a resulting value:"
   ]
  },
  {
   "cell_type": "code",
   "execution_count": 80,
   "metadata": {},
   "outputs": [
    {
     "data": {
      "text/plain": [
       "2.718281828459045"
      ]
     },
     "execution_count": 80,
     "metadata": {},
     "output_type": "execute_result"
    }
   ],
   "source": [
    "e = math.exp(1.0)\n",
    "e"
   ]
  },
  {
   "cell_type": "code",
   "execution_count": 81,
   "metadata": {},
   "outputs": [
    {
     "data": {
      "text/plain": [
       "1.1985638465105075"
      ]
     },
     "execution_count": 81,
     "metadata": {},
     "output_type": "execute_result"
    }
   ],
   "source": [
    "radius = 2.5\n",
    "radians = 0.5\n",
    "height = radius * math.sin(radians)\n",
    "height"
   ]
  },
  {
   "cell_type": "markdown",
   "metadata": {},
   "source": [
    "The functions we have writtne for ourself so far are void functions, they\n",
    "return `NoneType` as their result.\n",
    "\n",
    "To return a result from a function we define in Python, we simply need to use\n",
    "the `return` keyword.  For example, a simple function to calculate and\n",
    "return the area of a circle given the circle's radius would be:"
   ]
  },
  {
   "cell_type": "code",
   "execution_count": 82,
   "metadata": {},
   "outputs": [],
   "source": [
    "def area_of_circle(radius):\n",
    "    \"\"\"Calculate the area of a circle with the given radius.\n",
    "    \n",
    "    Parameters\n",
    "    ----------\n",
    "    radius - An int or float value with the radius of the circle we want to \n",
    "       calculate.\n",
    "       \n",
    "    Returns\n",
    "    -------\n",
    "    area - The area of the given circle is calcualted and returnd as our result.\n",
    "    \"\"\"\n",
    "    from math import pi # ensure math.pi constant is available\n",
    "    area = pi * radius**2.0\n",
    "    return area"
   ]
  },
  {
   "cell_type": "code",
   "execution_count": 83,
   "metadata": {},
   "outputs": [
    {
     "name": "stdout",
     "output_type": "stream",
     "text": [
      "Area of circle with radius 1:  3.141592653589793\n",
      "Area of circle with radius 42.42:  5653.159006695137\n"
     ]
    }
   ],
   "source": [
    "print('Area of circle with radius 1: ', area_of_circle(1))\n",
    "print('Area of circle with radius 42.42: ', area_of_circle(42.42))"
   ]
  },
  {
   "cell_type": "markdown",
   "metadata": {},
   "source": [
    "You can have multiple return values in a function.  As soon as any return\n",
    "statement is reached when executing a function, the function immediately\n",
    "returns the specified value and exits."
   ]
  },
  {
   "cell_type": "code",
   "execution_count": 84,
   "metadata": {},
   "outputs": [
    {
     "name": "stdout",
     "output_type": "stream",
     "text": [
      "Absolute value of 13.13: 13.13\n",
      "Absolute value of -42  : 42\n"
     ]
    }
   ],
   "source": [
    "def my_absolute_value(x):\n",
    "    \"\"\"Implement absolute value of some value x.  \n",
    "    \n",
    "    Parameters\n",
    "    ----------\n",
    "    x - A value, expected to be a numeric type like an int or float, that we \n",
    "       want to calculate the absolute value of.\n",
    "       \n",
    "    Returns\n",
    "    -------\n",
    "    abs - returns the absoluve value of the input parameter value x\n",
    "    \"\"\"\n",
    "    if x < 0:\n",
    "        return -x\n",
    "    else:\n",
    "        return x\n",
    "    \n",
    "print('Absolute value of 13.13:', my_absolute_value(13.13))\n",
    "print('Absolute value of -42  :', my_absolute_value(-42))"
   ]
  },
  {
   "cell_type": "markdown",
   "metadata": {},
   "source": [
    "This is a general principle, not just applicipable to Python.  But for \n",
    "value returning functions, if you are using multiple return statements\n",
    "in conditional branchs, make sure that absolutly all possible paths\n",
    "hit a return and return a value."
   ]
  },
  {
   "cell_type": "code",
   "execution_count": 85,
   "metadata": {},
   "outputs": [
    {
     "name": "stdout",
     "output_type": "stream",
     "text": [
      "Absolute value of 0: None\n"
     ]
    }
   ],
   "source": [
    "def my_absolute_value(x):\n",
    "    \"\"\"Implement absolute value of some value x.  \n",
    "    \n",
    "    Parameters\n",
    "    ----------\n",
    "    x - A value, expected to be a numeric type like an int or float, that we \n",
    "       want to calculate the absolute value of.\n",
    "       \n",
    "    Returns\n",
    "    -------\n",
    "    abs - returns the absoluve value of the input parameter value x\n",
    "    \"\"\"\n",
    "    if x < 0:\n",
    "        return -x\n",
    "    elif x > 0:\n",
    "        return x\n",
    "    \n",
    "print('Absolute value of 0:', my_absolute_value(0))\n"
   ]
  },
  {
   "cell_type": "markdown",
   "metadata": {},
   "source": [
    "In Python if no return is hit, the function returns the `NoneType` as we already\n",
    "have determined.  So in Python, something expecting an actual value will \n",
    "quickly end up generating an error if they try and use the `NoneType` in\n",
    "an expression"
   ]
  },
  {
   "cell_type": "code",
   "execution_count": 86,
   "metadata": {},
   "outputs": [
    {
     "name": "stdout",
     "output_type": "stream",
     "text": [
      "TypeError results here because you cant multiply NoneType times an integer\n"
     ]
    }
   ],
   "source": [
    "res = my_absolute_value(0)\n",
    "\n",
    "try:\n",
    "    res * 5\n",
    "except TypeError:\n",
    "    print('TypeError results here because you cant multiply NoneType times an integer')"
   ]
  },
  {
   "cell_type": "markdown",
   "metadata": {},
   "source": [
    "In order languages, often a 0 is returned, which would work here, but\n",
    "can cause subtle bugs.  But in any case, the point is, be careful for a \n",
    "value returning function that all possible execution paths return a meaningful\n",
    "value."
   ]
  },
  {
   "cell_type": "markdown",
   "metadata": {},
   "source": [
    "## Composition\n",
    "\n",
    "We have already shown you can call one function from inside of another.  This\n",
    "is not only possible, but highly useful and the basis of functional\n",
    "decomposition of complex problems into small reusable functions.\n",
    "\n",
    "For example, think of calculating the area of a circle.  But this time instead\n",
    "of the radius, we instead have 2 pairs of x,y points that indicate the center of the\n",
    "circle and a point on the edge of the circle.  The distance between these \n",
    "points tells us the radius, from which we can calculate the area of the circle.\n",
    "\n",
    "Instead of calculating the radius, then the area all in one function, it would \n",
    "be better to use composition.  For one the `distance` function might be\n",
    "useful and reusable in and of itself.  For another reason, this will make the\n",
    "code for our new area of circle function smaller and more readable."
   ]
  },
  {
   "cell_type": "code",
   "execution_count": 87,
   "metadata": {},
   "outputs": [],
   "source": [
    "def distance(x1, y1, x2, y2):\n",
    "    \"\"\"Calculate the (eucledian) distance between the given pair of\n",
    "    points (x1, y1) and (x2, y2)\n",
    "    \n",
    "    Parameters\n",
    "    ----------\n",
    "    x1, y1 - The first pair of points, assumed to be numeric types like\n",
    "       ints or floats\n",
    "    x2, y2 - The second pair of points that define a line that we want \n",
    "       to calculate the distance of.\n",
    "       \n",
    "    Returns\n",
    "    -------\n",
    "    distance - Returns the calculated eucledian distance from point (x1, y1)\n",
    "       to point(x2, y2)\n",
    "    \"\"\"\n",
    "    # need a square root function, though we could reuse our own function\n",
    "    # if we created one that encapsulate Newton's method\n",
    "    import math\n",
    "    \n",
    "    # The eucledian distance formula\n",
    "    distance = math.sqrt( (x1 - x2)**2.0 + (y1 - y2)**2.0 )\n",
    "    \n",
    "    return distance\n",
    "\n",
    "def area_of_circle(xc, yc, xp, yp):\n",
    "    \"\"\"Calculate the area of a circle centered at the point (xc, yc) \n",
    "    with point (xp, yp) a point on the edge of the circle\n",
    "    \n",
    "    Parameters\n",
    "    ----------\n",
    "    x1, y1 - The first pair of points, assumed to be numeric types like\n",
    "       ints or floats\n",
    "    x2, y2 - The second pair of points that define a line that gives us \n",
    "       the radius of the circle we need the area of\n",
    "       \n",
    "    Returns\n",
    "    -------\n",
    "    area - Returns the area of the given circle.\n",
    "    \"\"\"\n",
    "    # first use function composition to calculate the radius\n",
    "    radius = distance(xc, yc, xp, yp)\n",
    "    \n",
    "    # now we can use formula for area of a circle\n",
    "    import math\n",
    "    area = math.pi * radius**2.0\n",
    "    \n",
    "    return area\n",
    "    "
   ]
  },
  {
   "cell_type": "code",
   "execution_count": 88,
   "metadata": {},
   "outputs": [
    {
     "data": {
      "text/plain": [
       "3.141592653589793"
      ]
     },
     "execution_count": 88,
     "metadata": {},
     "output_type": "execute_result"
    }
   ],
   "source": [
    "# test a unit circle, should have area equal to pi\n",
    "area_of_circle(0, 0, 1.0, 0)"
   ]
  },
  {
   "cell_type": "code",
   "execution_count": 89,
   "metadata": {},
   "outputs": [
    {
     "data": {
      "text/plain": [
       "25.132741228718352"
      ]
     },
     "execution_count": 89,
     "metadata": {},
     "output_type": "execute_result"
    }
   ],
   "source": [
    "# test another circle\n",
    "area_of_circle(0, 0, 2.0, 2.0)"
   ]
  },
  {
   "cell_type": "markdown",
   "metadata": {},
   "source": [
    "## Boolean functions\n",
    "\n",
    "Functions can return a boolean result, which is not only common but useful for\n",
    "hiding and encapsulating complicated boolean tests.  By convention, \n",
    "boolean functions are often named `is_X()`, because they answer the question\n",
    "\"is_X\" true or \"is_X\" not true."
   ]
  },
  {
   "cell_type": "code",
   "execution_count": 90,
   "metadata": {},
   "outputs": [],
   "source": [
    "def is_divisble_1(x, y):\n",
    "    \"\"\"\n",
    "    True if x is evenly divisbly by y, false otherwise\"\n",
    "    \n",
    "    Parameters\n",
    "    ----------\n",
    "    x, y - numerical values to perform test with\n",
    "    \n",
    "    Returns\n",
    "    -------\n",
    "    bool - True if x is divisble by y, False otherwise.\n",
    "    \"\"\"\n",
    "    if x % y == 0:\n",
    "        return True\n",
    "    else:\n",
    "        return False\n",
    "    \n",
    "# although in some respects this version is more readable,\n",
    "# most programmers probably would just shorten the previous as:\n",
    "def is_divisible(x, y):\n",
    "    \"\"\"\n",
    "    True if x is evenly divisbly by y, false otherwise\"\n",
    "    \n",
    "    Parameters\n",
    "    ----------\n",
    "    x, y - numerical values to perform test with\n",
    "    \n",
    "    Returns\n",
    "    -------\n",
    "    bool - True if x is divisble by y, False otherwise.\n",
    "    \"\"\"\n",
    "    return x % y == 0\n"
   ]
  },
  {
   "cell_type": "code",
   "execution_count": 91,
   "metadata": {},
   "outputs": [
    {
     "data": {
      "text/plain": [
       "False"
      ]
     },
     "execution_count": 91,
     "metadata": {},
     "output_type": "execute_result"
    }
   ],
   "source": [
    "is_divisible(5, 3)"
   ]
  },
  {
   "cell_type": "code",
   "execution_count": 92,
   "metadata": {},
   "outputs": [
    {
     "data": {
      "text/plain": [
       "True"
      ]
     },
     "execution_count": 92,
     "metadata": {},
     "output_type": "execute_result"
    }
   ],
   "source": [
    "is_divisible(8, 4)"
   ]
  },
  {
   "cell_type": "code",
   "execution_count": 93,
   "metadata": {},
   "outputs": [
    {
     "data": {
      "text/plain": [
       "True"
      ]
     },
     "execution_count": 93,
     "metadata": {},
     "output_type": "execute_result"
    }
   ],
   "source": [
    "is_divisible(10.5, 0.5)"
   ]
  },
  {
   "cell_type": "code",
   "execution_count": 94,
   "metadata": {},
   "outputs": [],
   "source": [
    "def is_even(x):\n",
    "    \"\"\"Determine if the given value is an even number or not. \n",
    "    \n",
    "    Parameters\n",
    "    ----------\n",
    "    x - Value to be tested for \"evenness\"\n",
    "    \n",
    "    Returns\n",
    "    -------\n",
    "    bool - True if x is even, False if not\n",
    "    \"\"\"\n",
    "    return x % 2 == 0"
   ]
  },
  {
   "cell_type": "code",
   "execution_count": 95,
   "metadata": {},
   "outputs": [
    {
     "data": {
      "text/plain": [
       "False"
      ]
     },
     "execution_count": 95,
     "metadata": {},
     "output_type": "execute_result"
    }
   ],
   "source": [
    "is_even(5)"
   ]
  },
  {
   "cell_type": "code",
   "execution_count": 96,
   "metadata": {},
   "outputs": [
    {
     "data": {
      "text/plain": [
       "True"
      ]
     },
     "execution_count": 96,
     "metadata": {},
     "output_type": "execute_result"
    }
   ],
   "source": [
    "is_even(42)"
   ]
  },
  {
   "cell_type": "markdown",
   "metadata": {},
   "source": [
    "As shown in the code above, most of the time expreienced programmers will\n",
    "avoid unnecessary conditions and tests when writing boolean expressions.\n",
    "In the above function it might be arguable more readable using the longer\n",
    "version.  But you should definitely prefer not to use redundant checks\n",
    "against the bool `True` or `False` result for functions that return a boolean."
   ]
  },
  {
   "cell_type": "code",
   "execution_count": 97,
   "metadata": {},
   "outputs": [
    {
     "name": "stdout",
     "output_type": "stream",
     "text": [
      "The value is odd\n"
     ]
    }
   ],
   "source": [
    "# Don't do this in code\n",
    "if is_even(5) == True:\n",
    "    print('The value is even')\n",
    "else:\n",
    "    print('The value is odd')"
   ]
  },
  {
   "cell_type": "code",
   "execution_count": 98,
   "metadata": {},
   "outputs": [
    {
     "name": "stdout",
     "output_type": "stream",
     "text": [
      "The value is even\n"
     ]
    }
   ],
   "source": [
    "# prefer this as more readable\n",
    "if is_even(6):\n",
    "    print('The value is even')\n",
    "else:\n",
    "    print('The value is odd')"
   ]
  },
  {
   "cell_type": "markdown",
   "metadata": {},
   "source": [
    "### Self-test Exercises"
   ]
  },
  {
   "cell_type": "markdown",
   "metadata": {},
   "source": [
    "# Recursion\n",
    "\n",
    "It is legal for one function to call another, as we have shown.  This is\n",
    "function composition.\n",
    "\n",
    "But it is legal, and sometimes very useful, for a function to call itself.\n",
    "This is known as **recursion** and functions that call themselves are\n",
    "known as **recursive functions**.\n",
    "\n",
    "We may need to make use of recursive definitions in this class, so you should\n",
    "understand the general principle. Recursive functions work by\n",
    "calling themselves, but they always call themselves to solve a smaller problem\n",
    "than the one they were given.  At some point the problem becomes\n",
    "so small and simple that a direct solution can be applied.  This simple\n",
    "problem is known as a **base case* for the recursive function.\n",
    "\n",
    "As a simple example of recursion, we could implement a countdown using\n",
    "iteration, or using recursion."
   ]
  },
  {
   "cell_type": "code",
   "execution_count": 99,
   "metadata": {},
   "outputs": [],
   "source": [
    "def countdown_iterative(n):\n",
    "    while n > 0:\n",
    "        print(n)\n",
    "        n = n - 1\n",
    "    print('Blastoff')"
   ]
  },
  {
   "cell_type": "code",
   "execution_count": 100,
   "metadata": {},
   "outputs": [
    {
     "name": "stdout",
     "output_type": "stream",
     "text": [
      "10\n",
      "9\n",
      "8\n",
      "7\n",
      "6\n",
      "5\n",
      "4\n",
      "3\n",
      "2\n",
      "1\n",
      "Blastoff\n"
     ]
    }
   ],
   "source": [
    "countdown_iterative(10)"
   ]
  },
  {
   "cell_type": "code",
   "execution_count": 101,
   "metadata": {},
   "outputs": [],
   "source": [
    "def countdown_recursive(n):\n",
    "    # base case, when n is 0 or smaller we can blastoff\n",
    "    if n <= 0:\n",
    "        print('Blastoff!')\n",
    "    # otherwise the general case, display n and recursively\n",
    "    # call ourself to complete the rest of the n-1 countdown\n",
    "    else:\n",
    "        print(n)\n",
    "        countdown_recursive(n - 1)"
   ]
  },
  {
   "cell_type": "code",
   "execution_count": 102,
   "metadata": {},
   "outputs": [
    {
     "name": "stdout",
     "output_type": "stream",
     "text": [
      "10\n",
      "9\n",
      "8\n",
      "7\n",
      "6\n",
      "5\n",
      "4\n",
      "3\n",
      "2\n",
      "1\n",
      "Blastoff!\n"
     ]
    }
   ],
   "source": [
    "countdown_recursive(10)"
   ]
  },
  {
   "cell_type": "markdown",
   "metadata": {},
   "source": [
    "Just as you can get an infinite loop if  you do not correctly test or modify\n",
    "you loop condition, you can get infinite recursion if you do not correctly\n",
    "define your base case to stop the recusion.\n",
    "\n",
    "For example, if we forgot the else keyword in our code above, the\n",
    "function will recurse forever.  Or actually, if you uncomment the \n",
    "call to the recursive function, you will see that it recurses until\n",
    "it reaches the stack limit, at which point the execution will be terminted\n",
    "by the OS/iterpreter."
   ]
  },
  {
   "cell_type": "code",
   "execution_count": 103,
   "metadata": {},
   "outputs": [],
   "source": [
    "def countdown_recursive(n):\n",
    "    # base case, when n is 0 or smaller we can blastoff\n",
    "    if n <= 0:\n",
    "        print('Blastoff!')\n",
    "        \n",
    "    # otherwise the general case, display n and recursively\n",
    "    # call ourself to complete the rest of the n-1 countdown\n",
    "    # bug, this code always runs, even when n <= 0 now, so infinite recursion\n",
    "    print(n)\n",
    "    countdown_recursive(n - 1)"
   ]
  },
  {
   "cell_type": "code",
   "execution_count": 104,
   "metadata": {},
   "outputs": [],
   "source": [
    "# uncomment the following to try out the infinite recursion and see the stack\n",
    "# get blown\n",
    "# countdown_recursive(10)"
   ]
  },
  {
   "cell_type": "markdown",
   "metadata": {},
   "source": [
    "As a slightly more useful example, the `factorial()` function is often\n",
    "used as a first example of writing a recursive function.  Factorial can\n",
    "certainly written using a loop.  But a recursive version is\n",
    "simple and relatively easy to understand.  Notice here that our\n",
    "function is a value returning function.  The base case for factorial\n",
    "is that $0! = 1$.  So when the value is  equal to 1\n",
    "the result of the function is simply 1.  Otherwise we recurse to find\n",
    "the factorial of $n - 1$ and multiple this result by $n$."
   ]
  },
  {
   "cell_type": "code",
   "execution_count": 105,
   "metadata": {},
   "outputs": [],
   "source": [
    "def factorial(n):\n",
    "    \"\"\"Compute n! for the given value n.  n is assumed to be a positive integer\n",
    "    n >= 0.  Implement the factorial function using a recursive definition.\n",
    "    The factorial of a general integer n is n! = n * (n-1) * (n-2) * ... * 1\n",
    "    \n",
    "    Parameters\n",
    "    ----------\n",
    "    n - The value to compute the factorial of.\n",
    "    \n",
    "    Returns\n",
    "    -------\n",
    "    n! - Returns the computed factorial of n\n",
    "    \"\"\"\n",
    "    # base case, 0! is defined to be equal to 1\n",
    "    if n == 0:\n",
    "        return 1\n",
    "    # general case, call ourself to compute the (n-1)! and multiple this by\n",
    "    # n to compute n!\n",
    "    else:\n",
    "        return n * factorial(n - 1)"
   ]
  },
  {
   "cell_type": "code",
   "execution_count": 106,
   "metadata": {},
   "outputs": [
    {
     "data": {
      "text/plain": [
       "6227020800"
      ]
     },
     "execution_count": 106,
     "metadata": {},
     "output_type": "execute_result"
    }
   ],
   "source": [
    "factorial(13)"
   ]
  },
  {
   "cell_type": "markdown",
   "metadata": {},
   "source": [
    "### Self-test Exercises"
   ]
  }
 ],
 "metadata": {
  "kernelspec": {
   "display_name": "python3-datasci",
   "language": "python",
   "name": "python3-datasci"
  },
  "language_info": {
   "codemirror_mode": {
    "name": "ipython",
    "version": 3
   },
   "file_extension": ".py",
   "mimetype": "text/x-python",
   "name": "python",
   "nbconvert_exporter": "python",
   "pygments_lexer": "ipython3",
   "version": "3.7.7"
  },
  "toc-autonumbering": true
 },
 "nbformat": 4,
 "nbformat_minor": 4
}

{
 "cells": [
  {
   "cell_type": "markdown",
   "metadata": {},
   "source": [
    "# NumPy - Multidimensional data arrays\n",
    "\n",
    "The NumPy library is used for all numerical data analytic computations in Python.\n",
    "It is a package that provides high-performance vector, matrix and higher-dimensional\n",
    "data structures for Python. It is implemented in C and Fortran, so when calculations\n",
    "are vectorized (formulated with vectors and matrices), performance is very good. \n",
    "\n",
    "To use NumPy we need to start by importing the NumPy library.  You can\n",
    "import the module namespace as usual\n",
    "\n",
    "```python\n",
    "import numpy\n",
    "```\n",
    "\n",
    "though by convention, scripts and notebooks that perform a lot of NumPy\n",
    "computations will often import NumPy with an alias as follows"
   ]
  },
  {
   "cell_type": "code",
   "execution_count": 1,
   "metadata": {},
   "outputs": [],
   "source": [
    "import numpy as np"
   ]
  },
  {
   "cell_type": "markdown",
   "metadata": {},
   "source": [
    "We will follow this convention and import numpy using the alias `np` for use\n",
    "in all of our notebooks for this class.\n",
    "\n",
    "This notebook lecture is using materials from past versions of this course\n",
    "(see the archive).  We have also based many of our new examples on\n",
    "the\n",
    "[Quickstart tutorial](https://numpy.org/doc/stable/user/quickstart.html)\n",
    "provided by the official NumPy library maintainers website."
   ]
  },
  {
   "cell_type": "markdown",
   "metadata": {},
   "source": [
    "# The Basics\n",
    "\n",
    "NumPy's main object is the homogeneous multidimensional array.  It is a table\n",
    "of elements (usually numbers), all of the same type, indexed by a tuple\n",
    "of non-negative integers. \n",
    "\n",
    "Because the main NumPy array is a homogeneous collection of elements, it\n",
    "is more similar to plain arrays you may be familiar with from C or Java, than\n",
    "the `List` type from the main Python language.  Homogeneous means\n",
    "that all of the items in the array must be of the same type.  So typically\n",
    "we will work with a homogeneous array of all floats or all int types for\n",
    "various machine learning tasks.\n",
    "\n",
    " In NumPy dimensions are called **axes**. For example the coordinates of a point\n",
    " in 3D space `[1, 2, 1]` has one axis.  That axis has 3 elements in it, so we\n",
    " say it has a length of 3.  A table of values like this:\n",
    " \n",
    " ```python\n",
    " [[1., 2., 1.],\n",
    "  [0., 1., 3.]]\n",
    "```\n",
    "\n",
    "is said to have 2 axes.  The first axis (the rows, and referred to numerically\n",
    "as axis 0) has a length of 2 (e.g. there are 2 rows).  The second axis\n",
    "(the columns, numerically referred to as axis 1) has a length of 3\n",
    "(there are 3 columns).\n",
    "\n",
    "The vast majority of the data we use in this class will be arranged in a table\n",
    "like this with 2 axis, where each row holds a sample of data, and each column\n",
    "represents an attribute of the sampled data.  For example, for an experiment\n",
    "each row might hold the information for a participant or subject of the experiment,\n",
    "while the columns might be attributes like the subject's age, weight, height,\n",
    "and results like how they responed to the experiment.\n",
    "\n",
    "Lots look at an example array in NumPy and some of its attributes."
   ]
  },
  {
   "cell_type": "code",
   "execution_count": 2,
   "metadata": {},
   "outputs": [
    {
     "data": {
      "text/plain": [
       "array([[ 0,  1,  2,  3,  4],\n",
       "       [ 5,  6,  7,  8,  9],\n",
       "       [10, 11, 12, 13, 14]])"
      ]
     },
     "execution_count": 2,
     "metadata": {},
     "output_type": "execute_result"
    }
   ],
   "source": [
    "# create an array with elements ranging from 0 to 14, and reshape into\n",
    "# an array with 2 axis, with 3 rows in the axis 0 and 5 columns in the axis 1\n",
    "a = np.arange(15).reshape(3,5)\n",
    "a"
   ]
  },
  {
   "cell_type": "code",
   "execution_count": 3,
   "metadata": {},
   "outputs": [
    {
     "data": {
      "text/plain": [
       "2"
      ]
     },
     "execution_count": 3,
     "metadata": {},
     "output_type": "execute_result"
    }
   ],
   "source": [
    "a.ndim"
   ]
  },
  {
   "cell_type": "code",
   "execution_count": 4,
   "metadata": {},
   "outputs": [
    {
     "data": {
      "text/plain": [
       "(3, 5)"
      ]
     },
     "execution_count": 4,
     "metadata": {},
     "output_type": "execute_result"
    }
   ],
   "source": [
    "a.shape"
   ]
  },
  {
   "cell_type": "code",
   "execution_count": 5,
   "metadata": {},
   "outputs": [
    {
     "data": {
      "text/plain": [
       "15"
      ]
     },
     "execution_count": 5,
     "metadata": {},
     "output_type": "execute_result"
    }
   ],
   "source": [
    "a.size"
   ]
  },
  {
   "cell_type": "code",
   "execution_count": 6,
   "metadata": {},
   "outputs": [
    {
     "data": {
      "text/plain": [
       "dtype('int64')"
      ]
     },
     "execution_count": 6,
     "metadata": {},
     "output_type": "execute_result"
    }
   ],
   "source": [
    "a.dtype"
   ]
  },
  {
   "cell_type": "code",
   "execution_count": 7,
   "metadata": {},
   "outputs": [
    {
     "data": {
      "text/plain": [
       "8"
      ]
     },
     "execution_count": 7,
     "metadata": {},
     "output_type": "execute_result"
    }
   ],
   "source": [
    "a.itemsize"
   ]
  },
  {
   "cell_type": "code",
   "execution_count": 8,
   "metadata": {},
   "outputs": [
    {
     "data": {
      "text/plain": [
       "<memory at 0x7f8d227a0050>"
      ]
     },
     "execution_count": 8,
     "metadata": {},
     "output_type": "execute_result"
    }
   ],
   "source": [
    "a.data"
   ]
  },
  {
   "cell_type": "code",
   "execution_count": 9,
   "metadata": {},
   "outputs": [
    {
     "data": {
      "text/plain": [
       "numpy.ndarray"
      ]
     },
     "execution_count": 9,
     "metadata": {},
     "output_type": "execute_result"
    }
   ],
   "source": [
    "type(a)"
   ]
  },
  {
   "cell_type": "markdown",
   "metadata": {},
   "source": [
    "NumPy's array class is called `ndarray` as the last cell shows.  An `ndarray`\n",
    "is a general n-dimensional array.\n",
    "\n",
    "In the previous example we demonstrated many of the basic attributes of\n",
    "a NumPy `ndarray`\n",
    "\n",
    "- **ndarray.ndim**: The number of axes (or dimensions) of the array.  Our array\n",
    "  has 2 dimensions, axis 0 (rows) and axis 1 (columns)\n",
    "- **ndarray.shape**: The length of each dimension of the array.  Since we have 3\n",
    "  rows and 5 columns, axis 0 has a length of 3 and axis 1 has a length of 5.\n",
    "- **ndarray.size**: The total number of elements of the array, has to be equal to\n",
    "  the product of the shape (e.g. $3 \\times 5 = 15$ here).\n",
    "- **ndarray.dtype**: The type of elements in the array.  `ndarray`'s are **homogeneous**\n",
    "  which means all elements are of the same type, the type describe here.  You\n",
    "  will often see types like this `int64`, where `int` is the basic type and\n",
    "  the number 64 indicates the number of bits being used for the data type\n",
    "  representation.\n",
    "- **ndarray.itemsize**: The size in bytes of each element of the array.  Since\n",
    "  a byte uses 8 bits, a size of 8 bytes here equals 64 bits of memory for each of\n",
    "  the 15 elements in the array.\n",
    "- **ndarray.data**: The actually pointer to the buffer in memory holding the values\n",
    "  of this array.  We don't normally access this directly.\n",
    "  \n",
    "Another quick example of an array, compare this one to the first one."
   ]
  },
  {
   "cell_type": "code",
   "execution_count": 10,
   "metadata": {},
   "outputs": [],
   "source": [
    "# set the display options so that our arrays are displayed as decimal notation\n",
    "# rather than floating point notation in the rest of the notebook\n",
    "np.set_printoptions(suppress=True)"
   ]
  },
  {
   "cell_type": "code",
   "execution_count": 11,
   "metadata": {},
   "outputs": [
    {
     "data": {
      "text/plain": [
       "array([[[ 0.15284073, -4.5882983 , -2.70557612],\n",
       "        [-1.28928967,  2.13781142,  0.25110081],\n",
       "        [ 2.02560867, -1.64360412,  2.83961094],\n",
       "        [-2.81329315,  1.53560405, -3.7875721 ]],\n",
       "\n",
       "       [[ 2.18714649,  4.76159629, -0.89363705],\n",
       "        [ 3.89747812, -3.55146487,  4.9864185 ],\n",
       "        [ 1.86272841, -1.71955994,  4.38018623],\n",
       "        [-0.18687171,  0.73971649, -4.00339679]],\n",
       "\n",
       "       [[ 3.62477871, -3.20819664,  4.79955911],\n",
       "        [ 0.50851382,  0.72364545,  3.0379996 ],\n",
       "        [-0.28809133, -4.88590352,  0.58736162],\n",
       "        [ 0.7808866 , -3.59313774,  3.57674546]],\n",
       "\n",
       "       [[ 3.0852238 , -1.42400689, -4.27606217],\n",
       "        [ 1.93293876,  4.31143479, -3.61934348],\n",
       "        [ 0.9177574 ,  1.44650503,  4.97105006],\n",
       "        [ 0.68440159,  0.35043056,  3.96669065]],\n",
       "\n",
       "       [[-0.70948703, -2.92220912, -0.74270662],\n",
       "        [ 4.18996614,  0.21261377, -3.25231777],\n",
       "        [-2.03222271, -0.93094299,  2.7861655 ],\n",
       "        [-2.44358089, -0.15682046,  0.10183413]]])"
      ]
     },
     "execution_count": 11,
     "metadata": {},
     "output_type": "execute_result"
    }
   ],
   "source": [
    "# an array of random floating point numbers that range from -5 to 5\n",
    "# the 3rd parameter, a tuple, gives the shape of the array to randomly create\n",
    "\n",
    "# I think of this as axis 0 is the number of regular 2-d tables, so here we have\n",
    "# 5 tables, where each table has 4 rows and 3 columns\n",
    "b = np.random.uniform(-5.0, 5.0, (5, 4, 3))\n",
    "b"
   ]
  },
  {
   "cell_type": "code",
   "execution_count": 12,
   "metadata": {},
   "outputs": [
    {
     "data": {
      "text/plain": [
       "3"
      ]
     },
     "execution_count": 12,
     "metadata": {},
     "output_type": "execute_result"
    }
   ],
   "source": [
    "b.ndim"
   ]
  },
  {
   "cell_type": "code",
   "execution_count": 13,
   "metadata": {},
   "outputs": [
    {
     "data": {
      "text/plain": [
       "(5, 4, 3)"
      ]
     },
     "execution_count": 13,
     "metadata": {},
     "output_type": "execute_result"
    }
   ],
   "source": [
    "b.shape"
   ]
  },
  {
   "cell_type": "code",
   "execution_count": 14,
   "metadata": {},
   "outputs": [
    {
     "data": {
      "text/plain": [
       "60"
      ]
     },
     "execution_count": 14,
     "metadata": {},
     "output_type": "execute_result"
    }
   ],
   "source": [
    "b.size"
   ]
  },
  {
   "cell_type": "code",
   "execution_count": 15,
   "metadata": {},
   "outputs": [
    {
     "data": {
      "text/plain": [
       "dtype('float64')"
      ]
     },
     "execution_count": 15,
     "metadata": {},
     "output_type": "execute_result"
    }
   ],
   "source": [
    "b.dtype"
   ]
  },
  {
   "cell_type": "code",
   "execution_count": 16,
   "metadata": {},
   "outputs": [
    {
     "data": {
      "text/plain": [
       "8"
      ]
     },
     "execution_count": 16,
     "metadata": {},
     "output_type": "execute_result"
    }
   ],
   "source": [
    "b.itemsize"
   ]
  },
  {
   "cell_type": "markdown",
   "metadata": {},
   "source": [
    "# Array creation\n",
    "\n",
    "There are a number of ways to create a NumPy `ndarray`.  We saw two\n",
    "array generation functions in the previous example, one creating\n",
    "an array with a range of values, and another using the NumPy `random`\n",
    "submodule to generate arrays of random values.\n",
    "\n",
    "One basic way to create an array is by initializing it form a regular\n",
    "Python list or tuple."
   ]
  },
  {
   "cell_type": "code",
   "execution_count": 17,
   "metadata": {},
   "outputs": [
    {
     "name": "stdout",
     "output_type": "stream",
     "text": [
      "[2 3 4]\n",
      "int64\n",
      "(3,)\n"
     ]
    }
   ],
   "source": [
    "a = np.array([2, 3, 4])\n",
    "print(a)\n",
    "print(a.dtype)\n",
    "print(a.shape)"
   ]
  },
  {
   "cell_type": "code",
   "execution_count": 18,
   "metadata": {},
   "outputs": [
    {
     "name": "stdout",
     "output_type": "stream",
     "text": [
      "[[1.2 3.5 5.1]\n",
      " [3.8 4.6 2.7]]\n",
      "float64\n",
      "(2, 3)\n"
     ]
    }
   ],
   "source": [
    "b = np.array([[1.2, 3.5, 5.1], \n",
    "              [3.8, 4.6, 2.7]])\n",
    "print(b)\n",
    "print(b.dtype)\n",
    "print(b.shape)"
   ]
  },
  {
   "cell_type": "code",
   "execution_count": 19,
   "metadata": {},
   "outputs": [
    {
     "name": "stdout",
     "output_type": "stream",
     "text": [
      "['gouda' '42' 'False' '(3-2j)']\n",
      "<U6\n",
      "(4,)\n"
     ]
    }
   ],
   "source": [
    "c = np.array(['gouda', 42, False, 3-2j])\n",
    "print(c)\n",
    "print(c.dtype)\n",
    "print(c.shape)"
   ]
  },
  {
   "cell_type": "markdown",
   "metadata": {},
   "source": [
    "Notice that when you give a nonhomogeneous list of values, NumPy will convert to\n",
    "the most general type, which is this case is a string representation of each element\n",
    "with a maximum length of 6 characters for each string.\n",
    "\n",
    "We saw an example of array `b` where a sequence of lists is transformed into\n",
    "an array with 2 axis.  This can be done for 3 or even higher numbers of axis, though\n",
    "of course it gets complicated to construct such a list by hand in python.\n",
    "\n",
    "The type of the array can be explicitly specified at creation time."
   ]
  },
  {
   "cell_type": "code",
   "execution_count": 20,
   "metadata": {},
   "outputs": [
    {
     "name": "stdout",
     "output_type": "stream",
     "text": [
      "[[1.+0.j 2.+0.j]\n",
      " [3.+0.j 4.+0.j]]\n",
      "complex128\n",
      "(2, 2)\n"
     ]
    }
   ],
   "source": [
    "d = np.array( [[1, 2], [3, 4]], dtype=complex)\n",
    "print(d)\n",
    "print(d.dtype)\n",
    "print(d.shape)"
   ]
  },
  {
   "cell_type": "markdown",
   "metadata": {},
   "source": [
    "## Array generation functions\n",
    "\n",
    "We saw some array generating functions above.  The `arange()` function\n",
    "is analogous to the `range()` built-in funciton, it creates arrays with\n",
    "1 axis with a range of values."
   ]
  },
  {
   "cell_type": "code",
   "execution_count": 21,
   "metadata": {},
   "outputs": [
    {
     "data": {
      "text/plain": [
       "array([ 0,  1,  2,  3,  4,  5,  6,  7,  8,  9, 10, 11])"
      ]
     },
     "execution_count": 21,
     "metadata": {},
     "output_type": "execute_result"
    }
   ],
   "source": [
    "# array of values from 0 up to by not including 12\n",
    "np.arange(12)"
   ]
  },
  {
   "cell_type": "code",
   "execution_count": 22,
   "metadata": {},
   "outputs": [
    {
     "data": {
      "text/plain": [
       "array([10, 12, 14, 16, 18, 20, 22, 24, 26, 28, 30, 32, 34, 36, 38, 40, 42,\n",
       "       44, 46, 48, 50])"
      ]
     },
     "execution_count": 22,
     "metadata": {},
     "output_type": "execute_result"
    }
   ],
   "source": [
    "# range of event values from 10 to 50 \n",
    "np.arange(10, 51, 2)"
   ]
  },
  {
   "cell_type": "code",
   "execution_count": 23,
   "metadata": {},
   "outputs": [
    {
     "data": {
      "text/plain": [
       "array([100,  95,  90,  85,  80,  75,  70,  65,  60,  55,  50,  45,  40,\n",
       "        35,  30,  25,  20,  15,  10,   5,   0])"
      ]
     },
     "execution_count": 23,
     "metadata": {},
     "output_type": "execute_result"
    }
   ],
   "source": [
    "# stepping backwards\n",
    "np.arange(100, -1, -5)"
   ]
  },
  {
   "cell_type": "markdown",
   "metadata": {},
   "source": [
    "Another function for generating sequences that might be more useful in this\n",
    "class is `linspace()`.  This function can be used to generate an array of\n",
    "a particular size with points linearly spaces over some range.  For example"
   ]
  },
  {
   "cell_type": "code",
   "execution_count": 24,
   "metadata": {},
   "outputs": [
    {
     "data": {
      "text/plain": [
       "array([0.        , 0.11111111, 0.22222222, 0.33333333, 0.44444444,\n",
       "       0.55555556, 0.66666667, 0.77777778, 0.88888889, 1.        ])"
      ]
     },
     "execution_count": 24,
     "metadata": {},
     "output_type": "execute_result"
    }
   ],
   "source": [
    "# 10 point linearly spaces from 0.0 to 1.0\n",
    "# notice that this funciton is inclusive of the endpoints, the first and last points\n",
    "# will begin and end at the stated begin and end of the range\n",
    "np.linspace(0.0, 1.0, 10)"
   ]
  },
  {
   "cell_type": "code",
   "execution_count": 25,
   "metadata": {},
   "outputs": [
    {
     "data": {
      "text/plain": [
       "array([-10.        ,  -9.7979798 ,  -9.5959596 ,  -9.39393939,\n",
       "        -9.19191919,  -8.98989899,  -8.78787879,  -8.58585859,\n",
       "        -8.38383838,  -8.18181818,  -7.97979798,  -7.77777778,\n",
       "        -7.57575758,  -7.37373737,  -7.17171717,  -6.96969697,\n",
       "        -6.76767677,  -6.56565657,  -6.36363636,  -6.16161616,\n",
       "        -5.95959596,  -5.75757576,  -5.55555556,  -5.35353535,\n",
       "        -5.15151515,  -4.94949495,  -4.74747475,  -4.54545455,\n",
       "        -4.34343434,  -4.14141414,  -3.93939394,  -3.73737374,\n",
       "        -3.53535354,  -3.33333333,  -3.13131313,  -2.92929293,\n",
       "        -2.72727273,  -2.52525253,  -2.32323232,  -2.12121212,\n",
       "        -1.91919192,  -1.71717172,  -1.51515152,  -1.31313131,\n",
       "        -1.11111111,  -0.90909091,  -0.70707071,  -0.50505051,\n",
       "        -0.3030303 ,  -0.1010101 ,   0.1010101 ,   0.3030303 ,\n",
       "         0.50505051,   0.70707071,   0.90909091,   1.11111111,\n",
       "         1.31313131,   1.51515152,   1.71717172,   1.91919192,\n",
       "         2.12121212,   2.32323232,   2.52525253,   2.72727273,\n",
       "         2.92929293,   3.13131313,   3.33333333,   3.53535354,\n",
       "         3.73737374,   3.93939394,   4.14141414,   4.34343434,\n",
       "         4.54545455,   4.74747475,   4.94949495,   5.15151515,\n",
       "         5.35353535,   5.55555556,   5.75757576,   5.95959596,\n",
       "         6.16161616,   6.36363636,   6.56565657,   6.76767677,\n",
       "         6.96969697,   7.17171717,   7.37373737,   7.57575758,\n",
       "         7.77777778,   7.97979798,   8.18181818,   8.38383838,\n",
       "         8.58585859,   8.78787879,   8.98989899,   9.19191919,\n",
       "         9.39393939,   9.5959596 ,   9.7979798 ,  10.        ])"
      ]
     },
     "execution_count": 25,
     "metadata": {},
     "output_type": "execute_result"
    }
   ],
   "source": [
    "# 100 points linearly spaces from -10 to 10\n",
    "np.linspace(-10.0, 10.0, 100)"
   ]
  },
  {
   "cell_type": "markdown",
   "metadata": {},
   "source": [
    "The  `np.random.uniform()` function we used before shows a common pattern for many other\n",
    "array generating functions.  Functions in NumPy's random library can be used\n",
    "to generate arrays of random numbers with different distributions (uniform,\n",
    "normal, gaussian distribution, etc).  The 3rd parameter is a tuple indicating\n",
    "the shape of the array to be generated.\n",
    "\n",
    "Often we know what shape of array we need and the type of the values that will\n",
    "be in it, but we will generate the data later.  We can use functions\n",
    "like `zeros()` or `empty()` to create empty arrays of a particular shape and type."
   ]
  },
  {
   "cell_type": "code",
   "execution_count": 26,
   "metadata": {},
   "outputs": [
    {
     "name": "stdout",
     "output_type": "stream",
     "text": [
      "[[0. 0. 0. 0.]\n",
      " [0. 0. 0. 0.]\n",
      " [0. 0. 0. 0.]]\n",
      "(3, 4)\n",
      "float64\n"
     ]
    }
   ],
   "source": [
    "# array of zeros with 3 rows and 4 columns\n",
    "a = np.zeros( (3, 4) )\n",
    "print(a)\n",
    "print(a.shape)\n",
    "print(a.dtype)"
   ]
  },
  {
   "cell_type": "markdown",
   "metadata": {},
   "source": [
    "Notice that if you don't specify a datatype, many array generation functions default\n",
    "to generating arrays of floating point numbers (with the standard number of bits \n",
    "for a float type used).\n",
    "\n",
    "`zeros()` is useful if you need to ensure all values are initially 0, but if\n",
    "you know you will be filling in all values, you can just get an empty array.\n",
    "This sometimes has all 0's anyway, but the memory is not initialized so garbage\n",
    "values can also be in the array you get back using `empty()`."
   ]
  },
  {
   "cell_type": "code",
   "execution_count": 27,
   "metadata": {},
   "outputs": [
    {
     "name": "stdout",
     "output_type": "stream",
     "text": [
      "[[0. 0. 0. 0. 0. 0. 0. 0.]\n",
      " [0. 0. 0. 0. 0. 0. 0. 0.]\n",
      " [0. 0. 0. 0. 0. 0. 0. 0.]\n",
      " [0. 0. 0. 0. 0. 0. 0. 0.]\n",
      " [0. 0. 0. 0. 0. 0. 0. 0.]\n",
      " [0. 0. 0. 0. 0. 0. 0. 0.]]\n",
      "(6, 8)\n",
      "float64\n"
     ]
    }
   ],
   "source": [
    "# empty array of  3 rows and 4 columns\n",
    "a = np.empty( (6, 8) )\n",
    "print(a)\n",
    "print(a.shape)\n",
    "print(a.dtype)"
   ]
  },
  {
   "cell_type": "markdown",
   "metadata": {},
   "source": [
    "There are many other\n",
    "[array generation functions](https://numpy.org/doc/stable/reference/routines.array-creation.html) \n",
    "that can be used.  "
   ]
  },
  {
   "cell_type": "markdown",
   "metadata": {},
   "source": [
    "# Basic operations (Vectorized computations)\n",
    "\n",
    "NumPy arrays support a style of programming known as vectorized computations,\n",
    "first popularized in the Matlab programming enviornment (I believe).\n",
    "\n",
    "What this means is that, instead of using loops to access and perform\n",
    "operations on the elements of an array, we can treat an array as a single\n",
    "value/variable and apply an operation to all elements with a single statement.\n",
    "\n",
    "An example should make this clearer."
   ]
  },
  {
   "cell_type": "markdown",
   "metadata": {},
   "source": [
    "## Elementwise arithemetic\n",
    "\n",
    "For example, you can easily apply simple operations to all elemnts of an array,\n",
    "like addition or multiplication, by performing a scalar operation with an\n",
    "`ndarray` object.  A **scalar** value is simply a fancy way of saying a\n",
    "single value, e.g. a regular Python variable holding 1 value, instead of an\n",
    "array that holds many values.\n",
    "\n",
    "So any array we have we can perform elementwise scalar operations on it."
   ]
  },
  {
   "cell_type": "code",
   "execution_count": 28,
   "metadata": {},
   "outputs": [
    {
     "data": {
      "text/plain": [
       "array([[ 1,  3, 10,  6,  2,  6, 10,  5,  5,  6],\n",
       "       [10, 10,  1,  6,  1,  6,  7,  3, 10,  4],\n",
       "       [ 9,  8, 10,  3,  4,  7,  7,  6,  3,  9],\n",
       "       [ 7,  3,  4,  7,  3,  7,  4, 10,  6,  8],\n",
       "       [ 6,  8,  4,  4,  4,  4,  5,  4,  5,  9],\n",
       "       [ 9,  7,  9, 10,  5,  2,  1,  1,  5, 10],\n",
       "       [ 8,  5, 10,  7,  6,  6,  9,  8,  3,  8],\n",
       "       [ 4,  1,  4,  5,  3, 10,  4,  9,  3,  1],\n",
       "       [ 2,  6,  6,  3,  6,  6,  6,  5,  1,  1],\n",
       "       [ 1,  6,  2,  5,  8,  4,  2,  1,  3,  3]])"
      ]
     },
     "execution_count": 28,
     "metadata": {},
     "output_type": "execute_result"
    }
   ],
   "source": [
    "# 100 random integers in range from 1 to 10\n",
    "a = np.random.randint(1,11,(10,10))\n",
    "a"
   ]
  },
  {
   "cell_type": "code",
   "execution_count": 29,
   "metadata": {},
   "outputs": [
    {
     "data": {
      "text/plain": [
       "array([[-9, -7,  0, -4, -8, -4,  0, -5, -5, -4],\n",
       "       [ 0,  0, -9, -4, -9, -4, -3, -7,  0, -6],\n",
       "       [-1, -2,  0, -7, -6, -3, -3, -4, -7, -1],\n",
       "       [-3, -7, -6, -3, -7, -3, -6,  0, -4, -2],\n",
       "       [-4, -2, -6, -6, -6, -6, -5, -6, -5, -1],\n",
       "       [-1, -3, -1,  0, -5, -8, -9, -9, -5,  0],\n",
       "       [-2, -5,  0, -3, -4, -4, -1, -2, -7, -2],\n",
       "       [-6, -9, -6, -5, -7,  0, -6, -1, -7, -9],\n",
       "       [-8, -4, -4, -7, -4, -4, -4, -5, -9, -9],\n",
       "       [-9, -4, -8, -5, -2, -6, -8, -9, -7, -7]])"
      ]
     },
     "execution_count": 29,
     "metadata": {},
     "output_type": "execute_result"
    }
   ],
   "source": [
    "# subtract 10 from each element of array using vectorized operation\n",
    "a - 10"
   ]
  },
  {
   "cell_type": "code",
   "execution_count": 30,
   "metadata": {},
   "outputs": [
    {
     "data": {
      "text/plain": [
       "array([[ 10,  30, 100,  60,  20,  60, 100,  50,  50,  60],\n",
       "       [100, 100,  10,  60,  10,  60,  70,  30, 100,  40],\n",
       "       [ 90,  80, 100,  30,  40,  70,  70,  60,  30,  90],\n",
       "       [ 70,  30,  40,  70,  30,  70,  40, 100,  60,  80],\n",
       "       [ 60,  80,  40,  40,  40,  40,  50,  40,  50,  90],\n",
       "       [ 90,  70,  90, 100,  50,  20,  10,  10,  50, 100],\n",
       "       [ 80,  50, 100,  70,  60,  60,  90,  80,  30,  80],\n",
       "       [ 40,  10,  40,  50,  30, 100,  40,  90,  30,  10],\n",
       "       [ 20,  60,  60,  30,  60,  60,  60,  50,  10,  10],\n",
       "       [ 10,  60,  20,  50,  80,  40,  20,  10,  30,  30]])"
      ]
     },
     "execution_count": 30,
     "metadata": {},
     "output_type": "execute_result"
    }
   ],
   "source": [
    "# multiple each array element by 10\n",
    "10 * a"
   ]
  },
  {
   "cell_type": "code",
   "execution_count": 31,
   "metadata": {},
   "outputs": [
    {
     "data": {
      "text/plain": [
       "array([[0.1, 0.3, 1. , 0.6, 0.2, 0.6, 1. , 0.5, 0.5, 0.6],\n",
       "       [1. , 1. , 0.1, 0.6, 0.1, 0.6, 0.7, 0.3, 1. , 0.4],\n",
       "       [0.9, 0.8, 1. , 0.3, 0.4, 0.7, 0.7, 0.6, 0.3, 0.9],\n",
       "       [0.7, 0.3, 0.4, 0.7, 0.3, 0.7, 0.4, 1. , 0.6, 0.8],\n",
       "       [0.6, 0.8, 0.4, 0.4, 0.4, 0.4, 0.5, 0.4, 0.5, 0.9],\n",
       "       [0.9, 0.7, 0.9, 1. , 0.5, 0.2, 0.1, 0.1, 0.5, 1. ],\n",
       "       [0.8, 0.5, 1. , 0.7, 0.6, 0.6, 0.9, 0.8, 0.3, 0.8],\n",
       "       [0.4, 0.1, 0.4, 0.5, 0.3, 1. , 0.4, 0.9, 0.3, 0.1],\n",
       "       [0.2, 0.6, 0.6, 0.3, 0.6, 0.6, 0.6, 0.5, 0.1, 0.1],\n",
       "       [0.1, 0.6, 0.2, 0.5, 0.8, 0.4, 0.2, 0.1, 0.3, 0.3]])"
      ]
     },
     "execution_count": 31,
     "metadata": {},
     "output_type": "execute_result"
    }
   ],
   "source": [
    "# divide all elemsnt by 10, result should be floats in range 0.1 to 1.0\n",
    "a / 10"
   ]
  },
  {
   "cell_type": "markdown",
   "metadata": {},
   "source": [
    "## Vectorized functions (Universal Functions)\n",
    "\n",
    "Many functions have been provided in NumPy to perform vectorized operations\n",
    "on NumPy arrays.  These are also called Universal functions (ufunc).\n",
    "\n",
    "For example, all of the math function in the standard `math` library are\n",
    "scalar functions, the expect a single value.  NumPy provides vectorized\n",
    "versions of all of the math functions that performs the elementwise\n",
    "operation on all of the values.\n",
    "[NumPy mathematical functions reference](https://numpy.org/doc/stable/reference/routines.math.html)\n",
    "These are all in the top NumPy namespace.  So for example\n"
   ]
  },
  {
   "cell_type": "code",
   "execution_count": 32,
   "metadata": {},
   "outputs": [
    {
     "data": {
      "text/plain": [
       "array([[ 1.35949405,  0.92640066, -2.7568128 ,  0.53566405,  1.60336575,\n",
       "        -2.35102072,  0.27311617, -2.47872666,  2.60469586,  2.37016524],\n",
       "       [ 3.13574723,  2.09613247,  2.82268799,  0.38165023, -0.40607729,\n",
       "         2.76383016,  0.87804596, -3.03769525,  1.98322938,  2.09391159],\n",
       "       [-0.05273029,  0.12164266, -1.75713011,  2.98771596, -1.69580326,\n",
       "         0.87032849,  2.56185711, -2.6522317 ,  0.20340488,  0.39673319],\n",
       "       [-0.51583263, -2.04967602, -1.56161987, -3.1001379 ,  2.56773915,\n",
       "        -2.1390726 , -0.20826524,  0.5851072 , -1.0623679 ,  3.06973795],\n",
       "       [ 2.52828477, -3.12539293, -1.93671113, -2.08544625,  1.53145154,\n",
       "        -0.0035037 , -1.10511387, -1.05661993, -2.67858612, -2.16591676],\n",
       "       [-3.0965766 , -2.55298557, -1.60221058, -1.18332457,  2.54716004,\n",
       "         2.16960876,  2.6859633 ,  0.49269837, -1.68711211, -2.57927636],\n",
       "       [-0.66288377, -0.3328633 ,  0.03756137,  0.07925648, -0.44890978,\n",
       "         0.15473276,  0.76726683, -2.64150985,  1.30899301, -2.08432481],\n",
       "       [ 2.91302117, -2.43883269,  2.47026927, -2.70511046, -2.13519935,\n",
       "         0.97748218, -0.95281129,  1.99690252,  3.13542775, -0.94970297],\n",
       "       [ 1.36403068,  2.16351572,  2.99157493,  1.58430224,  1.68462559,\n",
       "         2.27841363, -1.39617465, -1.67986605,  1.95588137, -1.96489285],\n",
       "       [-0.83181851, -2.24495554, -1.14721432, -1.01564448,  1.19282371,\n",
       "        -2.00962528,  0.76859118, -1.21264156, -0.41669092,  1.64623782]])"
      ]
     },
     "execution_count": 32,
     "metadata": {},
     "output_type": "execute_result"
    }
   ],
   "source": [
    "# array of random numbers in range -2pi to 2pi\n",
    "b = np.random.uniform(-np.pi, np.pi, (10,10))\n",
    "b"
   ]
  },
  {
   "cell_type": "code",
   "execution_count": 33,
   "metadata": {},
   "outputs": [
    {
     "data": {
      "text/plain": [
       "array([[ 0.97775861,  0.79946294, -0.37535509,  0.51041218,  0.99946966,\n",
       "        -0.71075571,  0.26973341, -0.61537844,  0.51147187,  0.69715928],\n",
       "       [ 0.00584539,  0.86515541,  0.31352664,  0.37245248, -0.39500867,\n",
       "         0.36884165,  0.76949239, -0.10371058,  0.91614827,  0.86626706],\n",
       "       [-0.05270585,  0.12134289, -0.98269003,  0.15327016, -0.9921968 ,\n",
       "         0.76454071,  0.54780271, -0.47006194,  0.20200518,  0.38640734],\n",
       "       [-0.49325931, -0.8875117 , -0.9999579 , -0.04144288,  0.5428723 ,\n",
       "        -0.8428299 , -0.20676294,  0.55228875, -0.87351064,  0.07179288],\n",
       "       [ 0.57557562, -0.01619902, -0.93379683, -0.87046509,  0.99922609,\n",
       "        -0.00350369, -0.89351533, -0.87069808, -0.44664011, -0.82808099],\n",
       "       [-0.04500085, -0.55520306, -0.99950661, -0.92586731,  0.56003879,\n",
       "         0.82600559,  0.44002755,  0.47300503, -0.99324294, -0.53314726],\n",
       "       [-0.61539246, -0.3267505 ,  0.03755254,  0.07917353, -0.43398359,\n",
       "         0.15411605,  0.69417047, -0.47949821,  0.96592481, -0.87101655],\n",
       "       [ 0.22658639, -0.64632617,  0.62202274, -0.4227541 , -0.84490808,\n",
       "         0.82909226, -0.81504757,  0.91058207,  0.00616486, -0.81324269],\n",
       "       [ 0.97870003,  0.82942465,  0.14945566,  0.9999088 ,  0.99352844,\n",
       "         0.75991285, -0.98479234, -0.99405779,  0.92676649, -0.92334385],\n",
       "       [-0.73915742, -0.78123208, -0.91162249, -0.84982042,  0.92941472,\n",
       "        -0.90524984,  0.69512314, -0.93654526, -0.40473674,  0.99715564]])"
      ]
     },
     "execution_count": 33,
     "metadata": {},
     "output_type": "execute_result"
    }
   ],
   "source": [
    "# sin of each value\n",
    "np.sin(b)"
   ]
  },
  {
   "cell_type": "code",
   "execution_count": 34,
   "metadata": {},
   "outputs": [
    {
     "data": {
      "text/plain": [
       "array([[ 0.30711261, -0.07644846,  1.01407523, -0.6242481 ,  0.47210501,\n",
       "         0.85484958, -1.29785805,  0.90774499,  0.95731592,  0.86295968],\n",
       "       [ 1.1428675 ,  0.74009397,  1.03768962, -0.96325071, -0.90121177,\n",
       "         1.01661746, -0.13005634,  1.11109909,  0.68472652,  0.73903389],\n",
       "       [-2.9425653 , -2.10666755,  0.56368186,  1.0945092 ,  0.52815653,\n",
       "        -0.13888457,  0.94073243,  0.97540144, -1.5925568 , -0.92449129],\n",
       "       [-0.66197292,  0.71768174,  0.44572366,  1.13144659,  0.9430258 ,\n",
       "         0.76037237, -1.56894283, -0.5359602 ,  0.06050029,  1.1215922 ],\n",
       "       [ 0.92754112,  1.13956001,  0.66099124,  0.73498286,  0.426216  ,\n",
       "        -5.65393642,  0.09994838,  0.05507507,  0.98528909,  0.77284372],\n",
       "       [ 1.13029718,  0.93726348,  0.47138429,  0.16832791,  0.93497903,\n",
       "         0.77454685,  0.98803944, -0.70785812,  0.52301826,  0.94750888],\n",
       "       [-0.41115561, -1.10002338, -3.28177915, -2.53506614, -0.80093335,\n",
       "        -1.8660558 , -0.26492066,  0.97135067,  0.26925814,  0.73444497],\n",
       "       [ 1.06919075,  0.89151952,  0.90432716,  0.99514275,  0.75856002,\n",
       "        -0.02277522, -0.04833841,  0.69159724,  1.14276561, -0.051606  ],\n",
       "       [ 0.31044405,  0.77173455,  1.09579998,  0.46014408,  0.52154334,\n",
       "         0.82347942,  0.3337361 ,  0.51871406,  0.67084092,  0.67543771],\n",
       "       [-0.184141  ,  0.80868572,  0.13733668,  0.01552337,  0.17632336,\n",
       "         0.69794828, -0.26319608,  0.19280108, -0.87541052,  0.49849257]])"
      ]
     },
     "execution_count": 34,
     "metadata": {},
     "output_type": "execute_result"
    }
   ],
   "source": [
    "# logarithm of each value, need to take absolute value because logarithm\n",
    "# not defined for negative values\n",
    "np.log(np.abs(b))"
   ]
  },
  {
   "cell_type": "markdown",
   "metadata": {},
   "source": [
    "So far all of the previous examples have applied a scalar or a function\n",
    "transformation to each element of an array.\n",
    "\n",
    "Operations between 2 arrays are also defined, and by default perform elementwise\n",
    "operations.  They are defined normally when the arrays are of the same shape.\n",
    "An example should make this clearer."
   ]
  },
  {
   "cell_type": "code",
   "execution_count": 35,
   "metadata": {},
   "outputs": [],
   "source": [
    "# arrays of same size and shape\n",
    "a = np.array([1, 5, 7, 9])\n",
    "b = np.array([-1, 4, -10, 6])"
   ]
  },
  {
   "cell_type": "code",
   "execution_count": 36,
   "metadata": {},
   "outputs": [
    {
     "data": {
      "text/plain": [
       "array([ 0,  9, -3, 15])"
      ]
     },
     "execution_count": 36,
     "metadata": {},
     "output_type": "execute_result"
    }
   ],
   "source": [
    "a + b"
   ]
  },
  {
   "cell_type": "code",
   "execution_count": 37,
   "metadata": {},
   "outputs": [
    {
     "data": {
      "text/plain": [
       "array([ 2,  1, 17,  3])"
      ]
     },
     "execution_count": 37,
     "metadata": {},
     "output_type": "execute_result"
    }
   ],
   "source": [
    "a - b"
   ]
  },
  {
   "cell_type": "markdown",
   "metadata": {},
   "source": [
    "In some vectorized languages, multiplication opeator `*` is defined to perform\n",
    "matrix multiplcation by default.  For NumPy arrays, it performs elementwise\n",
    "multiplication by default."
   ]
  },
  {
   "cell_type": "code",
   "execution_count": 38,
   "metadata": {},
   "outputs": [
    {
     "data": {
      "text/plain": [
       "array([[2, 0],\n",
       "       [0, 4]])"
      ]
     },
     "execution_count": 38,
     "metadata": {},
     "output_type": "execute_result"
    }
   ],
   "source": [
    "A = np.array( [ [1, 1],\n",
    "                [0, 1] ])\n",
    "\n",
    "B = np.array( [ [2, 0],\n",
    "                [3, 4] ])\n",
    "\n",
    "# this is just the elementwise product of the two matrices\n",
    "A * B"
   ]
  },
  {
   "cell_type": "markdown",
   "metadata": {},
   "source": [
    "If you need true matrix multiplication, the `@` operator has been overloaded\n",
    "in recent versions of Numpy for matrix multiplication, or you can use the\n",
    "`np.dot()` function which computes the dot product, another name for matrix\n",
    "multiplication."
   ]
  },
  {
   "cell_type": "code",
   "execution_count": 39,
   "metadata": {},
   "outputs": [
    {
     "data": {
      "text/plain": [
       "array([[5, 4],\n",
       "       [3, 4]])"
      ]
     },
     "execution_count": 39,
     "metadata": {},
     "output_type": "execute_result"
    }
   ],
   "source": [
    "# matrix multiplication\n",
    "A @ B"
   ]
  },
  {
   "cell_type": "code",
   "execution_count": 40,
   "metadata": {},
   "outputs": [
    {
     "data": {
      "text/plain": [
       "array([[5, 4],\n",
       "       [3, 4]])"
      ]
     },
     "execution_count": 40,
     "metadata": {},
     "output_type": "execute_result"
    }
   ],
   "source": [
    "# also the dot() member function performs matrix multiplication\n",
    "A.dot(B)"
   ]
  },
  {
   "cell_type": "markdown",
   "metadata": {},
   "source": [
    "## Combining vectorized operations\n",
    "\n",
    "In the previous examples we  showed that elementwise vectorized operations can be chained.\n",
    "The result of taking the absolute value of the matrix was then fed to the\n",
    "`log()` function, so we applied absolute value followed by log function\n",
    "operations successively to each value of array b.\n",
    "\n",
    "We also showed that when 2 arrays are used on both sides of an operation, the\n",
    "result is an elementwise vectorized operation.\n",
    "\n",
    "In general more complex vectorized expressions can be built up by composing\n",
    "many basic vectorized operations together.  So for example, jumping ahead a bit,\n",
    "but a very common thing we might do is something like the following."
   ]
  },
  {
   "cell_type": "code",
   "execution_count": 41,
   "metadata": {},
   "outputs": [],
   "source": [
    "# x values range from -4 to 4\n",
    "x = np.linspace(-4.0, 4.0, 1000)"
   ]
  },
  {
   "cell_type": "markdown",
   "metadata": {},
   "source": [
    "Calculate and display function\n",
    "\n",
    "$$\n",
    "f(x) = 50 \\sin(x^2) + \\frac{1}{2} x^3 - 10 \\cos(\\frac{x}{2})\n",
    "$$"
   ]
  },
  {
   "cell_type": "code",
   "execution_count": 42,
   "metadata": {},
   "outputs": [],
   "source": [
    "# calculate the function f(x) composed of elementwise transformations\n",
    "y = 50.0 * np.sin(x**2.0) + 0.5 * x**3.0 - 10.0 * np.cos(x/2.0)"
   ]
  },
  {
   "cell_type": "code",
   "execution_count": 43,
   "metadata": {},
   "outputs": [
    {
     "data": {
      "image/png": "[encoded data removed]",
      "text/plain": [
       "<Figure size 720x576 with 1 Axes>"
      ]
     },
     "metadata": {
      "needs_background": "light"
     },
     "output_type": "display_data"
    }
   ],
   "source": [
    "# display the resulting function as a plot\n",
    "import matplotlib.pyplot as plt\n",
    "plt.figure(figsize=(10,8))\n",
    "plt.plot(x, y);"
   ]
  },
  {
   "cell_type": "markdown",
   "metadata": {},
   "source": [
    "## Array member functions\n",
    "\n",
    "In addition to many universal functions (like the vectorized math\n",
    "functions) provided by NumPy, there ae many member functions of\n",
    "an array itself that we will use.  These member functions\n",
    "are sometimes known as unary operations.\n",
    "[ndarray member function reference](https://numpy.org/doc/stable/reference/generated/numpy.ndarray.html)\n",
    "\n",
    "A few examples of some useful array member functions."
   ]
  },
  {
   "cell_type": "code",
   "execution_count": 44,
   "metadata": {},
   "outputs": [
    {
     "data": {
      "text/plain": [
       "array([[5, 3, 4, 2, 5, 4],\n",
       "       [2, 2, 1, 4, 1, 3],\n",
       "       [1, 2, 1, 2, 2, 5]])"
      ]
     },
     "execution_count": 44,
     "metadata": {},
     "output_type": "execute_result"
    }
   ],
   "source": [
    "# array of random integers\n",
    "a = np.random.randint(1, 6, (3,6))\n",
    "a"
   ]
  },
  {
   "cell_type": "code",
   "execution_count": 45,
   "metadata": {},
   "outputs": [
    {
     "data": {
      "text/plain": [
       "1"
      ]
     },
     "execution_count": 45,
     "metadata": {},
     "output_type": "execute_result"
    }
   ],
   "source": [
    "# minimum value of the array\n",
    "a.min()"
   ]
  },
  {
   "cell_type": "code",
   "execution_count": 46,
   "metadata": {},
   "outputs": [
    {
     "data": {
      "text/plain": [
       "array([1, 2, 1, 2, 1, 3])"
      ]
     },
     "execution_count": 46,
     "metadata": {},
     "output_type": "execute_result"
    }
   ],
   "source": [
    "# minimum of each column, use axis=0\n",
    "a.min(axis=0)"
   ]
  },
  {
   "cell_type": "code",
   "execution_count": 47,
   "metadata": {},
   "outputs": [
    {
     "data": {
      "text/plain": [
       "array([2, 1, 1])"
      ]
     },
     "execution_count": 47,
     "metadata": {},
     "output_type": "execute_result"
    }
   ],
   "source": [
    "# minimum of each row, use axis=1\n",
    "a.min(axis=1)"
   ]
  },
  {
   "cell_type": "code",
   "execution_count": 48,
   "metadata": {},
   "outputs": [
    {
     "data": {
      "text/plain": [
       "2.7222222222222223"
      ]
     },
     "execution_count": 48,
     "metadata": {},
     "output_type": "execute_result"
    }
   ],
   "source": [
    "# mean of all values\n",
    "a.mean()"
   ]
  },
  {
   "cell_type": "code",
   "execution_count": 49,
   "metadata": {},
   "outputs": [
    {
     "data": {
      "text/plain": [
       "49"
      ]
     },
     "execution_count": 49,
     "metadata": {},
     "output_type": "execute_result"
    }
   ],
   "source": [
    "# sum of all values\n",
    "a.sum()"
   ]
  },
  {
   "cell_type": "code",
   "execution_count": 50,
   "metadata": {},
   "outputs": [
    {
     "data": {
      "text/plain": [
       "array([ 8,  7,  6,  8,  8, 12])"
      ]
     },
     "execution_count": 50,
     "metadata": {},
     "output_type": "execute_result"
    }
   ],
   "source": [
    "# sum of each column\n",
    "a.sum(axis=0)"
   ]
  },
  {
   "cell_type": "code",
   "execution_count": 51,
   "metadata": {},
   "outputs": [
    {
     "data": {
      "text/plain": [
       "array([[5, 3, 4],\n",
       "       [2, 5, 4],\n",
       "       [2, 2, 1],\n",
       "       [4, 1, 3],\n",
       "       [1, 2, 1],\n",
       "       [2, 2, 5]])"
      ]
     },
     "execution_count": 51,
     "metadata": {},
     "output_type": "execute_result"
    }
   ],
   "source": [
    "# reshape the array\n",
    "a.reshape( (6,3) )"
   ]
  },
  {
   "cell_type": "code",
   "execution_count": 52,
   "metadata": {},
   "outputs": [
    {
     "data": {
      "text/plain": [
       "array([[[5, 3, 4],\n",
       "        [2, 5, 4],\n",
       "        [2, 2, 1]],\n",
       "\n",
       "       [[4, 1, 3],\n",
       "        [1, 2, 1],\n",
       "        [2, 2, 5]]])"
      ]
     },
     "execution_count": 52,
     "metadata": {},
     "output_type": "execute_result"
    }
   ],
   "source": [
    "a.reshape( (2,3,3) )"
   ]
  },
  {
   "cell_type": "code",
   "execution_count": 53,
   "metadata": {},
   "outputs": [
    {
     "data": {
      "text/plain": [
       "array([5, 3, 4, 2, 5, 4, 2, 2, 1, 4, 1, 3, 1, 2, 1, 2, 2, 5])"
      ]
     },
     "execution_count": 53,
     "metadata": {},
     "output_type": "execute_result"
    }
   ],
   "source": [
    "a.flatten()"
   ]
  },
  {
   "cell_type": "markdown",
   "metadata": {},
   "source": [
    "## Elementwise logical expressions\n",
    "\n",
    "Logical expressions work elementwise for NumPy arrays, just like numerical\n",
    "expressions.  The result will be an array of boolean values.\n",
    "\n",
    "So for example you can use the logical operators like `<`, `>=`, `==`, etc.\n",
    "to get a result of booleans."
   ]
  },
  {
   "cell_type": "code",
   "execution_count": 54,
   "metadata": {},
   "outputs": [
    {
     "data": {
      "text/plain": [
       "array([[5, 3, 4, 2, 5, 4],\n",
       "       [2, 2, 1, 4, 1, 3],\n",
       "       [1, 2, 1, 2, 2, 5]])"
      ]
     },
     "execution_count": 54,
     "metadata": {},
     "output_type": "execute_result"
    }
   ],
   "source": [
    "a"
   ]
  },
  {
   "cell_type": "code",
   "execution_count": 55,
   "metadata": {},
   "outputs": [
    {
     "data": {
      "text/plain": [
       "array([[False, False, False, False, False, False],\n",
       "       [False, False,  True, False,  True, False],\n",
       "       [ True, False,  True, False, False, False]])"
      ]
     },
     "execution_count": 55,
     "metadata": {},
     "output_type": "execute_result"
    }
   ],
   "source": [
    "a == 1"
   ]
  },
  {
   "cell_type": "code",
   "execution_count": 56,
   "metadata": {},
   "outputs": [
    {
     "data": {
      "text/plain": [
       "array([[False, False, False,  True, False, False],\n",
       "       [ True,  True,  True, False,  True, False],\n",
       "       [ True,  True,  True,  True,  True, False]])"
      ]
     },
     "execution_count": 56,
     "metadata": {},
     "output_type": "execute_result"
    }
   ],
   "source": [
    "a <= 2"
   ]
  },
  {
   "cell_type": "markdown",
   "metadata": {},
   "source": [
    "We will see later on when we perform boolean indexing how and why this\n",
    "might be useful.\n",
    "\n",
    "You can make more complex boolean expressions, however the logical operators\n",
    "like `and` `or` and `not` do not work on arrays for elementwise boolean\n",
    "expressions, so the following will fail if you want the locations in\n",
    "a where the value is either a 1 or a 5."
   ]
  },
  {
   "cell_type": "code",
   "execution_count": 57,
   "metadata": {},
   "outputs": [
    {
     "name": "stdout",
     "output_type": "stream",
     "text": [
      "ValueError was generated: The truth value of an array with more than one element is ambiguous. Use a.any() or a.all()\n"
     ]
    }
   ],
   "source": [
    "try:\n",
    "    (a == 1) or (a == 5)\n",
    "except ValueError:\n",
    "    print(\"ValueError was generated: The truth value of an array with more than one element is ambiguous. Use a.any() or a.all()\")"
   ]
  },
  {
   "cell_type": "markdown",
   "metadata": {},
   "source": [
    "The error message here is misleading.  You should use the numpy logical functions\n",
    "to perform these operations, like this."
   ]
  },
  {
   "cell_type": "code",
   "execution_count": 58,
   "metadata": {},
   "outputs": [
    {
     "data": {
      "text/plain": [
       "array([[ True, False, False, False,  True, False],\n",
       "       [False, False,  True, False,  True, False],\n",
       "       [ True, False,  True, False, False,  True]])"
      ]
     },
     "execution_count": 58,
     "metadata": {},
     "output_type": "execute_result"
    }
   ],
   "source": [
    "np.logical_or(a == 1, a == 5)"
   ]
  },
  {
   "cell_type": "markdown",
   "metadata": {},
   "source": [
    "Also, though `and` and `or` were not overloaded to perform elementwise logical\n",
    "comparision, instead the bitwise operators were overloaded for NumPy arrays\n",
    "for this purpose.  These are the operators `&` for and `|` for or,\n",
    "`~` for not and `^` for xor.  \n",
    "\n",
    "So you will often commonly see these operators used instead to create logical\n",
    "expressions between multiple NumPy arrays."
   ]
  },
  {
   "cell_type": "code",
   "execution_count": 59,
   "metadata": {},
   "outputs": [
    {
     "data": {
      "text/plain": [
       "array([[ True, False, False, False,  True, False],\n",
       "       [False, False,  True, False,  True, False],\n",
       "       [ True, False,  True, False, False,  True]])"
      ]
     },
     "execution_count": 59,
     "metadata": {},
     "output_type": "execute_result"
    }
   ],
   "source": [
    "(a == 1) | (a == 5)"
   ]
  },
  {
   "cell_type": "markdown",
   "metadata": {},
   "source": [
    "# Indexing, Slicing and Iterating\n",
    "\n",
    "It is important you understand array slicing.  A one-dimensional array\n",
    "can be indexed, sliced and iterated over in pretty much an identical\n",
    "manner to lists and other Python sequences."
   ]
  },
  {
   "cell_type": "code",
   "execution_count": 60,
   "metadata": {},
   "outputs": [
    {
     "data": {
      "text/plain": [
       "array([  0,   1,   8,  27,  64, 125, 216, 343, 512, 729])"
      ]
     },
     "execution_count": 60,
     "metadata": {},
     "output_type": "execute_result"
    }
   ],
   "source": [
    "# a 1-dimensional array of 10 values\n",
    "a = np.arange(10)**3\n",
    "a"
   ]
  },
  {
   "cell_type": "code",
   "execution_count": 61,
   "metadata": {},
   "outputs": [
    {
     "data": {
      "text/plain": [
       "8"
      ]
     },
     "execution_count": 61,
     "metadata": {},
     "output_type": "execute_result"
    }
   ],
   "source": [
    "# index the 3rd element at index 2\n",
    "a[2]"
   ]
  },
  {
   "cell_type": "code",
   "execution_count": 62,
   "metadata": {},
   "outputs": [
    {
     "data": {
      "text/plain": [
       "array([ 8, 27, 64])"
      ]
     },
     "execution_count": 62,
     "metadata": {},
     "output_type": "execute_result"
    }
   ],
   "source": [
    "# get a slice from element 2 to up to by not including element 5\n",
    "a[2:5]"
   ]
  },
  {
   "cell_type": "code",
   "execution_count": 63,
   "metadata": {},
   "outputs": [
    {
     "data": {
      "text/plain": [
       "array([  0,   8,  64, 216])"
      ]
     },
     "execution_count": 63,
     "metadata": {},
     "output_type": "execute_result"
    }
   ],
   "source": [
    "# use step size to get even values from start up to element 6\n",
    "a[:7:2]"
   ]
  },
  {
   "cell_type": "code",
   "execution_count": 64,
   "metadata": {},
   "outputs": [
    {
     "data": {
      "text/plain": [
       "array([729, 512, 343, 216, 125,  64,  27,   8,   1,   0])"
      ]
     },
     "execution_count": 64,
     "metadata": {},
     "output_type": "execute_result"
    }
   ],
   "source": [
    "# reverse the array\n",
    "a[::-1]"
   ]
  },
  {
   "cell_type": "code",
   "execution_count": 65,
   "metadata": {},
   "outputs": [
    {
     "name": "stdout",
     "output_type": "stream",
     "text": [
      "0.0\n",
      "1.0\n",
      "2.0\n",
      "3.0\n",
      "3.9999999999999996\n",
      "4.999999999999999\n",
      "5.999999999999999\n",
      "6.999999999999999\n",
      "7.999999999999999\n",
      "8.999999999999998\n"
     ]
    }
   ],
   "source": [
    "# iterate over elements in the array\n",
    "for val in a:\n",
    "    print(val**(1.0/3.0))"
   ]
  },
  {
   "cell_type": "markdown",
   "metadata": {},
   "source": [
    "Although as we noted in a previous video, there is one big difference between\n",
    "arrays and regular Python sequences when it comes to slicing.\n",
    "\n",
    "When you slice an array, you get a view of the array."
   ]
  },
  {
   "cell_type": "code",
   "execution_count": 66,
   "metadata": {},
   "outputs": [
    {
     "data": {
      "text/plain": [
       "array([ 8, 27, 64])"
      ]
     },
     "execution_count": 66,
     "metadata": {},
     "output_type": "execute_result"
    }
   ],
   "source": [
    "b = a[2:5]\n",
    "b"
   ]
  },
  {
   "cell_type": "code",
   "execution_count": 67,
   "metadata": {},
   "outputs": [
    {
     "data": {
      "text/plain": [
       "array([  0,   1,   0,   0,   0, 125, 216, 343, 512, 729])"
      ]
     },
     "execution_count": 67,
     "metadata": {},
     "output_type": "execute_result"
    }
   ],
   "source": [
    "a[2:5] = 0\n",
    "a"
   ]
  },
  {
   "cell_type": "code",
   "execution_count": 68,
   "metadata": {},
   "outputs": [
    {
     "data": {
      "text/plain": [
       "array([0, 0, 0])"
      ]
     },
     "execution_count": 68,
     "metadata": {},
     "output_type": "execute_result"
    }
   ],
   "source": [
    "b"
   ]
  },
  {
   "cell_type": "markdown",
   "metadata": {},
   "source": [
    "So notice by change the values to 0 in a, the view in b now also shows them as 0.\n",
    "\n",
    "But be aware that some operations work in place, so the view will stay, but some\n",
    "operations end up creating a new copy of hte values.  For example."
   ]
  },
  {
   "cell_type": "code",
   "execution_count": 69,
   "metadata": {},
   "outputs": [
    {
     "data": {
      "text/plain": [
       "array([ 0, 10,  0])"
      ]
     },
     "execution_count": 69,
     "metadata": {},
     "output_type": "execute_result"
    }
   ],
   "source": [
    "# b is still a view\n",
    "b[1] = 10\n",
    "b"
   ]
  },
  {
   "cell_type": "code",
   "execution_count": 70,
   "metadata": {},
   "outputs": [
    {
     "data": {
      "text/plain": [
       "array([  0,   1,   0,  10,   0, 125, 216, 343, 512, 729])"
      ]
     },
     "execution_count": 70,
     "metadata": {},
     "output_type": "execute_result"
    }
   ],
   "source": [
    "# sow the change to a value of 10 shows up in a as well\n",
    "a"
   ]
  },
  {
   "cell_type": "code",
   "execution_count": 71,
   "metadata": {},
   "outputs": [
    {
     "data": {
      "text/plain": [
       "array([ 5, 15,  5])"
      ]
     },
     "execution_count": 71,
     "metadata": {},
     "output_type": "execute_result"
    }
   ],
   "source": [
    "# operators +=, *=, etc. will work in place, so b remains a view of a\n",
    "b += 5\n",
    "b"
   ]
  },
  {
   "cell_type": "code",
   "execution_count": 72,
   "metadata": {},
   "outputs": [
    {
     "data": {
      "text/plain": [
       "array([  0,   1,   5,  15,   5, 125, 216, 343, 512, 729])"
      ]
     },
     "execution_count": 72,
     "metadata": {},
     "output_type": "execute_result"
    }
   ],
   "source": [
    "a"
   ]
  },
  {
   "cell_type": "code",
   "execution_count": 73,
   "metadata": {},
   "outputs": [
    {
     "data": {
      "text/plain": [
       "array([10, 20, 10])"
      ]
     },
     "execution_count": 73,
     "metadata": {},
     "output_type": "execute_result"
    }
   ],
   "source": [
    "# but performing the same operation again, but using just a regular assignment\n",
    "# causes a copy to be made\n",
    "b = b + 5\n",
    "b"
   ]
  },
  {
   "cell_type": "code",
   "execution_count": 74,
   "metadata": {},
   "outputs": [
    {
     "data": {
      "text/plain": [
       "array([  0,   1,   5,  15,   5, 125, 216, 343, 512, 729])"
      ]
     },
     "execution_count": 74,
     "metadata": {},
     "output_type": "execute_result"
    }
   ],
   "source": [
    "a"
   ]
  },
  {
   "cell_type": "markdown",
   "metadata": {},
   "source": [
    "The lesson of the last example is you do have to be a bit careful.  I usually\n",
    "assume slices will be views.  Making a view rather than a copy is done for\n",
    "efficiency reasons.  A primary goal of NumPy is to provide efficient numerical\n",
    "in memory calculations.  So copying arrays when evaluating results is avoided\n",
    "if at all possible, thus views are the normal result from a slice."
   ]
  },
  {
   "cell_type": "markdown",
   "metadata": {},
   "source": [
    "## Multidimensional indexing and slicing\n",
    "\n",
    "When your `ndarray` has 2 or more dimensions, you can still perform indexing\n",
    "and slicing operations.  All of the same indexing and slicing syntax is\n",
    "available on a NumPy array for every dimension of the array.\n",
    "\n",
    "So for a multidimensional array you can hae one indexing/slicing expression\n",
    "per axis.  These indices are given in a tuple separated by commas.\n"
   ]
  },
  {
   "cell_type": "code",
   "execution_count": 75,
   "metadata": {},
   "outputs": [
    {
     "data": {
      "text/plain": [
       "array([[ 0,  1,  4,  9],\n",
       "       [ 3,  4,  7, 12],\n",
       "       [ 6,  7, 10, 15],\n",
       "       [ 9, 10, 13, 18],\n",
       "       [12, 13, 16, 21]])"
      ]
     },
     "execution_count": 75,
     "metadata": {},
     "output_type": "execute_result"
    }
   ],
   "source": [
    "# construct array as a function of each coordinate.  Since\n",
    "# the array is 2 dimensional, the function will receive two coordinates,\n",
    "# the row number and column number\n",
    "def f(row, col):\n",
    "    return 3*row + col**2\n",
    "\n",
    "# create an 2-dimensional array of integers\n",
    "b = np.fromfunction(f, (5,4), dtype=int)\n",
    "b"
   ]
  },
  {
   "cell_type": "code",
   "execution_count": 76,
   "metadata": {},
   "outputs": [
    {
     "data": {
      "text/plain": [
       "15"
      ]
     },
     "execution_count": 76,
     "metadata": {},
     "output_type": "execute_result"
    }
   ],
   "source": [
    "# item at row 2, column 3\n",
    "b[2,3]"
   ]
  },
  {
   "cell_type": "code",
   "execution_count": 77,
   "metadata": {},
   "outputs": [
    {
     "data": {
      "text/plain": [
       "10"
      ]
     },
     "execution_count": 77,
     "metadata": {},
     "output_type": "execute_result"
    }
   ],
   "source": [
    "# item at row 3, column 1\n",
    "b[3,1]"
   ]
  },
  {
   "cell_type": "markdown",
   "metadata": {},
   "source": [
    "We can extract a column or set of columns.  This is common if/when we want to\n",
    "perform an operation on some attribute or feature of a data set."
   ]
  },
  {
   "cell_type": "code",
   "execution_count": 78,
   "metadata": {},
   "outputs": [
    {
     "data": {
      "text/plain": [
       "array([ 1,  4,  7, 10, 13])"
      ]
     },
     "execution_count": 78,
     "metadata": {},
     "output_type": "execute_result"
    }
   ],
   "source": [
    "# all rows, the column 1 only of them\n",
    "b[0:5, 1]"
   ]
  },
  {
   "cell_type": "code",
   "execution_count": 79,
   "metadata": {},
   "outputs": [
    {
     "data": {
      "text/plain": [
       "array([ 1,  4,  7, 10, 13])"
      ]
     },
     "execution_count": 79,
     "metadata": {},
     "output_type": "execute_result"
    }
   ],
   "source": [
    "# since there are only 5 rows, this is equivalent to extract column 1\n",
    "b[:, 1]"
   ]
  },
  {
   "cell_type": "markdown",
   "metadata": {},
   "source": [
    "Likewise we can extract rows.  This is common to get a subset of samples from\n",
    "a data set.  "
   ]
  },
  {
   "cell_type": "code",
   "execution_count": 80,
   "metadata": {},
   "outputs": [
    {
     "data": {
      "text/plain": [
       "array([[ 6,  7, 10, 15],\n",
       "       [ 9, 10, 13, 18]])"
      ]
     },
     "execution_count": 80,
     "metadata": {},
     "output_type": "execute_result"
    }
   ],
   "source": [
    "# extract rows 2 and 3, all columns\n",
    "b[2:4, :]"
   ]
  },
  {
   "cell_type": "markdown",
   "metadata": {},
   "source": [
    "If we want all columns, you can omit any final dimensions where you want all values\n",
    "in them.  So to get rows 2 and 3 we simply do the following.  We will use this\n",
    "type of slice frequently to extract samples from a table of data values we are\n",
    "manipulating."
   ]
  },
  {
   "cell_type": "code",
   "execution_count": 81,
   "metadata": {},
   "outputs": [
    {
     "data": {
      "text/plain": [
       "array([[ 6,  7, 10, 15],\n",
       "       [ 9, 10, 13, 18]])"
      ]
     },
     "execution_count": 81,
     "metadata": {},
     "output_type": "execute_result"
    }
   ],
   "source": [
    "b[2:4]"
   ]
  },
  {
   "cell_type": "markdown",
   "metadata": {},
   "source": [
    "We can get even more complex, like get the values in the middle and use\n",
    "steps, which sometimes can be useful."
   ]
  },
  {
   "cell_type": "code",
   "execution_count": 82,
   "metadata": {},
   "outputs": [
    {
     "data": {
      "text/plain": [
       "array([[ 4,  7],\n",
       "       [ 7, 10],\n",
       "       [10, 13]])"
      ]
     },
     "execution_count": 82,
     "metadata": {},
     "output_type": "execute_result"
    }
   ],
   "source": [
    "# the clip off first and last row and column to get middle values\n",
    "b[1:-1, 1:-1]"
   ]
  },
  {
   "cell_type": "code",
   "execution_count": 83,
   "metadata": {},
   "outputs": [
    {
     "data": {
      "text/plain": [
       "array([[ 0,  1,  4,  9],\n",
       "       [ 6,  7, 10, 15],\n",
       "       [12, 13, 16, 21]])"
      ]
     },
     "execution_count": 83,
     "metadata": {},
     "output_type": "execute_result"
    }
   ],
   "source": [
    "# get every other row\n",
    "b[::2]"
   ]
  },
  {
   "cell_type": "code",
   "execution_count": 84,
   "metadata": {},
   "outputs": [
    {
     "data": {
      "text/plain": [
       "array([[ 1,  9],\n",
       "       [ 4, 12],\n",
       "       [ 7, 15],\n",
       "       [10, 18],\n",
       "       [13, 21]])"
      ]
     },
     "execution_count": 84,
     "metadata": {},
     "output_type": "execute_result"
    }
   ],
   "source": [
    "# get every other column, start at column 1\n",
    "b[:,1::2]"
   ]
  },
  {
   "cell_type": "markdown",
   "metadata": {},
   "source": [
    "An notice like we did before for a single dimension, we can use a slice to\n",
    "manipulate only the values in a row or column, or in general some slice."
   ]
  },
  {
   "cell_type": "code",
   "execution_count": 85,
   "metadata": {},
   "outputs": [
    {
     "data": {
      "text/plain": [
       "array([[  0,   1,  -4,   9],\n",
       "       [  3,   4,  -7,  12],\n",
       "       [  6,   7, -10,  15],\n",
       "       [ -1,   0, -23,   8],\n",
       "       [ 12,  13, -16,  21]])"
      ]
     },
     "execution_count": 85,
     "metadata": {},
     "output_type": "execute_result"
    }
   ],
   "source": [
    "# make column 2 be the negative of its current value\n",
    "b[:,2] = -b[:,2]\n",
    "\n",
    "# subtract 10 from values in row 3\n",
    "b[3] -= 10\n",
    "\n",
    "b"
   ]
  },
  {
   "cell_type": "markdown",
   "metadata": {},
   "source": [
    "We almost never iterate over NumPy arrays.  If you are iterating over a NumPy\n",
    "array you are probably not using more efficient vectorized elementwise operations.\n",
    "\n",
    "However, we can do it like we did for a single dimensional array.  If we do it for\n",
    "the 2-dimensional array, we will iterate over each row "
   ]
  },
  {
   "cell_type": "code",
   "execution_count": 86,
   "metadata": {},
   "outputs": [
    {
     "name": "stdout",
     "output_type": "stream",
     "text": [
      "[ 0  1 -4  9]\n",
      "[ 3  4 -7 12]\n",
      "[  6   7 -10  15]\n",
      "[ -1   0 -23   8]\n",
      "[ 12  13 -16  21]\n"
     ]
    }
   ],
   "source": [
    "for row in b:\n",
    "    print(row)"
   ]
  },
  {
   "cell_type": "markdown",
   "metadata": {},
   "source": [
    "If you want to iterate over every element, you can flatten the array using\n",
    "either the `flatten()` method, or better use the `flat` attribute of arrays which\n",
    "gives a 1-dimensional view into the array."
   ]
  },
  {
   "cell_type": "code",
   "execution_count": 87,
   "metadata": {},
   "outputs": [
    {
     "name": "stdout",
     "output_type": "stream",
     "text": [
      "0\n",
      "1\n",
      "-4\n",
      "9\n",
      "3\n",
      "4\n",
      "-7\n",
      "12\n",
      "6\n",
      "7\n",
      "-10\n",
      "15\n",
      "-1\n",
      "0\n",
      "-23\n",
      "8\n",
      "12\n",
      "13\n",
      "-16\n",
      "21\n"
     ]
    }
   ],
   "source": [
    "for element in b.flat:\n",
    "    print(element)"
   ]
  },
  {
   "cell_type": "markdown",
   "metadata": {},
   "source": [
    "If you want to iterate over columns, you can use an explicit index and slice it."
   ]
  },
  {
   "cell_type": "code",
   "execution_count": 88,
   "metadata": {},
   "outputs": [
    {
     "name": "stdout",
     "output_type": "stream",
     "text": [
      "[ 0  3  6 -1 12]\n",
      "[ 1  4  7  0 13]\n",
      "[ -4  -7 -10 -23 -16]\n",
      "[ 9 12 15  8 21]\n"
     ]
    }
   ],
   "source": [
    "# extract number of cols in b\n",
    "rows,cols = b.shape\n",
    "for col in range(cols):\n",
    "    print(b[:,col])"
   ]
  },
  {
   "cell_type": "markdown",
   "metadata": {},
   "source": [
    "# Reshaping and Stacking arrays\n",
    "\n",
    "We already showed some examples of reshaping an array.  In general you can\n",
    "always flatten an array to a one-dimensional vector if needed.  All\n",
    "reshaping will always end up with the same number of elements, just shaped into\n",
    "different dimensions."
   ]
  },
  {
   "cell_type": "code",
   "execution_count": 89,
   "metadata": {},
   "outputs": [
    {
     "data": {
      "text/plain": [
       "(5, 4)"
      ]
     },
     "execution_count": 89,
     "metadata": {},
     "output_type": "execute_result"
    }
   ],
   "source": [
    "b.shape"
   ]
  },
  {
   "cell_type": "code",
   "execution_count": 90,
   "metadata": {},
   "outputs": [
    {
     "data": {
      "text/plain": [
       "array([  0,   1,  -4,   9,   3,   4,  -7,  12,   6,   7, -10,  15,  -1,\n",
       "         0, -23,   8,  12,  13, -16,  21])"
      ]
     },
     "execution_count": 90,
     "metadata": {},
     "output_type": "execute_result"
    }
   ],
   "source": [
    "b.flatten()"
   ]
  },
  {
   "cell_type": "code",
   "execution_count": 91,
   "metadata": {},
   "outputs": [
    {
     "data": {
      "text/plain": [
       "array([[[  0,   1],\n",
       "        [ -4,   9],\n",
       "        [  3,   4],\n",
       "        [ -7,  12],\n",
       "        [  6,   7]],\n",
       "\n",
       "       [[-10,  15],\n",
       "        [ -1,   0],\n",
       "        [-23,   8],\n",
       "        [ 12,  13],\n",
       "        [-16,  21]]])"
      ]
     },
     "execution_count": 91,
     "metadata": {},
     "output_type": "execute_result"
    }
   ],
   "source": [
    "# reshape as 3-dimenstional, 2 tables of 5 rows and 2 columns\n",
    "b.reshape((2,5,2))"
   ]
  },
  {
   "cell_type": "markdown",
   "metadata": {},
   "source": [
    "Several arrays can be stacked together along different axes.  The\n",
    "size of the axis/dimension being stacked along will need to match for\n",
    "the stacking to work."
   ]
  },
  {
   "cell_type": "code",
   "execution_count": 92,
   "metadata": {},
   "outputs": [
    {
     "data": {
      "text/plain": [
       "array([[1, 0],\n",
       "       [1, 4]])"
      ]
     },
     "execution_count": 92,
     "metadata": {},
     "output_type": "execute_result"
    }
   ],
   "source": [
    "a = np.random.randint(0, 5, (2,2))\n",
    "a"
   ]
  },
  {
   "cell_type": "code",
   "execution_count": 93,
   "metadata": {},
   "outputs": [
    {
     "data": {
      "text/plain": [
       "array([[3, 3],\n",
       "       [1, 2]])"
      ]
     },
     "execution_count": 93,
     "metadata": {},
     "output_type": "execute_result"
    }
   ],
   "source": [
    "b = np.random.randint(0, 5, (2,2))\n",
    "b"
   ]
  },
  {
   "cell_type": "code",
   "execution_count": 94,
   "metadata": {},
   "outputs": [
    {
     "data": {
      "text/plain": [
       "array([[1, 0],\n",
       "       [1, 4],\n",
       "       [3, 3],\n",
       "       [1, 2]])"
      ]
     },
     "execution_count": 94,
     "metadata": {},
     "output_type": "execute_result"
    }
   ],
   "source": [
    "# vertical stacking, put a on top of be\n",
    "# notice you need to pass in the arrays as a tuple here, because you can actually\n",
    "# stack 3 or more arrays of the same number of columns if you wish.\n",
    "np.vstack((a,b))"
   ]
  },
  {
   "cell_type": "code",
   "execution_count": 95,
   "metadata": {},
   "outputs": [
    {
     "data": {
      "text/plain": [
       "array([[1, 0, 3, 3],\n",
       "       [1, 4, 1, 2]])"
      ]
     },
     "execution_count": 95,
     "metadata": {},
     "output_type": "execute_result"
    }
   ],
   "source": [
    "# horizontal stacking, stack b beside a\n",
    "np.hstack((a,b))"
   ]
  },
  {
   "cell_type": "markdown",
   "metadata": {},
   "source": [
    "# Advanced Indexing and Index Tricks\n",
    "\n",
    "NumPy offers more indexing facilities than retular Python sequences.\n",
    "In addition to indexing by integers and slices (as we saw above), arrays\n",
    "can be indexed by arrays of integers and arrays of booleans."
   ]
  },
  {
   "cell_type": "markdown",
   "metadata": {},
   "source": [
    "## Indexing with arrays of indices\n",
    "\n",
    "If we have an array of indexes (also works with a regular Python sequence of \n",
    "indexes, like a list), we can use this to index into an array.\n",
    "\n",
    "For example."
   ]
  },
  {
   "cell_type": "code",
   "execution_count": 96,
   "metadata": {},
   "outputs": [
    {
     "data": {
      "text/plain": [
       "array([[ 0,  1,  4,  9],\n",
       "       [ 3,  4,  7, 12],\n",
       "       [ 6,  7, 10, 15],\n",
       "       [ 9, 10, 13, 18],\n",
       "       [12, 13, 16, 21]])"
      ]
     },
     "execution_count": 96,
     "metadata": {},
     "output_type": "execute_result"
    }
   ],
   "source": [
    "# use our 2-dimensional array b again from before \n",
    "\n",
    "# construct array as a function of each coordinate.  Since\n",
    "# the array is 2 dimensional, the function will receive two coordinates,\n",
    "# the row number and column number\n",
    "def f(row, col):\n",
    "    return 3*row + col**2\n",
    "\n",
    "# create an 2-dimensional array of integers\n",
    "b = np.fromfunction(f, (5,4), dtype=int)\n",
    "b"
   ]
  },
  {
   "cell_type": "code",
   "execution_count": 97,
   "metadata": {},
   "outputs": [
    {
     "data": {
      "text/plain": [
       "array([[ 3,  4,  7, 12],\n",
       "       [ 9, 10, 13, 18],\n",
       "       [12, 13, 16, 21]])"
      ]
     },
     "execution_count": 97,
     "metadata": {},
     "output_type": "execute_result"
    }
   ],
   "source": [
    "# selection rows 1 3 and 4 only\n",
    "rows = np.array([1,3,4])\n",
    "b[rows]"
   ]
  },
  {
   "cell_type": "code",
   "execution_count": 98,
   "metadata": {},
   "outputs": [
    {
     "data": {
      "text/plain": [
       "array([[ 3,  4,  7, 12],\n",
       "       [ 9, 10, 13, 18],\n",
       "       [12, 13, 16, 21]])"
      ]
     },
     "execution_count": 98,
     "metadata": {},
     "output_type": "execute_result"
    }
   ],
   "source": [
    "# works with a regular python list as well\n",
    "rows = [1, 3, 4]\n",
    "b[rows]"
   ]
  },
  {
   "cell_type": "code",
   "execution_count": 99,
   "metadata": {},
   "outputs": [
    {
     "data": {
      "text/plain": [
       "array([[ 0,  4],\n",
       "       [ 3,  7],\n",
       "       [ 6, 10],\n",
       "       [ 9, 13],\n",
       "       [12, 16]])"
      ]
     },
     "execution_count": 99,
     "metadata": {},
     "output_type": "execute_result"
    }
   ],
   "source": [
    "# works to select columns\n",
    "cols = [0, 2]\n",
    "b[:,cols]"
   ]
  },
  {
   "cell_type": "code",
   "execution_count": 100,
   "metadata": {},
   "outputs": [
    {
     "data": {
      "text/plain": [
       "array([3, 7])"
      ]
     },
     "execution_count": 100,
     "metadata": {},
     "output_type": "execute_result"
    }
   ],
   "source": [
    "# and we can select only some columns from some rows.  But when you supply\n",
    "# both an index for rows and columns, the lists must have the same shape\n",
    "# so to get rows 1,3,4 and only the columns 0 and 2 from them we need\n",
    "# to do something like this\n",
    "\n",
    "# first start simply, get column 0 and 2 from row 1 only\n",
    "rows = np.array([1, 1])\n",
    "cols = np.array([0, 2])\n",
    "b[rows,cols]"
   ]
  },
  {
   "cell_type": "code",
   "execution_count": 101,
   "metadata": {},
   "outputs": [
    {
     "data": {
      "text/plain": [
       "array([[ 3,  7],\n",
       "       [ 9, 13]])"
      ]
     },
     "execution_count": 101,
     "metadata": {},
     "output_type": "execute_result"
    }
   ],
   "source": [
    "# now we want those columns from rows 1 and 3\n",
    "# notice the arrays have to be of the same shape\n",
    "rows = np.array([[1, 1],\n",
    "                 [3, 3]])\n",
    "cols = np.array([[0, 2],\n",
    "                 [0, 2]])\n",
    "\n",
    "b[rows,cols]"
   ]
  },
  {
   "cell_type": "code",
   "execution_count": 102,
   "metadata": {},
   "outputs": [
    {
     "data": {
      "text/plain": [
       "array([[ 3,  7],\n",
       "       [ 9, 13],\n",
       "       [12, 16]])"
      ]
     },
     "execution_count": 102,
     "metadata": {},
     "output_type": "execute_result"
    }
   ],
   "source": [
    "# finally what we really wanted, rows 1,3 and 4 but only columns 0 and 2.\n",
    "# result of this is 3 rows and 2 columns, so our rows and columns\n",
    "# indexes need to be 3x2 to match the shape we are trying to extract\n",
    "rows = np.array([[1, 1],\n",
    "                 [3, 3],\n",
    "                 [4, 4]])\n",
    "cols = np.array([[0, 2],\n",
    "                 [0, 2],\n",
    "                 [0, 2]])\n",
    "\n",
    "b[rows,cols]"
   ]
  },
  {
   "cell_type": "markdown",
   "metadata": {},
   "source": [
    "This latter example is less common, we almost always need some particular rows\n",
    "or some particular columns.  And if you do need some rows and only some columns\n",
    "from those rows, it can be easier to perform the slicing in two steps instead."
   ]
  },
  {
   "cell_type": "code",
   "execution_count": 103,
   "metadata": {},
   "outputs": [
    {
     "data": {
      "text/plain": [
       "array([[ 3,  4,  7, 12],\n",
       "       [ 9, 10, 13, 18],\n",
       "       [12, 13, 16, 21]])"
      ]
     },
     "execution_count": 103,
     "metadata": {},
     "output_type": "execute_result"
    }
   ],
   "source": [
    "# first extract the sample rows\n",
    "rows = [1, 3, 4]\n",
    "samples = b[rows]\n",
    "samples"
   ]
  },
  {
   "cell_type": "code",
   "execution_count": 104,
   "metadata": {},
   "outputs": [
    {
     "data": {
      "text/plain": [
       "array([[ 3,  7],\n",
       "       [ 9, 13],\n",
       "       [12, 16]])"
      ]
     },
     "execution_count": 104,
     "metadata": {},
     "output_type": "execute_result"
    }
   ],
   "source": [
    "# now keep only the attributes we need\n",
    "cols = [0, 2]\n",
    "samples = samples[:,cols]\n",
    "samples"
   ]
  },
  {
   "cell_type": "markdown",
   "metadata": {},
   "source": [
    "Here is a more complex example of using lists to index into an array.\n",
    "We often might want to find the particular value in each row or column\n",
    "that is special or of some interest.\n",
    "\n",
    "Say we have a data set of 4 time dependent series.\n",
    "Here each series is a row, and the column would represent the common sample\n",
    "time in each case, e.g. t=0, 1, 2, 3, 4, 5, 6 (though we are just making\n",
    "up some example data here)."
   ]
  },
  {
   "cell_type": "code",
   "execution_count": 105,
   "metadata": {},
   "outputs": [
    {
     "data": {
      "text/plain": [
       "array([[ 0.        ,  0.84147098,  0.90929743,  0.14112001, -0.7568025 ,\n",
       "        -0.95892427, -0.2794155 ],\n",
       "       [ 0.6569866 ,  0.98935825,  0.41211849, -0.54402111, -0.99999021,\n",
       "        -0.53657292,  0.42016704],\n",
       "       [ 0.99060736,  0.65028784, -0.28790332, -0.96139749, -0.75098725,\n",
       "         0.14987721,  0.91294525],\n",
       "       [ 0.83665564, -0.00885131, -0.8462204 , -0.90557836, -0.13235175,\n",
       "         0.76255845,  0.95637593]])"
      ]
     },
     "execution_count": 105,
     "metadata": {},
     "output_type": "execute_result"
    }
   ],
   "source": [
    "# 4 time-dependent series sampled in each row of 7 time steps each\n",
    "data = np.sin(np.arange(28)).reshape(4,7)\n",
    "data"
   ]
  },
  {
   "cell_type": "code",
   "execution_count": 106,
   "metadata": {},
   "outputs": [
    {
     "data": {
      "text/plain": [
       "array([2, 1, 0, 6])"
      ]
     },
     "execution_count": 106,
     "metadata": {},
     "output_type": "execute_result"
    }
   ],
   "source": [
    "# index of maxima for each series,\n",
    "# argmax returns the index where the maximum occurs, \n",
    "# using axis=1 means we get the index for each of our 4 sample rows where \n",
    "# maximum value occurs\n",
    "ind = data.argmax(axis=1)\n",
    "ind"
   ]
  },
  {
   "cell_type": "code",
   "execution_count": 107,
   "metadata": {},
   "outputs": [
    {
     "data": {
      "text/plain": [
       "array([ 20.        ,  36.66666667,  53.33333333,  70.        ,\n",
       "        86.66666667, 103.33333333, 120.        ])"
      ]
     },
     "execution_count": 107,
     "metadata": {},
     "output_type": "execute_result"
    }
   ],
   "source": [
    "# these are the indexes.  Say the columns refer to a sample of the time\n",
    "# series starting at time 20 and going til time 120.  So the sample times\n",
    "# represent a time being sampled at\n",
    "time = np.linspace(20, 120, 7)\n",
    "time"
   ]
  },
  {
   "cell_type": "code",
   "execution_count": 108,
   "metadata": {},
   "outputs": [
    {
     "data": {
      "text/plain": [
       "array([ 53.33333333,  36.66666667,  20.        , 120.        ])"
      ]
     },
     "execution_count": 108,
     "metadata": {},
     "output_type": "execute_result"
    }
   ],
   "source": [
    "# so we can use the indexes to find the actual time where the maximum\n",
    "# occured for each time series sample\n",
    "time[ind]"
   ]
  },
  {
   "cell_type": "markdown",
   "metadata": {},
   "source": [
    "## Indexing with boolean arrays\n",
    "\n",
    "When we index arrays with arrays of (integer) indices we are providing the lit of\n",
    "indices to pick.\n",
    "\n",
    "With boolean indices the approach is different; we explicitly choose which items in the array we want and which ones we don't.\n",
    "\n",
    "The most naturaly way to think of and use boolean indexing is to use an array\n",
    "of boolean values that has the *same shape* as the original array.\n",
    "\n",
    "For example, we can create a boolean array using boolean operations, as we\n",
    "discussed earlier."
   ]
  },
  {
   "cell_type": "code",
   "execution_count": 109,
   "metadata": {},
   "outputs": [
    {
     "data": {
      "text/plain": [
       "array([[ 0,  1,  4,  9],\n",
       "       [ 3,  4,  7, 12],\n",
       "       [ 6,  7, 10, 15],\n",
       "       [ 9, 10, 13, 18],\n",
       "       [12, 13, 16, 21]])"
      ]
     },
     "execution_count": 109,
     "metadata": {},
     "output_type": "execute_result"
    }
   ],
   "source": [
    "b"
   ]
  },
  {
   "cell_type": "code",
   "execution_count": 110,
   "metadata": {},
   "outputs": [
    {
     "data": {
      "text/plain": [
       "array([[ True, False, False,  True],\n",
       "       [ True, False, False,  True],\n",
       "       [ True, False, False,  True],\n",
       "       [ True, False, False,  True],\n",
       "       [ True, False, False,  True]])"
      ]
     },
     "execution_count": 110,
     "metadata": {},
     "output_type": "execute_result"
    }
   ],
   "source": [
    "# boolean array of those items divible by 3\n",
    "b % 3 == 0"
   ]
  },
  {
   "cell_type": "code",
   "execution_count": 111,
   "metadata": {},
   "outputs": [
    {
     "data": {
      "text/plain": [
       "array([ 0,  9,  3, 12,  6, 15,  9, 18, 12, 21])"
      ]
     },
     "execution_count": 111,
     "metadata": {},
     "output_type": "execute_result"
    }
   ],
   "source": [
    "# use boolean indexing to extract only those values divible by 3\n",
    "b[ (b % 3 == 0) ]"
   ]
  },
  {
   "cell_type": "markdown",
   "metadata": {},
   "source": [
    "You will notice the result will be a 1-dimensional vector, even though in this\n",
    "case were selecting columns 0 and the last column, so we could have\n",
    "wanted a `(5,2)` shaped result.\n",
    "\n",
    "But this happens because a boolean selection can pick arbitrary values from\n",
    "the array.  For example."
   ]
  },
  {
   "cell_type": "code",
   "execution_count": 112,
   "metadata": {},
   "outputs": [
    {
     "data": {
      "text/plain": [
       "array([[False, False,  True,  True],\n",
       "       [False,  True,  True, False],\n",
       "       [ True,  True,  True, False],\n",
       "       [ True,  True, False, False],\n",
       "       [False, False, False, False]])"
      ]
     },
     "execution_count": 112,
     "metadata": {},
     "output_type": "execute_result"
    }
   ],
   "source": [
    "# notice you should not use and or or to boolean expressions between arrays, use &\n",
    "# and | instead, or a.any() a.all()\n",
    "(b >= 4) & (b <= 10)"
   ]
  },
  {
   "cell_type": "code",
   "execution_count": 113,
   "metadata": {},
   "outputs": [
    {
     "data": {
      "text/plain": [
       "array([ 4,  9,  4,  7,  6,  7, 10,  9, 10])"
      ]
     },
     "execution_count": 113,
     "metadata": {},
     "output_type": "execute_result"
    }
   ],
   "source": [
    "# values between 4 and 10\n",
    "b[ (b >= 4) & (b <= 10) ]"
   ]
  },
  {
   "cell_type": "markdown",
   "metadata": {},
   "source": [
    "Boolean indexing can be very useful for assignments, for example if we\n",
    "want to zero-out all of the numbers divisbly by 3\n"
   ]
  },
  {
   "cell_type": "code",
   "execution_count": 114,
   "metadata": {},
   "outputs": [
    {
     "data": {
      "text/plain": [
       "array([[ 0,  1,  4,  0],\n",
       "       [ 0,  4,  7,  0],\n",
       "       [ 0,  7, 10,  0],\n",
       "       [ 0, 10, 13,  0],\n",
       "       [ 0, 13, 16,  0]])"
      ]
     },
     "execution_count": 114,
     "metadata": {},
     "output_type": "execute_result"
    }
   ],
   "source": [
    "# assign something into the locations selected by our boolean index\n",
    "b[ (b % 3 == 0) ] = 0\n",
    "b"
   ]
  },
  {
   "cell_type": "markdown",
   "metadata": {},
   "source": [
    "The second way of indexing with booleans is more similar to integer\n",
    "indexing: for each dimension of the array we give a 1D boolean array selecting\n",
    "the slices we want.\n",
    "\n",
    "This implies that the boolean array has to have the same size as the size for the\n",
    "dimension you are slicing on.\n",
    "\n",
    "So we can get the same rows and columns we did previously but using\n",
    "boolean indexing like the following."
   ]
  },
  {
   "cell_type": "code",
   "execution_count": 115,
   "metadata": {},
   "outputs": [
    {
     "data": {
      "text/plain": [
       "array([[ 0,  1,  4,  9],\n",
       "       [ 3,  4,  7, 12],\n",
       "       [ 6,  7, 10, 15],\n",
       "       [ 9, 10, 13, 18],\n",
       "       [12, 13, 16, 21]])"
      ]
     },
     "execution_count": 115,
     "metadata": {},
     "output_type": "execute_result"
    }
   ],
   "source": [
    "# use our 2-dimensional array b again from before \n",
    "\n",
    "# construct array as a function of each coordinate.  Since\n",
    "# the array is 2 dimensional, the function will receive two coordinates,\n",
    "# the row number and column number\n",
    "def f(row, col):\n",
    "    return 3*row + col**2\n",
    "\n",
    "# create an 2-dimensional array of integers\n",
    "b = np.fromfunction(f, (5,4), dtype=int)\n",
    "b"
   ]
  },
  {
   "cell_type": "code",
   "execution_count": 116,
   "metadata": {},
   "outputs": [
    {
     "data": {
      "text/plain": [
       "array([[ 3,  4,  7, 12],\n",
       "       [ 9, 10, 13, 18],\n",
       "       [12, 13, 16, 21]])"
      ]
     },
     "execution_count": 116,
     "metadata": {},
     "output_type": "execute_result"
    }
   ],
   "source": [
    "# select rows 1, 3 and 4 again but with a boolean index\n",
    "rows = [False, True, False, True, True]\n",
    "b[rows]"
   ]
  },
  {
   "cell_type": "code",
   "execution_count": 117,
   "metadata": {},
   "outputs": [
    {
     "data": {
      "text/plain": [
       "array([[ 0,  4],\n",
       "       [ 3,  7],\n",
       "       [ 6, 10],\n",
       "       [ 9, 13],\n",
       "       [12, 16]])"
      ]
     },
     "execution_count": 117,
     "metadata": {},
     "output_type": "execute_result"
    }
   ],
   "source": [
    "# select columns 0 and 2\n",
    "cols = [True, False, True, False]\n",
    "b[:,cols]"
   ]
  }
 ],
 "metadata": {
  "kernelspec": {
   "display_name": "python3-datasci",
   "language": "python",
   "name": "python3-datasci"
  },
  "language_info": {
   "codemirror_mode": {
    "name": "ipython",
    "version": 3
   },
   "file_extension": ".py",
   "mimetype": "text/x-python",
   "name": "python",
   "nbconvert_exporter": "python",
   "pygments_lexer": "ipython3",
   "version": "3.7.7"
  }
 },
 "nbformat": 4,
 "nbformat_minor": 4
}

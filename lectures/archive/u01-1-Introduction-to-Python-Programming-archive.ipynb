{
 "cells": [
  {
   "cell_type": "markdown",
   "metadata": {},
   "source": [
    "Python\n",
    "======"
   ]
  },
  {
   "cell_type": "code",
   "execution_count": 1,
   "metadata": {
    "ExecuteTime": {
     "end_time": "2018-08-23T17:04:12.603048Z",
     "start_time": "2018-08-23T17:04:12.589626Z"
    }
   },
   "outputs": [
    {
     "data": {
      "text/html": [
       "<img src=\"http://imgs.xkcd.com/comics/python.png\"/>"
      ],
      "text/plain": [
       "<IPython.core.display.Image object>"
      ]
     },
     "execution_count": 1,
     "metadata": {},
     "output_type": "execute_result"
    }
   ],
   "source": [
    "from IPython.core.display import Image \n",
    "Image(url='http://imgs.xkcd.com/comics/python.png') "
   ]
  },
  {
   "cell_type": "markdown",
   "metadata": {},
   "source": [
    "Variables and Operators\n",
    "-----------------------\n",
    "\n",
    "Python is a high-level, interpreted language.  Python has become very popular all the way from learning basic beginning programming up to enterprise level software and web systems development.  Of importance to this class, Python is being used extensively by computational scientists for scientific programming, machine learning and high performance computing tasks and environments.  Lets start with the obligatory hello world program:"
   ]
  },
  {
   "cell_type": "code",
   "execution_count": 2,
   "metadata": {
    "ExecuteTime": {
     "end_time": "2018-08-23T17:04:12.736569Z",
     "start_time": "2018-08-23T17:04:12.605100Z"
    }
   },
   "outputs": [
    {
     "name": "stdout",
     "output_type": "stream",
     "text": [
      "Hello World\n"
     ]
    }
   ],
   "source": [
    "print(\"Hello World\")"
   ]
  },
  {
   "cell_type": "markdown",
   "metadata": {},
   "source": [
    "Like many interpreted languages, Python does not require that variable types be declared before use.  The type of the \n",
    "variable is determined by the value that is assigned to the variable.  Compare this to languages like C and Java (typed\n",
    "languages) that require that the types of all variables be declared before use, known by the compiler, and are strictly enforced.\n",
    "\n",
    "Here are some examples of defining and using variables of different types, with a few simple operators applied to \n",
    "the variables of different types."
   ]
  },
  {
   "cell_type": "code",
   "execution_count": 3,
   "metadata": {
    "ExecuteTime": {
     "end_time": "2018-08-23T17:04:12.861763Z",
     "start_time": "2018-08-23T17:04:12.738566Z"
    }
   },
   "outputs": [
    {
     "name": "stdout",
     "output_type": "stream",
     "text": [
      "<class 'bool'>\n",
      "<class 'float'>\n",
      "<class 'str'>\n"
     ]
    }
   ],
   "source": [
    "x = True\n",
    "print(type(x))\n",
    "\n",
    "x = 3.14159\n",
    "print(type(x))\n",
    "\n",
    "\n",
    "x = 'True'\n",
    "print(type(x))"
   ]
  },
  {
   "cell_type": "code",
   "execution_count": 4,
   "metadata": {
    "ExecuteTime": {
     "end_time": "2018-08-23T17:04:12.986729Z",
     "start_time": "2018-08-23T17:04:12.863548Z"
    }
   },
   "outputs": [
    {
     "name": "stdout",
     "output_type": "stream",
     "text": [
      "x =  1\n",
      "y =  6\n",
      "<class 'int'>\n"
     ]
    }
   ],
   "source": [
    "# some integers\n",
    "x = 1\n",
    "y = x + 5\n",
    "print('x = ', x)\n",
    "print('y = ', y)\n",
    "print(type(x))"
   ]
  },
  {
   "cell_type": "code",
   "execution_count": 5,
   "metadata": {
    "ExecuteTime": {
     "end_time": "2018-08-23T17:04:13.095189Z",
     "start_time": "2018-08-23T17:04:12.988430Z"
    }
   },
   "outputs": [
    {
     "name": "stdout",
     "output_type": "stream",
     "text": [
      "And now for something\n",
      "And now for something completely different\n",
      "And now for something--And now for something--\n",
      "<class 'str'>\n"
     ]
    }
   ],
   "source": [
    "# variables can be strings in Python\n",
    "msg1 = 'And now for something'\n",
    "print(msg1)\n",
    "msg2 = 'completely different'\n",
    "print(msg1 + ' ' + msg2)\n",
    "print((msg1 + '--') * 2)\n",
    "print(type(msg1))"
   ]
  },
  {
   "cell_type": "code",
   "execution_count": 6,
   "metadata": {
    "ExecuteTime": {
     "end_time": "2018-08-23T17:04:13.267948Z",
     "start_time": "2018-08-23T17:04:13.096864Z"
    }
   },
   "outputs": [
    {
     "name": "stdout",
     "output_type": "stream",
     "text": [
      "area of circle with radius =  3.000000 is 28.274334\n",
      "<class 'float'>\n"
     ]
    }
   ],
   "source": [
    "# floating point numbers, of course, are supported\n",
    "pi = 3.141592653587932\n",
    "radius = 3\n",
    "area = pi * radius ** 2.0\n",
    "print(\"area of circle with radius =  %f is %f\" % (radius, area))\n",
    "print(type(pi))"
   ]
  },
  {
   "cell_type": "markdown",
   "metadata": {},
   "source": [
    "Functions \n",
    "---------\n",
    "\n",
    "A function is a named sequence of statements that performs a computation.  Functions are important for breaking large \n",
    "problems up into small chunks that we can manageably implement.\n",
    "\n",
    "Functions can take *arguments* also called *parameters* as input.  A function in python always returns a value, but if \n",
    "you don't specify the value to return using the **return** keyword, it returns the special value **None**.  For those \n",
    "paying attention, we have already seen an example of a function call when we invoked the built in `type()` function previously."
   ]
  },
  {
   "cell_type": "code",
   "execution_count": 7,
   "metadata": {
    "ExecuteTime": {
     "end_time": "2018-08-23T17:04:13.378055Z",
     "start_time": "2018-08-23T17:04:13.269740Z"
    }
   },
   "outputs": [],
   "source": [
    "def print_lyrics():\n",
    "    print(\"I'm a lumberjack, and I'm okay.\")\n",
    "    print(\"I sleep all night and I work all day.\")"
   ]
  },
  {
   "cell_type": "markdown",
   "metadata": {},
   "source": [
    "Notice when you define a function, it doesn't actually execute anything.  In order to execute a function, you need to invoke it."
   ]
  },
  {
   "cell_type": "code",
   "execution_count": 8,
   "metadata": {
    "ExecuteTime": {
     "end_time": "2018-08-23T17:04:13.503777Z",
     "start_time": "2018-08-23T17:04:13.379895Z"
    }
   },
   "outputs": [
    {
     "name": "stdout",
     "output_type": "stream",
     "text": [
      "I'm a lumberjack, and I'm okay.\n",
      "I sleep all night and I work all day.\n"
     ]
    }
   ],
   "source": [
    "print_lyrics()"
   ]
  },
  {
   "cell_type": "markdown",
   "metadata": {},
   "source": [
    "The previous function neither accepted any input arguments, nor returned any values.  All of the work it performed \n",
    "caused only side effects to occur, in this case sending some strings to the standard output.  Here is a function that \n",
    "takes input parameters, performs some work, and then returns a value."
   ]
  },
  {
   "cell_type": "code",
   "execution_count": 9,
   "metadata": {
    "ExecuteTime": {
     "end_time": "2018-08-23T17:04:13.611855Z",
     "start_time": "2018-08-23T17:04:13.505480Z"
    }
   },
   "outputs": [
    {
     "name": "stdout",
     "output_type": "stream",
     "text": [
      "The area of a circle with radius 5.000000 is 78.539816\n"
     ]
    }
   ],
   "source": [
    "def calculate_area_of_circle(radius):\n",
    "    area = pi * radius ** 2.0\n",
    "    return area\n",
    "\n",
    "radius = 5.0\n",
    "area = calculate_area_of_circle(radius)\n",
    "print(\"The area of a circle with radius %f is %f\" % (radius, area))"
   ]
  },
  {
   "cell_type": "markdown",
   "metadata": {},
   "source": [
    "Built in Data Structures\n",
    "------------------------\n",
    "\n",
    "Python has many powerful built in fundamental data structures.  I will only quickly introduce 3 important ones here: lists, tuples and dicts.\n",
    "\n",
    "\n",
    "**Lists**\n",
    "\n",
    "Lists are used to contain a sequence of values.  Lists are mutable, which means their contents can be changed after they are created.  The values in a list can be of different types (which is one important way lists are fundamentally different from C and Java arrays).  Lists are indicated syntatically in Python using the square brackets [ and ].\n",
    "\n",
    "Some examples of defining lists."
   ]
  },
  {
   "cell_type": "code",
   "execution_count": 10,
   "metadata": {
    "ExecuteTime": {
     "end_time": "2018-08-23T17:04:13.711920Z",
     "start_time": "2018-08-23T17:04:13.613634Z"
    }
   },
   "outputs": [
    {
     "name": "stdout",
     "output_type": "stream",
     "text": [
      "['Cheddar', 'Edam', 'Gouda']\n"
     ]
    }
   ],
   "source": [
    "cheeses = ['Cheddar', 'Edam', 'Gouda']\n",
    "numbers = [17, 123, 42]\n",
    "empty = []\n",
    "print(cheeses)"
   ]
  },
  {
   "cell_type": "markdown",
   "metadata": {},
   "source": [
    "Lists can be nonhomogeneous, e.g. contain values of different types."
   ]
  },
  {
   "cell_type": "code",
   "execution_count": 11,
   "metadata": {
    "ExecuteTime": {
     "end_time": "2018-08-23T17:04:13.828340Z",
     "start_time": "2018-08-23T17:04:13.713703Z"
    }
   },
   "outputs": [
    {
     "name": "stdout",
     "output_type": "stream",
     "text": [
      "['spam', 2.0, 5, 'Gouda', None, 3.14159]\n"
     ]
    }
   ],
   "source": [
    "l = ['spam', 2.0, 5, 'Gouda', None, 3.14159]\n",
    "print(l)"
   ]
  },
  {
   "cell_type": "markdown",
   "metadata": {},
   "source": [
    "Lists can be nested, to create complex hierarchies of information."
   ]
  },
  {
   "cell_type": "code",
   "execution_count": 12,
   "metadata": {
    "ExecuteTime": {
     "end_time": "2018-08-23T17:04:13.936599Z",
     "start_time": "2018-08-23T17:04:13.830276Z"
    }
   },
   "outputs": [
    {
     "name": "stdout",
     "output_type": "stream",
     "text": [
      "[1, 4, [2, 8], 9, [3, 5, 7, [9, 2]]]\n"
     ]
    }
   ],
   "source": [
    "nested = [1, 4, [2, 8], 9, [3, 5, 7, [9, 2]]]\n",
    "print(nested)"
   ]
  },
  {
   "cell_type": "markdown",
   "metadata": {},
   "source": [
    "Lets actually use the lists and access the values.  Here we show how to access individual items, as well as multiple items known as list slices.\n",
    "\n",
    "Items are indexed starting at 0, as in C based languages (C, C++, Java, C#, etc.)"
   ]
  },
  {
   "cell_type": "code",
   "execution_count": 13,
   "metadata": {
    "ExecuteTime": {
     "end_time": "2018-08-23T17:04:14.046155Z",
     "start_time": "2018-08-23T17:04:13.938492Z"
    }
   },
   "outputs": [
    {
     "name": "stdout",
     "output_type": "stream",
     "text": [
      "Gouda\n",
      "Cheddar\n"
     ]
    }
   ],
   "source": [
    "# using the cheeses list we created in a previous cell\n",
    "print(cheeses[2]) # the item at index 2 is actually the 3rd item in the list\n",
    "print(cheeses[0]) # the initial item is at index 0"
   ]
  },
  {
   "cell_type": "markdown",
   "metadata": {},
   "source": [
    "We can use negative indexes to find items relative to the end of the list."
   ]
  },
  {
   "cell_type": "code",
   "execution_count": 14,
   "metadata": {
    "ExecuteTime": {
     "end_time": "2018-08-23T17:04:14.161594Z",
     "start_time": "2018-08-23T17:04:14.048265Z"
    }
   },
   "outputs": [
    {
     "name": "stdout",
     "output_type": "stream",
     "text": [
      "Gouda\n",
      "3.14159\n"
     ]
    }
   ],
   "source": [
    "# here again we are using the list called l, defined above in a previous cell, to access the 3rd item from the end\n",
    "print(l[-3])\n",
    "# this implies -1 always refers to the last item in the list\n",
    "print(l[-1])"
   ]
  },
  {
   "cell_type": "markdown",
   "metadata": {},
   "source": [
    "We can use slices to access parts or multiple values of a list.  Notice that the result of slicing a list is a new list."
   ]
  },
  {
   "cell_type": "code",
   "execution_count": 15,
   "metadata": {
    "ExecuteTime": {
     "end_time": "2018-08-23T17:04:14.269541Z",
     "start_time": "2018-08-23T17:04:14.163283Z"
    }
   },
   "outputs": [
    {
     "name": "stdout",
     "output_type": "stream",
     "text": [
      "[2.0, 5]\n"
     ]
    }
   ],
   "source": [
    "print(l[1:3])"
   ]
  },
  {
   "cell_type": "markdown",
   "metadata": {},
   "source": [
    "Lists are **mutable**.  We can change particular items, add/insert and remove items."
   ]
  },
  {
   "cell_type": "code",
   "execution_count": 16,
   "metadata": {
    "ExecuteTime": {
     "end_time": "2018-08-23T17:04:14.378348Z",
     "start_time": "2018-08-23T17:04:14.271289Z"
    }
   },
   "outputs": [
    {
     "name": "stdout",
     "output_type": "stream",
     "text": [
      "['Cheddar', 'Edam', 'Gouda', 'Swiss']\n",
      "['Cheddar', 'Gouda', 'Swiss']\n",
      "['Cheddar', 'Camembert', 'Swiss']\n"
     ]
    }
   ],
   "source": [
    "cheeses.append('Swiss')\n",
    "print(cheeses)\n",
    "cheeses.remove('Edam')\n",
    "print(cheeses)\n",
    "cheeses[1] = 'Camembert'\n",
    "print(cheeses)"
   ]
  },
  {
   "cell_type": "markdown",
   "metadata": {},
   "source": [
    "**Dictionaries**\n",
    "\n",
    "Dictionaries are very useful fundamental data types, and you will see them used extensively in Python programming.  Dictionaries are also \n",
    "known as hash tables or maps in other contexts.  Like a list, a dictionary maps a key to a particular value.  But lists always map an \n",
    "integer index/key to a particular value.  A dictionary allows you to map any arbitrary key to a value.  Python uses curley \n",
    "braces `{` and `}` syntatically to indicate dictionary data structuers.\n",
    "\n",
    "An example should make this clearer."
   ]
  },
  {
   "cell_type": "code",
   "execution_count": 17,
   "metadata": {
    "ExecuteTime": {
     "end_time": "2018-08-23T17:04:14.486597Z",
     "start_time": "2018-08-23T17:04:14.380078Z"
    }
   },
   "outputs": [
    {
     "name": "stdout",
     "output_type": "stream",
     "text": [
      "Newton was born in the year 1642\n",
      "Madame Curie was born in the year 1867\n"
     ]
    }
   ],
   "source": [
    "birthday = {'Newton': 1642,\n",
    "            'Darwin': 1809,\n",
    "            'Curie': 1867,\n",
    "            'Einstein': 1879}\n",
    "print(\"Newton was born in the year\", birthday['Newton'])\n",
    "print(\"Madame Curie was born in the year\", birthday['Curie'])\n"
   ]
  },
  {
   "cell_type": "markdown",
   "metadata": {},
   "source": [
    "Dictionaries are also mutable, we can add and remove from them after being created."
   ]
  },
  {
   "cell_type": "code",
   "execution_count": 18,
   "metadata": {
    "ExecuteTime": {
     "end_time": "2018-08-23T17:04:14.594551Z",
     "start_time": "2018-08-23T17:04:14.488398Z"
    }
   },
   "outputs": [
    {
     "name": "stdout",
     "output_type": "stream",
     "text": [
      "{'Newton': 1642, 'Darwin': 1809, 'Curie': 1867, 'Einstein': 1879, 'Turing': 1912}\n",
      "{'Newton': 1642, 'Curie': 1867, 'Einstein': 1879, 'Turing': 1912}\n"
     ]
    }
   ],
   "source": [
    "birthday['Turing'] = 1912\n",
    "print(birthday)\n",
    "del birthday['Darwin']\n",
    "print(birthday)"
   ]
  },
  {
   "cell_type": "markdown",
   "metadata": {},
   "source": [
    "Finally I will mention tuples as you will see them used a lot in Python coding examples.  You can think of a tuple simply as an **immutable** list, e.g. one that cannot be changed after it is created.  The ( and ) parenthesis are used syntatically in Python to indicate an immutable tuple.  Notice here that if we create an immutable list `t`, then try to assign a new value to one of the elements, we generate a TypeError\n",
    "exception.  This is because immutable objects cannot be changed, thus assignments like this are illegal."
   ]
  },
  {
   "cell_type": "code",
   "execution_count": 19,
   "metadata": {
    "ExecuteTime": {
     "end_time": "2018-08-23T17:04:14.719971Z",
     "start_time": "2018-08-23T17:04:14.596349Z"
    }
   },
   "outputs": [
    {
     "name": "stdout",
     "output_type": "stream",
     "text": [
      "c\n"
     ]
    }
   ],
   "source": [
    "t = ('a', 'b', 'c', 'd', 'e')\n",
    "print(t[2])"
   ]
  },
  {
   "cell_type": "code",
   "execution_count": 20,
   "metadata": {
    "ExecuteTime": {
     "end_time": "2018-08-23T17:04:14.927465Z",
     "start_time": "2018-08-23T17:04:14.721957Z"
    }
   },
   "outputs": [
    {
     "name": "stdout",
     "output_type": "stream",
     "text": [
      "This causes a type error because t is a tuple, which is immutable.\n"
     ]
    }
   ],
   "source": [
    "try:\n",
    "    t[3] = 'x'\n",
    "except TypeError:\n",
    "    print(\"This causes a type error because t is a tuple, which is immutable.\")"
   ]
  },
  {
   "cell_type": "markdown",
   "metadata": {},
   "source": [
    "One useful convention/pattern you will run across in Python coding is returning tuples from functions.  If you create a function that needs to return more than one value, you can return a tuple."
   ]
  },
  {
   "cell_type": "code",
   "execution_count": 21,
   "metadata": {
    "ExecuteTime": {
     "end_time": "2018-08-23T17:04:38.499762Z",
     "start_time": "2018-08-23T17:04:38.495248Z"
    }
   },
   "outputs": [
    {
     "name": "stdout",
     "output_type": "stream",
     "text": [
      "Result of dividing 22 / 7 is 3 with a remainder of 1\n"
     ]
    }
   ],
   "source": [
    "def divide(x, y):\n",
    "    \"\"\"Integer division of the x (dividend) by y (divisor).\n",
    "    We expect x and y to be integers.\n",
    "    Return both the result (quotient) and the remainder\"\"\"\n",
    "    quotient = x / y\n",
    "    remainder = x % y\n",
    "    return (quotient, remainder)\n",
    "\n",
    "(q, r) = divide(22, 7)\n",
    "print('Result of dividing 22 / 7 is %d with a remainder of %d' % (q, r))"
   ]
  },
  {
   "cell_type": "markdown",
   "metadata": {},
   "source": [
    "Notice that, since the function returns a tuple with 2 values, we need to assign the result of calling the function back into a tuple \n",
    "with two variables.  In other words, since the `divide()` functions returns a tuple with 2 values, those 2 values are assigned\n",
    "into the variables `q` and `r` when returned from the function above.\n",
    "\n",
    "The divide function above is actually a reimplementation of the built-in divmod() Python function.  Notice that divmod() returns a tuple as well."
   ]
  },
  {
   "cell_type": "code",
   "execution_count": 22,
   "metadata": {
    "ExecuteTime": {
     "end_time": "2018-08-23T17:04:38.659082Z",
     "start_time": "2018-08-23T17:04:38.604779Z"
    }
   },
   "outputs": [
    {
     "name": "stdout",
     "output_type": "stream",
     "text": [
      "Help on built-in function divmod in module builtins:\n",
      "\n",
      "divmod(x, y, /)\n",
      "    Return the tuple (x//y, x%y).  Invariant: div*y + mod == x.\n",
      "\n"
     ]
    }
   ],
   "source": [
    "help(divmod)"
   ]
  },
  {
   "cell_type": "code",
   "execution_count": 23,
   "metadata": {
    "ExecuteTime": {
     "end_time": "2018-08-23T17:04:38.779721Z",
     "start_time": "2018-08-23T17:04:38.660820Z"
    }
   },
   "outputs": [
    {
     "name": "stdout",
     "output_type": "stream",
     "text": [
      "Result of dividing 22 / 7 is 3 with a remainder of 1\n"
     ]
    }
   ],
   "source": [
    "(q, r) = divmod(22, 7)\n",
    "print('Result of dividing 22 / 7 is %d with a remainder of %d' % (q, r))"
   ]
  },
  {
   "cell_type": "markdown",
   "metadata": {},
   "source": [
    "Conditions and Iterations\n",
    "-------------------------\n",
    "\n",
    "We wouldn't be able to do much computing if we could only list a sequence of instructions that needed to be executed. Besides\n",
    "functions we also use conditional execution of code (**if**, **else**) and  looping to execute a block of \n",
    "statements multiple times (**for**, **while**)\n",
    "\n",
    "Python supports boolean **True**, and **False** as a built in data type."
   ]
  },
  {
   "cell_type": "code",
   "execution_count": 24,
   "metadata": {
    "ExecuteTime": {
     "end_time": "2018-08-23T17:04:38.889455Z",
     "start_time": "2018-08-23T17:04:38.781456Z"
    }
   },
   "outputs": [
    {
     "name": "stdout",
     "output_type": "stream",
     "text": [
      "False\n",
      "True\n"
     ]
    },
    {
     "data": {
      "text/plain": [
       "bool"
      ]
     },
     "execution_count": 24,
     "metadata": {},
     "output_type": "execute_result"
    }
   ],
   "source": [
    "print(3 == 5)\n",
    "print(2 < 4)\n",
    "b = True\n",
    "type(b)"
   ]
  },
  {
   "cell_type": "markdown",
   "metadata": {},
   "source": [
    "We can build conditional execution statements using boolean or logical expressions.  You should try the following cell with even and odd\n",
    "integer values of `x`.  Do you understand what the `%` operator does, and how this conditional statement works?"
   ]
  },
  {
   "cell_type": "code",
   "execution_count": 25,
   "metadata": {
    "ExecuteTime": {
     "end_time": "2018-08-23T17:04:39.025268Z",
     "start_time": "2018-08-23T17:04:38.891197Z"
    }
   },
   "outputs": [
    {
     "name": "stdout",
     "output_type": "stream",
     "text": [
      "x is odd\n"
     ]
    }
   ],
   "source": [
    "x = 33\n",
    "if x % 2 == 0:\n",
    "    print('x is even')\n",
    "else:\n",
    "    print('x is odd')"
   ]
  },
  {
   "cell_type": "markdown",
   "metadata": {},
   "source": [
    "Python contains no switch/case chained conditional (as in C's  `switch` / `case` chained blocks), instead in Python we\n",
    "use if, elseif, else blocks.\n",
    "\n",
    "Here is an example.  Write a function tat takes as argument an integer x and returns f(x), f being defined as:\n",
    "\n",
    "$$\n",
    "f(x) = \\begin{cases}\n",
    "    \\text{Not Defined} & \\text{for} \\quad x < 1 \\\\\\\\ \n",
    "    1 & \\text{for} \\quad x = 1 \\\\\\\\\n",
    "    3 & \\text{for} \\quad x = 2 \\\\\\\\\n",
    "    f(x-1) \\cdot  f(x-2) + f(x-1)~~~~& \\text{for} \\quad x > 2 \\\\\\\\\n",
    "\\end{cases}\n",
    "$$"
   ]
  },
  {
   "cell_type": "code",
   "execution_count": 26,
   "metadata": {
    "ExecuteTime": {
     "end_time": "2018-08-23T17:04:39.132253Z",
     "start_time": "2018-08-23T17:04:39.027023Z"
    }
   },
   "outputs": [
    {
     "name": "stdout",
     "output_type": "stream",
     "text": [
      "None\n",
      "168\n"
     ]
    }
   ],
   "source": [
    "def f(x):\n",
    "    if x < 1:\n",
    "        return None\n",
    "    elif x == 1:\n",
    "        return 1\n",
    "    elif x == 2:\n",
    "        return 3\n",
    "    else:\n",
    "        return f(x-1) * f(x-2) + f(x-1)\n",
    "    \n",
    "print(f(-3))\n",
    "print(f(5))"
   ]
  },
  {
   "cell_type": "markdown",
   "metadata": {},
   "source": [
    "The while statement is available for variable controlled loops, but by far the **for x in y** pattern is used much more commonly in Python\n",
    "in order to iterate over the elements of a list or dictionary.  Two quick examples."
   ]
  },
  {
   "cell_type": "code",
   "execution_count": 27,
   "metadata": {
    "ExecuteTime": {
     "end_time": "2018-08-23T17:04:39.241446Z",
     "start_time": "2018-08-23T17:04:39.133958Z"
    }
   },
   "outputs": [
    {
     "name": "stdout",
     "output_type": "stream",
     "text": [
      "Here is a cheese:  Cheddar\n",
      "Here is a cheese:  Camembert\n",
      "Here is a cheese:  Swiss\n",
      "Newton was born in year 1642\n",
      "Curie was born in year 1867\n",
      "Einstein was born in year 1879\n",
      "Turing was born in year 1912\n"
     ]
    }
   ],
   "source": [
    "# assuming cheeses is still defined from previous cells\n",
    "for c in cheeses:\n",
    "    print(\"Here is a cheese: \", c)\n",
    "\n",
    "# ditto, we are using the birthday dictionary from above here\n",
    "for scientist, byear in birthday.items():\n",
    "    print(\"%s was born in year %d\" % (scientist, byear))"
   ]
  },
  {
   "cell_type": "markdown",
   "metadata": {},
   "source": [
    "Libraries\n",
    "=========\n",
    "\n",
    "Python has a large collection of [standard libraries](http://docs.python.org/2/library/index.html).  For example to use the math and random standard libraries, we do the following."
   ]
  },
  {
   "cell_type": "code",
   "execution_count": 28,
   "metadata": {
    "ExecuteTime": {
     "end_time": "2018-08-23T17:04:39.349236Z",
     "start_time": "2018-08-23T17:04:39.242929Z"
    }
   },
   "outputs": [
    {
     "data": {
      "text/html": [
       "\n",
       "        <iframe\n",
       "            width=\"1200\"\n",
       "            height=\"700\"\n",
       "            src=\"http://docs.python.org/3/library/index.html\"\n",
       "            frameborder=\"0\"\n",
       "            allowfullscreen\n",
       "        ></iframe>\n",
       "        "
      ],
      "text/plain": [
       "<IPython.lib.display.IFrame at 0x7f2610035810>"
      ]
     },
     "execution_count": 28,
     "metadata": {},
     "output_type": "execute_result"
    }
   ],
   "source": [
    "from IPython.display import IFrame\n",
    "IFrame('http://docs.python.org/3/library/index.html', 1200, 700)"
   ]
  },
  {
   "cell_type": "code",
   "execution_count": 29,
   "metadata": {
    "ExecuteTime": {
     "end_time": "2018-08-23T17:04:39.457067Z",
     "start_time": "2018-08-23T17:04:39.350865Z"
    }
   },
   "outputs": [
    {
     "name": "stdout",
     "output_type": "stream",
     "text": [
      "4 50.26548245743669\n"
     ]
    }
   ],
   "source": [
    "import math\n",
    "import random\n",
    "\n",
    "# generate random number between 1 and 10\n",
    "r = random.randint(1, 10)\n",
    "\n",
    "def area(r):\n",
    "    return math.pi * math.pow(r, 2.0)\n",
    "\n",
    "print(r, area(r))"
   ]
  },
  {
   "cell_type": "markdown",
   "metadata": {},
   "source": [
    "\n",
    "NumPy\n",
    "-----\n",
    "\n",
    "The **NumPy** library provides multi-dimensional arrays (e.g. vectors, matrices, ...).  NumPy arrays are more similar to arrays in C and Java than the list data type, specifically because all of the elements in the NumPy array must be of the same type, and they are stored  as a single block of contiguously allocated memory.  By default, if you don't specify the type of the NumPy array being created, NumPy assumes you want to use floats.\n",
    "\n",
    "NumPy by convention is usually referred to using the shorthand module name `np`:"
   ]
  },
  {
   "cell_type": "code",
   "execution_count": 30,
   "metadata": {
    "ExecuteTime": {
     "end_time": "2018-08-23T17:04:39.630773Z",
     "start_time": "2018-08-23T17:04:39.458816Z"
    }
   },
   "outputs": [],
   "source": [
    "import numpy as np"
   ]
  },
  {
   "cell_type": "code",
   "execution_count": 31,
   "metadata": {
    "ExecuteTime": {
     "end_time": "2018-08-23T17:04:39.673004Z",
     "start_time": "2018-08-23T17:04:39.632682Z"
    }
   },
   "outputs": [
    {
     "name": "stdout",
     "output_type": "stream",
     "text": [
      "v\n",
      " [0. 0. 0.]\n",
      "M\n",
      " [[1. 1. 1. 1.]\n",
      " [1. 1. 1. 1.]\n",
      " [1. 1. 1. 1.]]\n",
      "A\n",
      " [[1 2 3]\n",
      " [4 5 6]]\n"
     ]
    }
   ],
   "source": [
    "v = np.zeros(3)\n",
    "M = np.ones((3,4))\n",
    "A = np.array([[1,2,3],[4,5,6]]) \n",
    "print(\"v\\n\", v)\n",
    "print(\"M\\n\", M)\n",
    "print(\"A\\n\", A)"
   ]
  },
  {
   "cell_type": "markdown",
   "metadata": {},
   "source": [
    "You can also work with sub-matrices in a similar fashion as in MatLab, but starting with index 0:"
   ]
  },
  {
   "cell_type": "code",
   "execution_count": 32,
   "metadata": {
    "ExecuteTime": {
     "end_time": "2018-08-23T17:04:39.771994Z",
     "start_time": "2018-08-23T17:04:39.674839Z"
    }
   },
   "outputs": [
    {
     "name": "stdout",
     "output_type": "stream",
     "text": [
      "[[1 2 3]\n",
      " [4 5 6]]\n",
      "the first column of A: [1 4]\n",
      "the first    row of A: [1 2 3]\n"
     ]
    }
   ],
   "source": [
    "print(A)\n",
    "print(\"the first column of A:\", A[:,0])\n",
    "print(\"the first    row of A:\", A[0,:])"
   ]
  },
  {
   "cell_type": "code",
   "execution_count": 33,
   "metadata": {
    "ExecuteTime": {
     "end_time": "2018-08-23T17:04:39.871011Z",
     "start_time": "2018-08-23T17:04:39.775239Z"
    }
   },
   "outputs": [
    {
     "name": "stdout",
     "output_type": "stream",
     "text": [
      "[0 1 2 3 4 5 6 7 8 9]\n"
     ]
    }
   ],
   "source": [
    "x = np.arange(10)\n",
    "print(x)"
   ]
  },
  {
   "cell_type": "code",
   "execution_count": 34,
   "metadata": {
    "ExecuteTime": {
     "end_time": "2018-08-23T17:04:40.012793Z",
     "start_time": "2018-08-23T17:04:39.873616Z"
    }
   },
   "outputs": [
    {
     "name": "stdout",
     "output_type": "stream",
     "text": [
      "[0.43524201 0.83385525 0.99561648 0.4016939  0.42961979 0.35733913\n",
      " 0.1741781  0.90157564 0.98732367 0.00528853]\n"
     ]
    }
   ],
   "source": [
    "y = np.random.uniform(size=10) # note the named argument here. The 1st (default) arguments are 0 and 1.\n",
    "print(y)"
   ]
  },
  {
   "cell_type": "markdown",
   "metadata": {},
   "source": [
    "Matplotlib\n",
    "----------\n",
    "\n",
    "This is a library used to plot graphs conveniently directly from Python. Many graph types are supported.\n"
   ]
  },
  {
   "cell_type": "code",
   "execution_count": 35,
   "metadata": {
    "ExecuteTime": {
     "end_time": "2018-08-23T17:04:40.497161Z",
     "start_time": "2018-08-23T17:04:40.014422Z"
    }
   },
   "outputs": [],
   "source": [
    "import matplotlib.pyplot as plt\n",
    "%matplotlib inline"
   ]
  },
  {
   "cell_type": "code",
   "execution_count": 36,
   "metadata": {
    "ExecuteTime": {
     "end_time": "2018-08-23T17:04:40.503176Z",
     "start_time": "2018-08-23T17:04:40.499013Z"
    }
   },
   "outputs": [
    {
     "data": {
      "text/html": [
       "\n",
       "        <iframe\n",
       "            width=\"1200\"\n",
       "            height=\"700\"\n",
       "            src=\"http://matplotlib.org/gallery.html\"\n",
       "            frameborder=\"0\"\n",
       "            allowfullscreen\n",
       "        ></iframe>\n",
       "        "
      ],
      "text/plain": [
       "<IPython.lib.display.IFrame at 0x7f25e7bbc450>"
      ]
     },
     "execution_count": 36,
     "metadata": {},
     "output_type": "execute_result"
    }
   ],
   "source": [
    "from IPython.display import IFrame\n",
    "IFrame('http://matplotlib.org/gallery.html', 1200, 700)"
   ]
  },
  {
   "cell_type": "code",
   "execution_count": 37,
   "metadata": {
    "ExecuteTime": {
     "end_time": "2018-08-23T17:04:41.466142Z",
     "start_time": "2018-08-23T17:04:40.505041Z"
    }
   },
   "outputs": [
    {
     "data": {
      "image/png": "[encoded data removed]",
      "text/plain": [
       "<Figure size 432x288 with 1 Axes>"
      ]
     },
     "metadata": {
      "needs_background": "light"
     },
     "output_type": "display_data"
    }
   ],
   "source": [
    "plt.plot(x, y)\n",
    "plt.title(\"Sample Plot\")\n",
    "plt.xlabel(\"x label\")\n",
    "plt.ylabel(\"y label\");"
   ]
  },
  {
   "cell_type": "code",
   "execution_count": 38,
   "metadata": {
    "ExecuteTime": {
     "end_time": "2018-08-23T17:04:41.674767Z",
     "start_time": "2018-08-23T17:04:41.468466Z"
    }
   },
   "outputs": [
    {
     "data": {
      "text/plain": [
       "<matplotlib.collections.PathCollection at 0x7f25e8163650>"
      ]
     },
     "execution_count": 38,
     "metadata": {},
     "output_type": "execute_result"
    },
    {
     "data": {
      "image/png": "[encoded data removed]",
      "text/plain": [
       "<Figure size 432x288 with 1 Axes>"
      ]
     },
     "metadata": {
      "needs_background": "light"
     },
     "output_type": "display_data"
    }
   ],
   "source": [
    "plt.scatter(x, y, s=100) # press TAB after opening parenthesis to see help on `scatter`;"
   ]
  },
  {
   "cell_type": "markdown",
   "metadata": {},
   "source": [
    "Pandas\n",
    "======\n",
    "\n",
    "Pandas is a library for doing data analysis in Python.  It defines DataFrame objects, and provides a lot of equivalent functions as the R data analysis library (but in Python!)"
   ]
  },
  {
   "cell_type": "code",
   "execution_count": 39,
   "metadata": {
    "ExecuteTime": {
     "end_time": "2018-08-23T17:04:41.684810Z",
     "start_time": "2018-08-23T17:04:41.677920Z"
    }
   },
   "outputs": [
    {
     "data": {
      "text/html": [
       "\n",
       "        <iframe\n",
       "            width=\"1200\"\n",
       "            height=\"700\"\n",
       "            src=\"http://pandas.pydata.org/\"\n",
       "            frameborder=\"0\"\n",
       "            allowfullscreen\n",
       "        ></iframe>\n",
       "        "
      ],
      "text/plain": [
       "<IPython.lib.display.IFrame at 0x7f25e6c9d410>"
      ]
     },
     "execution_count": 39,
     "metadata": {},
     "output_type": "execute_result"
    }
   ],
   "source": [
    "from IPython.display import IFrame\n",
    "IFrame('http://pandas.pydata.org/', 1200, 700)"
   ]
  },
  {
   "cell_type": "code",
   "execution_count": 40,
   "metadata": {
    "ExecuteTime": {
     "end_time": "2018-08-23T17:04:44.221432Z",
     "start_time": "2018-08-23T17:04:41.686632Z"
    }
   },
   "outputs": [
    {
     "name": "stdout",
     "output_type": "stream",
     "text": [
      "1.0.5\n"
     ]
    }
   ],
   "source": [
    "import pandas as pd\n",
    "print(pd.__version__)"
   ]
  },
  {
   "cell_type": "markdown",
   "metadata": {},
   "source": [
    "## Scikit-Learn"
   ]
  },
  {
   "cell_type": "code",
   "execution_count": 41,
   "metadata": {
    "ExecuteTime": {
     "end_time": "2018-08-23T17:04:44.234428Z",
     "start_time": "2018-08-23T17:04:44.223902Z"
    }
   },
   "outputs": [
    {
     "data": {
      "text/html": [
       "\n",
       "        <iframe\n",
       "            width=\"1200\"\n",
       "            height=\"700\"\n",
       "            src=\"http://scikit-learn.sourceforge.net/dev/auto_examples/index.html\"\n",
       "            frameborder=\"0\"\n",
       "            allowfullscreen\n",
       "        ></iframe>\n",
       "        "
      ],
      "text/plain": [
       "<IPython.lib.display.IFrame at 0x7f25e6c9d150>"
      ]
     },
     "execution_count": 41,
     "metadata": {},
     "output_type": "execute_result"
    }
   ],
   "source": [
    "from IPython.display import IFrame\n",
    "IFrame('http://scikit-learn.sourceforge.net/dev/auto_examples/index.html', 1200, 700)"
   ]
  },
  {
   "cell_type": "markdown",
   "metadata": {},
   "source": [
    "Easy-to use machine-learning library of algorithms with many examples and documentation.\n",
    "\n",
    "\n",
    "Classification\n",
    "--------------\n",
    "- **Logistic Regression**\n",
    "- Support Vector Machines\n",
    "- Perceptron\n",
    "- Decision Trees\n",
    "- Random Forests\n",
    "- Naive Bayes\n",
    "- **Neares Neighbors**\n",
    "- ...\n",
    "\n",
    "Regression\n",
    "----------\n",
    "- **Linear Regression**\n",
    "- Lasso\n",
    "- Lars\n",
    "- Ridge Regression\n",
    "- Support Vector Regression\n",
    "- Regression Forests\n",
    "- ...\n",
    "\n",
    "Feature Extraction\n",
    "------------------\n",
    "- **Principal Component Analysis**\n",
    "- Independend Component Analysis\n",
    "- Nonnegative Matrix Factorization\n",
    "- Sparse Decomposition\n",
    "- Locally Linear Embedding\n",
    "- KernelPCA\n",
    "- ...\n",
    "\n",
    "Clustering\n",
    "----------\n",
    "- **$k$-Means**\n",
    "- Mean Shift\n",
    "- Spectral Clustering\n",
    "- Affinity Propagation\n",
    "- DBSCAN\n",
    "- ...\n"
   ]
  },
  {
   "cell_type": "code",
   "execution_count": 42,
   "metadata": {
    "ExecuteTime": {
     "end_time": "2018-08-23T17:04:47.290718Z",
     "start_time": "2018-08-23T17:04:44.237205Z"
    },
    "scrolled": true
   },
   "outputs": [
    {
     "name": "stdout",
     "output_type": "stream",
     "text": [
      "              Module   Versions\n",
      "--------------------   ------------------------------------------------------------\n",
      "              numpy:   ['1.18.5']\n",
      "             pandas:   ['1.0.5']\n"
     ]
    }
   ],
   "source": [
    " # add our class modules to the system python path\n",
    "import sys\n",
    "sys.path.append(\"../src\")\n",
    "\n",
    "# display loaded modules and their versions\n",
    "from ml_python_class.custom_funcs import version_information\n",
    "version_information()"
   ]
  },
  {
   "cell_type": "markdown",
   "metadata": {},
   "source": [
    "Acknowledgements\n",
    "----------------\n",
    "\n",
    "Original versions of these notebooks created by J.R. Johansson (robert@riken.jp) http://dml.riken.jp/~rob/\n",
    "\n",
    "The latest version of this [IPython notebook](http://ipython.org/notebook.html) lecture is available at [https://bitbucket.org/dharter/intro-compsci-class](https://bitbucket.org/dharter/intro-compsci-class)."
   ]
  }
 ],
 "metadata": {
  "kernelspec": {
   "display_name": "python3-datasci",
   "language": "python",
   "name": "python3-datasci"
  },
  "language_info": {
   "codemirror_mode": {
    "name": "ipython",
    "version": 3
   },
   "file_extension": ".py",
   "mimetype": "text/x-python",
   "name": "python",
   "nbconvert_exporter": "python",
   "pygments_lexer": "ipython3",
   "version": "3.7.7"
  },
  "latex_envs": {
   "LaTeX_envs_menu_present": true,
   "autoclose": true,
   "autocomplete": true,
   "bibliofile": "biblio.bib",
   "cite_by": "apalike",
   "current_citInitial": 1,
   "eqLabelWithNumbers": true,
   "eqNumInitial": 1,
   "hotkeys": {
    "equation": "Ctrl-E",
    "itemize": "Ctrl-I"
   },
   "labels_anchors": false,
   "latex_user_defs": false,
   "report_style_numbering": false,
   "user_envs_cfg": false
  },
  "toc": {
   "base_numbering": 1,
   "nav_menu": {},
   "number_sections": true,
   "sideBar": true,
   "skip_h1_title": false,
   "title_cell": "Table of Contents",
   "title_sidebar": "Contents",
   "toc_cell": false,
   "toc_position": {},
   "toc_section_display": true,
   "toc_window_display": true
  },
  "varInspector": {
   "cols": {
    "lenName": 16,
    "lenType": 16,
    "lenVar": 40
   },
   "kernels_config": {
    "python": {
     "delete_cmd_postfix": "",
     "delete_cmd_prefix": "del ",
     "library": "var_list.py",
     "varRefreshCmd": "print(var_dic_list())"
    },
    "r": {
     "delete_cmd_postfix": ") ",
     "delete_cmd_prefix": "rm(",
     "library": "var_list.r",
     "varRefreshCmd": "cat(var_dic_list()) "
    }
   },
   "types_to_exclude": [
    "module",
    "function",
    "builtin_function_or_method",
    "instance",
    "_Feature"
   ],
   "window_display": false
  }
 },
 "nbformat": 4,
 "nbformat_minor": 4
}

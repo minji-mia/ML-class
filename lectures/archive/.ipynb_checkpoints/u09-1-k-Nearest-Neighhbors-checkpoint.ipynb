{
 "cells": [
  {
   "cell_type": "code",
   "execution_count": 1,
   "metadata": {},
   "outputs": [],
   "source": [
    "# general imports usually needed\n",
    "import numpy as np\n",
    "import matplotlib as mpl\n",
    "import matplotlib.animation\n",
    "import matplotlib.pyplot as plt\n",
    "import seaborn as sbn\n",
    "import pandas as pd"
   ]
  },
  {
   "cell_type": "code",
   "execution_count": 2,
   "metadata": {},
   "outputs": [],
   "source": [
    "# libraries more specific to this lecture notebook\n",
    "import os.path\n",
    "import sys\n",
    "sys.path.append('../../src')\n",
    "from ml_python_class.config import DATA_DIR\n",
    "\n",
    "from sklearn.datasets import load_iris\n",
    "from sklearn.model_selection import train_test_split\n",
    "from sklearn.preprocessing import StandardScaler\n",
    "from sklearn.neighbors import KNeighborsClassifier\n",
    "from sklearn.metrics import classification_report, confusion_matrix\n"
   ]
  },
  {
   "cell_type": "code",
   "execution_count": 3,
   "metadata": {},
   "outputs": [],
   "source": [
    "# notebook wide settings to make plots more readable and visually better to understand\n",
    "np.set_printoptions(suppress=True)\n",
    "\n",
    "#%matplotlib widget\n",
    "#%matplotlib inline\n",
    "\n",
    "plt.rc('axes', labelsize=14)\n",
    "plt.rc('xtick', labelsize=12)\n",
    "plt.rc('ytick', labelsize=12)\n",
    "plt.rc('figure', titlesize=18)\n",
    "plt.rc('legend', fontsize=14)\n",
    "plt.rcParams['figure.figsize'] = (12.0, 8.0) # default figure size if not specified in plot\n",
    "plt.style.use('seaborn-darkgrid')\n"
   ]
  },
  {
   "cell_type": "markdown",
   "metadata": {},
   "source": [
    "# K-Nearest Neighbors Algorithm\n",
    "\n",
    "This notebook is based on the following tutorials:\n",
    "\n",
    "- https://stackabuse.com/k-nearest-neighbors-algorithm-in-python-and-scikit-learn/\n",
    "- https://towardsdatascience.com/building-a-k-nearest-neighbors-k-nn-model-with-scikit-learn-51209555453a\n",
    "- https://towardsdatascience.com/knn-using-scikit-learn-c6bed765be75\n",
    "\n",
    "The K-nearest neighbors (KNN) algorithm is a type of supervised machine learning algorithms. KNN is extremely easy to implement in its most basic form, and yet\n",
    "performs quite complex classification tasks. It is a lazy learning algorithm since it doesn't have a specialized training phase. Rather, it uses all of the\n",
    "data for training while classifying a new data point or instance. KNN is a non-parametric learning algorithm, which means that it doesn't assume anything about\n",
    "the underlying data. This is an extremely useful feature since most of the real world data doesn't really follow any theoretical assumption e.g.\n",
    "linear-separability, uniform distribution, etc.\n",
    "\n",
    "In this lecture, we will see how KNN can be implemented with Python's Scikit-Learn library. But before that let's first explore the theory behind KNN\n",
    "and see what are some of the pros and cons of the algorithm.\n"
   ]
  },
  {
   "cell_type": "markdown",
   "metadata": {},
   "source": [
    "## Theory\n",
    "\n",
    "The intuition behind the KNN algorithm is one of the simplest of all the supervised machine learning algorithms. It simply calculates the distance of a\n",
    "new data point to all other training data points. The distance can be of any type e.g Euclidean or Manhattan etc. It then selects the K-nearest data\n",
    "points, where K can be any integer. Finally it assigns the data point to the class to which the majority of the K data points belong.\n",
    "\n",
    "Let's see this algorithm in action with the help of a simple example. Suppose you have a dataset with two variables, which when plotted, looks like\n",
    "the one in the following figure.\n",
    "\n",
    "![knn algorithm figure 1](../../figures/knn-algorithm-1.png)\n",
    "\n",
    "Your task is to classify a new data point with 'X' into \"Blue\" class or \"Red\" class. The coordinate values of the data point are x=45 and y=50.\n",
    "Suppose the value of K is 3. The KNN algorithm starts by calculating the distance of point X from all the points. It then finds the 3 nearest\n",
    "points with least distance to point X. This is shown in the figure below. The three nearest points have been encircled.\n",
    "\n",
    "![knn algorithm figure 2](../../figures/knn-algorithm-2.png)\n",
    "\n",
    "The final step of the KNN algorithm is to assign the new point to the class to which the majority of the three nearest points belong. From the figure\n",
    "above we can see that two of the three nearest points belong to the class \"Red\" while one belongs to the class \"Blue\".\n",
    "Therefore the new data point will be classified as \"Red\"."
   ]
  },
  {
   "cell_type": "markdown",
   "metadata": {},
   "source": [
    "## Pros and Cons of KNN\n",
    "\n",
    "In this section we'll present some of the pros and cons of using the KNN algorithm.\n",
    "\n",
    "**Pros**\n",
    "\n",
    "1. It is extremely easy to implement\n",
    "2. As said earlier, it is lazy learning algorithm and therefore requires no training prior to making real time predictions. This makes the KNN algorithm much faster than other algorithms that require training e.g SVM, linear regression, etc.\n",
    "3. Since the algorithm requires no training before making predictions, new data can be added seamlessly.\n",
    "4. There are only two parameters required to implement KNN i.e. the value of K and the distance function (e.g. Euclidean or Manhattan etc.)\n",
    "\n",
    "**Cons**\n",
    "\n",
    "1. The KNN algorithm doesn't work well with high dimensional data because with large number of dimensions, it becomes difficult for the algorithm to calculate distance in each dimension.\n",
    "2. The KNN algorithm has a high prediction cost for large datasets. This is because in large datasets the cost of calculating distance between new point and each existing point becomes higher.\n",
    "3. Finally, the KNN algorithm doesn't work well with categorical features since it is difficult to find the distance between dimensions with categorical features."
   ]
  },
  {
   "cell_type": "markdown",
   "metadata": {},
   "source": [
    "## Implementing KNN Algorithm with Scikit-Learn\n",
    "\n",
    "In this section, we will see how Python's Scikit-Learn library can be used to implement the KNN algorithm\n",
    "in less than 20 lines of code."
   ]
  },
  {
   "cell_type": "markdown",
   "metadata": {},
   "source": [
    "### The Dataset\n",
    "\n",
    "We are going to use the famous iris data set for our KNN example, which we have run across previously in our class. The dataset consists of\n",
    "four attributes: sepal-width, sepal-length, petal-width and petal-length. These are the attributes of specific types of iris plant. The\n",
    "task is to predict the class to which these plants belong. There are three classes in the dataset: Iris-setosa, Iris-versicolor and Iris-virginica. \n",
    "\n",
    "We will import the dataset from the library of example datasets in scikit learn."
   ]
  },
  {
   "cell_type": "code",
   "execution_count": 4,
   "metadata": {},
   "outputs": [],
   "source": [
    "# import the load_iris frunction from sklearn\n",
    "from sklearn.datasets import load_iris\n",
    "\n",
    "# and use it to get the iras data\n",
    "iris = load_iris()"
   ]
  },
  {
   "cell_type": "code",
   "execution_count": 5,
   "metadata": {},
   "outputs": [
    {
     "name": "stdout",
     "output_type": "stream",
     "text": [
      "['sepal length (cm)', 'sepal width (cm)', 'petal length (cm)', 'petal width (cm)']\n",
      "[[5.1 3.5 1.4 0.2]\n",
      " [4.9 3.  1.4 0.2]\n",
      " [4.7 3.2 1.3 0.2]\n",
      " [4.6 3.1 1.5 0.2]\n",
      " [5.  3.6 1.4 0.2]]\n",
      "['setosa' 'versicolor' 'virginica']\n",
      "[0 0 0 0 0]\n"
     ]
    }
   ],
   "source": [
    "# first 5 rows of the data and the labels\n",
    "print(iris.feature_names)\n",
    "print(iris.data[:5])\n",
    "\n",
    "print (iris.target_names)\n",
    "print (iris.target[:5])"
   ]
  },
  {
   "cell_type": "code",
   "execution_count": 6,
   "metadata": {},
   "outputs": [
    {
     "name": "stdout",
     "output_type": "stream",
     "text": [
      "(150, 4)\n",
      "(150,)\n"
     ]
    }
   ],
   "source": [
    "# for convenience, rename data as standard X input features and y output labels\n",
    "X = iris.data\n",
    "y = iris.target\n",
    "\n",
    "print(X.shape)\n",
    "print(y.shape)"
   ]
  },
  {
   "cell_type": "markdown",
   "metadata": {},
   "source": [
    "The `X` variable contains the first four columns of the dataset (i.e. the attributes) while `y`\n",
    "contains the labels."
   ]
  },
  {
   "cell_type": "markdown",
   "metadata": {},
   "source": [
    "### Train Test Split\n",
    "\n",
    "As usual to avoid over-fitting and get a sense of how well our classification is doing, we will divide our dataset into training and test splits,\n",
    "which gives us a better idea as to how our algorithm performed during the testing phase. This way our algorithm is tested on\n",
    "un-seen data, as it would be in a production application.\n",
    "\n",
    "To create training and test splits, execute the following."
   ]
  },
  {
   "cell_type": "code",
   "execution_count": 7,
   "metadata": {},
   "outputs": [],
   "source": [
    "from sklearn.model_selection import train_test_split\n",
    "X_train, X_test, y_train, y_test = train_test_split(X, y, test_size=0.30)"
   ]
  },
  {
   "cell_type": "markdown",
   "metadata": {},
   "source": [
    "The above script splits the dataset into 80% train data and 20% test data. This means that out of total 150 records,\n",
    "the training set will contain 120 records and the test set contains 30 of those records.\n",
    "\n",
    "Also recall/notice that the data loaded from sklearn is actually sorted by the target label.  So it is a good idea to make sure that the data was\n",
    "shuffled when doing the test/train split here."
   ]
  },
  {
   "cell_type": "code",
   "execution_count": 8,
   "metadata": {},
   "outputs": [
    {
     "name": "stdout",
     "output_type": "stream",
     "text": [
      "(105, 4)\n",
      "(45, 4)\n",
      "(105,)\n",
      "(45,)\n"
     ]
    }
   ],
   "source": [
    "print(X_train.shape)\n",
    "print(X_test.shape)\n",
    "print(y_train.shape)\n",
    "print(y_test.shape)"
   ]
  },
  {
   "cell_type": "code",
   "execution_count": 9,
   "metadata": {},
   "outputs": [
    {
     "name": "stdout",
     "output_type": "stream",
     "text": [
      "[0 2 2 2 2 0 0 1 1 2 0 1 1 1 1 0 2 2 1 2 0 2 0 2 1 0 2 1 0 1]\n",
      "[2 2 0 1 0 2 2 1 1 0 0 0 1 0 1 2 0 2 1 2 0 2 0 1 0 1 2 0 0 1 2 1 0 0 0 1 0\n",
      " 2 2 2 0 1 1 2 1]\n"
     ]
    }
   ],
   "source": [
    "print(y_train[:30])\n",
    "print(y_test)"
   ]
  },
  {
   "cell_type": "markdown",
   "metadata": {},
   "source": [
    "### Feature Scaling\n",
    "\n",
    "Before making any actual predictions, it is always a good practice to scale the features so that all of them can be uniformly evaluated.\n",
    "Wikipedia explains the reasoning pretty well:\n",
    "\n",
    "```\n",
    "Since the range of values of raw data varies widely, in some machine learning algorithms, objective functions will not work properly\n",
    "without normalization. For example, the majority of classifiers calculate the distance between two points by the Euclidean distance.\n",
    "If one of the features has a broad range of values, the distance will be governed by this particular feature. Therefore, the range\n",
    "of all features should be normalized so that each feature contributes approximately proportionately to the final distance.\n",
    "```\n",
    "\n",
    "The gradient descent algorithm (which is used in neural network training and other machine learning algorithms) also converges faster with normalized features.\n",
    "\n",
    "The following performs feature scaling using sklearn:"
   ]
  },
  {
   "cell_type": "code",
   "execution_count": 10,
   "metadata": {},
   "outputs": [],
   "source": [
    "from sklearn.preprocessing import StandardScaler\n",
    "scaler = StandardScaler()\n",
    "scaler.fit(X_train)\n",
    "\n",
    "X_train = scaler.transform(X_train)\n",
    "X_test = scaler.transform(X_test)\n"
   ]
  },
  {
   "cell_type": "markdown",
   "metadata": {},
   "source": [
    "### Training and Predictions\n",
    "\n",
    "It is extremely straight forward to train the KNN algorithm and make predictions with it, especially when using Scikit-Learn."
   ]
  },
  {
   "cell_type": "code",
   "execution_count": 11,
   "metadata": {},
   "outputs": [
    {
     "data": {
      "text/plain": [
       "KNeighborsClassifier()"
      ]
     },
     "execution_count": 11,
     "metadata": {},
     "output_type": "execute_result"
    }
   ],
   "source": [
    "from sklearn.neighbors import KNeighborsClassifier\n",
    "classifier = KNeighborsClassifier(n_neighbors=5)\n",
    "classifier.fit(X_train, y_train)"
   ]
  },
  {
   "cell_type": "markdown",
   "metadata": {},
   "source": [
    "The first step is to import the KNeighborsClassifier class from the sklearn.neighbors library. In the second line, this class is\n",
    "initialized with one parameter, i.e. n_neigbours. This is basically the value for the K. There is no ideal value for K and it is selected\n",
    "after testing and evaluation, however to start out, 5 seems to be the most commonly used value for KNN algorithm.\n",
    "\n",
    "The final step is to make predictions on our test data. To do so, execute the following:"
   ]
  },
  {
   "cell_type": "code",
   "execution_count": 12,
   "metadata": {},
   "outputs": [],
   "source": [
    "y_pred = classifier.predict(X_test)"
   ]
  },
  {
   "cell_type": "markdown",
   "metadata": {},
   "source": [
    "### Evaluating the Algorithm\n",
    "\n",
    "For evaluating an algorithm, confusion matrix, precision, recall and f1 score are the most commonly used metrics. The confusion_matrix\n",
    "and classification_report methods of the sklearn.metrics can be used to calculate these metrics. Take a look at the following results:"
   ]
  },
  {
   "cell_type": "code",
   "execution_count": 13,
   "metadata": {},
   "outputs": [
    {
     "name": "stdout",
     "output_type": "stream",
     "text": [
      "[[17  0  0]\n",
      " [ 0 13  1]\n",
      " [ 0  2 12]]\n",
      "              precision    recall  f1-score   support\n",
      "\n",
      "           0       1.00      1.00      1.00        17\n",
      "           1       0.87      0.93      0.90        14\n",
      "           2       0.92      0.86      0.89        14\n",
      "\n",
      "    accuracy                           0.93        45\n",
      "   macro avg       0.93      0.93      0.93        45\n",
      "weighted avg       0.93      0.93      0.93        45\n",
      "\n"
     ]
    }
   ],
   "source": [
    "from sklearn.metrics import classification_report, confusion_matrix\n",
    "print(confusion_matrix(y_test, y_pred))\n",
    "print(classification_report(y_test, y_pred))"
   ]
  },
  {
   "cell_type": "markdown",
   "metadata": {},
   "source": [
    "The results show that our KNN algorithm was able to classify the 45 records in the test set with close to 100% accuracy,\n",
    "which is excellent. Although the algorithm performed very well with this dataset, don't expect the same results with all applications.\n",
    "As noted earlier, KNN doesn't always perform as well with high-dimensionality or categorical features."
   ]
  },
  {
   "cell_type": "markdown",
   "metadata": {},
   "source": [
    "### Comparing Error Rate with the K Value\n",
    "\n",
    "In the training and prediction section we said that there is no way to know beforehand which value of K that yields the\n",
    "best results in the first go. We randomly chose 5 as the K value and it just happen to result in 100% accuracy.\n",
    "\n",
    "One way to help you find the best value of K is to plot the graph of K value and the corresponding error rate for the dataset.\n",
    "\n",
    "In this section, we will plot the mean error for the predicted values of test set for all the K values between 1 and 40.\n",
    "\n",
    "To do so, let's first calculate the mean of error for all the predicted values where K ranges from 1 and 40. Execute the following:"
   ]
  },
  {
   "cell_type": "code",
   "execution_count": 14,
   "metadata": {},
   "outputs": [],
   "source": [
    "error = []\n",
    "\n",
    "# Calculating error for K values between 1 and 40\n",
    "for i in range(1, 40):\n",
    "    knn = KNeighborsClassifier(n_neighbors=i)\n",
    "    knn.fit(X_train, y_train)\n",
    "    pred_i = knn.predict(X_test)\n",
    "    error.append(np.mean(pred_i != y_test))"
   ]
  },
  {
   "cell_type": "markdown",
   "metadata": {},
   "source": [
    "The above script executes a loop from 1 to 40. In each iteration the mean error for predicted values of test set is calculated and\n",
    "the result is appended to the error list.\n",
    "\n",
    "The next step is to plot the error values against K values. Execute the following to create the plot:"
   ]
  },
  {
   "cell_type": "code",
   "execution_count": 15,
   "metadata": {},
   "outputs": [
    {
     "data": {
      "image/png": "[encoded data removed]",
      "text/plain": [
       "<Figure size 864x576 with 1 Axes>"
      ]
     },
     "metadata": {},
     "output_type": "display_data"
    }
   ],
   "source": [
    "plt.plot(range(1, 40), error, color='red', linestyle='dashed', marker='o',\n",
    "         markerfacecolor='blue', markersize=10)\n",
    "plt.title('Error Rate K Value')\n",
    "plt.xlabel('K Value')\n",
    "plt.ylabel('Mean Error');"
   ]
  },
  {
   "cell_type": "markdown",
   "metadata": {},
   "source": [
    "From the output we can see that the mean error is best (smallest) when the value of the K is between 5 and 18. I would advise\n",
    "you to play around with the value of K and the train/test split here to see how it impacts the accuracy of the predictions.\n",
    "Also cross validation would be useful here as well as the data set is not particular large, so getting a good handle on the optimal\n",
    "setting for K can be difficult."
   ]
  },
  {
   "cell_type": "markdown",
   "metadata": {},
   "source": [
    "### Conclusion \n",
    "\n",
    "KNN is a simple yet powerful classification algorithm. It requires no training for making predictions, which is typically one of the most\n",
    "difficult parts of a machine learning algorithm. The KNN algorithm have been widely used to find document similarity and pattern\n",
    "recognition. It has also been employed for developing recommender systems and for dimensionality reduction and pre-processing steps\n",
    "for computer vision, particularly face recognition tasks.\n",
    "\n",
    "We did not show it here, but KNN can also be used for regression tasks.  The algorith works in the same way, by calculating a distance\n",
    "or similarity measure, and choosing the K nearest neighbors.  But when the output target is a real valued regression target, we simply\n",
    "average the K nearest neighbors outputs (or use some other method, like median etc. to combine them).  You need to use the\n",
    "`KNeigborsRegressor` of scikit-learn if you wan to do a KNN regression.\n"
   ]
  }
 ],
 "metadata": {
  "kernelspec": {
   "display_name": "python3-datasci",
   "language": "python",
   "name": "python3-datasci"
  },
  "language_info": {
   "codemirror_mode": {
    "name": "ipython",
    "version": 3
   },
   "file_extension": ".py",
   "mimetype": "text/x-python",
   "name": "python",
   "nbconvert_exporter": "python",
   "pygments_lexer": "ipython3",
   "version": "3.6.10"
  }
 },
 "nbformat": 4,
 "nbformat_minor": 4
}
